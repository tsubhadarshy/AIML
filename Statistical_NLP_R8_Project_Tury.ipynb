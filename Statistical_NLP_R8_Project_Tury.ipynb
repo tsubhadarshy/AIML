{
  "nbformat": 4,
  "nbformat_minor": 0,
  "metadata": {
    "colab": {
      "name": "Statistical_NLP_R8_Project_Tury.ipynb",
      "provenance": [],
      "collapsed_sections": [
        "wh6_66__zN9T"
      ]
    },
    "kernelspec": {
      "name": "python3",
      "display_name": "Python 3"
    },
    "language_info": {
      "name": "python"
    }
  },
  "cells": [
    {
      "cell_type": "markdown",
      "metadata": {
        "id": "dKKlKf_TyORg"
      },
      "source": [
        "# Part One - Blog Text Classification"
      ]
    },
    {
      "cell_type": "markdown",
      "metadata": {
        "id": "wh6_66__zN9T"
      },
      "source": [
        "## About the dataset "
      ]
    },
    {
      "cell_type": "markdown",
      "metadata": {
        "id": "2Lx4qkqDOl-n",
        "papermill": {
          "duration": 0.05969,
          "end_time": "2020-11-18T07:53:41.613374",
          "exception": false,
          "start_time": "2020-11-18T07:53:41.553684",
          "status": "completed"
        },
        "tags": []
      },
      "source": [
        "#### Context:\n",
        "\n",
        "“A blog (a truncation of the expression \"weblog\") is a discussion or informational website published on the World Wide Web consisting of discrete, often informal diary-style text entries (\"posts\"). Posts are typically displayed in reverse chronological order, so that the most recent post appears first, at the top of the web page. Until 2009, blogs were usually the work of a single individual, occasionally of a small group, and often covered a single subject or topic.” -- Wikipedia article “Blog”\n",
        "\n",
        "[This](https://www.kaggle.com/rtatman/blog-authorship-corpus) dataset contains text from blogs written on or before 2004, with each blog being the work of a single user.\n",
        "Content:\n",
        "\n",
        "The Blog Authorship Corpus consists of the collected posts of 19,320 bloggers gathered from blogger.com in August 2004. The corpus incorporates a total of 681,288 posts and over 140 million words - or approximately 35 posts and 7250 words per person.\n",
        "\n",
        "Each blog is presented as a separate file, the name of which indicates a blogger id# and the blogger’s self-provided gender, age, industry and astrological sign. (All are labeled for gender and age but for many, industry and/or sign is marked as unknown.)\n",
        "\n",
        "All bloggers included in the corpus fall into one of three age groups:\n",
        "\n",
        "    8240 \"10s\" blogs (ages 13-17),\n",
        "    8086 \"20s\" blogs(ages 23-27)\n",
        "    2994 \"30s\" blogs (ages 33-47).\n",
        "\n",
        "For each age group there are an equal number of male and female bloggers.\n",
        "\n",
        "Each blog in the corpus includes at least 200 occurrences of common English words. All formatting has been stripped with two exceptions. Individual posts within a single blogger are separated by the date of the following post and links within a post are denoted by the label urllink."
      ]
    },
    {
      "cell_type": "markdown",
      "metadata": {
        "id": "SPqadyQ-zGSe"
      },
      "source": [
        "## Imports"
      ]
    },
    {
      "cell_type": "code",
      "metadata": {
        "id": "OxPFGlK6xT5m"
      },
      "source": [
        "# importing all the necessary libraries\n",
        "import warnings\n",
        "warnings.filterwarnings('ignore')\n",
        "seed = 10\n",
        "\n",
        "import pandas as pd\n",
        "import matplotlib.pyplot as plt\n",
        "%matplotlib inline\n",
        "import re\n",
        "import nltk\n",
        "from nltk.corpus import stopwords\n",
        "import string\n",
        "from nltk.stem.snowball import SnowballStemmer\n",
        "from sklearn.model_selection import train_test_split\n",
        "from sklearn.feature_extraction.text import CountVectorizer\n",
        "from sklearn.preprocessing import MultiLabelBinarizer"
      ],
      "execution_count": null,
      "outputs": []
    },
    {
      "cell_type": "markdown",
      "metadata": {
        "id": "QtlwZMyTzSz5"
      },
      "source": [
        "## Loading the dataset"
      ]
    },
    {
      "cell_type": "code",
      "metadata": {
        "colab": {
          "base_uri": "https://localhost:8080/"
        },
        "id": "cqC6W4blw4wn",
        "outputId": "155457a7-4b11-4d56-baae-b83aa9884448"
      },
      "source": [
        "from google.colab import drive\n",
        "drive.mount('/content/drive')"
      ],
      "execution_count": null,
      "outputs": [
        {
          "output_type": "stream",
          "text": [
            "Mounted at /content/drive\n"
          ],
          "name": "stdout"
        }
      ]
    },
    {
      "cell_type": "code",
      "metadata": {
        "trusted": false,
        "colab": {
          "base_uri": "https://localhost:8080/",
          "height": 195
        },
        "id": "74vLQ-HswmbR",
        "outputId": "d7072cd5-6a0d-4181-ce0b-e5c7ee5bdbe6"
      },
      "source": [
        "data_path = '/content/drive/MyDrive/4. Statistical NLP/Project NLP/Stats NLP Project - Dataset /Dataset - blogtext.csv'\n",
        "df = pd.read_csv(data_path, nrows= 25000)\n",
        "# since it is a huge dataset, we'll try out things with a subset of it\n",
        "\n",
        "df.head(5)"
      ],
      "execution_count": null,
      "outputs": [
        {
          "output_type": "execute_result",
          "data": {
            "text/html": [
              "<div>\n",
              "<style scoped>\n",
              "    .dataframe tbody tr th:only-of-type {\n",
              "        vertical-align: middle;\n",
              "    }\n",
              "\n",
              "    .dataframe tbody tr th {\n",
              "        vertical-align: top;\n",
              "    }\n",
              "\n",
              "    .dataframe thead th {\n",
              "        text-align: right;\n",
              "    }\n",
              "</style>\n",
              "<table border=\"1\" class=\"dataframe\">\n",
              "  <thead>\n",
              "    <tr style=\"text-align: right;\">\n",
              "      <th></th>\n",
              "      <th>id</th>\n",
              "      <th>gender</th>\n",
              "      <th>age</th>\n",
              "      <th>topic</th>\n",
              "      <th>sign</th>\n",
              "      <th>date</th>\n",
              "      <th>text</th>\n",
              "    </tr>\n",
              "  </thead>\n",
              "  <tbody>\n",
              "    <tr>\n",
              "      <th>0</th>\n",
              "      <td>2059027</td>\n",
              "      <td>male</td>\n",
              "      <td>15</td>\n",
              "      <td>Student</td>\n",
              "      <td>Leo</td>\n",
              "      <td>14,May,2004</td>\n",
              "      <td>Info has been found (+/- 100 pages,...</td>\n",
              "    </tr>\n",
              "    <tr>\n",
              "      <th>1</th>\n",
              "      <td>2059027</td>\n",
              "      <td>male</td>\n",
              "      <td>15</td>\n",
              "      <td>Student</td>\n",
              "      <td>Leo</td>\n",
              "      <td>13,May,2004</td>\n",
              "      <td>These are the team members:   Drewe...</td>\n",
              "    </tr>\n",
              "    <tr>\n",
              "      <th>2</th>\n",
              "      <td>2059027</td>\n",
              "      <td>male</td>\n",
              "      <td>15</td>\n",
              "      <td>Student</td>\n",
              "      <td>Leo</td>\n",
              "      <td>12,May,2004</td>\n",
              "      <td>In het kader van kernfusie op aarde...</td>\n",
              "    </tr>\n",
              "    <tr>\n",
              "      <th>3</th>\n",
              "      <td>2059027</td>\n",
              "      <td>male</td>\n",
              "      <td>15</td>\n",
              "      <td>Student</td>\n",
              "      <td>Leo</td>\n",
              "      <td>12,May,2004</td>\n",
              "      <td>testing!!!  testing!!!</td>\n",
              "    </tr>\n",
              "    <tr>\n",
              "      <th>4</th>\n",
              "      <td>3581210</td>\n",
              "      <td>male</td>\n",
              "      <td>33</td>\n",
              "      <td>InvestmentBanking</td>\n",
              "      <td>Aquarius</td>\n",
              "      <td>11,June,2004</td>\n",
              "      <td>Thanks to Yahoo!'s Toolbar I can ...</td>\n",
              "    </tr>\n",
              "  </tbody>\n",
              "</table>\n",
              "</div>"
            ],
            "text/plain": [
              "        id  ...                                               text\n",
              "0  2059027  ...             Info has been found (+/- 100 pages,...\n",
              "1  2059027  ...             These are the team members:   Drewe...\n",
              "2  2059027  ...             In het kader van kernfusie op aarde...\n",
              "3  2059027  ...                   testing!!!  testing!!!          \n",
              "4  3581210  ...               Thanks to Yahoo!'s Toolbar I can ...\n",
              "\n",
              "[5 rows x 7 columns]"
            ]
          },
          "metadata": {
            "tags": []
          },
          "execution_count": 5
        }
      ]
    },
    {
      "cell_type": "code",
      "metadata": {
        "colab": {
          "base_uri": "https://localhost:8080/"
        },
        "id": "aqytLXcl0AKQ",
        "outputId": "50345634-c179-40b1-ef33-f0ff7ed12a0d"
      },
      "source": [
        "df.info()\n",
        "# overview of the subset data"
      ],
      "execution_count": null,
      "outputs": [
        {
          "output_type": "stream",
          "text": [
            "<class 'pandas.core.frame.DataFrame'>\n",
            "RangeIndex: 25000 entries, 0 to 24999\n",
            "Data columns (total 7 columns):\n",
            " #   Column  Non-Null Count  Dtype \n",
            "---  ------  --------------  ----- \n",
            " 0   id      25000 non-null  int64 \n",
            " 1   gender  25000 non-null  object\n",
            " 2   age     25000 non-null  int64 \n",
            " 3   topic   25000 non-null  object\n",
            " 4   sign    25000 non-null  object\n",
            " 5   date    25000 non-null  object\n",
            " 6   text    25000 non-null  object\n",
            "dtypes: int64(2), object(5)\n",
            "memory usage: 1.3+ MB\n"
          ],
          "name": "stdout"
        }
      ]
    },
    {
      "cell_type": "markdown",
      "metadata": {
        "id": "wHqGpLHY0Vh8"
      },
      "source": [
        "## Data Pre-processing"
      ]
    },
    {
      "cell_type": "markdown",
      "metadata": {
        "id": "lPWuI4270-bp"
      },
      "source": [
        "**We'll apply the following pre-processing steps on the data:**\n",
        "\n",
        "* remove unwanted spaces\n",
        "* remove unwanted characters\n",
        "* remove stopwords\n",
        "* convert to lowercase\n",
        "* target / label merger\n",
        "* train and test split\n",
        "* vectorisation"
      ]
    },
    {
      "cell_type": "code",
      "metadata": {
        "id": "iDw68MEQ4fpi"
      },
      "source": [
        "df['text'] = df['text'].astype('str')"
      ],
      "execution_count": null,
      "outputs": []
    },
    {
      "cell_type": "markdown",
      "metadata": {
        "id": "zwAPQXke15jW"
      },
      "source": [
        "### Removing unwanted spaces"
      ]
    },
    {
      "cell_type": "code",
      "metadata": {
        "id": "j1w3idSI0J2D"
      },
      "source": [
        "df['text_stripped'] = df['text'].str.strip()\n",
        "# applying strip to remove any leading or trailing spaces"
      ],
      "execution_count": null,
      "outputs": []
    },
    {
      "cell_type": "code",
      "metadata": {
        "colab": {
          "base_uri": "https://localhost:8080/",
          "height": 195
        },
        "id": "R0WDrtiL2jDo",
        "outputId": "8d4151e2-ed90-44c1-e2ad-cfc88847537b"
      },
      "source": [
        "df.head()"
      ],
      "execution_count": null,
      "outputs": [
        {
          "output_type": "execute_result",
          "data": {
            "text/html": [
              "<div>\n",
              "<style scoped>\n",
              "    .dataframe tbody tr th:only-of-type {\n",
              "        vertical-align: middle;\n",
              "    }\n",
              "\n",
              "    .dataframe tbody tr th {\n",
              "        vertical-align: top;\n",
              "    }\n",
              "\n",
              "    .dataframe thead th {\n",
              "        text-align: right;\n",
              "    }\n",
              "</style>\n",
              "<table border=\"1\" class=\"dataframe\">\n",
              "  <thead>\n",
              "    <tr style=\"text-align: right;\">\n",
              "      <th></th>\n",
              "      <th>id</th>\n",
              "      <th>gender</th>\n",
              "      <th>age</th>\n",
              "      <th>topic</th>\n",
              "      <th>sign</th>\n",
              "      <th>date</th>\n",
              "      <th>text</th>\n",
              "      <th>text_stripped</th>\n",
              "    </tr>\n",
              "  </thead>\n",
              "  <tbody>\n",
              "    <tr>\n",
              "      <th>0</th>\n",
              "      <td>2059027</td>\n",
              "      <td>male</td>\n",
              "      <td>15</td>\n",
              "      <td>Student</td>\n",
              "      <td>Leo</td>\n",
              "      <td>14,May,2004</td>\n",
              "      <td>Info has been found (+/- 100 pages,...</td>\n",
              "      <td>Info has been found (+/- 100 pages, and 4.5 MB...</td>\n",
              "    </tr>\n",
              "    <tr>\n",
              "      <th>1</th>\n",
              "      <td>2059027</td>\n",
              "      <td>male</td>\n",
              "      <td>15</td>\n",
              "      <td>Student</td>\n",
              "      <td>Leo</td>\n",
              "      <td>13,May,2004</td>\n",
              "      <td>These are the team members:   Drewe...</td>\n",
              "      <td>These are the team members:   Drewes van der L...</td>\n",
              "    </tr>\n",
              "    <tr>\n",
              "      <th>2</th>\n",
              "      <td>2059027</td>\n",
              "      <td>male</td>\n",
              "      <td>15</td>\n",
              "      <td>Student</td>\n",
              "      <td>Leo</td>\n",
              "      <td>12,May,2004</td>\n",
              "      <td>In het kader van kernfusie op aarde...</td>\n",
              "      <td>In het kader van kernfusie op aarde:  MAAK JE ...</td>\n",
              "    </tr>\n",
              "    <tr>\n",
              "      <th>3</th>\n",
              "      <td>2059027</td>\n",
              "      <td>male</td>\n",
              "      <td>15</td>\n",
              "      <td>Student</td>\n",
              "      <td>Leo</td>\n",
              "      <td>12,May,2004</td>\n",
              "      <td>testing!!!  testing!!!</td>\n",
              "      <td>testing!!!  testing!!!</td>\n",
              "    </tr>\n",
              "    <tr>\n",
              "      <th>4</th>\n",
              "      <td>3581210</td>\n",
              "      <td>male</td>\n",
              "      <td>33</td>\n",
              "      <td>InvestmentBanking</td>\n",
              "      <td>Aquarius</td>\n",
              "      <td>11,June,2004</td>\n",
              "      <td>Thanks to Yahoo!'s Toolbar I can ...</td>\n",
              "      <td>Thanks to Yahoo!'s Toolbar I can now 'capture'...</td>\n",
              "    </tr>\n",
              "  </tbody>\n",
              "</table>\n",
              "</div>"
            ],
            "text/plain": [
              "        id  ...                                      text_stripped\n",
              "0  2059027  ...  Info has been found (+/- 100 pages, and 4.5 MB...\n",
              "1  2059027  ...  These are the team members:   Drewes van der L...\n",
              "2  2059027  ...  In het kader van kernfusie op aarde:  MAAK JE ...\n",
              "3  2059027  ...                             testing!!!  testing!!!\n",
              "4  3581210  ...  Thanks to Yahoo!'s Toolbar I can now 'capture'...\n",
              "\n",
              "[5 rows x 8 columns]"
            ]
          },
          "metadata": {
            "tags": []
          },
          "execution_count": 9
        }
      ]
    },
    {
      "cell_type": "markdown",
      "metadata": {
        "id": "MunTkdx63FfF"
      },
      "source": [
        "### Removing unwanted characters"
      ]
    },
    {
      "cell_type": "code",
      "metadata": {
        "id": "xxwfxUN16viO"
      },
      "source": [
        "def remove_punctuation(text):\n",
        "  return text.translate(str.maketrans('','',string.punctuation))\n",
        "df['text_wo_punct'] = df['text_stripped'].apply(remove_punctuation)\n",
        "# applying transformation to remove punctuations like !\"#$%&\\'()*+,-./:;<=>?@[\\\\]^_{|}~`"
      ],
      "execution_count": null,
      "outputs": []
    },
    {
      "cell_type": "code",
      "metadata": {
        "colab": {
          "base_uri": "https://localhost:8080/",
          "height": 195
        },
        "id": "doV8Nq0j6vYX",
        "outputId": "27325803-7d85-44a3-a98a-b1101310ff54"
      },
      "source": [
        "df.head()"
      ],
      "execution_count": null,
      "outputs": [
        {
          "output_type": "execute_result",
          "data": {
            "text/html": [
              "<div>\n",
              "<style scoped>\n",
              "    .dataframe tbody tr th:only-of-type {\n",
              "        vertical-align: middle;\n",
              "    }\n",
              "\n",
              "    .dataframe tbody tr th {\n",
              "        vertical-align: top;\n",
              "    }\n",
              "\n",
              "    .dataframe thead th {\n",
              "        text-align: right;\n",
              "    }\n",
              "</style>\n",
              "<table border=\"1\" class=\"dataframe\">\n",
              "  <thead>\n",
              "    <tr style=\"text-align: right;\">\n",
              "      <th></th>\n",
              "      <th>id</th>\n",
              "      <th>gender</th>\n",
              "      <th>age</th>\n",
              "      <th>topic</th>\n",
              "      <th>sign</th>\n",
              "      <th>date</th>\n",
              "      <th>text</th>\n",
              "      <th>text_stripped</th>\n",
              "      <th>text_wo_punct</th>\n",
              "    </tr>\n",
              "  </thead>\n",
              "  <tbody>\n",
              "    <tr>\n",
              "      <th>0</th>\n",
              "      <td>2059027</td>\n",
              "      <td>male</td>\n",
              "      <td>15</td>\n",
              "      <td>Student</td>\n",
              "      <td>Leo</td>\n",
              "      <td>14,May,2004</td>\n",
              "      <td>Info has been found (+/- 100 pages,...</td>\n",
              "      <td>Info has been found (+/- 100 pages, and 4.5 MB...</td>\n",
              "      <td>Info has been found  100 pages and 45 MB of pd...</td>\n",
              "    </tr>\n",
              "    <tr>\n",
              "      <th>1</th>\n",
              "      <td>2059027</td>\n",
              "      <td>male</td>\n",
              "      <td>15</td>\n",
              "      <td>Student</td>\n",
              "      <td>Leo</td>\n",
              "      <td>13,May,2004</td>\n",
              "      <td>These are the team members:   Drewe...</td>\n",
              "      <td>These are the team members:   Drewes van der L...</td>\n",
              "      <td>These are the team members   Drewes van der La...</td>\n",
              "    </tr>\n",
              "    <tr>\n",
              "      <th>2</th>\n",
              "      <td>2059027</td>\n",
              "      <td>male</td>\n",
              "      <td>15</td>\n",
              "      <td>Student</td>\n",
              "      <td>Leo</td>\n",
              "      <td>12,May,2004</td>\n",
              "      <td>In het kader van kernfusie op aarde...</td>\n",
              "      <td>In het kader van kernfusie op aarde:  MAAK JE ...</td>\n",
              "      <td>In het kader van kernfusie op aarde  MAAK JE E...</td>\n",
              "    </tr>\n",
              "    <tr>\n",
              "      <th>3</th>\n",
              "      <td>2059027</td>\n",
              "      <td>male</td>\n",
              "      <td>15</td>\n",
              "      <td>Student</td>\n",
              "      <td>Leo</td>\n",
              "      <td>12,May,2004</td>\n",
              "      <td>testing!!!  testing!!!</td>\n",
              "      <td>testing!!!  testing!!!</td>\n",
              "      <td>testing  testing</td>\n",
              "    </tr>\n",
              "    <tr>\n",
              "      <th>4</th>\n",
              "      <td>3581210</td>\n",
              "      <td>male</td>\n",
              "      <td>33</td>\n",
              "      <td>InvestmentBanking</td>\n",
              "      <td>Aquarius</td>\n",
              "      <td>11,June,2004</td>\n",
              "      <td>Thanks to Yahoo!'s Toolbar I can ...</td>\n",
              "      <td>Thanks to Yahoo!'s Toolbar I can now 'capture'...</td>\n",
              "      <td>Thanks to Yahoos Toolbar I can now capture the...</td>\n",
              "    </tr>\n",
              "  </tbody>\n",
              "</table>\n",
              "</div>"
            ],
            "text/plain": [
              "        id  ...                                      text_wo_punct\n",
              "0  2059027  ...  Info has been found  100 pages and 45 MB of pd...\n",
              "1  2059027  ...  These are the team members   Drewes van der La...\n",
              "2  2059027  ...  In het kader van kernfusie op aarde  MAAK JE E...\n",
              "3  2059027  ...                                   testing  testing\n",
              "4  3581210  ...  Thanks to Yahoos Toolbar I can now capture the...\n",
              "\n",
              "[5 rows x 9 columns]"
            ]
          },
          "metadata": {
            "tags": []
          },
          "execution_count": 11
        }
      ]
    },
    {
      "cell_type": "code",
      "metadata": {
        "id": "xD_TTBfs3AAo"
      },
      "source": [
        "def remove_char(text):\n",
        "  return re.sub(pattern='[^a-zA-Z]',repl=' ',string=str(text))\n",
        "df['text_wo_chars'] = df['text_wo_punct'].apply(remove_char)\n",
        "# applying regex to filter out all characters that are not alphabetical"
      ],
      "execution_count": null,
      "outputs": []
    },
    {
      "cell_type": "code",
      "metadata": {
        "colab": {
          "base_uri": "https://localhost:8080/",
          "height": 262
        },
        "id": "AbDCc9-r4FSF",
        "outputId": "48bb689a-955e-4d13-ab4d-b736a6c87b6d"
      },
      "source": [
        "df.head()"
      ],
      "execution_count": null,
      "outputs": [
        {
          "output_type": "execute_result",
          "data": {
            "text/html": [
              "<div>\n",
              "<style scoped>\n",
              "    .dataframe tbody tr th:only-of-type {\n",
              "        vertical-align: middle;\n",
              "    }\n",
              "\n",
              "    .dataframe tbody tr th {\n",
              "        vertical-align: top;\n",
              "    }\n",
              "\n",
              "    .dataframe thead th {\n",
              "        text-align: right;\n",
              "    }\n",
              "</style>\n",
              "<table border=\"1\" class=\"dataframe\">\n",
              "  <thead>\n",
              "    <tr style=\"text-align: right;\">\n",
              "      <th></th>\n",
              "      <th>id</th>\n",
              "      <th>gender</th>\n",
              "      <th>age</th>\n",
              "      <th>topic</th>\n",
              "      <th>sign</th>\n",
              "      <th>date</th>\n",
              "      <th>text</th>\n",
              "      <th>text_stripped</th>\n",
              "      <th>text_wo_punct</th>\n",
              "      <th>text_wo_chars</th>\n",
              "    </tr>\n",
              "  </thead>\n",
              "  <tbody>\n",
              "    <tr>\n",
              "      <th>0</th>\n",
              "      <td>2059027</td>\n",
              "      <td>male</td>\n",
              "      <td>15</td>\n",
              "      <td>Student</td>\n",
              "      <td>Leo</td>\n",
              "      <td>14,May,2004</td>\n",
              "      <td>Info has been found (+/- 100 pages,...</td>\n",
              "      <td>Info has been found (+/- 100 pages, and 4.5 MB...</td>\n",
              "      <td>Info has been found  100 pages and 45 MB of pd...</td>\n",
              "      <td>Info has been found      pages and    MB of pd...</td>\n",
              "    </tr>\n",
              "    <tr>\n",
              "      <th>1</th>\n",
              "      <td>2059027</td>\n",
              "      <td>male</td>\n",
              "      <td>15</td>\n",
              "      <td>Student</td>\n",
              "      <td>Leo</td>\n",
              "      <td>13,May,2004</td>\n",
              "      <td>These are the team members:   Drewe...</td>\n",
              "      <td>These are the team members:   Drewes van der L...</td>\n",
              "      <td>These are the team members   Drewes van der La...</td>\n",
              "      <td>These are the team members   Drewes van der La...</td>\n",
              "    </tr>\n",
              "    <tr>\n",
              "      <th>2</th>\n",
              "      <td>2059027</td>\n",
              "      <td>male</td>\n",
              "      <td>15</td>\n",
              "      <td>Student</td>\n",
              "      <td>Leo</td>\n",
              "      <td>12,May,2004</td>\n",
              "      <td>In het kader van kernfusie op aarde...</td>\n",
              "      <td>In het kader van kernfusie op aarde:  MAAK JE ...</td>\n",
              "      <td>In het kader van kernfusie op aarde  MAAK JE E...</td>\n",
              "      <td>In het kader van kernfusie op aarde  MAAK JE E...</td>\n",
              "    </tr>\n",
              "    <tr>\n",
              "      <th>3</th>\n",
              "      <td>2059027</td>\n",
              "      <td>male</td>\n",
              "      <td>15</td>\n",
              "      <td>Student</td>\n",
              "      <td>Leo</td>\n",
              "      <td>12,May,2004</td>\n",
              "      <td>testing!!!  testing!!!</td>\n",
              "      <td>testing!!!  testing!!!</td>\n",
              "      <td>testing  testing</td>\n",
              "      <td>testing  testing</td>\n",
              "    </tr>\n",
              "    <tr>\n",
              "      <th>4</th>\n",
              "      <td>3581210</td>\n",
              "      <td>male</td>\n",
              "      <td>33</td>\n",
              "      <td>InvestmentBanking</td>\n",
              "      <td>Aquarius</td>\n",
              "      <td>11,June,2004</td>\n",
              "      <td>Thanks to Yahoo!'s Toolbar I can ...</td>\n",
              "      <td>Thanks to Yahoo!'s Toolbar I can now 'capture'...</td>\n",
              "      <td>Thanks to Yahoos Toolbar I can now capture the...</td>\n",
              "      <td>Thanks to Yahoos Toolbar I can now capture the...</td>\n",
              "    </tr>\n",
              "  </tbody>\n",
              "</table>\n",
              "</div>"
            ],
            "text/plain": [
              "        id  ...                                      text_wo_chars\n",
              "0  2059027  ...  Info has been found      pages and    MB of pd...\n",
              "1  2059027  ...  These are the team members   Drewes van der La...\n",
              "2  2059027  ...  In het kader van kernfusie op aarde  MAAK JE E...\n",
              "3  2059027  ...                                   testing  testing\n",
              "4  3581210  ...  Thanks to Yahoos Toolbar I can now capture the...\n",
              "\n",
              "[5 rows x 10 columns]"
            ]
          },
          "metadata": {
            "tags": []
          },
          "execution_count": 13
        }
      ]
    },
    {
      "cell_type": "markdown",
      "metadata": {
        "id": "2x5FC98388Xb"
      },
      "source": [
        "### Removing stopwords"
      ]
    },
    {
      "cell_type": "code",
      "metadata": {
        "colab": {
          "base_uri": "https://localhost:8080/"
        },
        "id": "83pQ41Rc5euE",
        "outputId": "fa457ed3-9381-4ba5-89bc-5ba0a35dc60a"
      },
      "source": [
        "nltk.download('words')\n",
        "words = set(nltk.corpus.words.words())\n",
        "def remove_non_english_words(text):\n",
        "  return \" \".join(w for w in nltk.wordpunct_tokenize(text) if w.lower() in words or not w.isalpha())\n",
        "df['text_english'] = df['text_wo_chars'].apply(remove_non_english_words)\n",
        "# removing non-English words"
      ],
      "execution_count": null,
      "outputs": [
        {
          "output_type": "stream",
          "text": [
            "[nltk_data] Downloading package words to /root/nltk_data...\n",
            "[nltk_data]   Unzipping corpora/words.zip.\n"
          ],
          "name": "stdout"
        }
      ]
    },
    {
      "cell_type": "code",
      "metadata": {
        "colab": {
          "base_uri": "https://localhost:8080/",
          "height": 279
        },
        "id": "hvymZB8qAWyX",
        "outputId": "533db9c1-a628-4854-a4d4-99e94f55c6e9"
      },
      "source": [
        "df.head()"
      ],
      "execution_count": null,
      "outputs": [
        {
          "output_type": "execute_result",
          "data": {
            "text/html": [
              "<div>\n",
              "<style scoped>\n",
              "    .dataframe tbody tr th:only-of-type {\n",
              "        vertical-align: middle;\n",
              "    }\n",
              "\n",
              "    .dataframe tbody tr th {\n",
              "        vertical-align: top;\n",
              "    }\n",
              "\n",
              "    .dataframe thead th {\n",
              "        text-align: right;\n",
              "    }\n",
              "</style>\n",
              "<table border=\"1\" class=\"dataframe\">\n",
              "  <thead>\n",
              "    <tr style=\"text-align: right;\">\n",
              "      <th></th>\n",
              "      <th>id</th>\n",
              "      <th>gender</th>\n",
              "      <th>age</th>\n",
              "      <th>topic</th>\n",
              "      <th>sign</th>\n",
              "      <th>date</th>\n",
              "      <th>text</th>\n",
              "      <th>text_stripped</th>\n",
              "      <th>text_wo_punct</th>\n",
              "      <th>text_wo_chars</th>\n",
              "      <th>text_english</th>\n",
              "    </tr>\n",
              "  </thead>\n",
              "  <tbody>\n",
              "    <tr>\n",
              "      <th>0</th>\n",
              "      <td>2059027</td>\n",
              "      <td>male</td>\n",
              "      <td>15</td>\n",
              "      <td>Student</td>\n",
              "      <td>Leo</td>\n",
              "      <td>14,May,2004</td>\n",
              "      <td>Info has been found (+/- 100 pages,...</td>\n",
              "      <td>Info has been found (+/- 100 pages, and 4.5 MB...</td>\n",
              "      <td>Info has been found  100 pages and 45 MB of pd...</td>\n",
              "      <td>Info has been found      pages and    MB of pd...</td>\n",
              "      <td>been found and of Now i have to wait untill ou...</td>\n",
              "    </tr>\n",
              "    <tr>\n",
              "      <th>1</th>\n",
              "      <td>2059027</td>\n",
              "      <td>male</td>\n",
              "      <td>15</td>\n",
              "      <td>Student</td>\n",
              "      <td>Leo</td>\n",
              "      <td>13,May,2004</td>\n",
              "      <td>These are the team members:   Drewe...</td>\n",
              "      <td>These are the team members:   Drewes van der L...</td>\n",
              "      <td>These are the team members   Drewes van der La...</td>\n",
              "      <td>These are the team members   Drewes van der La...</td>\n",
              "      <td>These are the team van mail mail me mail</td>\n",
              "    </tr>\n",
              "    <tr>\n",
              "      <th>2</th>\n",
              "      <td>2059027</td>\n",
              "      <td>male</td>\n",
              "      <td>15</td>\n",
              "      <td>Student</td>\n",
              "      <td>Leo</td>\n",
              "      <td>12,May,2004</td>\n",
              "      <td>In het kader van kernfusie op aarde...</td>\n",
              "      <td>In het kader van kernfusie op aarde:  MAAK JE ...</td>\n",
              "      <td>In het kader van kernfusie op aarde  MAAK JE E...</td>\n",
              "      <td>In het kader van kernfusie op aarde  MAAK JE E...</td>\n",
              "      <td>In het van How to build an From Subject How To...</td>\n",
              "    </tr>\n",
              "    <tr>\n",
              "      <th>3</th>\n",
              "      <td>2059027</td>\n",
              "      <td>male</td>\n",
              "      <td>15</td>\n",
              "      <td>Student</td>\n",
              "      <td>Leo</td>\n",
              "      <td>12,May,2004</td>\n",
              "      <td>testing!!!  testing!!!</td>\n",
              "      <td>testing!!!  testing!!!</td>\n",
              "      <td>testing  testing</td>\n",
              "      <td>testing  testing</td>\n",
              "      <td>testing testing</td>\n",
              "    </tr>\n",
              "    <tr>\n",
              "      <th>4</th>\n",
              "      <td>3581210</td>\n",
              "      <td>male</td>\n",
              "      <td>33</td>\n",
              "      <td>InvestmentBanking</td>\n",
              "      <td>Aquarius</td>\n",
              "      <td>11,June,2004</td>\n",
              "      <td>Thanks to Yahoo!'s Toolbar I can ...</td>\n",
              "      <td>Thanks to Yahoo!'s Toolbar I can now 'capture'...</td>\n",
              "      <td>Thanks to Yahoos Toolbar I can now capture the...</td>\n",
              "      <td>Thanks to Yahoos Toolbar I can now capture the...</td>\n",
              "      <td>Thanks to I can now capture the of now I can s...</td>\n",
              "    </tr>\n",
              "  </tbody>\n",
              "</table>\n",
              "</div>"
            ],
            "text/plain": [
              "        id  ...                                       text_english\n",
              "0  2059027  ...  been found and of Now i have to wait untill ou...\n",
              "1  2059027  ...           These are the team van mail mail me mail\n",
              "2  2059027  ...  In het van How to build an From Subject How To...\n",
              "3  2059027  ...                                    testing testing\n",
              "4  3581210  ...  Thanks to I can now capture the of now I can s...\n",
              "\n",
              "[5 rows x 11 columns]"
            ]
          },
          "metadata": {
            "tags": []
          },
          "execution_count": 15
        }
      ]
    },
    {
      "cell_type": "code",
      "metadata": {
        "colab": {
          "base_uri": "https://localhost:8080/"
        },
        "id": "y8zDu5_fAf7l",
        "outputId": "b8347cdb-a989-49a7-af92-375addd0dd8e"
      },
      "source": [
        "nltk.download('stopwords')\n",
        "stop_words = set(stopwords.words('english'))"
      ],
      "execution_count": null,
      "outputs": [
        {
          "output_type": "stream",
          "text": [
            "[nltk_data] Downloading package stopwords to /root/nltk_data...\n",
            "[nltk_data]   Unzipping corpora/stopwords.zip.\n"
          ],
          "name": "stdout"
        }
      ]
    },
    {
      "cell_type": "code",
      "metadata": {
        "id": "WiD4WQFOCJil"
      },
      "source": [
        "def remove_stopwords(text):\n",
        "  return \" \".join(w for w in str(text).split() if w not in stop_words)\n",
        "df['text_wo_stopwords'] = df['text_english'].apply(remove_stopwords)\n",
        "# removing stopwords"
      ],
      "execution_count": null,
      "outputs": []
    },
    {
      "cell_type": "code",
      "metadata": {
        "colab": {
          "base_uri": "https://localhost:8080/",
          "height": 330
        },
        "id": "eODp0CCwC1-U",
        "outputId": "3140b9b3-8329-44d0-f47e-1e68028cfe11"
      },
      "source": [
        "df.head()"
      ],
      "execution_count": null,
      "outputs": [
        {
          "output_type": "execute_result",
          "data": {
            "text/html": [
              "<div>\n",
              "<style scoped>\n",
              "    .dataframe tbody tr th:only-of-type {\n",
              "        vertical-align: middle;\n",
              "    }\n",
              "\n",
              "    .dataframe tbody tr th {\n",
              "        vertical-align: top;\n",
              "    }\n",
              "\n",
              "    .dataframe thead th {\n",
              "        text-align: right;\n",
              "    }\n",
              "</style>\n",
              "<table border=\"1\" class=\"dataframe\">\n",
              "  <thead>\n",
              "    <tr style=\"text-align: right;\">\n",
              "      <th></th>\n",
              "      <th>id</th>\n",
              "      <th>gender</th>\n",
              "      <th>age</th>\n",
              "      <th>topic</th>\n",
              "      <th>sign</th>\n",
              "      <th>date</th>\n",
              "      <th>text</th>\n",
              "      <th>text_stripped</th>\n",
              "      <th>text_wo_punct</th>\n",
              "      <th>text_wo_chars</th>\n",
              "      <th>text_english</th>\n",
              "      <th>text_wo_stopwords</th>\n",
              "    </tr>\n",
              "  </thead>\n",
              "  <tbody>\n",
              "    <tr>\n",
              "      <th>0</th>\n",
              "      <td>2059027</td>\n",
              "      <td>male</td>\n",
              "      <td>15</td>\n",
              "      <td>Student</td>\n",
              "      <td>Leo</td>\n",
              "      <td>14,May,2004</td>\n",
              "      <td>Info has been found (+/- 100 pages,...</td>\n",
              "      <td>Info has been found (+/- 100 pages, and 4.5 MB...</td>\n",
              "      <td>Info has been found  100 pages and 45 MB of pd...</td>\n",
              "      <td>Info has been found      pages and    MB of pd...</td>\n",
              "      <td>been found and of Now i have to wait untill ou...</td>\n",
              "      <td>found Now wait untill team leader</td>\n",
              "    </tr>\n",
              "    <tr>\n",
              "      <th>1</th>\n",
              "      <td>2059027</td>\n",
              "      <td>male</td>\n",
              "      <td>15</td>\n",
              "      <td>Student</td>\n",
              "      <td>Leo</td>\n",
              "      <td>13,May,2004</td>\n",
              "      <td>These are the team members:   Drewe...</td>\n",
              "      <td>These are the team members:   Drewes van der L...</td>\n",
              "      <td>These are the team members   Drewes van der La...</td>\n",
              "      <td>These are the team members   Drewes van der La...</td>\n",
              "      <td>These are the team van mail mail me mail</td>\n",
              "      <td>These team van mail mail mail</td>\n",
              "    </tr>\n",
              "    <tr>\n",
              "      <th>2</th>\n",
              "      <td>2059027</td>\n",
              "      <td>male</td>\n",
              "      <td>15</td>\n",
              "      <td>Student</td>\n",
              "      <td>Leo</td>\n",
              "      <td>12,May,2004</td>\n",
              "      <td>In het kader van kernfusie op aarde...</td>\n",
              "      <td>In het kader van kernfusie op aarde:  MAAK JE ...</td>\n",
              "      <td>In het kader van kernfusie op aarde  MAAK JE E...</td>\n",
              "      <td>In het kader van kernfusie op aarde  MAAK JE E...</td>\n",
              "      <td>In het van How to build an From Subject How To...</td>\n",
              "      <td>In het van How build From Subject How To Build...</td>\n",
              "    </tr>\n",
              "    <tr>\n",
              "      <th>3</th>\n",
              "      <td>2059027</td>\n",
              "      <td>male</td>\n",
              "      <td>15</td>\n",
              "      <td>Student</td>\n",
              "      <td>Leo</td>\n",
              "      <td>12,May,2004</td>\n",
              "      <td>testing!!!  testing!!!</td>\n",
              "      <td>testing!!!  testing!!!</td>\n",
              "      <td>testing  testing</td>\n",
              "      <td>testing  testing</td>\n",
              "      <td>testing testing</td>\n",
              "      <td>testing testing</td>\n",
              "    </tr>\n",
              "    <tr>\n",
              "      <th>4</th>\n",
              "      <td>3581210</td>\n",
              "      <td>male</td>\n",
              "      <td>33</td>\n",
              "      <td>InvestmentBanking</td>\n",
              "      <td>Aquarius</td>\n",
              "      <td>11,June,2004</td>\n",
              "      <td>Thanks to Yahoo!'s Toolbar I can ...</td>\n",
              "      <td>Thanks to Yahoo!'s Toolbar I can now 'capture'...</td>\n",
              "      <td>Thanks to Yahoos Toolbar I can now capture the...</td>\n",
              "      <td>Thanks to Yahoos Toolbar I can now capture the...</td>\n",
              "      <td>Thanks to I can now capture the of now I can s...</td>\n",
              "      <td>Thanks I capture I show cool links Pop audio v...</td>\n",
              "    </tr>\n",
              "  </tbody>\n",
              "</table>\n",
              "</div>"
            ],
            "text/plain": [
              "        id  ...                                  text_wo_stopwords\n",
              "0  2059027  ...                  found Now wait untill team leader\n",
              "1  2059027  ...                      These team van mail mail mail\n",
              "2  2059027  ...  In het van How build From Subject How To Build...\n",
              "3  2059027  ...                                    testing testing\n",
              "4  3581210  ...  Thanks I capture I show cool links Pop audio v...\n",
              "\n",
              "[5 rows x 12 columns]"
            ]
          },
          "metadata": {
            "tags": []
          },
          "execution_count": 18
        }
      ]
    },
    {
      "cell_type": "markdown",
      "metadata": {
        "id": "dzpUEhQwDJxH"
      },
      "source": [
        "### Lower Casing"
      ]
    },
    {
      "cell_type": "code",
      "metadata": {
        "id": "WDls3UpAC3Jw"
      },
      "source": [
        "df['text_lower'] = df['text_wo_stopwords'].str.lower()\n",
        "# converting to lowercase"
      ],
      "execution_count": null,
      "outputs": []
    },
    {
      "cell_type": "code",
      "metadata": {
        "colab": {
          "base_uri": "https://localhost:8080/",
          "height": 414
        },
        "id": "VX0eUPvWDdKH",
        "outputId": "34a8a958-1d7f-43d3-8850-cc1b2860bcd7"
      },
      "source": [
        "df.head()"
      ],
      "execution_count": null,
      "outputs": [
        {
          "output_type": "execute_result",
          "data": {
            "text/html": [
              "<div>\n",
              "<style scoped>\n",
              "    .dataframe tbody tr th:only-of-type {\n",
              "        vertical-align: middle;\n",
              "    }\n",
              "\n",
              "    .dataframe tbody tr th {\n",
              "        vertical-align: top;\n",
              "    }\n",
              "\n",
              "    .dataframe thead th {\n",
              "        text-align: right;\n",
              "    }\n",
              "</style>\n",
              "<table border=\"1\" class=\"dataframe\">\n",
              "  <thead>\n",
              "    <tr style=\"text-align: right;\">\n",
              "      <th></th>\n",
              "      <th>id</th>\n",
              "      <th>gender</th>\n",
              "      <th>age</th>\n",
              "      <th>topic</th>\n",
              "      <th>sign</th>\n",
              "      <th>date</th>\n",
              "      <th>text</th>\n",
              "      <th>text_stripped</th>\n",
              "      <th>text_wo_punct</th>\n",
              "      <th>text_wo_chars</th>\n",
              "      <th>text_english</th>\n",
              "      <th>text_wo_stopwords</th>\n",
              "      <th>text_lower</th>\n",
              "    </tr>\n",
              "  </thead>\n",
              "  <tbody>\n",
              "    <tr>\n",
              "      <th>0</th>\n",
              "      <td>2059027</td>\n",
              "      <td>male</td>\n",
              "      <td>15</td>\n",
              "      <td>Student</td>\n",
              "      <td>Leo</td>\n",
              "      <td>14,May,2004</td>\n",
              "      <td>Info has been found (+/- 100 pages,...</td>\n",
              "      <td>Info has been found (+/- 100 pages, and 4.5 MB...</td>\n",
              "      <td>Info has been found  100 pages and 45 MB of pd...</td>\n",
              "      <td>Info has been found      pages and    MB of pd...</td>\n",
              "      <td>been found and of Now i have to wait untill ou...</td>\n",
              "      <td>found Now wait untill team leader</td>\n",
              "      <td>found now wait untill team leader</td>\n",
              "    </tr>\n",
              "    <tr>\n",
              "      <th>1</th>\n",
              "      <td>2059027</td>\n",
              "      <td>male</td>\n",
              "      <td>15</td>\n",
              "      <td>Student</td>\n",
              "      <td>Leo</td>\n",
              "      <td>13,May,2004</td>\n",
              "      <td>These are the team members:   Drewe...</td>\n",
              "      <td>These are the team members:   Drewes van der L...</td>\n",
              "      <td>These are the team members   Drewes van der La...</td>\n",
              "      <td>These are the team members   Drewes van der La...</td>\n",
              "      <td>These are the team van mail mail me mail</td>\n",
              "      <td>These team van mail mail mail</td>\n",
              "      <td>these team van mail mail mail</td>\n",
              "    </tr>\n",
              "    <tr>\n",
              "      <th>2</th>\n",
              "      <td>2059027</td>\n",
              "      <td>male</td>\n",
              "      <td>15</td>\n",
              "      <td>Student</td>\n",
              "      <td>Leo</td>\n",
              "      <td>12,May,2004</td>\n",
              "      <td>In het kader van kernfusie op aarde...</td>\n",
              "      <td>In het kader van kernfusie op aarde:  MAAK JE ...</td>\n",
              "      <td>In het kader van kernfusie op aarde  MAAK JE E...</td>\n",
              "      <td>In het kader van kernfusie op aarde  MAAK JE E...</td>\n",
              "      <td>In het van How to build an From Subject How To...</td>\n",
              "      <td>In het van How build From Subject How To Build...</td>\n",
              "      <td>in het van how build from subject how to build...</td>\n",
              "    </tr>\n",
              "    <tr>\n",
              "      <th>3</th>\n",
              "      <td>2059027</td>\n",
              "      <td>male</td>\n",
              "      <td>15</td>\n",
              "      <td>Student</td>\n",
              "      <td>Leo</td>\n",
              "      <td>12,May,2004</td>\n",
              "      <td>testing!!!  testing!!!</td>\n",
              "      <td>testing!!!  testing!!!</td>\n",
              "      <td>testing  testing</td>\n",
              "      <td>testing  testing</td>\n",
              "      <td>testing testing</td>\n",
              "      <td>testing testing</td>\n",
              "      <td>testing testing</td>\n",
              "    </tr>\n",
              "    <tr>\n",
              "      <th>4</th>\n",
              "      <td>3581210</td>\n",
              "      <td>male</td>\n",
              "      <td>33</td>\n",
              "      <td>InvestmentBanking</td>\n",
              "      <td>Aquarius</td>\n",
              "      <td>11,June,2004</td>\n",
              "      <td>Thanks to Yahoo!'s Toolbar I can ...</td>\n",
              "      <td>Thanks to Yahoo!'s Toolbar I can now 'capture'...</td>\n",
              "      <td>Thanks to Yahoos Toolbar I can now capture the...</td>\n",
              "      <td>Thanks to Yahoos Toolbar I can now capture the...</td>\n",
              "      <td>Thanks to I can now capture the of now I can s...</td>\n",
              "      <td>Thanks I capture I show cool links Pop audio v...</td>\n",
              "      <td>thanks i capture i show cool links pop audio v...</td>\n",
              "    </tr>\n",
              "  </tbody>\n",
              "</table>\n",
              "</div>"
            ],
            "text/plain": [
              "        id  ...                                         text_lower\n",
              "0  2059027  ...                  found now wait untill team leader\n",
              "1  2059027  ...                      these team van mail mail mail\n",
              "2  2059027  ...  in het van how build from subject how to build...\n",
              "3  2059027  ...                                    testing testing\n",
              "4  3581210  ...  thanks i capture i show cool links pop audio v...\n",
              "\n",
              "[5 rows x 13 columns]"
            ]
          },
          "metadata": {
            "tags": []
          },
          "execution_count": 20
        }
      ]
    },
    {
      "cell_type": "markdown",
      "metadata": {
        "id": "rgqvQVlE0Cij"
      },
      "source": [
        "### Stemming"
      ]
    },
    {
      "cell_type": "code",
      "metadata": {
        "id": "GZKsAYY90LUc"
      },
      "source": [
        "stemmer = SnowballStemmer(\"english\")\n",
        "def stemming(sentence):\n",
        "    stemSentence = \"\"\n",
        "    for word in sentence.split():\n",
        "        stem = stemmer.stem(word)\n",
        "        stemSentence += stem\n",
        "        stemSentence += \" \"\n",
        "    stemSentence = stemSentence.strip()\n",
        "    return stemSentence\n",
        "df['text_stemmed'] = df['text_lower'].apply(stemming)"
      ],
      "execution_count": null,
      "outputs": []
    },
    {
      "cell_type": "code",
      "metadata": {
        "colab": {
          "base_uri": "https://localhost:8080/",
          "height": 447
        },
        "id": "vYtcSU300V6R",
        "outputId": "f04700f8-923e-4723-90c1-b5110e7d5095"
      },
      "source": [
        "df.head()"
      ],
      "execution_count": null,
      "outputs": [
        {
          "output_type": "execute_result",
          "data": {
            "text/html": [
              "<div>\n",
              "<style scoped>\n",
              "    .dataframe tbody tr th:only-of-type {\n",
              "        vertical-align: middle;\n",
              "    }\n",
              "\n",
              "    .dataframe tbody tr th {\n",
              "        vertical-align: top;\n",
              "    }\n",
              "\n",
              "    .dataframe thead th {\n",
              "        text-align: right;\n",
              "    }\n",
              "</style>\n",
              "<table border=\"1\" class=\"dataframe\">\n",
              "  <thead>\n",
              "    <tr style=\"text-align: right;\">\n",
              "      <th></th>\n",
              "      <th>id</th>\n",
              "      <th>gender</th>\n",
              "      <th>age</th>\n",
              "      <th>topic</th>\n",
              "      <th>sign</th>\n",
              "      <th>date</th>\n",
              "      <th>text</th>\n",
              "      <th>text_stripped</th>\n",
              "      <th>text_wo_punct</th>\n",
              "      <th>text_wo_chars</th>\n",
              "      <th>text_english</th>\n",
              "      <th>text_wo_stopwords</th>\n",
              "      <th>text_lower</th>\n",
              "      <th>text_stemmed</th>\n",
              "    </tr>\n",
              "  </thead>\n",
              "  <tbody>\n",
              "    <tr>\n",
              "      <th>0</th>\n",
              "      <td>2059027</td>\n",
              "      <td>male</td>\n",
              "      <td>15</td>\n",
              "      <td>Student</td>\n",
              "      <td>Leo</td>\n",
              "      <td>14,May,2004</td>\n",
              "      <td>Info has been found (+/- 100 pages,...</td>\n",
              "      <td>Info has been found (+/- 100 pages, and 4.5 MB...</td>\n",
              "      <td>Info has been found  100 pages and 45 MB of pd...</td>\n",
              "      <td>Info has been found      pages and    MB of pd...</td>\n",
              "      <td>been found and of Now i have to wait untill ou...</td>\n",
              "      <td>found Now wait untill team leader</td>\n",
              "      <td>found now wait untill team leader</td>\n",
              "      <td>found now wait until team leader</td>\n",
              "    </tr>\n",
              "    <tr>\n",
              "      <th>1</th>\n",
              "      <td>2059027</td>\n",
              "      <td>male</td>\n",
              "      <td>15</td>\n",
              "      <td>Student</td>\n",
              "      <td>Leo</td>\n",
              "      <td>13,May,2004</td>\n",
              "      <td>These are the team members:   Drewe...</td>\n",
              "      <td>These are the team members:   Drewes van der L...</td>\n",
              "      <td>These are the team members   Drewes van der La...</td>\n",
              "      <td>These are the team members   Drewes van der La...</td>\n",
              "      <td>These are the team van mail mail me mail</td>\n",
              "      <td>These team van mail mail mail</td>\n",
              "      <td>these team van mail mail mail</td>\n",
              "      <td>these team van mail mail mail</td>\n",
              "    </tr>\n",
              "    <tr>\n",
              "      <th>2</th>\n",
              "      <td>2059027</td>\n",
              "      <td>male</td>\n",
              "      <td>15</td>\n",
              "      <td>Student</td>\n",
              "      <td>Leo</td>\n",
              "      <td>12,May,2004</td>\n",
              "      <td>In het kader van kernfusie op aarde...</td>\n",
              "      <td>In het kader van kernfusie op aarde:  MAAK JE ...</td>\n",
              "      <td>In het kader van kernfusie op aarde  MAAK JE E...</td>\n",
              "      <td>In het kader van kernfusie op aarde  MAAK JE E...</td>\n",
              "      <td>In het van How to build an From Subject How To...</td>\n",
              "      <td>In het van How build From Subject How To Build...</td>\n",
              "      <td>in het van how build from subject how to build...</td>\n",
              "      <td>in het van how build from subject how to build...</td>\n",
              "    </tr>\n",
              "    <tr>\n",
              "      <th>3</th>\n",
              "      <td>2059027</td>\n",
              "      <td>male</td>\n",
              "      <td>15</td>\n",
              "      <td>Student</td>\n",
              "      <td>Leo</td>\n",
              "      <td>12,May,2004</td>\n",
              "      <td>testing!!!  testing!!!</td>\n",
              "      <td>testing!!!  testing!!!</td>\n",
              "      <td>testing  testing</td>\n",
              "      <td>testing  testing</td>\n",
              "      <td>testing testing</td>\n",
              "      <td>testing testing</td>\n",
              "      <td>testing testing</td>\n",
              "      <td>test test</td>\n",
              "    </tr>\n",
              "    <tr>\n",
              "      <th>4</th>\n",
              "      <td>3581210</td>\n",
              "      <td>male</td>\n",
              "      <td>33</td>\n",
              "      <td>InvestmentBanking</td>\n",
              "      <td>Aquarius</td>\n",
              "      <td>11,June,2004</td>\n",
              "      <td>Thanks to Yahoo!'s Toolbar I can ...</td>\n",
              "      <td>Thanks to Yahoo!'s Toolbar I can now 'capture'...</td>\n",
              "      <td>Thanks to Yahoos Toolbar I can now capture the...</td>\n",
              "      <td>Thanks to Yahoos Toolbar I can now capture the...</td>\n",
              "      <td>Thanks to I can now capture the of now I can s...</td>\n",
              "      <td>Thanks I capture I show cool links Pop audio v...</td>\n",
              "      <td>thanks i capture i show cool links pop audio v...</td>\n",
              "      <td>thank i captur i show cool link pop audio vide...</td>\n",
              "    </tr>\n",
              "  </tbody>\n",
              "</table>\n",
              "</div>"
            ],
            "text/plain": [
              "        id  ...                                       text_stemmed\n",
              "0  2059027  ...                   found now wait until team leader\n",
              "1  2059027  ...                      these team van mail mail mail\n",
              "2  2059027  ...  in het van how build from subject how to build...\n",
              "3  2059027  ...                                          test test\n",
              "4  3581210  ...  thank i captur i show cool link pop audio vide...\n",
              "\n",
              "[5 rows x 14 columns]"
            ]
          },
          "metadata": {
            "tags": []
          },
          "execution_count": 22
        }
      ]
    },
    {
      "cell_type": "markdown",
      "metadata": {
        "id": "49pG7k27GAkJ"
      },
      "source": [
        "### Pipelining pre-processing steps"
      ]
    },
    {
      "cell_type": "code",
      "metadata": {
        "id": "cilRi6GxGReO"
      },
      "source": [
        "# defining a pipeline for the pre-processing steps\n",
        "def preprocess(text):\n",
        "  text = text.strip()\n",
        "  text = remove_punctuation(text)\n",
        "  text = remove_char(text)\n",
        "  text = remove_non_english_words(text)\n",
        "  text = remove_stopwords(text)\n",
        "  text = text.lower()\n",
        "  text = stemming(text)\n",
        "  return text"
      ],
      "execution_count": null,
      "outputs": []
    },
    {
      "cell_type": "code",
      "metadata": {
        "colab": {
          "base_uri": "https://localhost:8080/"
        },
        "id": "lMqgfu9ZH5t7",
        "outputId": "1590e134-0290-4a88-995e-224cb2adbc49"
      },
      "source": [
        "# applying preprocessing pipeline on subset data\n",
        "df['text'] = df['text'].map(lambda text : preprocess(text))\n",
        "df['text'][:5]"
      ],
      "execution_count": null,
      "outputs": [
        {
          "output_type": "execute_result",
          "data": {
            "text/plain": [
              "0                     found now wait until team leader\n",
              "1                        these team van mail mail mail\n",
              "2    in het van how build from subject how to build...\n",
              "3                                            test test\n",
              "4    thank i captur i show cool link pop audio vide...\n",
              "Name: text, dtype: object"
            ]
          },
          "metadata": {
            "tags": []
          },
          "execution_count": 24
        }
      ]
    },
    {
      "cell_type": "markdown",
      "metadata": {
        "id": "HZtqfs_YEAKI"
      },
      "source": [
        "### Target / Label merger"
      ]
    },
    {
      "cell_type": "code",
      "metadata": {
        "id": "avMfdFqaDdz7"
      },
      "source": [
        "df_merged = pd.DataFrame(columns=['labels','text'])\n",
        "df_merged['text'] = df['text']\n",
        "df_merged['labels'] = df.apply(lambda row: [row['gender'],row['age'],row['topic'],row['sign']], axis=1)\n",
        "# merging all the label columns into a single column into a new DataFrame"
      ],
      "execution_count": null,
      "outputs": []
    },
    {
      "cell_type": "code",
      "metadata": {
        "colab": {
          "base_uri": "https://localhost:8080/"
        },
        "id": "_DohY835LBQl",
        "outputId": "8121ceab-4377-4ad2-a2d8-dc2d6ef189d9"
      },
      "source": [
        "df_merged.head()"
      ],
      "execution_count": null,
      "outputs": [
        {
          "output_type": "execute_result",
          "data": {
            "text/html": [
              "<div>\n",
              "<style scoped>\n",
              "    .dataframe tbody tr th:only-of-type {\n",
              "        vertical-align: middle;\n",
              "    }\n",
              "\n",
              "    .dataframe tbody tr th {\n",
              "        vertical-align: top;\n",
              "    }\n",
              "\n",
              "    .dataframe thead th {\n",
              "        text-align: right;\n",
              "    }\n",
              "</style>\n",
              "<table border=\"1\" class=\"dataframe\">\n",
              "  <thead>\n",
              "    <tr style=\"text-align: right;\">\n",
              "      <th></th>\n",
              "      <th>labels</th>\n",
              "      <th>text</th>\n",
              "    </tr>\n",
              "  </thead>\n",
              "  <tbody>\n",
              "    <tr>\n",
              "      <th>0</th>\n",
              "      <td>[male, 15, Student, Leo]</td>\n",
              "      <td>found now wait until team leader</td>\n",
              "    </tr>\n",
              "    <tr>\n",
              "      <th>1</th>\n",
              "      <td>[male, 15, Student, Leo]</td>\n",
              "      <td>these team van mail mail mail</td>\n",
              "    </tr>\n",
              "    <tr>\n",
              "      <th>2</th>\n",
              "      <td>[male, 15, Student, Leo]</td>\n",
              "      <td>in het van how build from subject how to build...</td>\n",
              "    </tr>\n",
              "    <tr>\n",
              "      <th>3</th>\n",
              "      <td>[male, 15, Student, Leo]</td>\n",
              "      <td>test test</td>\n",
              "    </tr>\n",
              "    <tr>\n",
              "      <th>4</th>\n",
              "      <td>[male, 33, InvestmentBanking, Aquarius]</td>\n",
              "      <td>thank i captur i show cool link pop audio vide...</td>\n",
              "    </tr>\n",
              "  </tbody>\n",
              "</table>\n",
              "</div>"
            ],
            "text/plain": [
              "                                    labels                                               text\n",
              "0                 [male, 15, Student, Leo]                   found now wait until team leader\n",
              "1                 [male, 15, Student, Leo]                      these team van mail mail mail\n",
              "2                 [male, 15, Student, Leo]  in het van how build from subject how to build...\n",
              "3                 [male, 15, Student, Leo]                                          test test\n",
              "4  [male, 33, InvestmentBanking, Aquarius]  thank i captur i show cool link pop audio vide..."
            ]
          },
          "metadata": {
            "tags": []
          },
          "execution_count": 26
        }
      ]
    },
    {
      "cell_type": "markdown",
      "metadata": {
        "id": "fbYkrIS7L0bw"
      },
      "source": [
        "### Creating train and test datasets"
      ]
    },
    {
      "cell_type": "code",
      "metadata": {
        "id": "N5dNbzsYLbkY"
      },
      "source": [
        "X = df_merged.text\n",
        "y = df_merged.labels\n",
        "\n",
        "X_train, X_test, y_train, y_test = train_test_split(X, y, test_size=0.25, shuffle=True, random_state=seed)"
      ],
      "execution_count": null,
      "outputs": []
    },
    {
      "cell_type": "code",
      "metadata": {
        "colab": {
          "base_uri": "https://localhost:8080/"
        },
        "id": "Hm_G5d3VMpiY",
        "outputId": "89b4f442-063d-458a-e0cf-a1ba72d350e3"
      },
      "source": [
        "print('Shape of training dataset: {}'.format(X_train.shape))\n",
        "print('Shape of testing dataset: {}'.format(X_test.shape))"
      ],
      "execution_count": null,
      "outputs": [
        {
          "output_type": "stream",
          "text": [
            "Shape of training dataset: (18750,)\n",
            "Shape of testing dataset: (6250,)\n"
          ],
          "name": "stdout"
        }
      ]
    },
    {
      "cell_type": "markdown",
      "metadata": {
        "id": "cO_ly37eNESh"
      },
      "source": [
        "### Vectorisation"
      ]
    },
    {
      "cell_type": "code",
      "metadata": {
        "id": "4DAhkbv7M1qa"
      },
      "source": [
        "# defining a vectorizer considering only those rows which occur more than 15% and less than 80%\n",
        "ctv = CountVectorizer(analyzer='word',token_pattern=r'\\w{1,}',ngram_range=(1,3),stop_words='english',min_df=0.15,max_df=0.8)"
      ],
      "execution_count": null,
      "outputs": []
    },
    {
      "cell_type": "code",
      "metadata": {
        "id": "nhzAKFP2mQjP"
      },
      "source": [
        "# using CountVectorizer on Bag of Words to transform into Document Term Matrix\n",
        "X_train_dtm = ctv.fit_transform(X_train)\n",
        "X_test_dtm = ctv.transform(X_test)"
      ],
      "execution_count": null,
      "outputs": []
    },
    {
      "cell_type": "code",
      "metadata": {
        "colab": {
          "base_uri": "https://localhost:8080/"
        },
        "id": "WbAn7vCtm9Sp",
        "outputId": "0ae0d9fc-62f4-4828-fcc6-8e4b8b1167dc"
      },
      "source": [
        "# observing the Vocabulary and Document Term Matrix together for train data\n",
        "pd.DataFrame(data=X_train_dtm.toarray(),columns=ctv.get_feature_names())"
      ],
      "execution_count": null,
      "outputs": [
        {
          "output_type": "execute_result",
          "data": {
            "text/html": [
              "<div>\n",
              "<style scoped>\n",
              "    .dataframe tbody tr th:only-of-type {\n",
              "        vertical-align: middle;\n",
              "    }\n",
              "\n",
              "    .dataframe tbody tr th {\n",
              "        vertical-align: top;\n",
              "    }\n",
              "\n",
              "    .dataframe thead th {\n",
              "        text-align: right;\n",
              "    }\n",
              "</style>\n",
              "<table border=\"1\" class=\"dataframe\">\n",
              "  <thead>\n",
              "    <tr style=\"text-align: right;\">\n",
              "      <th></th>\n",
              "      <th>come</th>\n",
              "      <th>day</th>\n",
              "      <th>dont</th>\n",
              "      <th>feel</th>\n",
              "      <th>good</th>\n",
              "      <th>got</th>\n",
              "      <th>know</th>\n",
              "      <th>life</th>\n",
              "      <th>like</th>\n",
              "      <th>littl</th>\n",
              "      <th>look</th>\n",
              "      <th>love</th>\n",
              "      <th>make</th>\n",
              "      <th>new</th>\n",
              "      <th>peopl</th>\n",
              "      <th>realli</th>\n",
              "      <th>right</th>\n",
              "      <th>say</th>\n",
              "      <th>someth</th>\n",
              "      <th>thing</th>\n",
              "      <th>think</th>\n",
              "      <th>time</th>\n",
              "      <th>today</th>\n",
              "      <th>tri</th>\n",
              "      <th>want</th>\n",
              "      <th>way</th>\n",
              "      <th>work</th>\n",
              "    </tr>\n",
              "  </thead>\n",
              "  <tbody>\n",
              "    <tr>\n",
              "      <th>0</th>\n",
              "      <td>0</td>\n",
              "      <td>0</td>\n",
              "      <td>0</td>\n",
              "      <td>0</td>\n",
              "      <td>0</td>\n",
              "      <td>0</td>\n",
              "      <td>0</td>\n",
              "      <td>0</td>\n",
              "      <td>0</td>\n",
              "      <td>0</td>\n",
              "      <td>0</td>\n",
              "      <td>0</td>\n",
              "      <td>0</td>\n",
              "      <td>0</td>\n",
              "      <td>0</td>\n",
              "      <td>0</td>\n",
              "      <td>0</td>\n",
              "      <td>0</td>\n",
              "      <td>0</td>\n",
              "      <td>0</td>\n",
              "      <td>0</td>\n",
              "      <td>0</td>\n",
              "      <td>0</td>\n",
              "      <td>0</td>\n",
              "      <td>0</td>\n",
              "      <td>0</td>\n",
              "      <td>1</td>\n",
              "    </tr>\n",
              "    <tr>\n",
              "      <th>1</th>\n",
              "      <td>0</td>\n",
              "      <td>1</td>\n",
              "      <td>0</td>\n",
              "      <td>0</td>\n",
              "      <td>0</td>\n",
              "      <td>0</td>\n",
              "      <td>0</td>\n",
              "      <td>0</td>\n",
              "      <td>0</td>\n",
              "      <td>0</td>\n",
              "      <td>0</td>\n",
              "      <td>0</td>\n",
              "      <td>0</td>\n",
              "      <td>0</td>\n",
              "      <td>0</td>\n",
              "      <td>0</td>\n",
              "      <td>0</td>\n",
              "      <td>0</td>\n",
              "      <td>0</td>\n",
              "      <td>0</td>\n",
              "      <td>0</td>\n",
              "      <td>0</td>\n",
              "      <td>0</td>\n",
              "      <td>0</td>\n",
              "      <td>0</td>\n",
              "      <td>0</td>\n",
              "      <td>0</td>\n",
              "    </tr>\n",
              "    <tr>\n",
              "      <th>2</th>\n",
              "      <td>0</td>\n",
              "      <td>0</td>\n",
              "      <td>0</td>\n",
              "      <td>0</td>\n",
              "      <td>0</td>\n",
              "      <td>0</td>\n",
              "      <td>0</td>\n",
              "      <td>0</td>\n",
              "      <td>0</td>\n",
              "      <td>0</td>\n",
              "      <td>0</td>\n",
              "      <td>0</td>\n",
              "      <td>0</td>\n",
              "      <td>0</td>\n",
              "      <td>0</td>\n",
              "      <td>1</td>\n",
              "      <td>0</td>\n",
              "      <td>1</td>\n",
              "      <td>0</td>\n",
              "      <td>0</td>\n",
              "      <td>0</td>\n",
              "      <td>0</td>\n",
              "      <td>0</td>\n",
              "      <td>0</td>\n",
              "      <td>0</td>\n",
              "      <td>0</td>\n",
              "      <td>0</td>\n",
              "    </tr>\n",
              "    <tr>\n",
              "      <th>3</th>\n",
              "      <td>0</td>\n",
              "      <td>0</td>\n",
              "      <td>0</td>\n",
              "      <td>0</td>\n",
              "      <td>0</td>\n",
              "      <td>0</td>\n",
              "      <td>0</td>\n",
              "      <td>0</td>\n",
              "      <td>1</td>\n",
              "      <td>0</td>\n",
              "      <td>0</td>\n",
              "      <td>0</td>\n",
              "      <td>0</td>\n",
              "      <td>0</td>\n",
              "      <td>0</td>\n",
              "      <td>0</td>\n",
              "      <td>0</td>\n",
              "      <td>0</td>\n",
              "      <td>0</td>\n",
              "      <td>0</td>\n",
              "      <td>0</td>\n",
              "      <td>0</td>\n",
              "      <td>0</td>\n",
              "      <td>0</td>\n",
              "      <td>1</td>\n",
              "      <td>1</td>\n",
              "      <td>3</td>\n",
              "    </tr>\n",
              "    <tr>\n",
              "      <th>4</th>\n",
              "      <td>0</td>\n",
              "      <td>0</td>\n",
              "      <td>0</td>\n",
              "      <td>0</td>\n",
              "      <td>0</td>\n",
              "      <td>0</td>\n",
              "      <td>0</td>\n",
              "      <td>0</td>\n",
              "      <td>0</td>\n",
              "      <td>0</td>\n",
              "      <td>0</td>\n",
              "      <td>0</td>\n",
              "      <td>0</td>\n",
              "      <td>0</td>\n",
              "      <td>0</td>\n",
              "      <td>0</td>\n",
              "      <td>0</td>\n",
              "      <td>0</td>\n",
              "      <td>0</td>\n",
              "      <td>0</td>\n",
              "      <td>0</td>\n",
              "      <td>0</td>\n",
              "      <td>0</td>\n",
              "      <td>0</td>\n",
              "      <td>0</td>\n",
              "      <td>0</td>\n",
              "      <td>0</td>\n",
              "    </tr>\n",
              "    <tr>\n",
              "      <th>...</th>\n",
              "      <td>...</td>\n",
              "      <td>...</td>\n",
              "      <td>...</td>\n",
              "      <td>...</td>\n",
              "      <td>...</td>\n",
              "      <td>...</td>\n",
              "      <td>...</td>\n",
              "      <td>...</td>\n",
              "      <td>...</td>\n",
              "      <td>...</td>\n",
              "      <td>...</td>\n",
              "      <td>...</td>\n",
              "      <td>...</td>\n",
              "      <td>...</td>\n",
              "      <td>...</td>\n",
              "      <td>...</td>\n",
              "      <td>...</td>\n",
              "      <td>...</td>\n",
              "      <td>...</td>\n",
              "      <td>...</td>\n",
              "      <td>...</td>\n",
              "      <td>...</td>\n",
              "      <td>...</td>\n",
              "      <td>...</td>\n",
              "      <td>...</td>\n",
              "      <td>...</td>\n",
              "      <td>...</td>\n",
              "    </tr>\n",
              "    <tr>\n",
              "      <th>18745</th>\n",
              "      <td>1</td>\n",
              "      <td>1</td>\n",
              "      <td>2</td>\n",
              "      <td>0</td>\n",
              "      <td>0</td>\n",
              "      <td>0</td>\n",
              "      <td>2</td>\n",
              "      <td>0</td>\n",
              "      <td>1</td>\n",
              "      <td>1</td>\n",
              "      <td>0</td>\n",
              "      <td>0</td>\n",
              "      <td>1</td>\n",
              "      <td>0</td>\n",
              "      <td>0</td>\n",
              "      <td>1</td>\n",
              "      <td>0</td>\n",
              "      <td>1</td>\n",
              "      <td>0</td>\n",
              "      <td>0</td>\n",
              "      <td>0</td>\n",
              "      <td>1</td>\n",
              "      <td>1</td>\n",
              "      <td>1</td>\n",
              "      <td>0</td>\n",
              "      <td>0</td>\n",
              "      <td>0</td>\n",
              "    </tr>\n",
              "    <tr>\n",
              "      <th>18746</th>\n",
              "      <td>1</td>\n",
              "      <td>1</td>\n",
              "      <td>0</td>\n",
              "      <td>0</td>\n",
              "      <td>0</td>\n",
              "      <td>0</td>\n",
              "      <td>0</td>\n",
              "      <td>0</td>\n",
              "      <td>0</td>\n",
              "      <td>0</td>\n",
              "      <td>0</td>\n",
              "      <td>0</td>\n",
              "      <td>0</td>\n",
              "      <td>0</td>\n",
              "      <td>0</td>\n",
              "      <td>0</td>\n",
              "      <td>0</td>\n",
              "      <td>0</td>\n",
              "      <td>0</td>\n",
              "      <td>0</td>\n",
              "      <td>0</td>\n",
              "      <td>0</td>\n",
              "      <td>0</td>\n",
              "      <td>0</td>\n",
              "      <td>0</td>\n",
              "      <td>0</td>\n",
              "      <td>0</td>\n",
              "    </tr>\n",
              "    <tr>\n",
              "      <th>18747</th>\n",
              "      <td>0</td>\n",
              "      <td>1</td>\n",
              "      <td>1</td>\n",
              "      <td>0</td>\n",
              "      <td>0</td>\n",
              "      <td>0</td>\n",
              "      <td>0</td>\n",
              "      <td>0</td>\n",
              "      <td>3</td>\n",
              "      <td>0</td>\n",
              "      <td>1</td>\n",
              "      <td>0</td>\n",
              "      <td>0</td>\n",
              "      <td>0</td>\n",
              "      <td>0</td>\n",
              "      <td>2</td>\n",
              "      <td>0</td>\n",
              "      <td>0</td>\n",
              "      <td>2</td>\n",
              "      <td>0</td>\n",
              "      <td>0</td>\n",
              "      <td>1</td>\n",
              "      <td>0</td>\n",
              "      <td>1</td>\n",
              "      <td>0</td>\n",
              "      <td>4</td>\n",
              "      <td>0</td>\n",
              "    </tr>\n",
              "    <tr>\n",
              "      <th>18748</th>\n",
              "      <td>0</td>\n",
              "      <td>0</td>\n",
              "      <td>0</td>\n",
              "      <td>0</td>\n",
              "      <td>0</td>\n",
              "      <td>0</td>\n",
              "      <td>0</td>\n",
              "      <td>0</td>\n",
              "      <td>0</td>\n",
              "      <td>0</td>\n",
              "      <td>0</td>\n",
              "      <td>0</td>\n",
              "      <td>1</td>\n",
              "      <td>0</td>\n",
              "      <td>0</td>\n",
              "      <td>0</td>\n",
              "      <td>0</td>\n",
              "      <td>0</td>\n",
              "      <td>0</td>\n",
              "      <td>0</td>\n",
              "      <td>1</td>\n",
              "      <td>0</td>\n",
              "      <td>0</td>\n",
              "      <td>0</td>\n",
              "      <td>0</td>\n",
              "      <td>0</td>\n",
              "      <td>0</td>\n",
              "    </tr>\n",
              "    <tr>\n",
              "      <th>18749</th>\n",
              "      <td>1</td>\n",
              "      <td>1</td>\n",
              "      <td>1</td>\n",
              "      <td>0</td>\n",
              "      <td>1</td>\n",
              "      <td>0</td>\n",
              "      <td>2</td>\n",
              "      <td>0</td>\n",
              "      <td>3</td>\n",
              "      <td>0</td>\n",
              "      <td>0</td>\n",
              "      <td>0</td>\n",
              "      <td>0</td>\n",
              "      <td>0</td>\n",
              "      <td>0</td>\n",
              "      <td>1</td>\n",
              "      <td>0</td>\n",
              "      <td>0</td>\n",
              "      <td>1</td>\n",
              "      <td>0</td>\n",
              "      <td>0</td>\n",
              "      <td>0</td>\n",
              "      <td>0</td>\n",
              "      <td>0</td>\n",
              "      <td>0</td>\n",
              "      <td>0</td>\n",
              "      <td>1</td>\n",
              "    </tr>\n",
              "  </tbody>\n",
              "</table>\n",
              "<p>18750 rows × 27 columns</p>\n",
              "</div>"
            ],
            "text/plain": [
              "       come  day  dont  feel  good  got  ...  time  today  tri  want  way  work\n",
              "0         0    0     0     0     0    0  ...     0      0    0     0    0     1\n",
              "1         0    1     0     0     0    0  ...     0      0    0     0    0     0\n",
              "2         0    0     0     0     0    0  ...     0      0    0     0    0     0\n",
              "3         0    0     0     0     0    0  ...     0      0    0     1    1     3\n",
              "4         0    0     0     0     0    0  ...     0      0    0     0    0     0\n",
              "...     ...  ...   ...   ...   ...  ...  ...   ...    ...  ...   ...  ...   ...\n",
              "18745     1    1     2     0     0    0  ...     1      1    1     0    0     0\n",
              "18746     1    1     0     0     0    0  ...     0      0    0     0    0     0\n",
              "18747     0    1     1     0     0    0  ...     1      0    1     0    4     0\n",
              "18748     0    0     0     0     0    0  ...     0      0    0     0    0     0\n",
              "18749     1    1     1     0     1    0  ...     0      0    0     0    0     1\n",
              "\n",
              "[18750 rows x 27 columns]"
            ]
          },
          "metadata": {
            "tags": []
          },
          "execution_count": 31
        }
      ]
    },
    {
      "cell_type": "code",
      "metadata": {
        "colab": {
          "base_uri": "https://localhost:8080/"
        },
        "id": "IYHYuBjjAHBP",
        "outputId": "c87aefaf-afa9-4fa3-856d-eb29df080eaf"
      },
      "source": [
        "# observing the Vocabulary and Document Term Matrix together for test data\n",
        "pd.DataFrame(data=X_test_dtm.toarray(),columns=ctv.get_feature_names())"
      ],
      "execution_count": null,
      "outputs": [
        {
          "output_type": "execute_result",
          "data": {
            "text/html": [
              "<div>\n",
              "<style scoped>\n",
              "    .dataframe tbody tr th:only-of-type {\n",
              "        vertical-align: middle;\n",
              "    }\n",
              "\n",
              "    .dataframe tbody tr th {\n",
              "        vertical-align: top;\n",
              "    }\n",
              "\n",
              "    .dataframe thead th {\n",
              "        text-align: right;\n",
              "    }\n",
              "</style>\n",
              "<table border=\"1\" class=\"dataframe\">\n",
              "  <thead>\n",
              "    <tr style=\"text-align: right;\">\n",
              "      <th></th>\n",
              "      <th>come</th>\n",
              "      <th>day</th>\n",
              "      <th>dont</th>\n",
              "      <th>feel</th>\n",
              "      <th>good</th>\n",
              "      <th>got</th>\n",
              "      <th>know</th>\n",
              "      <th>life</th>\n",
              "      <th>like</th>\n",
              "      <th>littl</th>\n",
              "      <th>look</th>\n",
              "      <th>love</th>\n",
              "      <th>make</th>\n",
              "      <th>new</th>\n",
              "      <th>peopl</th>\n",
              "      <th>realli</th>\n",
              "      <th>right</th>\n",
              "      <th>say</th>\n",
              "      <th>someth</th>\n",
              "      <th>thing</th>\n",
              "      <th>think</th>\n",
              "      <th>time</th>\n",
              "      <th>today</th>\n",
              "      <th>tri</th>\n",
              "      <th>want</th>\n",
              "      <th>way</th>\n",
              "      <th>work</th>\n",
              "    </tr>\n",
              "  </thead>\n",
              "  <tbody>\n",
              "    <tr>\n",
              "      <th>0</th>\n",
              "      <td>1</td>\n",
              "      <td>0</td>\n",
              "      <td>0</td>\n",
              "      <td>0</td>\n",
              "      <td>0</td>\n",
              "      <td>0</td>\n",
              "      <td>0</td>\n",
              "      <td>0</td>\n",
              "      <td>0</td>\n",
              "      <td>0</td>\n",
              "      <td>0</td>\n",
              "      <td>0</td>\n",
              "      <td>1</td>\n",
              "      <td>0</td>\n",
              "      <td>0</td>\n",
              "      <td>2</td>\n",
              "      <td>0</td>\n",
              "      <td>0</td>\n",
              "      <td>0</td>\n",
              "      <td>0</td>\n",
              "      <td>0</td>\n",
              "      <td>0</td>\n",
              "      <td>0</td>\n",
              "      <td>0</td>\n",
              "      <td>0</td>\n",
              "      <td>0</td>\n",
              "      <td>0</td>\n",
              "    </tr>\n",
              "    <tr>\n",
              "      <th>1</th>\n",
              "      <td>0</td>\n",
              "      <td>0</td>\n",
              "      <td>2</td>\n",
              "      <td>0</td>\n",
              "      <td>0</td>\n",
              "      <td>1</td>\n",
              "      <td>0</td>\n",
              "      <td>0</td>\n",
              "      <td>2</td>\n",
              "      <td>0</td>\n",
              "      <td>0</td>\n",
              "      <td>0</td>\n",
              "      <td>0</td>\n",
              "      <td>0</td>\n",
              "      <td>0</td>\n",
              "      <td>2</td>\n",
              "      <td>0</td>\n",
              "      <td>1</td>\n",
              "      <td>0</td>\n",
              "      <td>0</td>\n",
              "      <td>0</td>\n",
              "      <td>0</td>\n",
              "      <td>1</td>\n",
              "      <td>0</td>\n",
              "      <td>1</td>\n",
              "      <td>0</td>\n",
              "      <td>1</td>\n",
              "    </tr>\n",
              "    <tr>\n",
              "      <th>2</th>\n",
              "      <td>0</td>\n",
              "      <td>0</td>\n",
              "      <td>0</td>\n",
              "      <td>0</td>\n",
              "      <td>0</td>\n",
              "      <td>0</td>\n",
              "      <td>0</td>\n",
              "      <td>0</td>\n",
              "      <td>0</td>\n",
              "      <td>0</td>\n",
              "      <td>0</td>\n",
              "      <td>0</td>\n",
              "      <td>0</td>\n",
              "      <td>0</td>\n",
              "      <td>0</td>\n",
              "      <td>0</td>\n",
              "      <td>0</td>\n",
              "      <td>0</td>\n",
              "      <td>0</td>\n",
              "      <td>0</td>\n",
              "      <td>0</td>\n",
              "      <td>1</td>\n",
              "      <td>0</td>\n",
              "      <td>1</td>\n",
              "      <td>0</td>\n",
              "      <td>0</td>\n",
              "      <td>0</td>\n",
              "    </tr>\n",
              "    <tr>\n",
              "      <th>3</th>\n",
              "      <td>0</td>\n",
              "      <td>0</td>\n",
              "      <td>0</td>\n",
              "      <td>0</td>\n",
              "      <td>0</td>\n",
              "      <td>0</td>\n",
              "      <td>0</td>\n",
              "      <td>1</td>\n",
              "      <td>0</td>\n",
              "      <td>1</td>\n",
              "      <td>0</td>\n",
              "      <td>0</td>\n",
              "      <td>0</td>\n",
              "      <td>0</td>\n",
              "      <td>0</td>\n",
              "      <td>0</td>\n",
              "      <td>0</td>\n",
              "      <td>0</td>\n",
              "      <td>0</td>\n",
              "      <td>0</td>\n",
              "      <td>0</td>\n",
              "      <td>0</td>\n",
              "      <td>0</td>\n",
              "      <td>0</td>\n",
              "      <td>0</td>\n",
              "      <td>0</td>\n",
              "      <td>0</td>\n",
              "    </tr>\n",
              "    <tr>\n",
              "      <th>4</th>\n",
              "      <td>1</td>\n",
              "      <td>0</td>\n",
              "      <td>0</td>\n",
              "      <td>1</td>\n",
              "      <td>0</td>\n",
              "      <td>0</td>\n",
              "      <td>1</td>\n",
              "      <td>0</td>\n",
              "      <td>2</td>\n",
              "      <td>0</td>\n",
              "      <td>0</td>\n",
              "      <td>0</td>\n",
              "      <td>1</td>\n",
              "      <td>0</td>\n",
              "      <td>0</td>\n",
              "      <td>0</td>\n",
              "      <td>0</td>\n",
              "      <td>0</td>\n",
              "      <td>1</td>\n",
              "      <td>0</td>\n",
              "      <td>1</td>\n",
              "      <td>0</td>\n",
              "      <td>0</td>\n",
              "      <td>0</td>\n",
              "      <td>0</td>\n",
              "      <td>1</td>\n",
              "      <td>0</td>\n",
              "    </tr>\n",
              "    <tr>\n",
              "      <th>...</th>\n",
              "      <td>...</td>\n",
              "      <td>...</td>\n",
              "      <td>...</td>\n",
              "      <td>...</td>\n",
              "      <td>...</td>\n",
              "      <td>...</td>\n",
              "      <td>...</td>\n",
              "      <td>...</td>\n",
              "      <td>...</td>\n",
              "      <td>...</td>\n",
              "      <td>...</td>\n",
              "      <td>...</td>\n",
              "      <td>...</td>\n",
              "      <td>...</td>\n",
              "      <td>...</td>\n",
              "      <td>...</td>\n",
              "      <td>...</td>\n",
              "      <td>...</td>\n",
              "      <td>...</td>\n",
              "      <td>...</td>\n",
              "      <td>...</td>\n",
              "      <td>...</td>\n",
              "      <td>...</td>\n",
              "      <td>...</td>\n",
              "      <td>...</td>\n",
              "      <td>...</td>\n",
              "      <td>...</td>\n",
              "    </tr>\n",
              "    <tr>\n",
              "      <th>6245</th>\n",
              "      <td>0</td>\n",
              "      <td>0</td>\n",
              "      <td>0</td>\n",
              "      <td>0</td>\n",
              "      <td>0</td>\n",
              "      <td>0</td>\n",
              "      <td>0</td>\n",
              "      <td>0</td>\n",
              "      <td>0</td>\n",
              "      <td>0</td>\n",
              "      <td>0</td>\n",
              "      <td>0</td>\n",
              "      <td>1</td>\n",
              "      <td>0</td>\n",
              "      <td>0</td>\n",
              "      <td>0</td>\n",
              "      <td>0</td>\n",
              "      <td>0</td>\n",
              "      <td>0</td>\n",
              "      <td>0</td>\n",
              "      <td>0</td>\n",
              "      <td>0</td>\n",
              "      <td>0</td>\n",
              "      <td>0</td>\n",
              "      <td>0</td>\n",
              "      <td>0</td>\n",
              "      <td>0</td>\n",
              "    </tr>\n",
              "    <tr>\n",
              "      <th>6246</th>\n",
              "      <td>1</td>\n",
              "      <td>1</td>\n",
              "      <td>1</td>\n",
              "      <td>0</td>\n",
              "      <td>1</td>\n",
              "      <td>3</td>\n",
              "      <td>0</td>\n",
              "      <td>0</td>\n",
              "      <td>2</td>\n",
              "      <td>0</td>\n",
              "      <td>0</td>\n",
              "      <td>0</td>\n",
              "      <td>1</td>\n",
              "      <td>0</td>\n",
              "      <td>1</td>\n",
              "      <td>6</td>\n",
              "      <td>1</td>\n",
              "      <td>0</td>\n",
              "      <td>1</td>\n",
              "      <td>0</td>\n",
              "      <td>0</td>\n",
              "      <td>1</td>\n",
              "      <td>1</td>\n",
              "      <td>1</td>\n",
              "      <td>1</td>\n",
              "      <td>1</td>\n",
              "      <td>0</td>\n",
              "    </tr>\n",
              "    <tr>\n",
              "      <th>6247</th>\n",
              "      <td>0</td>\n",
              "      <td>1</td>\n",
              "      <td>1</td>\n",
              "      <td>0</td>\n",
              "      <td>0</td>\n",
              "      <td>0</td>\n",
              "      <td>1</td>\n",
              "      <td>0</td>\n",
              "      <td>1</td>\n",
              "      <td>0</td>\n",
              "      <td>0</td>\n",
              "      <td>1</td>\n",
              "      <td>1</td>\n",
              "      <td>0</td>\n",
              "      <td>0</td>\n",
              "      <td>0</td>\n",
              "      <td>0</td>\n",
              "      <td>0</td>\n",
              "      <td>0</td>\n",
              "      <td>0</td>\n",
              "      <td>0</td>\n",
              "      <td>0</td>\n",
              "      <td>0</td>\n",
              "      <td>0</td>\n",
              "      <td>0</td>\n",
              "      <td>0</td>\n",
              "      <td>0</td>\n",
              "    </tr>\n",
              "    <tr>\n",
              "      <th>6248</th>\n",
              "      <td>0</td>\n",
              "      <td>0</td>\n",
              "      <td>0</td>\n",
              "      <td>0</td>\n",
              "      <td>0</td>\n",
              "      <td>0</td>\n",
              "      <td>0</td>\n",
              "      <td>0</td>\n",
              "      <td>0</td>\n",
              "      <td>0</td>\n",
              "      <td>0</td>\n",
              "      <td>0</td>\n",
              "      <td>0</td>\n",
              "      <td>0</td>\n",
              "      <td>0</td>\n",
              "      <td>0</td>\n",
              "      <td>0</td>\n",
              "      <td>0</td>\n",
              "      <td>0</td>\n",
              "      <td>0</td>\n",
              "      <td>0</td>\n",
              "      <td>0</td>\n",
              "      <td>0</td>\n",
              "      <td>0</td>\n",
              "      <td>0</td>\n",
              "      <td>0</td>\n",
              "      <td>0</td>\n",
              "    </tr>\n",
              "    <tr>\n",
              "      <th>6249</th>\n",
              "      <td>0</td>\n",
              "      <td>0</td>\n",
              "      <td>0</td>\n",
              "      <td>0</td>\n",
              "      <td>0</td>\n",
              "      <td>0</td>\n",
              "      <td>0</td>\n",
              "      <td>0</td>\n",
              "      <td>1</td>\n",
              "      <td>0</td>\n",
              "      <td>0</td>\n",
              "      <td>0</td>\n",
              "      <td>0</td>\n",
              "      <td>0</td>\n",
              "      <td>0</td>\n",
              "      <td>0</td>\n",
              "      <td>0</td>\n",
              "      <td>0</td>\n",
              "      <td>1</td>\n",
              "      <td>0</td>\n",
              "      <td>0</td>\n",
              "      <td>0</td>\n",
              "      <td>0</td>\n",
              "      <td>1</td>\n",
              "      <td>0</td>\n",
              "      <td>0</td>\n",
              "      <td>0</td>\n",
              "    </tr>\n",
              "  </tbody>\n",
              "</table>\n",
              "<p>6250 rows × 27 columns</p>\n",
              "</div>"
            ],
            "text/plain": [
              "      come  day  dont  feel  good  got  ...  time  today  tri  want  way  work\n",
              "0        1    0     0     0     0    0  ...     0      0    0     0    0     0\n",
              "1        0    0     2     0     0    1  ...     0      1    0     1    0     1\n",
              "2        0    0     0     0     0    0  ...     1      0    1     0    0     0\n",
              "3        0    0     0     0     0    0  ...     0      0    0     0    0     0\n",
              "4        1    0     0     1     0    0  ...     0      0    0     0    1     0\n",
              "...    ...  ...   ...   ...   ...  ...  ...   ...    ...  ...   ...  ...   ...\n",
              "6245     0    0     0     0     0    0  ...     0      0    0     0    0     0\n",
              "6246     1    1     1     0     1    3  ...     1      1    1     1    1     0\n",
              "6247     0    1     1     0     0    0  ...     0      0    0     0    0     0\n",
              "6248     0    0     0     0     0    0  ...     0      0    0     0    0     0\n",
              "6249     0    0     0     0     0    0  ...     0      0    1     0    0     0\n",
              "\n",
              "[6250 rows x 27 columns]"
            ]
          },
          "metadata": {
            "tags": []
          },
          "execution_count": 32
        }
      ]
    },
    {
      "cell_type": "markdown",
      "metadata": {
        "id": "9VKhbYSHNICd"
      },
      "source": [
        "### Creating a dictionary to capture the count of every label"
      ]
    },
    {
      "cell_type": "code",
      "metadata": {
        "trusted": false,
        "id": "EfPoYiufwmbc"
      },
      "source": [
        "dfT = df[['gender', 'age', 'topic', 'sign']]"
      ],
      "execution_count": null,
      "outputs": []
    },
    {
      "cell_type": "code",
      "metadata": {
        "trusted": false,
        "id": "N3gE61Xlwmbd"
      },
      "source": [
        "dfT['age'] = dfT['age'].astype('str')"
      ],
      "execution_count": null,
      "outputs": []
    },
    {
      "cell_type": "code",
      "metadata": {
        "trusted": false,
        "id": "jnUmduWNwmbd"
      },
      "source": [
        "keys=[] \n",
        "values=[] \n",
        "\n",
        "for i in range(dfT.shape[1]): # iterate through all the colummns        \n",
        "    for j in range(dfT.iloc[:,i].value_counts().shape[0]): # iterate through all the rows of value_counts of that column\n",
        "        keys.append(dfT.iloc[:,i].value_counts().index[j])         \n",
        "        values.append(dfT.iloc[:,i].value_counts().iloc[j])"
      ],
      "execution_count": null,
      "outputs": []
    },
    {
      "cell_type": "code",
      "metadata": {
        "trusted": false,
        "id": "CPCrwihowmbd"
      },
      "source": [
        "dictionary = dict(zip(keys,values))"
      ],
      "execution_count": null,
      "outputs": []
    },
    {
      "cell_type": "code",
      "metadata": {
        "trusted": false,
        "id": "_oC9Icrcwmbd",
        "colab": {
          "base_uri": "https://localhost:8080/"
        },
        "outputId": "b7c23821-b314-4fcc-8806-0eadf5f51b47"
      },
      "source": [
        "print(dictionary)"
      ],
      "execution_count": null,
      "outputs": [
        {
          "output_type": "stream",
          "text": [
            "{'male': 13568, 'female': 11432, '23': 2814, '27': 2729, '24': 2630, '17': 2583, '35': 2503, '36': 1753, '16': 1702, '26': 1297, '25': 1278, '15': 1240, '14': 1022, '33': 931, '34': 890, '13': 365, '48': 244, '46': 204, '37': 166, '38': 142, '39': 132, '47': 105, '41': 95, '45': 72, '42': 48, '43': 24, '40': 21, '44': 10, 'indUnk': 10308, 'Student': 3558, 'Technology': 3249, 'Fashion': 1622, 'Internet': 1008, 'Education': 990, 'Engineering': 720, 'Arts': 553, 'Communications-Media': 440, 'Marketing': 351, 'Non-Profit': 206, 'BusinessServices': 204, 'Government': 187, 'Religion': 182, 'Consulting': 170, 'Sports-Recreation': 120, 'Automotive': 116, 'Banking': 109, 'Science': 100, 'Manufacturing': 93, 'LawEnforcement-Security': 90, 'Museums-Libraries': 72, 'InvestmentBanking': 71, 'Publishing': 70, 'Advertising': 56, 'Accounting': 53, 'Law': 47, 'Transportation': 46, 'Agriculture': 46, 'Architecture': 45, 'Biotech': 36, 'Construction': 21, 'Military': 19, 'HumanResources': 15, 'RealEstate': 14, 'Telecommunications': 10, 'Chemicals': 3, 'Aries': 6429, 'Aquarius': 2319, 'Sagittarius': 2281, 'Cancer': 2181, 'Scorpio': 2098, 'Pisces': 1966, 'Leo': 1953, 'Taurus': 1425, 'Libra': 1251, 'Virgo': 1120, 'Capricorn': 1043, 'Gemini': 934}\n"
          ],
          "name": "stdout"
        }
      ]
    },
    {
      "cell_type": "markdown",
      "metadata": {
        "id": "5gc8vAeyGUwM"
      },
      "source": [
        "### Transforming the labels for classification"
      ]
    },
    {
      "cell_type": "code",
      "metadata": {
        "colab": {
          "base_uri": "https://localhost:8080/"
        },
        "id": "VCXytsKEE62b",
        "outputId": "becc3a26-5ebd-4f6b-ee01-c210a6480394"
      },
      "source": [
        "# first let's try to visualise how the MultiLabelBinarizer will transform our labels\n",
        "mlb = MultiLabelBinarizer(classes=sorted(dictionary.keys())).fit(y_train)\n",
        "pd.DataFrame(mlb.fit_transform(y_train), columns=mlb.classes_)"
      ],
      "execution_count": null,
      "outputs": [
        {
          "output_type": "execute_result",
          "data": {
            "text/html": [
              "<div>\n",
              "<style scoped>\n",
              "    .dataframe tbody tr th:only-of-type {\n",
              "        vertical-align: middle;\n",
              "    }\n",
              "\n",
              "    .dataframe tbody tr th {\n",
              "        vertical-align: top;\n",
              "    }\n",
              "\n",
              "    .dataframe thead th {\n",
              "        text-align: right;\n",
              "    }\n",
              "</style>\n",
              "<table border=\"1\" class=\"dataframe\">\n",
              "  <thead>\n",
              "    <tr style=\"text-align: right;\">\n",
              "      <th></th>\n",
              "      <th>13</th>\n",
              "      <th>14</th>\n",
              "      <th>15</th>\n",
              "      <th>16</th>\n",
              "      <th>17</th>\n",
              "      <th>23</th>\n",
              "      <th>24</th>\n",
              "      <th>25</th>\n",
              "      <th>26</th>\n",
              "      <th>27</th>\n",
              "      <th>33</th>\n",
              "      <th>34</th>\n",
              "      <th>35</th>\n",
              "      <th>36</th>\n",
              "      <th>37</th>\n",
              "      <th>38</th>\n",
              "      <th>39</th>\n",
              "      <th>40</th>\n",
              "      <th>41</th>\n",
              "      <th>42</th>\n",
              "      <th>43</th>\n",
              "      <th>44</th>\n",
              "      <th>45</th>\n",
              "      <th>46</th>\n",
              "      <th>47</th>\n",
              "      <th>48</th>\n",
              "      <th>Accounting</th>\n",
              "      <th>Advertising</th>\n",
              "      <th>Agriculture</th>\n",
              "      <th>Aquarius</th>\n",
              "      <th>Architecture</th>\n",
              "      <th>Aries</th>\n",
              "      <th>Arts</th>\n",
              "      <th>Automotive</th>\n",
              "      <th>Banking</th>\n",
              "      <th>Biotech</th>\n",
              "      <th>BusinessServices</th>\n",
              "      <th>Cancer</th>\n",
              "      <th>Capricorn</th>\n",
              "      <th>Chemicals</th>\n",
              "      <th>Communications-Media</th>\n",
              "      <th>Construction</th>\n",
              "      <th>Consulting</th>\n",
              "      <th>Education</th>\n",
              "      <th>Engineering</th>\n",
              "      <th>Fashion</th>\n",
              "      <th>Gemini</th>\n",
              "      <th>Government</th>\n",
              "      <th>HumanResources</th>\n",
              "      <th>Internet</th>\n",
              "      <th>InvestmentBanking</th>\n",
              "      <th>Law</th>\n",
              "      <th>LawEnforcement-Security</th>\n",
              "      <th>Leo</th>\n",
              "      <th>Libra</th>\n",
              "      <th>Manufacturing</th>\n",
              "      <th>Marketing</th>\n",
              "      <th>Military</th>\n",
              "      <th>Museums-Libraries</th>\n",
              "      <th>Non-Profit</th>\n",
              "      <th>Pisces</th>\n",
              "      <th>Publishing</th>\n",
              "      <th>RealEstate</th>\n",
              "      <th>Religion</th>\n",
              "      <th>Sagittarius</th>\n",
              "      <th>Science</th>\n",
              "      <th>Scorpio</th>\n",
              "      <th>Sports-Recreation</th>\n",
              "      <th>Student</th>\n",
              "      <th>Taurus</th>\n",
              "      <th>Technology</th>\n",
              "      <th>Telecommunications</th>\n",
              "      <th>Transportation</th>\n",
              "      <th>Virgo</th>\n",
              "      <th>female</th>\n",
              "      <th>indUnk</th>\n",
              "      <th>male</th>\n",
              "    </tr>\n",
              "  </thead>\n",
              "  <tbody>\n",
              "    <tr>\n",
              "      <th>0</th>\n",
              "      <td>0</td>\n",
              "      <td>0</td>\n",
              "      <td>0</td>\n",
              "      <td>0</td>\n",
              "      <td>0</td>\n",
              "      <td>0</td>\n",
              "      <td>0</td>\n",
              "      <td>0</td>\n",
              "      <td>0</td>\n",
              "      <td>0</td>\n",
              "      <td>0</td>\n",
              "      <td>0</td>\n",
              "      <td>0</td>\n",
              "      <td>0</td>\n",
              "      <td>0</td>\n",
              "      <td>0</td>\n",
              "      <td>0</td>\n",
              "      <td>0</td>\n",
              "      <td>0</td>\n",
              "      <td>0</td>\n",
              "      <td>0</td>\n",
              "      <td>0</td>\n",
              "      <td>0</td>\n",
              "      <td>0</td>\n",
              "      <td>0</td>\n",
              "      <td>0</td>\n",
              "      <td>0</td>\n",
              "      <td>0</td>\n",
              "      <td>0</td>\n",
              "      <td>0</td>\n",
              "      <td>0</td>\n",
              "      <td>1</td>\n",
              "      <td>0</td>\n",
              "      <td>0</td>\n",
              "      <td>0</td>\n",
              "      <td>0</td>\n",
              "      <td>0</td>\n",
              "      <td>0</td>\n",
              "      <td>0</td>\n",
              "      <td>0</td>\n",
              "      <td>0</td>\n",
              "      <td>0</td>\n",
              "      <td>0</td>\n",
              "      <td>0</td>\n",
              "      <td>0</td>\n",
              "      <td>0</td>\n",
              "      <td>0</td>\n",
              "      <td>0</td>\n",
              "      <td>0</td>\n",
              "      <td>0</td>\n",
              "      <td>0</td>\n",
              "      <td>0</td>\n",
              "      <td>0</td>\n",
              "      <td>0</td>\n",
              "      <td>0</td>\n",
              "      <td>0</td>\n",
              "      <td>0</td>\n",
              "      <td>0</td>\n",
              "      <td>0</td>\n",
              "      <td>0</td>\n",
              "      <td>0</td>\n",
              "      <td>0</td>\n",
              "      <td>0</td>\n",
              "      <td>0</td>\n",
              "      <td>0</td>\n",
              "      <td>0</td>\n",
              "      <td>0</td>\n",
              "      <td>0</td>\n",
              "      <td>0</td>\n",
              "      <td>0</td>\n",
              "      <td>1</td>\n",
              "      <td>0</td>\n",
              "      <td>0</td>\n",
              "      <td>0</td>\n",
              "      <td>0</td>\n",
              "      <td>0</td>\n",
              "      <td>1</td>\n",
              "    </tr>\n",
              "    <tr>\n",
              "      <th>1</th>\n",
              "      <td>0</td>\n",
              "      <td>0</td>\n",
              "      <td>0</td>\n",
              "      <td>0</td>\n",
              "      <td>0</td>\n",
              "      <td>0</td>\n",
              "      <td>0</td>\n",
              "      <td>0</td>\n",
              "      <td>0</td>\n",
              "      <td>0</td>\n",
              "      <td>0</td>\n",
              "      <td>0</td>\n",
              "      <td>0</td>\n",
              "      <td>0</td>\n",
              "      <td>0</td>\n",
              "      <td>0</td>\n",
              "      <td>0</td>\n",
              "      <td>0</td>\n",
              "      <td>0</td>\n",
              "      <td>0</td>\n",
              "      <td>0</td>\n",
              "      <td>0</td>\n",
              "      <td>0</td>\n",
              "      <td>0</td>\n",
              "      <td>0</td>\n",
              "      <td>0</td>\n",
              "      <td>0</td>\n",
              "      <td>0</td>\n",
              "      <td>0</td>\n",
              "      <td>0</td>\n",
              "      <td>0</td>\n",
              "      <td>0</td>\n",
              "      <td>0</td>\n",
              "      <td>0</td>\n",
              "      <td>0</td>\n",
              "      <td>0</td>\n",
              "      <td>0</td>\n",
              "      <td>0</td>\n",
              "      <td>0</td>\n",
              "      <td>0</td>\n",
              "      <td>0</td>\n",
              "      <td>0</td>\n",
              "      <td>0</td>\n",
              "      <td>0</td>\n",
              "      <td>0</td>\n",
              "      <td>0</td>\n",
              "      <td>0</td>\n",
              "      <td>0</td>\n",
              "      <td>0</td>\n",
              "      <td>0</td>\n",
              "      <td>0</td>\n",
              "      <td>0</td>\n",
              "      <td>0</td>\n",
              "      <td>0</td>\n",
              "      <td>0</td>\n",
              "      <td>0</td>\n",
              "      <td>0</td>\n",
              "      <td>0</td>\n",
              "      <td>0</td>\n",
              "      <td>0</td>\n",
              "      <td>0</td>\n",
              "      <td>0</td>\n",
              "      <td>0</td>\n",
              "      <td>0</td>\n",
              "      <td>0</td>\n",
              "      <td>0</td>\n",
              "      <td>1</td>\n",
              "      <td>0</td>\n",
              "      <td>1</td>\n",
              "      <td>0</td>\n",
              "      <td>0</td>\n",
              "      <td>0</td>\n",
              "      <td>0</td>\n",
              "      <td>0</td>\n",
              "      <td>1</td>\n",
              "      <td>0</td>\n",
              "      <td>0</td>\n",
              "    </tr>\n",
              "    <tr>\n",
              "      <th>2</th>\n",
              "      <td>0</td>\n",
              "      <td>0</td>\n",
              "      <td>0</td>\n",
              "      <td>0</td>\n",
              "      <td>0</td>\n",
              "      <td>0</td>\n",
              "      <td>0</td>\n",
              "      <td>0</td>\n",
              "      <td>0</td>\n",
              "      <td>0</td>\n",
              "      <td>0</td>\n",
              "      <td>0</td>\n",
              "      <td>0</td>\n",
              "      <td>0</td>\n",
              "      <td>0</td>\n",
              "      <td>0</td>\n",
              "      <td>0</td>\n",
              "      <td>0</td>\n",
              "      <td>0</td>\n",
              "      <td>0</td>\n",
              "      <td>0</td>\n",
              "      <td>0</td>\n",
              "      <td>0</td>\n",
              "      <td>0</td>\n",
              "      <td>0</td>\n",
              "      <td>0</td>\n",
              "      <td>0</td>\n",
              "      <td>0</td>\n",
              "      <td>0</td>\n",
              "      <td>0</td>\n",
              "      <td>0</td>\n",
              "      <td>0</td>\n",
              "      <td>0</td>\n",
              "      <td>0</td>\n",
              "      <td>0</td>\n",
              "      <td>0</td>\n",
              "      <td>0</td>\n",
              "      <td>1</td>\n",
              "      <td>0</td>\n",
              "      <td>0</td>\n",
              "      <td>0</td>\n",
              "      <td>0</td>\n",
              "      <td>0</td>\n",
              "      <td>0</td>\n",
              "      <td>0</td>\n",
              "      <td>0</td>\n",
              "      <td>0</td>\n",
              "      <td>0</td>\n",
              "      <td>0</td>\n",
              "      <td>0</td>\n",
              "      <td>0</td>\n",
              "      <td>0</td>\n",
              "      <td>0</td>\n",
              "      <td>0</td>\n",
              "      <td>0</td>\n",
              "      <td>0</td>\n",
              "      <td>0</td>\n",
              "      <td>0</td>\n",
              "      <td>0</td>\n",
              "      <td>1</td>\n",
              "      <td>0</td>\n",
              "      <td>0</td>\n",
              "      <td>0</td>\n",
              "      <td>0</td>\n",
              "      <td>0</td>\n",
              "      <td>0</td>\n",
              "      <td>0</td>\n",
              "      <td>0</td>\n",
              "      <td>0</td>\n",
              "      <td>0</td>\n",
              "      <td>0</td>\n",
              "      <td>0</td>\n",
              "      <td>0</td>\n",
              "      <td>0</td>\n",
              "      <td>0</td>\n",
              "      <td>0</td>\n",
              "      <td>1</td>\n",
              "    </tr>\n",
              "    <tr>\n",
              "      <th>3</th>\n",
              "      <td>0</td>\n",
              "      <td>0</td>\n",
              "      <td>0</td>\n",
              "      <td>0</td>\n",
              "      <td>0</td>\n",
              "      <td>0</td>\n",
              "      <td>0</td>\n",
              "      <td>0</td>\n",
              "      <td>0</td>\n",
              "      <td>0</td>\n",
              "      <td>0</td>\n",
              "      <td>0</td>\n",
              "      <td>0</td>\n",
              "      <td>0</td>\n",
              "      <td>0</td>\n",
              "      <td>0</td>\n",
              "      <td>0</td>\n",
              "      <td>0</td>\n",
              "      <td>0</td>\n",
              "      <td>0</td>\n",
              "      <td>0</td>\n",
              "      <td>0</td>\n",
              "      <td>0</td>\n",
              "      <td>0</td>\n",
              "      <td>0</td>\n",
              "      <td>0</td>\n",
              "      <td>0</td>\n",
              "      <td>0</td>\n",
              "      <td>0</td>\n",
              "      <td>0</td>\n",
              "      <td>0</td>\n",
              "      <td>0</td>\n",
              "      <td>0</td>\n",
              "      <td>0</td>\n",
              "      <td>0</td>\n",
              "      <td>0</td>\n",
              "      <td>0</td>\n",
              "      <td>0</td>\n",
              "      <td>0</td>\n",
              "      <td>0</td>\n",
              "      <td>0</td>\n",
              "      <td>0</td>\n",
              "      <td>0</td>\n",
              "      <td>0</td>\n",
              "      <td>0</td>\n",
              "      <td>0</td>\n",
              "      <td>0</td>\n",
              "      <td>0</td>\n",
              "      <td>0</td>\n",
              "      <td>0</td>\n",
              "      <td>0</td>\n",
              "      <td>0</td>\n",
              "      <td>0</td>\n",
              "      <td>0</td>\n",
              "      <td>0</td>\n",
              "      <td>0</td>\n",
              "      <td>0</td>\n",
              "      <td>0</td>\n",
              "      <td>0</td>\n",
              "      <td>0</td>\n",
              "      <td>0</td>\n",
              "      <td>0</td>\n",
              "      <td>0</td>\n",
              "      <td>0</td>\n",
              "      <td>1</td>\n",
              "      <td>0</td>\n",
              "      <td>0</td>\n",
              "      <td>0</td>\n",
              "      <td>0</td>\n",
              "      <td>0</td>\n",
              "      <td>0</td>\n",
              "      <td>0</td>\n",
              "      <td>0</td>\n",
              "      <td>0</td>\n",
              "      <td>0</td>\n",
              "      <td>1</td>\n",
              "      <td>1</td>\n",
              "    </tr>\n",
              "    <tr>\n",
              "      <th>4</th>\n",
              "      <td>0</td>\n",
              "      <td>0</td>\n",
              "      <td>0</td>\n",
              "      <td>0</td>\n",
              "      <td>0</td>\n",
              "      <td>0</td>\n",
              "      <td>0</td>\n",
              "      <td>0</td>\n",
              "      <td>0</td>\n",
              "      <td>0</td>\n",
              "      <td>0</td>\n",
              "      <td>0</td>\n",
              "      <td>0</td>\n",
              "      <td>0</td>\n",
              "      <td>0</td>\n",
              "      <td>0</td>\n",
              "      <td>0</td>\n",
              "      <td>0</td>\n",
              "      <td>0</td>\n",
              "      <td>0</td>\n",
              "      <td>0</td>\n",
              "      <td>0</td>\n",
              "      <td>0</td>\n",
              "      <td>0</td>\n",
              "      <td>0</td>\n",
              "      <td>0</td>\n",
              "      <td>0</td>\n",
              "      <td>0</td>\n",
              "      <td>0</td>\n",
              "      <td>0</td>\n",
              "      <td>0</td>\n",
              "      <td>0</td>\n",
              "      <td>0</td>\n",
              "      <td>0</td>\n",
              "      <td>0</td>\n",
              "      <td>0</td>\n",
              "      <td>0</td>\n",
              "      <td>0</td>\n",
              "      <td>0</td>\n",
              "      <td>0</td>\n",
              "      <td>0</td>\n",
              "      <td>0</td>\n",
              "      <td>0</td>\n",
              "      <td>0</td>\n",
              "      <td>0</td>\n",
              "      <td>0</td>\n",
              "      <td>0</td>\n",
              "      <td>0</td>\n",
              "      <td>0</td>\n",
              "      <td>0</td>\n",
              "      <td>0</td>\n",
              "      <td>0</td>\n",
              "      <td>0</td>\n",
              "      <td>0</td>\n",
              "      <td>0</td>\n",
              "      <td>0</td>\n",
              "      <td>0</td>\n",
              "      <td>0</td>\n",
              "      <td>0</td>\n",
              "      <td>0</td>\n",
              "      <td>0</td>\n",
              "      <td>0</td>\n",
              "      <td>0</td>\n",
              "      <td>0</td>\n",
              "      <td>0</td>\n",
              "      <td>0</td>\n",
              "      <td>1</td>\n",
              "      <td>0</td>\n",
              "      <td>0</td>\n",
              "      <td>0</td>\n",
              "      <td>0</td>\n",
              "      <td>0</td>\n",
              "      <td>0</td>\n",
              "      <td>0</td>\n",
              "      <td>1</td>\n",
              "      <td>1</td>\n",
              "      <td>0</td>\n",
              "    </tr>\n",
              "    <tr>\n",
              "      <th>...</th>\n",
              "      <td>...</td>\n",
              "      <td>...</td>\n",
              "      <td>...</td>\n",
              "      <td>...</td>\n",
              "      <td>...</td>\n",
              "      <td>...</td>\n",
              "      <td>...</td>\n",
              "      <td>...</td>\n",
              "      <td>...</td>\n",
              "      <td>...</td>\n",
              "      <td>...</td>\n",
              "      <td>...</td>\n",
              "      <td>...</td>\n",
              "      <td>...</td>\n",
              "      <td>...</td>\n",
              "      <td>...</td>\n",
              "      <td>...</td>\n",
              "      <td>...</td>\n",
              "      <td>...</td>\n",
              "      <td>...</td>\n",
              "      <td>...</td>\n",
              "      <td>...</td>\n",
              "      <td>...</td>\n",
              "      <td>...</td>\n",
              "      <td>...</td>\n",
              "      <td>...</td>\n",
              "      <td>...</td>\n",
              "      <td>...</td>\n",
              "      <td>...</td>\n",
              "      <td>...</td>\n",
              "      <td>...</td>\n",
              "      <td>...</td>\n",
              "      <td>...</td>\n",
              "      <td>...</td>\n",
              "      <td>...</td>\n",
              "      <td>...</td>\n",
              "      <td>...</td>\n",
              "      <td>...</td>\n",
              "      <td>...</td>\n",
              "      <td>...</td>\n",
              "      <td>...</td>\n",
              "      <td>...</td>\n",
              "      <td>...</td>\n",
              "      <td>...</td>\n",
              "      <td>...</td>\n",
              "      <td>...</td>\n",
              "      <td>...</td>\n",
              "      <td>...</td>\n",
              "      <td>...</td>\n",
              "      <td>...</td>\n",
              "      <td>...</td>\n",
              "      <td>...</td>\n",
              "      <td>...</td>\n",
              "      <td>...</td>\n",
              "      <td>...</td>\n",
              "      <td>...</td>\n",
              "      <td>...</td>\n",
              "      <td>...</td>\n",
              "      <td>...</td>\n",
              "      <td>...</td>\n",
              "      <td>...</td>\n",
              "      <td>...</td>\n",
              "      <td>...</td>\n",
              "      <td>...</td>\n",
              "      <td>...</td>\n",
              "      <td>...</td>\n",
              "      <td>...</td>\n",
              "      <td>...</td>\n",
              "      <td>...</td>\n",
              "      <td>...</td>\n",
              "      <td>...</td>\n",
              "      <td>...</td>\n",
              "      <td>...</td>\n",
              "      <td>...</td>\n",
              "      <td>...</td>\n",
              "      <td>...</td>\n",
              "      <td>...</td>\n",
              "    </tr>\n",
              "    <tr>\n",
              "      <th>18745</th>\n",
              "      <td>0</td>\n",
              "      <td>0</td>\n",
              "      <td>0</td>\n",
              "      <td>0</td>\n",
              "      <td>0</td>\n",
              "      <td>0</td>\n",
              "      <td>0</td>\n",
              "      <td>0</td>\n",
              "      <td>0</td>\n",
              "      <td>0</td>\n",
              "      <td>0</td>\n",
              "      <td>0</td>\n",
              "      <td>0</td>\n",
              "      <td>0</td>\n",
              "      <td>0</td>\n",
              "      <td>0</td>\n",
              "      <td>0</td>\n",
              "      <td>0</td>\n",
              "      <td>0</td>\n",
              "      <td>0</td>\n",
              "      <td>0</td>\n",
              "      <td>0</td>\n",
              "      <td>0</td>\n",
              "      <td>0</td>\n",
              "      <td>0</td>\n",
              "      <td>0</td>\n",
              "      <td>0</td>\n",
              "      <td>0</td>\n",
              "      <td>0</td>\n",
              "      <td>0</td>\n",
              "      <td>0</td>\n",
              "      <td>0</td>\n",
              "      <td>0</td>\n",
              "      <td>0</td>\n",
              "      <td>0</td>\n",
              "      <td>0</td>\n",
              "      <td>0</td>\n",
              "      <td>1</td>\n",
              "      <td>0</td>\n",
              "      <td>0</td>\n",
              "      <td>0</td>\n",
              "      <td>0</td>\n",
              "      <td>0</td>\n",
              "      <td>0</td>\n",
              "      <td>0</td>\n",
              "      <td>0</td>\n",
              "      <td>0</td>\n",
              "      <td>0</td>\n",
              "      <td>0</td>\n",
              "      <td>0</td>\n",
              "      <td>0</td>\n",
              "      <td>0</td>\n",
              "      <td>0</td>\n",
              "      <td>0</td>\n",
              "      <td>0</td>\n",
              "      <td>0</td>\n",
              "      <td>0</td>\n",
              "      <td>0</td>\n",
              "      <td>0</td>\n",
              "      <td>0</td>\n",
              "      <td>0</td>\n",
              "      <td>0</td>\n",
              "      <td>0</td>\n",
              "      <td>0</td>\n",
              "      <td>0</td>\n",
              "      <td>0</td>\n",
              "      <td>0</td>\n",
              "      <td>0</td>\n",
              "      <td>0</td>\n",
              "      <td>0</td>\n",
              "      <td>0</td>\n",
              "      <td>0</td>\n",
              "      <td>0</td>\n",
              "      <td>0</td>\n",
              "      <td>0</td>\n",
              "      <td>1</td>\n",
              "      <td>1</td>\n",
              "    </tr>\n",
              "    <tr>\n",
              "      <th>18746</th>\n",
              "      <td>0</td>\n",
              "      <td>0</td>\n",
              "      <td>0</td>\n",
              "      <td>0</td>\n",
              "      <td>0</td>\n",
              "      <td>0</td>\n",
              "      <td>0</td>\n",
              "      <td>0</td>\n",
              "      <td>0</td>\n",
              "      <td>0</td>\n",
              "      <td>0</td>\n",
              "      <td>0</td>\n",
              "      <td>0</td>\n",
              "      <td>0</td>\n",
              "      <td>0</td>\n",
              "      <td>0</td>\n",
              "      <td>0</td>\n",
              "      <td>0</td>\n",
              "      <td>0</td>\n",
              "      <td>0</td>\n",
              "      <td>0</td>\n",
              "      <td>0</td>\n",
              "      <td>0</td>\n",
              "      <td>0</td>\n",
              "      <td>0</td>\n",
              "      <td>0</td>\n",
              "      <td>0</td>\n",
              "      <td>0</td>\n",
              "      <td>0</td>\n",
              "      <td>0</td>\n",
              "      <td>0</td>\n",
              "      <td>1</td>\n",
              "      <td>0</td>\n",
              "      <td>0</td>\n",
              "      <td>0</td>\n",
              "      <td>0</td>\n",
              "      <td>0</td>\n",
              "      <td>0</td>\n",
              "      <td>0</td>\n",
              "      <td>0</td>\n",
              "      <td>0</td>\n",
              "      <td>0</td>\n",
              "      <td>0</td>\n",
              "      <td>0</td>\n",
              "      <td>0</td>\n",
              "      <td>1</td>\n",
              "      <td>0</td>\n",
              "      <td>0</td>\n",
              "      <td>0</td>\n",
              "      <td>0</td>\n",
              "      <td>0</td>\n",
              "      <td>0</td>\n",
              "      <td>0</td>\n",
              "      <td>0</td>\n",
              "      <td>0</td>\n",
              "      <td>0</td>\n",
              "      <td>0</td>\n",
              "      <td>0</td>\n",
              "      <td>0</td>\n",
              "      <td>0</td>\n",
              "      <td>0</td>\n",
              "      <td>0</td>\n",
              "      <td>0</td>\n",
              "      <td>0</td>\n",
              "      <td>0</td>\n",
              "      <td>0</td>\n",
              "      <td>0</td>\n",
              "      <td>0</td>\n",
              "      <td>0</td>\n",
              "      <td>0</td>\n",
              "      <td>0</td>\n",
              "      <td>0</td>\n",
              "      <td>0</td>\n",
              "      <td>0</td>\n",
              "      <td>0</td>\n",
              "      <td>0</td>\n",
              "      <td>1</td>\n",
              "    </tr>\n",
              "    <tr>\n",
              "      <th>18747</th>\n",
              "      <td>0</td>\n",
              "      <td>0</td>\n",
              "      <td>0</td>\n",
              "      <td>0</td>\n",
              "      <td>0</td>\n",
              "      <td>0</td>\n",
              "      <td>0</td>\n",
              "      <td>0</td>\n",
              "      <td>0</td>\n",
              "      <td>0</td>\n",
              "      <td>0</td>\n",
              "      <td>0</td>\n",
              "      <td>0</td>\n",
              "      <td>0</td>\n",
              "      <td>0</td>\n",
              "      <td>0</td>\n",
              "      <td>0</td>\n",
              "      <td>0</td>\n",
              "      <td>0</td>\n",
              "      <td>0</td>\n",
              "      <td>0</td>\n",
              "      <td>0</td>\n",
              "      <td>0</td>\n",
              "      <td>0</td>\n",
              "      <td>0</td>\n",
              "      <td>0</td>\n",
              "      <td>0</td>\n",
              "      <td>0</td>\n",
              "      <td>0</td>\n",
              "      <td>0</td>\n",
              "      <td>0</td>\n",
              "      <td>0</td>\n",
              "      <td>0</td>\n",
              "      <td>0</td>\n",
              "      <td>0</td>\n",
              "      <td>0</td>\n",
              "      <td>0</td>\n",
              "      <td>0</td>\n",
              "      <td>0</td>\n",
              "      <td>0</td>\n",
              "      <td>0</td>\n",
              "      <td>0</td>\n",
              "      <td>0</td>\n",
              "      <td>0</td>\n",
              "      <td>0</td>\n",
              "      <td>0</td>\n",
              "      <td>0</td>\n",
              "      <td>0</td>\n",
              "      <td>0</td>\n",
              "      <td>0</td>\n",
              "      <td>0</td>\n",
              "      <td>0</td>\n",
              "      <td>0</td>\n",
              "      <td>0</td>\n",
              "      <td>0</td>\n",
              "      <td>0</td>\n",
              "      <td>0</td>\n",
              "      <td>0</td>\n",
              "      <td>0</td>\n",
              "      <td>0</td>\n",
              "      <td>0</td>\n",
              "      <td>0</td>\n",
              "      <td>0</td>\n",
              "      <td>0</td>\n",
              "      <td>0</td>\n",
              "      <td>0</td>\n",
              "      <td>0</td>\n",
              "      <td>0</td>\n",
              "      <td>0</td>\n",
              "      <td>1</td>\n",
              "      <td>0</td>\n",
              "      <td>0</td>\n",
              "      <td>0</td>\n",
              "      <td>0</td>\n",
              "      <td>0</td>\n",
              "      <td>1</td>\n",
              "      <td>1</td>\n",
              "    </tr>\n",
              "    <tr>\n",
              "      <th>18748</th>\n",
              "      <td>0</td>\n",
              "      <td>0</td>\n",
              "      <td>0</td>\n",
              "      <td>0</td>\n",
              "      <td>0</td>\n",
              "      <td>0</td>\n",
              "      <td>0</td>\n",
              "      <td>0</td>\n",
              "      <td>0</td>\n",
              "      <td>0</td>\n",
              "      <td>0</td>\n",
              "      <td>0</td>\n",
              "      <td>0</td>\n",
              "      <td>0</td>\n",
              "      <td>0</td>\n",
              "      <td>0</td>\n",
              "      <td>0</td>\n",
              "      <td>0</td>\n",
              "      <td>0</td>\n",
              "      <td>0</td>\n",
              "      <td>0</td>\n",
              "      <td>0</td>\n",
              "      <td>0</td>\n",
              "      <td>0</td>\n",
              "      <td>0</td>\n",
              "      <td>0</td>\n",
              "      <td>0</td>\n",
              "      <td>0</td>\n",
              "      <td>0</td>\n",
              "      <td>0</td>\n",
              "      <td>0</td>\n",
              "      <td>1</td>\n",
              "      <td>0</td>\n",
              "      <td>0</td>\n",
              "      <td>0</td>\n",
              "      <td>0</td>\n",
              "      <td>0</td>\n",
              "      <td>0</td>\n",
              "      <td>0</td>\n",
              "      <td>0</td>\n",
              "      <td>0</td>\n",
              "      <td>0</td>\n",
              "      <td>0</td>\n",
              "      <td>0</td>\n",
              "      <td>0</td>\n",
              "      <td>1</td>\n",
              "      <td>0</td>\n",
              "      <td>0</td>\n",
              "      <td>0</td>\n",
              "      <td>0</td>\n",
              "      <td>0</td>\n",
              "      <td>0</td>\n",
              "      <td>0</td>\n",
              "      <td>0</td>\n",
              "      <td>0</td>\n",
              "      <td>0</td>\n",
              "      <td>0</td>\n",
              "      <td>0</td>\n",
              "      <td>0</td>\n",
              "      <td>0</td>\n",
              "      <td>0</td>\n",
              "      <td>0</td>\n",
              "      <td>0</td>\n",
              "      <td>0</td>\n",
              "      <td>0</td>\n",
              "      <td>0</td>\n",
              "      <td>0</td>\n",
              "      <td>0</td>\n",
              "      <td>0</td>\n",
              "      <td>0</td>\n",
              "      <td>0</td>\n",
              "      <td>0</td>\n",
              "      <td>0</td>\n",
              "      <td>0</td>\n",
              "      <td>0</td>\n",
              "      <td>0</td>\n",
              "      <td>1</td>\n",
              "    </tr>\n",
              "    <tr>\n",
              "      <th>18749</th>\n",
              "      <td>0</td>\n",
              "      <td>0</td>\n",
              "      <td>0</td>\n",
              "      <td>0</td>\n",
              "      <td>0</td>\n",
              "      <td>0</td>\n",
              "      <td>0</td>\n",
              "      <td>0</td>\n",
              "      <td>0</td>\n",
              "      <td>0</td>\n",
              "      <td>0</td>\n",
              "      <td>0</td>\n",
              "      <td>0</td>\n",
              "      <td>0</td>\n",
              "      <td>0</td>\n",
              "      <td>0</td>\n",
              "      <td>0</td>\n",
              "      <td>0</td>\n",
              "      <td>0</td>\n",
              "      <td>0</td>\n",
              "      <td>0</td>\n",
              "      <td>0</td>\n",
              "      <td>0</td>\n",
              "      <td>0</td>\n",
              "      <td>0</td>\n",
              "      <td>0</td>\n",
              "      <td>0</td>\n",
              "      <td>0</td>\n",
              "      <td>0</td>\n",
              "      <td>0</td>\n",
              "      <td>0</td>\n",
              "      <td>0</td>\n",
              "      <td>0</td>\n",
              "      <td>0</td>\n",
              "      <td>0</td>\n",
              "      <td>0</td>\n",
              "      <td>0</td>\n",
              "      <td>0</td>\n",
              "      <td>0</td>\n",
              "      <td>0</td>\n",
              "      <td>0</td>\n",
              "      <td>0</td>\n",
              "      <td>0</td>\n",
              "      <td>0</td>\n",
              "      <td>0</td>\n",
              "      <td>0</td>\n",
              "      <td>1</td>\n",
              "      <td>0</td>\n",
              "      <td>0</td>\n",
              "      <td>0</td>\n",
              "      <td>0</td>\n",
              "      <td>0</td>\n",
              "      <td>0</td>\n",
              "      <td>0</td>\n",
              "      <td>0</td>\n",
              "      <td>0</td>\n",
              "      <td>0</td>\n",
              "      <td>0</td>\n",
              "      <td>0</td>\n",
              "      <td>0</td>\n",
              "      <td>0</td>\n",
              "      <td>0</td>\n",
              "      <td>0</td>\n",
              "      <td>0</td>\n",
              "      <td>0</td>\n",
              "      <td>0</td>\n",
              "      <td>0</td>\n",
              "      <td>1</td>\n",
              "      <td>0</td>\n",
              "      <td>0</td>\n",
              "      <td>0</td>\n",
              "      <td>0</td>\n",
              "      <td>0</td>\n",
              "      <td>0</td>\n",
              "      <td>0</td>\n",
              "      <td>0</td>\n",
              "      <td>1</td>\n",
              "    </tr>\n",
              "  </tbody>\n",
              "</table>\n",
              "<p>18750 rows × 77 columns</p>\n",
              "</div>"
            ],
            "text/plain": [
              "       13  14  15  16  17  ...  Transportation  Virgo  female  indUnk  male\n",
              "0       0   0   0   0   0  ...               0      0       0       0     1\n",
              "1       0   0   0   0   0  ...               0      0       1       0     0\n",
              "2       0   0   0   0   0  ...               0      0       0       0     1\n",
              "3       0   0   0   0   0  ...               0      0       0       1     1\n",
              "4       0   0   0   0   0  ...               0      0       1       1     0\n",
              "...    ..  ..  ..  ..  ..  ...             ...    ...     ...     ...   ...\n",
              "18745   0   0   0   0   0  ...               0      0       0       1     1\n",
              "18746   0   0   0   0   0  ...               0      0       0       0     1\n",
              "18747   0   0   0   0   0  ...               0      0       0       1     1\n",
              "18748   0   0   0   0   0  ...               0      0       0       0     1\n",
              "18749   0   0   0   0   0  ...               0      0       0       0     1\n",
              "\n",
              "[18750 rows x 77 columns]"
            ]
          },
          "metadata": {
            "tags": []
          },
          "execution_count": 38
        }
      ]
    },
    {
      "cell_type": "code",
      "metadata": {
        "id": "WFoQwKQRGdd4"
      },
      "source": [
        "y_train_mlb = mlb.transform(y_train)\n",
        "y_test_mlb = mlb.transform(y_test)\n",
        "# transforming the labels in a binary form"
      ],
      "execution_count": null,
      "outputs": []
    },
    {
      "cell_type": "code",
      "metadata": {
        "colab": {
          "base_uri": "https://localhost:8080/"
        },
        "id": "4XdRwrowHJum",
        "outputId": "983dec89-2e0b-4958-c473-552a9062b503"
      },
      "source": [
        "y_train_mlb[99]\n",
        "# transformed y_train"
      ],
      "execution_count": null,
      "outputs": [
        {
          "output_type": "execute_result",
          "data": {
            "text/plain": [
              "array([0, 0, 0, 0, 0, 0, 0, 0, 0, 0, 0, 0, 0, 0, 0, 0, 0, 0, 0, 0, 0, 0,\n",
              "       0, 0, 0, 0, 0, 0, 0, 1, 0, 0, 0, 0, 0, 0, 0, 0, 0, 0, 0, 0, 0, 0,\n",
              "       0, 0, 0, 0, 0, 1, 0, 0, 0, 0, 0, 0, 0, 0, 0, 0, 0, 0, 0, 0, 0, 0,\n",
              "       0, 0, 0, 0, 0, 0, 0, 0, 0, 0, 1])"
            ]
          },
          "metadata": {
            "tags": []
          },
          "execution_count": 40
        }
      ]
    },
    {
      "cell_type": "code",
      "metadata": {
        "colab": {
          "base_uri": "https://localhost:8080/"
        },
        "id": "vUW6c0jmHOBl",
        "outputId": "f886b6ac-2f13-4e35-af1b-744897bcaf58"
      },
      "source": [
        "y_test_mlb[99]\n",
        "# transformed y_test"
      ],
      "execution_count": null,
      "outputs": [
        {
          "output_type": "execute_result",
          "data": {
            "text/plain": [
              "array([0, 0, 0, 0, 0, 0, 0, 0, 0, 0, 0, 0, 0, 0, 0, 0, 0, 0, 0, 0, 0, 0,\n",
              "       0, 0, 0, 0, 0, 0, 0, 0, 0, 0, 0, 0, 0, 0, 0, 0, 0, 0, 0, 0, 0, 0,\n",
              "       0, 0, 0, 0, 0, 0, 0, 0, 0, 0, 0, 0, 0, 0, 0, 0, 1, 0, 0, 0, 0, 0,\n",
              "       0, 0, 1, 0, 0, 0, 0, 0, 0, 0, 1])"
            ]
          },
          "metadata": {
            "tags": []
          },
          "execution_count": 41
        }
      ]
    },
    {
      "cell_type": "code",
      "metadata": {
        "colab": {
          "base_uri": "https://localhost:8080/"
        },
        "id": "9plDJRQ0HUiB",
        "outputId": "7393d6bf-c038-4d8f-e7d6-8747ed644cda"
      },
      "source": [
        "y_train.iloc[99]"
      ],
      "execution_count": null,
      "outputs": [
        {
          "output_type": "execute_result",
          "data": {
            "text/plain": [
              "['male', 23, 'Internet', 'Aquarius']"
            ]
          },
          "metadata": {
            "tags": []
          },
          "execution_count": 42
        }
      ]
    },
    {
      "cell_type": "code",
      "metadata": {
        "colab": {
          "base_uri": "https://localhost:8080/"
        },
        "id": "0Z_biECpHayS",
        "outputId": "18339e38-b6ac-41fa-f839-593411a50440"
      },
      "source": [
        "# verifying if MLB conversion went fine\n",
        "mlb.inverse_transform(y_train_mlb)[99]"
      ],
      "execution_count": null,
      "outputs": [
        {
          "output_type": "execute_result",
          "data": {
            "text/plain": [
              "('Aquarius', 'Internet', 'male')"
            ]
          },
          "metadata": {
            "tags": []
          },
          "execution_count": 43
        }
      ]
    },
    {
      "cell_type": "markdown",
      "metadata": {
        "id": "Q9bB5SqbPb5b"
      },
      "source": [
        "## Classification"
      ]
    },
    {
      "cell_type": "code",
      "metadata": {
        "colab": {
          "base_uri": "https://localhost:8080/"
        },
        "id": "1mJfBjHlPcme",
        "outputId": "a4619cfc-1197-4ef2-bfaf-6f6bc24e337f"
      },
      "source": [
        "from sklearn.multiclass import OneVsRestClassifier\n",
        "from sklearn.linear_model import LogisticRegression\n",
        "from sklearn.pipeline import Pipeline\n",
        "\n",
        "# Using pipeline for applying logistic regression and one vs rest classifier\n",
        "LogReg_pipeline = Pipeline([('clf', \n",
        "                             OneVsRestClassifier(LogisticRegression(solver='sag'),\n",
        "                                                 n_jobs=-1)),])\n",
        "LogReg_pipeline.fit(X_train_dtm, y_train_mlb)"
      ],
      "execution_count": null,
      "outputs": [
        {
          "output_type": "execute_result",
          "data": {
            "text/plain": [
              "Pipeline(memory=None,\n",
              "         steps=[('clf',\n",
              "                 OneVsRestClassifier(estimator=LogisticRegression(C=1.0,\n",
              "                                                                  class_weight=None,\n",
              "                                                                  dual=False,\n",
              "                                                                  fit_intercept=True,\n",
              "                                                                  intercept_scaling=1,\n",
              "                                                                  l1_ratio=None,\n",
              "                                                                  max_iter=100,\n",
              "                                                                  multi_class='auto',\n",
              "                                                                  n_jobs=None,\n",
              "                                                                  penalty='l2',\n",
              "                                                                  random_state=None,\n",
              "                                                                  solver='sag',\n",
              "                                                                  tol=0.0001,\n",
              "                                                                  verbose=0,\n",
              "                                                                  warm_start=False),\n",
              "                                     n_jobs=-1))],\n",
              "         verbose=False)"
            ]
          },
          "metadata": {
            "tags": []
          },
          "execution_count": 44
        }
      ]
    },
    {
      "cell_type": "code",
      "metadata": {
        "colab": {
          "base_uri": "https://localhost:8080/"
        },
        "id": "PQYq6hrDWJkd",
        "outputId": "a835f4b2-4b05-43ed-865e-848f81ed5758"
      },
      "source": [
        "y_train_pred = LogReg_pipeline.predict(X_train_dtm)\n",
        "y_train_pred"
      ],
      "execution_count": null,
      "outputs": [
        {
          "output_type": "execute_result",
          "data": {
            "text/plain": [
              "array([[0, 0, 0, ..., 0, 0, 0],\n",
              "       [0, 0, 0, ..., 0, 0, 0],\n",
              "       [0, 0, 0, ..., 0, 0, 0],\n",
              "       ...,\n",
              "       [0, 0, 0, ..., 0, 0, 0],\n",
              "       [0, 0, 0, ..., 0, 0, 0],\n",
              "       [0, 0, 0, ..., 0, 0, 0]])"
            ]
          },
          "metadata": {
            "tags": []
          },
          "execution_count": 45
        }
      ]
    },
    {
      "cell_type": "code",
      "metadata": {
        "colab": {
          "base_uri": "https://localhost:8080/"
        },
        "id": "PNWMfSm_U7AK",
        "outputId": "3d440b8c-46d9-4ef5-a0e9-197a455b2ad7"
      },
      "source": [
        "y_test_pred = LogReg_pipeline.predict(X_test_dtm)\n",
        "y_test_pred"
      ],
      "execution_count": null,
      "outputs": [
        {
          "output_type": "execute_result",
          "data": {
            "text/plain": [
              "array([[0, 0, 0, ..., 0, 0, 0],\n",
              "       [0, 0, 0, ..., 0, 0, 0],\n",
              "       [0, 0, 0, ..., 0, 0, 0],\n",
              "       ...,\n",
              "       [0, 0, 0, ..., 0, 0, 0],\n",
              "       [0, 0, 0, ..., 0, 0, 0],\n",
              "       [0, 0, 0, ..., 0, 0, 0]])"
            ]
          },
          "metadata": {
            "tags": []
          },
          "execution_count": 46
        }
      ]
    },
    {
      "cell_type": "markdown",
      "metadata": {
        "id": "ZMpuQPQaVpZi"
      },
      "source": [
        "## Accuracy and Classification Report"
      ]
    },
    {
      "cell_type": "code",
      "metadata": {
        "id": "YUJTIiWCW62z"
      },
      "source": [
        "from sklearn import metrics\n",
        "from sklearn.metrics import accuracy_score, f1_score, average_precision_score, recall_score"
      ],
      "execution_count": null,
      "outputs": []
    },
    {
      "cell_type": "code",
      "metadata": {
        "id": "9TA_WmBiWdrT"
      },
      "source": [
        "def print_scores(actual, predicted, averaging_type):\n",
        "    print('\\nAVERAGING TYPE==> ',averaging_type)\n",
        "    print('F1 score: ',f1_score(actual,predicted, average=averaging_type))\n",
        "    print('Average Precision Score: ',average_precision_score(actual,predicted, average=averaging_type))\n",
        "    print('Average Recall Score: ',recall_score(actual,predicted, average=averaging_type))"
      ],
      "execution_count": null,
      "outputs": []
    },
    {
      "cell_type": "code",
      "metadata": {
        "colab": {
          "base_uri": "https://localhost:8080/"
        },
        "id": "Ugn4_fcgVodV",
        "outputId": "15dd1543-452a-4e4e-9092-9b77628e78d1"
      },
      "source": [
        "print('--------------------------TRAIN SCORES--------------------------------')\n",
        "print('Accuracy score: ',accuracy_score(y_train_mlb, y_train_pred))\n",
        "print_scores(y_train_mlb, y_train_pred, 'micro')\n",
        "print_scores(y_train_mlb, y_train_pred, 'macro')\n",
        "print_scores(y_train_mlb, y_train_pred, 'weighted')"
      ],
      "execution_count": null,
      "outputs": [
        {
          "output_type": "stream",
          "text": [
            "--------------------------TRAIN SCORES--------------------------------\n",
            "Accuracy score:  5.333333333333333e-05\n",
            "\n",
            "AVERAGING TYPE==>  micro\n",
            "F1 score:  0.037002422983731395\n",
            "Average Precision Score:  0.05149887476067868\n",
            "Average Recall Score:  0.019004444444444445\n",
            "\n",
            "AVERAGING TYPE==>  macro\n",
            "F1 score:  0.00284365044200865\n",
            "Average Precision Score:  nan\n",
            "Average Recall Score:  0.0015787888658166925\n",
            "\n",
            "AVERAGING TYPE==>  weighted\n",
            "F1 score:  0.03428941685208409\n",
            "Average Precision Score:  0.28467794887335407\n",
            "Average Recall Score:  0.019004444444444445\n"
          ],
          "name": "stdout"
        }
      ]
    },
    {
      "cell_type": "code",
      "metadata": {
        "colab": {
          "base_uri": "https://localhost:8080/"
        },
        "id": "5ws6raWbVHye",
        "outputId": "0996d27e-5e32-45cb-b990-0c4d76c6cfdf"
      },
      "source": [
        "print('--------------------------TEST SCORES--------------------------------')\n",
        "print('Accuracy score: ',accuracy_score(y_test_mlb, y_test_pred))\n",
        "print_scores(y_test_mlb, y_test_pred, 'micro')\n",
        "print_scores(y_test_mlb, y_test_pred, 'macro')\n",
        "print_scores(y_test_mlb, y_test_pred, 'weighted')"
      ],
      "execution_count": null,
      "outputs": [
        {
          "output_type": "stream",
          "text": [
            "--------------------------TEST SCORES--------------------------------\n",
            "Accuracy score:  0.0\n",
            "\n",
            "AVERAGING TYPE==>  micro\n",
            "F1 score:  0.03603884301812328\n",
            "Average Precision Score:  0.05090629848783695\n",
            "Average Recall Score:  0.018506666666666668\n",
            "\n",
            "AVERAGING TYPE==>  macro\n",
            "F1 score:  0.002751152479333052\n",
            "Average Precision Score:  nan\n",
            "Average Recall Score:  0.0015267744335050848\n",
            "\n",
            "AVERAGING TYPE==>  weighted\n",
            "F1 score:  0.03341944607144317\n",
            "Average Precision Score:  0.28467980764201245\n",
            "Average Recall Score:  0.018506666666666668\n"
          ],
          "name": "stdout"
        }
      ]
    },
    {
      "cell_type": "code",
      "metadata": {
        "colab": {
          "base_uri": "https://localhost:8080/"
        },
        "id": "QxQ7WEw-XKtC",
        "outputId": "7aa0fc60-2a06-4531-82c7-0cf7bac0f175"
      },
      "source": [
        "from sklearn.metrics import classification_report\n",
        "print(classification_report(y_test_mlb,y_test_pred))"
      ],
      "execution_count": null,
      "outputs": [
        {
          "output_type": "stream",
          "text": [
            "              precision    recall  f1-score   support\n",
            "\n",
            "           0       0.00      0.00      0.00         0\n",
            "           1       0.00      0.00      0.00         0\n",
            "           2       0.00      0.00      0.00         0\n",
            "           3       0.00      0.00      0.00         0\n",
            "           4       0.00      0.00      0.00         0\n",
            "           5       0.00      0.00      0.00         0\n",
            "           6       0.00      0.00      0.00         0\n",
            "           7       0.00      0.00      0.00         0\n",
            "           8       0.00      0.00      0.00         0\n",
            "           9       0.00      0.00      0.00         0\n",
            "          10       0.00      0.00      0.00         0\n",
            "          11       0.00      0.00      0.00         0\n",
            "          12       0.00      0.00      0.00         0\n",
            "          13       0.00      0.00      0.00         0\n",
            "          14       0.00      0.00      0.00         0\n",
            "          15       0.00      0.00      0.00         0\n",
            "          16       0.00      0.00      0.00         0\n",
            "          17       0.00      0.00      0.00         0\n",
            "          18       0.00      0.00      0.00         0\n",
            "          19       0.00      0.00      0.00         0\n",
            "          20       0.00      0.00      0.00         0\n",
            "          21       0.00      0.00      0.00         0\n",
            "          22       0.00      0.00      0.00         0\n",
            "          23       0.00      0.00      0.00         0\n",
            "          24       0.00      0.00      0.00         0\n",
            "          25       0.00      0.00      0.00         0\n",
            "          26       0.00      0.00      0.00        15\n",
            "          27       0.00      0.00      0.00        14\n",
            "          28       0.00      0.00      0.00         6\n",
            "          29       0.00      0.00      0.00       570\n",
            "          30       0.00      0.00      0.00        12\n",
            "          31       0.00      0.00      0.00      1588\n",
            "          32       0.00      0.00      0.00       151\n",
            "          33       0.00      0.00      0.00        30\n",
            "          34       0.00      0.00      0.00        27\n",
            "          35       0.00      0.00      0.00         7\n",
            "          36       0.00      0.00      0.00        45\n",
            "          37       0.00      0.00      0.00       543\n",
            "          38       0.00      0.00      0.00       275\n",
            "          39       0.00      0.00      0.00         0\n",
            "          40       0.00      0.00      0.00       114\n",
            "          41       0.00      0.00      0.00         4\n",
            "          42       0.00      0.00      0.00        51\n",
            "          43       0.00      0.00      0.00       262\n",
            "          44       0.00      0.00      0.00       168\n",
            "          45       0.00      0.00      0.00       394\n",
            "          46       0.00      0.00      0.00       235\n",
            "          47       0.00      0.00      0.00        45\n",
            "          48       0.00      0.00      0.00         5\n",
            "          49       0.00      0.00      0.00       243\n",
            "          50       0.00      0.00      0.00        20\n",
            "          51       0.00      0.00      0.00        11\n",
            "          52       0.00      0.00      0.00        25\n",
            "          53       0.00      0.00      0.00       477\n",
            "          54       0.00      0.00      0.00       322\n",
            "          55       0.00      0.00      0.00        21\n",
            "          56       0.00      0.00      0.00        91\n",
            "          57       0.00      0.00      0.00         5\n",
            "          58       0.00      0.00      0.00        17\n",
            "          59       0.00      0.00      0.00        42\n",
            "          60       0.00      0.00      0.00       495\n",
            "          61       0.00      0.00      0.00        12\n",
            "          62       0.00      0.00      0.00         4\n",
            "          63       0.00      0.00      0.00        35\n",
            "          64       0.00      0.00      0.00       550\n",
            "          65       0.00      0.00      0.00        25\n",
            "          66       0.00      0.00      0.00       537\n",
            "          67       0.00      0.00      0.00        38\n",
            "          68       0.00      0.00      0.00       875\n",
            "          69       0.00      0.00      0.00       391\n",
            "          70       0.00      0.00      0.00       827\n",
            "          71       0.00      0.00      0.00         2\n",
            "          72       0.00      0.00      0.00         8\n",
            "          73       0.00      0.00      0.00       267\n",
            "          74       0.68      0.09      0.16      2867\n",
            "          75       0.56      0.00      0.01      2599\n",
            "          76       0.71      0.02      0.04      3383\n",
            "\n",
            "   micro avg       0.68      0.02      0.04     18750\n",
            "   macro avg       0.03      0.00      0.00     18750\n",
            "weighted avg       0.31      0.02      0.03     18750\n",
            " samples avg       0.05      0.02      0.03     18750\n",
            "\n"
          ],
          "name": "stdout"
        }
      ]
    },
    {
      "cell_type": "markdown",
      "metadata": {
        "id": "hBphlbmuXqXS"
      },
      "source": [
        "We can see clearly that the accuracy is good enough for few words / labels and we see zero accuracy for few labels which means we did not have any test data with those predicted labels. Also, we have trained this model on a subset of the whole data since Google COlab crashes if we consider the whole data - it is intuitive that the model would perform better when trained in on the whole data."
      ]
    },
    {
      "cell_type": "markdown",
      "metadata": {
        "id": "SIF8OpwWecvJ"
      },
      "source": [
        "## Actual & Predicted Labels of 5 examples"
      ]
    },
    {
      "cell_type": "code",
      "metadata": {
        "id": "qbRoc_eaeb17"
      },
      "source": [
        "five_actual = y_test_mlb[:5]\n",
        "five_pred = y_test_pred[:5]"
      ],
      "execution_count": null,
      "outputs": []
    },
    {
      "cell_type": "code",
      "metadata": {
        "colab": {
          "base_uri": "https://localhost:8080/"
        },
        "id": "BG-Pk4MOfCR9",
        "outputId": "0a655be5-c807-4904-a858-b088f746ca62"
      },
      "source": [
        "five_actual = mlb.inverse_transform(five_actual)\n",
        "five_actual"
      ],
      "execution_count": null,
      "outputs": [
        {
          "output_type": "execute_result",
          "data": {
            "text/plain": [
              "[('Libra', 'female', 'indUnk'),\n",
              " ('Aries', 'female', 'indUnk'),\n",
              " ('Internet', 'Virgo', 'female'),\n",
              " ('Aries', 'Fashion', 'male'),\n",
              " ('Sagittarius', 'indUnk', 'male')]"
            ]
          },
          "metadata": {
            "tags": []
          },
          "execution_count": 53
        }
      ]
    },
    {
      "cell_type": "code",
      "metadata": {
        "colab": {
          "base_uri": "https://localhost:8080/"
        },
        "id": "AtlFjCvdfCOh",
        "outputId": "2bff5c5e-5fe7-4a5e-df5d-376e006b62c6"
      },
      "source": [
        "five_pred = mlb.inverse_transform(five_pred)\n",
        "five_pred"
      ],
      "execution_count": null,
      "outputs": [
        {
          "output_type": "execute_result",
          "data": {
            "text/plain": [
              "[(), (), (), (), ()]"
            ]
          },
          "metadata": {
            "tags": []
          },
          "execution_count": 54
        }
      ]
    },
    {
      "cell_type": "markdown",
      "metadata": {
        "id": "rbfuurxpZHNK"
      },
      "source": [
        "# Part Two - Customer Support Chatbot"
      ]
    },
    {
      "cell_type": "markdown",
      "metadata": {
        "id": "WiiYVurLZsur"
      },
      "source": [
        "## Imports"
      ]
    },
    {
      "cell_type": "code",
      "metadata": {
        "id": "vyhcfACeXar8"
      },
      "source": [
        "import nltk\n",
        "nltk.download('popular',quiet=True)\n",
        "nltk.download('punkt',quiet=True)\n",
        "nltk.download('wordnet',quiet=True)\n",
        "from nltk.corpus import wordnet"
      ],
      "execution_count": 1,
      "outputs": []
    },
    {
      "cell_type": "code",
      "metadata": {
        "id": "PB0J7p2-xcwk"
      },
      "source": [
        "import pandas as pd\n",
        "pd.options.mode.chained_assignment = None\n",
        "import numpy as np\n",
        "import re\n",
        "import nltk\n",
        "import spacy\n",
        "import string\n",
        "import seaborn as sns\n",
        "from nltk.stem.snowball import SnowballStemmer\n",
        "\n",
        "import re\n",
        "\n",
        "from sklearn.feature_extraction.text import TfidfVectorizer\n",
        "from sklearn.metrics.pairwise import cosine_similarity"
      ],
      "execution_count": 2,
      "outputs": []
    },
    {
      "cell_type": "markdown",
      "metadata": {
        "id": "vnRS-GLTcyvk"
      },
      "source": [
        "## Loading the corpus data"
      ]
    },
    {
      "cell_type": "code",
      "metadata": {
        "colab": {
          "base_uri": "https://localhost:8080/"
        },
        "id": "e_nKWOY3wuKm",
        "outputId": "a60ac2c6-3b30-4961-8750-16a2075d6c09"
      },
      "source": [
        "from google.colab import drive\n",
        "drive.mount('/content/drive',force_remount=True)"
      ],
      "execution_count": 3,
      "outputs": [
        {
          "output_type": "stream",
          "text": [
            "Mounted at /content/drive\n"
          ],
          "name": "stdout"
        }
      ]
    },
    {
      "cell_type": "code",
      "metadata": {
        "id": "iyGqZlfmaB8x"
      },
      "source": [
        "corpus_path = '/content/drive/MyDrive/4. Statistical NLP/Project NLP/Stats NLP Project - Dataset /GL Bot.json'"
      ],
      "execution_count": 4,
      "outputs": []
    },
    {
      "cell_type": "code",
      "metadata": {
        "id": "J8cPtErAEfQe"
      },
      "source": [
        "# loading data\n",
        "corpus_df = pd.read_json(corpus_path)"
      ],
      "execution_count": 5,
      "outputs": []
    },
    {
      "cell_type": "code",
      "metadata": {
        "colab": {
          "base_uri": "https://localhost:8080/",
          "height": 204
        },
        "id": "F-EU1ZoHEng8",
        "outputId": "1bf8b9b2-0d92-494c-f297-970156e9f5b8"
      },
      "source": [
        "# eyeballing data\n",
        "corpus_df.head()"
      ],
      "execution_count": 6,
      "outputs": [
        {
          "output_type": "execute_result",
          "data": {
            "text/html": [
              "<div>\n",
              "<style scoped>\n",
              "    .dataframe tbody tr th:only-of-type {\n",
              "        vertical-align: middle;\n",
              "    }\n",
              "\n",
              "    .dataframe tbody tr th {\n",
              "        vertical-align: top;\n",
              "    }\n",
              "\n",
              "    .dataframe thead th {\n",
              "        text-align: right;\n",
              "    }\n",
              "</style>\n",
              "<table border=\"1\" class=\"dataframe\">\n",
              "  <thead>\n",
              "    <tr style=\"text-align: right;\">\n",
              "      <th></th>\n",
              "      <th>intents</th>\n",
              "    </tr>\n",
              "  </thead>\n",
              "  <tbody>\n",
              "    <tr>\n",
              "      <th>0</th>\n",
              "      <td>{'tag': 'Intro', 'patterns': ['hi', 'how are y...</td>\n",
              "    </tr>\n",
              "    <tr>\n",
              "      <th>1</th>\n",
              "      <td>{'tag': 'Exit', 'patterns': ['thank you', 'tha...</td>\n",
              "    </tr>\n",
              "    <tr>\n",
              "      <th>2</th>\n",
              "      <td>{'tag': 'Olympus', 'patterns': ['olympus', 'ex...</td>\n",
              "    </tr>\n",
              "    <tr>\n",
              "      <th>3</th>\n",
              "      <td>{'tag': 'SL', 'patterns': ['i am not able to u...</td>\n",
              "    </tr>\n",
              "    <tr>\n",
              "      <th>4</th>\n",
              "      <td>{'tag': 'NN', 'patterns': ['what is deep learn...</td>\n",
              "    </tr>\n",
              "  </tbody>\n",
              "</table>\n",
              "</div>"
            ],
            "text/plain": [
              "                                             intents\n",
              "0  {'tag': 'Intro', 'patterns': ['hi', 'how are y...\n",
              "1  {'tag': 'Exit', 'patterns': ['thank you', 'tha...\n",
              "2  {'tag': 'Olympus', 'patterns': ['olympus', 'ex...\n",
              "3  {'tag': 'SL', 'patterns': ['i am not able to u...\n",
              "4  {'tag': 'NN', 'patterns': ['what is deep learn..."
            ]
          },
          "metadata": {
            "tags": []
          },
          "execution_count": 6
        }
      ]
    },
    {
      "cell_type": "code",
      "metadata": {
        "colab": {
          "base_uri": "https://localhost:8080/"
        },
        "id": "kxM-1WEKEpNd",
        "outputId": "81167a09-5136-42a0-f353-9cc3f6b32ed3"
      },
      "source": [
        "# checking shape\n",
        "corpus_df.shape"
      ],
      "execution_count": 7,
      "outputs": [
        {
          "output_type": "execute_result",
          "data": {
            "text/plain": [
              "(8, 1)"
            ]
          },
          "metadata": {
            "tags": []
          },
          "execution_count": 7
        }
      ]
    },
    {
      "cell_type": "code",
      "metadata": {
        "colab": {
          "base_uri": "https://localhost:8080/"
        },
        "id": "SZR3SlmYUdn7",
        "outputId": "17de0771-c4e2-437b-df77-d20190af7e92"
      },
      "source": [
        "for i in corpus_df['intents']:\n",
        "  print(i)"
      ],
      "execution_count": 8,
      "outputs": [
        {
          "output_type": "stream",
          "text": [
            "{'tag': 'Intro', 'patterns': ['hi', 'how are you', 'is anyone there', 'hello', 'whats up', 'hey', 'yo', 'listen', 'please help me', 'i am learner from', 'i belong to', 'aiml batch', 'aifl batch', 'i am from', 'my pm is', 'blended', 'online', 'i am from', 'hey ya', 'talking to you for first time'], 'responses': ['Hello! how can i help you ?'], 'context_set': ''}\n",
            "{'tag': 'Exit', 'patterns': ['thank you', 'thanks', 'cya', 'see you', 'later', 'see you later', 'goodbye', 'i am leaving', 'have a Good day', 'you helped me', 'thanks a lot', 'thanks a ton', 'you are the best', 'great help', 'too good', 'you are a good learning buddy'], 'responses': ['I hope I was able to assist you, Good Bye'], 'context_set': ''}\n",
            "{'tag': 'Olympus', 'patterns': ['olympus', 'explain me how olympus works', 'I am not able to understand olympus', 'olympus window not working', 'no access to olympus', 'unable to see link in olympus', 'no link visible on olympus', 'whom to contact for olympus', 'lot of problem with olympus', 'olypus is not a good tool', 'lot of problems with olympus', 'how to use olympus', 'teach me olympus'], 'responses': ['Link: Olympus wiki'], 'context_set': ''}\n",
            "{'tag': 'SL', 'patterns': ['i am not able to understand svm', 'explain me how machine learning works', 'i am not able to understand naive bayes', 'i am not able to understand logistic regression', 'i am not able to understand ensemble techb=niques', 'i am not able to understand knn', 'i am not able to understand knn imputer', 'i am not able to understand cross validation', 'i am not able to understand boosting', 'i am not able to understand random forest', 'i am not able to understand ada boosting', 'i am not able to understand gradient boosting', 'machine learning', 'ML', 'SL', 'supervised learning', 'knn', 'logistic regression', 'regression', 'classification', 'naive bayes', 'nb', 'ensemble techniques', 'bagging', 'boosting', 'ada boosting', 'ada', 'gradient boosting', 'hyper parameters'], 'responses': ['Link: Machine Learning wiki '], 'context_set': ''}\n",
            "{'tag': 'NN', 'patterns': ['what is deep learning', 'unable to understand deep learning', 'explain me how deep learning works', 'i am not able to understand deep learning', 'not able to understand neural nets', 'very diffult to understand neural nets', 'unable to understand neural nets', 'ann', 'artificial intelligence', 'artificial neural networks', 'weights', 'activation function', 'hidden layers', 'softmax', 'sigmoid', 'relu', 'otimizer', 'forward propagation', 'backward propagation', 'epochs', 'epoch', 'what is an epoch', 'adam', 'sgd'], 'responses': ['Link: Neural Nets wiki'], 'context_set': ''}\n",
            "{'tag': 'Bot', 'patterns': ['what is your name', 'who are you', 'name please', 'when are your hours of opertions', 'what are your working hours', 'hours of operation', 'working hours', 'hours'], 'responses': ['I am your virtual learning assistant'], 'context_set': ''}\n",
            "{'tag': 'Profane', 'patterns': ['what the hell', 'bloody stupid bot', 'do you think you are very smart', 'screw you', 'i hate you', 'you are stupid', 'jerk', 'you are a joke', 'useless piece of shit'], 'responses': ['Please use respectful words'], 'context_set': ''}\n",
            "{'tag': 'Ticket', 'patterns': ['my problem is not solved', 'you did not help me', 'not a good solution', 'bad solution', 'not good solution', 'no help', 'wasted my time', 'useless bot', 'create a ticket'], 'responses': ['Tarnsferring the request to your PM'], 'context_set': ''}\n"
          ],
          "name": "stdout"
        }
      ]
    },
    {
      "cell_type": "code",
      "metadata": {
        "colab": {
          "base_uri": "https://localhost:8080/",
          "height": 297
        },
        "id": "XSN3e3PqEuOF",
        "outputId": "ffcb1813-cb7f-49bc-c276-ed8cc355e1bc"
      },
      "source": [
        "# Separating patterns, responses and tag and saving in new dataframe\n",
        "data = pd.DataFrame()\n",
        "\n",
        "for i in corpus_df['intents']:\n",
        "  data = data.append(i, ignore_index=True)\n",
        "  \n",
        "data.head(8)"
      ],
      "execution_count": 9,
      "outputs": [
        {
          "output_type": "execute_result",
          "data": {
            "text/html": [
              "<div>\n",
              "<style scoped>\n",
              "    .dataframe tbody tr th:only-of-type {\n",
              "        vertical-align: middle;\n",
              "    }\n",
              "\n",
              "    .dataframe tbody tr th {\n",
              "        vertical-align: top;\n",
              "    }\n",
              "\n",
              "    .dataframe thead th {\n",
              "        text-align: right;\n",
              "    }\n",
              "</style>\n",
              "<table border=\"1\" class=\"dataframe\">\n",
              "  <thead>\n",
              "    <tr style=\"text-align: right;\">\n",
              "      <th></th>\n",
              "      <th>context_set</th>\n",
              "      <th>patterns</th>\n",
              "      <th>responses</th>\n",
              "      <th>tag</th>\n",
              "    </tr>\n",
              "  </thead>\n",
              "  <tbody>\n",
              "    <tr>\n",
              "      <th>0</th>\n",
              "      <td></td>\n",
              "      <td>[hi, how are you, is anyone there, hello, what...</td>\n",
              "      <td>[Hello! how can i help you ?]</td>\n",
              "      <td>Intro</td>\n",
              "    </tr>\n",
              "    <tr>\n",
              "      <th>1</th>\n",
              "      <td></td>\n",
              "      <td>[thank you, thanks, cya, see you, later, see y...</td>\n",
              "      <td>[I hope I was able to assist you, Good Bye]</td>\n",
              "      <td>Exit</td>\n",
              "    </tr>\n",
              "    <tr>\n",
              "      <th>2</th>\n",
              "      <td></td>\n",
              "      <td>[olympus, explain me how olympus works, I am n...</td>\n",
              "      <td>[Link: Olympus wiki]</td>\n",
              "      <td>Olympus</td>\n",
              "    </tr>\n",
              "    <tr>\n",
              "      <th>3</th>\n",
              "      <td></td>\n",
              "      <td>[i am not able to understand svm, explain me h...</td>\n",
              "      <td>[Link: Machine Learning wiki ]</td>\n",
              "      <td>SL</td>\n",
              "    </tr>\n",
              "    <tr>\n",
              "      <th>4</th>\n",
              "      <td></td>\n",
              "      <td>[what is deep learning, unable to understand d...</td>\n",
              "      <td>[Link: Neural Nets wiki]</td>\n",
              "      <td>NN</td>\n",
              "    </tr>\n",
              "    <tr>\n",
              "      <th>5</th>\n",
              "      <td></td>\n",
              "      <td>[what is your name, who are you, name please, ...</td>\n",
              "      <td>[I am your virtual learning assistant]</td>\n",
              "      <td>Bot</td>\n",
              "    </tr>\n",
              "    <tr>\n",
              "      <th>6</th>\n",
              "      <td></td>\n",
              "      <td>[what the hell, bloody stupid bot, do you thin...</td>\n",
              "      <td>[Please use respectful words]</td>\n",
              "      <td>Profane</td>\n",
              "    </tr>\n",
              "    <tr>\n",
              "      <th>7</th>\n",
              "      <td></td>\n",
              "      <td>[my problem is not solved, you did not help me...</td>\n",
              "      <td>[Tarnsferring the request to your PM]</td>\n",
              "      <td>Ticket</td>\n",
              "    </tr>\n",
              "  </tbody>\n",
              "</table>\n",
              "</div>"
            ],
            "text/plain": [
              "  context_set  ...      tag\n",
              "0              ...    Intro\n",
              "1              ...     Exit\n",
              "2              ...  Olympus\n",
              "3              ...       SL\n",
              "4              ...       NN\n",
              "5              ...      Bot\n",
              "6              ...  Profane\n",
              "7              ...   Ticket\n",
              "\n",
              "[8 rows x 4 columns]"
            ]
          },
          "metadata": {
            "tags": []
          },
          "execution_count": 9
        }
      ]
    },
    {
      "cell_type": "code",
      "metadata": {
        "id": "jFos2Qg7TIhr"
      },
      "source": [
        "# Building and enhancing patterns for wider coverage\n",
        "\n",
        "final_list = []\n",
        "for row in data['patterns']:\n",
        "  list_words = row.copy()\n",
        "\n",
        "  for word in row:\n",
        "\n",
        "    if len(word.split()) == 1:\n",
        "      synArray = wordnet.synsets(word)\n",
        "    \n",
        "      if len(synArray) > 0:\n",
        "        for syn in synArray:\n",
        "          synonyms=[]\n",
        "          lemsArray = syn.lemmas()\n",
        "          if len(lemsArray) > 0:\n",
        "            for lem in lemsArray:\n",
        "              lem_name = re.sub('[^a-zA-Z0-9 \\n\\.]', ' ', lem.name())\n",
        "              synonyms.append(lem_name)\n",
        "          else:\n",
        "            synonyms.append(syn.name())\n",
        "\n",
        "          if len(synonyms) > 0:\n",
        "            synonyms = list(set(synonyms))\n",
        "\n",
        "          list_words.extend(synonyms)\n",
        "\n",
        "      else:\n",
        "        continue\n",
        "    else:\n",
        "      continue\n",
        "\n",
        "  final_list.append(list_words)\n",
        "\n",
        "# .. and creating a new column with enhanced keywords\n",
        "data['patterns_and_synonyms'] = final_list"
      ],
      "execution_count": 10,
      "outputs": []
    },
    {
      "cell_type": "code",
      "metadata": {
        "colab": {
          "base_uri": "https://localhost:8080/",
          "height": 238
        },
        "id": "47ViQLTWTXzq",
        "outputId": "874012f9-87ec-4d7d-f96b-f2d9793a7dc6"
      },
      "source": [
        "data.head()"
      ],
      "execution_count": 11,
      "outputs": [
        {
          "output_type": "execute_result",
          "data": {
            "text/html": [
              "<div>\n",
              "<style scoped>\n",
              "    .dataframe tbody tr th:only-of-type {\n",
              "        vertical-align: middle;\n",
              "    }\n",
              "\n",
              "    .dataframe tbody tr th {\n",
              "        vertical-align: top;\n",
              "    }\n",
              "\n",
              "    .dataframe thead th {\n",
              "        text-align: right;\n",
              "    }\n",
              "</style>\n",
              "<table border=\"1\" class=\"dataframe\">\n",
              "  <thead>\n",
              "    <tr style=\"text-align: right;\">\n",
              "      <th></th>\n",
              "      <th>context_set</th>\n",
              "      <th>patterns</th>\n",
              "      <th>responses</th>\n",
              "      <th>tag</th>\n",
              "      <th>patterns_and_synonyms</th>\n",
              "    </tr>\n",
              "  </thead>\n",
              "  <tbody>\n",
              "    <tr>\n",
              "      <th>0</th>\n",
              "      <td></td>\n",
              "      <td>[hi, how are you, is anyone there, hello, what...</td>\n",
              "      <td>[Hello! how can i help you ?]</td>\n",
              "      <td>Intro</td>\n",
              "      <td>[hi, how are you, is anyone there, hello, what...</td>\n",
              "    </tr>\n",
              "    <tr>\n",
              "      <th>1</th>\n",
              "      <td></td>\n",
              "      <td>[thank you, thanks, cya, see you, later, see y...</td>\n",
              "      <td>[I hope I was able to assist you, Good Bye]</td>\n",
              "      <td>Exit</td>\n",
              "      <td>[thank you, thanks, cya, see you, later, see y...</td>\n",
              "    </tr>\n",
              "    <tr>\n",
              "      <th>2</th>\n",
              "      <td></td>\n",
              "      <td>[olympus, explain me how olympus works, I am n...</td>\n",
              "      <td>[Link: Olympus wiki]</td>\n",
              "      <td>Olympus</td>\n",
              "      <td>[olympus, explain me how olympus works, I am n...</td>\n",
              "    </tr>\n",
              "    <tr>\n",
              "      <th>3</th>\n",
              "      <td></td>\n",
              "      <td>[i am not able to understand svm, explain me h...</td>\n",
              "      <td>[Link: Machine Learning wiki ]</td>\n",
              "      <td>SL</td>\n",
              "      <td>[i am not able to understand svm, explain me h...</td>\n",
              "    </tr>\n",
              "    <tr>\n",
              "      <th>4</th>\n",
              "      <td></td>\n",
              "      <td>[what is deep learning, unable to understand d...</td>\n",
              "      <td>[Link: Neural Nets wiki]</td>\n",
              "      <td>NN</td>\n",
              "      <td>[what is deep learning, unable to understand d...</td>\n",
              "    </tr>\n",
              "  </tbody>\n",
              "</table>\n",
              "</div>"
            ],
            "text/plain": [
              "  context_set  ...                              patterns_and_synonyms\n",
              "0              ...  [hi, how are you, is anyone there, hello, what...\n",
              "1              ...  [thank you, thanks, cya, see you, later, see y...\n",
              "2              ...  [olympus, explain me how olympus works, I am n...\n",
              "3              ...  [i am not able to understand svm, explain me h...\n",
              "4              ...  [what is deep learning, unable to understand d...\n",
              "\n",
              "[5 rows x 5 columns]"
            ]
          },
          "metadata": {
            "tags": []
          },
          "execution_count": 11
        }
      ]
    },
    {
      "cell_type": "code",
      "metadata": {
        "colab": {
          "base_uri": "https://localhost:8080/"
        },
        "id": "CbqayYDVcLZ8",
        "outputId": "f5b74ad0-2f47-4d62-bbff-d08e952a118c"
      },
      "source": [
        "#Printing enhanced patterns along with existing patterns\n",
        "\n",
        "for index, row in data.iterrows():\n",
        "  print(row['patterns'])\n",
        "  print(row['patterns_and_synonyms'])\n"
      ],
      "execution_count": 12,
      "outputs": [
        {
          "output_type": "stream",
          "text": [
            "['hi', 'how are you', 'is anyone there', 'hello', 'whats up', 'hey', 'yo', 'listen', 'please help me', 'i am learner from', 'i belong to', 'aiml batch', 'aifl batch', 'i am from', 'my pm is', 'blended', 'online', 'i am from', 'hey ya', 'talking to you for first time']\n",
            "['hi', 'how are you', 'is anyone there', 'hello', 'whats up', 'hey', 'yo', 'listen', 'please help me', 'i am learner from', 'i belong to', 'aiml batch', 'aifl batch', 'i am from', 'my pm is', 'blended', 'online', 'i am from', 'hey ya', 'talking to you for first time', 'hello', 'how do you do', 'hi', 'hullo', 'howdy', 'Hawai i', 'Hawaii', 'Aloha State', 'HI', 'hello', 'how do you do', 'hi', 'hullo', 'howdy', 'listen', 'hear', 'take heed', 'listen', 'heed', 'listen', 'mind', 'blend', 'intermingle', 'intermix', 'immingle', 'blend', 'go', 'blend in', 'fuse', 'blend', 'commingle', 'meld', 'combine', 'conflate', 'mix', 'flux', 'merge', 'immix', 'coalesce', 'blended', 'online', 'on line', 'online', 'on line', 'online', 'on line']\n",
            "['thank you', 'thanks', 'cya', 'see you', 'later', 'see you later', 'goodbye', 'i am leaving', 'have a Good day', 'you helped me', 'thanks a lot', 'thanks a ton', 'you are the best', 'great help', 'too good', 'you are a good learning buddy']\n",
            "['thank you', 'thanks', 'cya', 'see you', 'later', 'see you later', 'goodbye', 'i am leaving', 'have a Good day', 'you helped me', 'thanks a lot', 'thanks a ton', 'you are the best', 'great help', 'too good', 'you are a good learning buddy', 'thanks', 'thanks', 'give thanks', 'thank', 'later', 'posterior', 'ulterior', 'later', 'late', 'late', 'belated', 'late', 'tardy', 'late', 'recent', 'late', 'late', 'later', 'late', 'previous', 'late', 'former', 'later on', 'later', 'after', 'afterward', 'afterwards', 'subsequently', 'later', 'by and by', 'later', 'arrivederci', 'goodbye', 'adios', 'sayonara', 'adieu', 'good by', 'goodby', 'good bye', 'cheerio', 'bye bye', 'good day', 'bye', 'au revoir', 'auf wiedersehen', 'so long']\n",
            "['olympus', 'explain me how olympus works', 'I am not able to understand olympus', 'olympus window not working', 'no access to olympus', 'unable to see link in olympus', 'no link visible on olympus', 'whom to contact for olympus', 'lot of problem with olympus', 'olypus is not a good tool', 'lot of problems with olympus', 'how to use olympus', 'teach me olympus']\n",
            "['olympus', 'explain me how olympus works', 'I am not able to understand olympus', 'olympus window not working', 'no access to olympus', 'unable to see link in olympus', 'no link visible on olympus', 'whom to contact for olympus', 'lot of problem with olympus', 'olypus is not a good tool', 'lot of problems with olympus', 'how to use olympus', 'teach me olympus', 'Olympus', 'Mount Olympus', 'Mt. Olympus', 'Olimbos']\n",
            "['i am not able to understand svm', 'explain me how machine learning works', 'i am not able to understand naive bayes', 'i am not able to understand logistic regression', 'i am not able to understand ensemble techb=niques', 'i am not able to understand knn', 'i am not able to understand knn imputer', 'i am not able to understand cross validation', 'i am not able to understand boosting', 'i am not able to understand random forest', 'i am not able to understand ada boosting', 'i am not able to understand gradient boosting', 'machine learning', 'ML', 'SL', 'supervised learning', 'knn', 'logistic regression', 'regression', 'classification', 'naive bayes', 'nb', 'ensemble techniques', 'bagging', 'boosting', 'ada boosting', 'ada', 'gradient boosting', 'hyper parameters']\n",
            "['i am not able to understand svm', 'explain me how machine learning works', 'i am not able to understand naive bayes', 'i am not able to understand logistic regression', 'i am not able to understand ensemble techb=niques', 'i am not able to understand knn', 'i am not able to understand knn imputer', 'i am not able to understand cross validation', 'i am not able to understand boosting', 'i am not able to understand random forest', 'i am not able to understand ada boosting', 'i am not able to understand gradient boosting', 'machine learning', 'ML', 'SL', 'supervised learning', 'knn', 'logistic regression', 'regression', 'classification', 'naive bayes', 'nb', 'ensemble techniques', 'bagging', 'boosting', 'ada boosting', 'ada', 'gradient boosting', 'hyper parameters', 'mil', 'ml', 'cubic centimetre', 'cc', 'millilitre', 'cubic centimeter', 'milliliter', 'Shining Path', 'Sendero Luminoso', 'SL', 'fixation', 'infantile fixation', 'arrested development', 'regression', 'regression', 'statistical regression', 'simple regression', 'regression', 'regression toward the mean', 'retrogression', 'regress', 'retroversion', 'reversion', 'regression', 'categorisation', 'categorization', 'classification', 'assortment', 'compartmentalisation', 'compartmentalization', 'categorisation', 'categorization', 'classification', 'categorisation', 'categorization', 'classification', 'sorting', 'classification', 'niobium', 'Nb', 'atomic number 41', 'nota bene', 'N.B.', 'NB', 'sacking', 'bagging', 'bag', 'bag', 'bulge', 'bag', 'pocket', 'bag', 'bag', 'boost', 'hike up', 'hike', 'boost', 'boost', 'advance', 'encourage', 'further', 'promote', 'supercharge', 'advance', 'boost', 'boost', 'adenosine deaminase', 'ADA']\n",
            "['what is deep learning', 'unable to understand deep learning', 'explain me how deep learning works', 'i am not able to understand deep learning', 'not able to understand neural nets', 'very diffult to understand neural nets', 'unable to understand neural nets', 'ann', 'artificial intelligence', 'artificial neural networks', 'weights', 'activation function', 'hidden layers', 'softmax', 'sigmoid', 'relu', 'otimizer', 'forward propagation', 'backward propagation', 'epochs', 'epoch', 'what is an epoch', 'adam', 'sgd']\n",
            "['what is deep learning', 'unable to understand deep learning', 'explain me how deep learning works', 'i am not able to understand deep learning', 'not able to understand neural nets', 'very diffult to understand neural nets', 'unable to understand neural nets', 'ann', 'artificial intelligence', 'artificial neural networks', 'weights', 'activation function', 'hidden layers', 'softmax', 'sigmoid', 'relu', 'otimizer', 'forward propagation', 'backward propagation', 'epochs', 'epoch', 'what is an epoch', 'adam', 'sgd', 'weight', 'free weight', 'exercising weight', 'weight', 'weight', 'weightiness', 'weight', 'weight', 'system of weights', 'weight', 'weight unit', 'weight', 'weighting', 'weight', 'burden', 'burthen', 'weight', 'weight down', 'slant', 'angle', 'weight', 'sigmoid', 'sigmoidal', 'sigmoid', 'era', 'epoch', 'date of reference', 'epoch', 'epoch', 'era', 'epoch', 'date of reference', 'epoch', 'epoch', 'Adam', 'Robert Adam', 'Adam', 'hug drug', 'ecstasy', 'XTC', 'Adam', 'X', 'cristal', 'disco biscuit', 'go']\n",
            "['what is your name', 'who are you', 'name please', 'when are your hours of opertions', 'what are your working hours', 'hours of operation', 'working hours', 'hours']\n",
            "['what is your name', 'who are you', 'name please', 'when are your hours of opertions', 'what are your working hours', 'hours of operation', 'working hours', 'hours', 'hours', 'hours', 'hour', '60 minutes', 'hr', 'hour', 'time of day', 'hour', 'hour', 'minute']\n",
            "['what the hell', 'bloody stupid bot', 'do you think you are very smart', 'screw you', 'i hate you', 'you are stupid', 'jerk', 'you are a joke', 'useless piece of shit']\n",
            "['what the hell', 'bloody stupid bot', 'do you think you are very smart', 'screw you', 'i hate you', 'you are stupid', 'jerk', 'you are a joke', 'useless piece of shit', 'jerk', 'dork', 'jerk', 'saccade', 'jerking', 'jolt', 'jerk', 'jerk', 'jerky', 'jerked meat', 'jerk', 'jerk', 'tug', 'yank', 'jerk', 'jerk', 'twitch', 'jerk', 'twitch', 'jerk', 'buck', 'hitch', 'jerk', 'flick']\n",
            "['my problem is not solved', 'you did not help me', 'not a good solution', 'bad solution', 'not good solution', 'no help', 'wasted my time', 'useless bot', 'create a ticket']\n",
            "['my problem is not solved', 'you did not help me', 'not a good solution', 'bad solution', 'not good solution', 'no help', 'wasted my time', 'useless bot', 'create a ticket']\n"
          ],
          "name": "stdout"
        }
      ]
    },
    {
      "cell_type": "code",
      "metadata": {
        "id": "xGv7DZh8_TKM"
      },
      "source": [
        "# covert all text to lower case\n",
        "\n",
        "final_list = []\n",
        "for list_of_words in data['patterns_and_synonyms']:\n",
        "  new_list_of_words = []\n",
        "  for item in list_of_words:\n",
        "    item_lowercase = item.lower()\n",
        "    new_list_of_words.append(item_lowercase)\n",
        "\n",
        "  final_list.append(new_list_of_words)\n",
        "\n",
        "data['patterns_and_synonyms_lowercase'] = final_list\n"
      ],
      "execution_count": 13,
      "outputs": []
    },
    {
      "cell_type": "code",
      "metadata": {
        "colab": {
          "base_uri": "https://localhost:8080/",
          "height": 929
        },
        "id": "uuT-UIGyL46S",
        "outputId": "4d5254bf-cc6d-4ec4-d5f4-07f6353721eb"
      },
      "source": [
        "data.head(10)"
      ],
      "execution_count": 32,
      "outputs": [
        {
          "output_type": "execute_result",
          "data": {
            "text/html": [
              "<div>\n",
              "<style scoped>\n",
              "    .dataframe tbody tr th:only-of-type {\n",
              "        vertical-align: middle;\n",
              "    }\n",
              "\n",
              "    .dataframe tbody tr th {\n",
              "        vertical-align: top;\n",
              "    }\n",
              "\n",
              "    .dataframe thead th {\n",
              "        text-align: right;\n",
              "    }\n",
              "</style>\n",
              "<table border=\"1\" class=\"dataframe\">\n",
              "  <thead>\n",
              "    <tr style=\"text-align: right;\">\n",
              "      <th></th>\n",
              "      <th>context_set</th>\n",
              "      <th>patterns</th>\n",
              "      <th>responses</th>\n",
              "      <th>tag</th>\n",
              "      <th>patterns_and_synonyms</th>\n",
              "      <th>patterns_and_synonyms_lowercase</th>\n",
              "      <th>patterns_and_synonyms_lowercase_lammatized</th>\n",
              "    </tr>\n",
              "  </thead>\n",
              "  <tbody>\n",
              "    <tr>\n",
              "      <th>0</th>\n",
              "      <td></td>\n",
              "      <td>[hi, how are you, is anyone there, hello, what...</td>\n",
              "      <td>[Hello! how can i help you ?]</td>\n",
              "      <td>Intro</td>\n",
              "      <td>[hi, how are you, is anyone there, hello, what...</td>\n",
              "      <td>[hi, how are you, is anyone there, hello, what...</td>\n",
              "      <td>[hi, how are you, is anyone there, hello, what...</td>\n",
              "    </tr>\n",
              "    <tr>\n",
              "      <th>1</th>\n",
              "      <td></td>\n",
              "      <td>[thank you, thanks, cya, see you, later, see y...</td>\n",
              "      <td>[I hope I was able to assist you, Good Bye]</td>\n",
              "      <td>Exit</td>\n",
              "      <td>[thank you, thanks, cya, see you, later, see y...</td>\n",
              "      <td>[thank you, thanks, cya, see you, later, see y...</td>\n",
              "      <td>[thank you, thanks, cya, see you, later, see y...</td>\n",
              "    </tr>\n",
              "    <tr>\n",
              "      <th>2</th>\n",
              "      <td></td>\n",
              "      <td>[olympus, explain me how olympus works, I am n...</td>\n",
              "      <td>[Link: Olympus wiki]</td>\n",
              "      <td>Olympus</td>\n",
              "      <td>[olympus, explain me how olympus works, I am n...</td>\n",
              "      <td>[olympus, explain me how olympus works, i am n...</td>\n",
              "      <td>[olympus, explain me how olympus work, i am no...</td>\n",
              "    </tr>\n",
              "    <tr>\n",
              "      <th>3</th>\n",
              "      <td></td>\n",
              "      <td>[i am not able to understand svm, explain me h...</td>\n",
              "      <td>[Link: Machine Learning wiki ]</td>\n",
              "      <td>SL</td>\n",
              "      <td>[i am not able to understand svm, explain me h...</td>\n",
              "      <td>[i am not able to understand svm, explain me h...</td>\n",
              "      <td>[i am not able to understand svm, explain me h...</td>\n",
              "    </tr>\n",
              "    <tr>\n",
              "      <th>4</th>\n",
              "      <td></td>\n",
              "      <td>[what is deep learning, unable to understand d...</td>\n",
              "      <td>[Link: Neural Nets wiki]</td>\n",
              "      <td>NN</td>\n",
              "      <td>[what is deep learning, unable to understand d...</td>\n",
              "      <td>[what is deep learning, unable to understand d...</td>\n",
              "      <td>[what is deep learning, unable to understand d...</td>\n",
              "    </tr>\n",
              "    <tr>\n",
              "      <th>5</th>\n",
              "      <td></td>\n",
              "      <td>[what is your name, who are you, name please, ...</td>\n",
              "      <td>[I am your virtual learning assistant]</td>\n",
              "      <td>Bot</td>\n",
              "      <td>[what is your name, who are you, name please, ...</td>\n",
              "      <td>[what is your name, who are you, name please, ...</td>\n",
              "      <td>[what is your name, who are you, name please, ...</td>\n",
              "    </tr>\n",
              "    <tr>\n",
              "      <th>6</th>\n",
              "      <td></td>\n",
              "      <td>[what the hell, bloody stupid bot, do you thin...</td>\n",
              "      <td>[Please use respectful words]</td>\n",
              "      <td>Profane</td>\n",
              "      <td>[what the hell, bloody stupid bot, do you thin...</td>\n",
              "      <td>[what the hell, bloody stupid bot, do you thin...</td>\n",
              "      <td>[what the hell, bloody stupid bot, do you thin...</td>\n",
              "    </tr>\n",
              "    <tr>\n",
              "      <th>7</th>\n",
              "      <td></td>\n",
              "      <td>[my problem is not solved, you did not help me...</td>\n",
              "      <td>[Tarnsferring the request to your PM]</td>\n",
              "      <td>Ticket</td>\n",
              "      <td>[my problem is not solved, you did not help me...</td>\n",
              "      <td>[my problem is not solved, you did not help me...</td>\n",
              "      <td>[my problem is not solved, you did not help me...</td>\n",
              "    </tr>\n",
              "  </tbody>\n",
              "</table>\n",
              "</div>"
            ],
            "text/plain": [
              "  context_set  ...         patterns_and_synonyms_lowercase_lammatized\n",
              "0              ...  [hi, how are you, is anyone there, hello, what...\n",
              "1              ...  [thank you, thanks, cya, see you, later, see y...\n",
              "2              ...  [olympus, explain me how olympus work, i am no...\n",
              "3              ...  [i am not able to understand svm, explain me h...\n",
              "4              ...  [what is deep learning, unable to understand d...\n",
              "5              ...  [what is your name, who are you, name please, ...\n",
              "6              ...  [what the hell, bloody stupid bot, do you thin...\n",
              "7              ...  [my problem is not solved, you did not help me...\n",
              "\n",
              "[8 rows x 7 columns]"
            ]
          },
          "metadata": {
            "tags": []
          },
          "execution_count": 32
        }
      ]
    },
    {
      "cell_type": "code",
      "metadata": {
        "colab": {
          "base_uri": "https://localhost:8080/"
        },
        "id": "b-k3MpcLL88i",
        "outputId": "e50ff90c-0861-46e9-b6a5-f7154f8f9a3c"
      },
      "source": [
        "for index, row in data.iterrows():\n",
        "  print(row['patterns_and_synonyms'])\n",
        "  print(row['patterns_and_synonyms_lowercase'])"
      ],
      "execution_count": 15,
      "outputs": [
        {
          "output_type": "stream",
          "text": [
            "['hi', 'how are you', 'is anyone there', 'hello', 'whats up', 'hey', 'yo', 'listen', 'please help me', 'i am learner from', 'i belong to', 'aiml batch', 'aifl batch', 'i am from', 'my pm is', 'blended', 'online', 'i am from', 'hey ya', 'talking to you for first time', 'hello', 'how do you do', 'hi', 'hullo', 'howdy', 'Hawai i', 'Hawaii', 'Aloha State', 'HI', 'hello', 'how do you do', 'hi', 'hullo', 'howdy', 'listen', 'hear', 'take heed', 'listen', 'heed', 'listen', 'mind', 'blend', 'intermingle', 'intermix', 'immingle', 'blend', 'go', 'blend in', 'fuse', 'blend', 'commingle', 'meld', 'combine', 'conflate', 'mix', 'flux', 'merge', 'immix', 'coalesce', 'blended', 'online', 'on line', 'online', 'on line', 'online', 'on line']\n",
            "['hi', 'how are you', 'is anyone there', 'hello', 'whats up', 'hey', 'yo', 'listen', 'please help me', 'i am learner from', 'i belong to', 'aiml batch', 'aifl batch', 'i am from', 'my pm is', 'blended', 'online', 'i am from', 'hey ya', 'talking to you for first time', 'hello', 'how do you do', 'hi', 'hullo', 'howdy', 'hawai i', 'hawaii', 'aloha state', 'hi', 'hello', 'how do you do', 'hi', 'hullo', 'howdy', 'listen', 'hear', 'take heed', 'listen', 'heed', 'listen', 'mind', 'blend', 'intermingle', 'intermix', 'immingle', 'blend', 'go', 'blend in', 'fuse', 'blend', 'commingle', 'meld', 'combine', 'conflate', 'mix', 'flux', 'merge', 'immix', 'coalesce', 'blended', 'online', 'on line', 'online', 'on line', 'online', 'on line']\n",
            "['thank you', 'thanks', 'cya', 'see you', 'later', 'see you later', 'goodbye', 'i am leaving', 'have a Good day', 'you helped me', 'thanks a lot', 'thanks a ton', 'you are the best', 'great help', 'too good', 'you are a good learning buddy', 'thanks', 'thanks', 'give thanks', 'thank', 'later', 'posterior', 'ulterior', 'later', 'late', 'late', 'belated', 'late', 'tardy', 'late', 'recent', 'late', 'late', 'later', 'late', 'previous', 'late', 'former', 'later on', 'later', 'after', 'afterward', 'afterwards', 'subsequently', 'later', 'by and by', 'later', 'arrivederci', 'goodbye', 'adios', 'sayonara', 'adieu', 'good by', 'goodby', 'good bye', 'cheerio', 'bye bye', 'good day', 'bye', 'au revoir', 'auf wiedersehen', 'so long']\n",
            "['thank you', 'thanks', 'cya', 'see you', 'later', 'see you later', 'goodbye', 'i am leaving', 'have a good day', 'you helped me', 'thanks a lot', 'thanks a ton', 'you are the best', 'great help', 'too good', 'you are a good learning buddy', 'thanks', 'thanks', 'give thanks', 'thank', 'later', 'posterior', 'ulterior', 'later', 'late', 'late', 'belated', 'late', 'tardy', 'late', 'recent', 'late', 'late', 'later', 'late', 'previous', 'late', 'former', 'later on', 'later', 'after', 'afterward', 'afterwards', 'subsequently', 'later', 'by and by', 'later', 'arrivederci', 'goodbye', 'adios', 'sayonara', 'adieu', 'good by', 'goodby', 'good bye', 'cheerio', 'bye bye', 'good day', 'bye', 'au revoir', 'auf wiedersehen', 'so long']\n",
            "['olympus', 'explain me how olympus works', 'I am not able to understand olympus', 'olympus window not working', 'no access to olympus', 'unable to see link in olympus', 'no link visible on olympus', 'whom to contact for olympus', 'lot of problem with olympus', 'olypus is not a good tool', 'lot of problems with olympus', 'how to use olympus', 'teach me olympus', 'Olympus', 'Mount Olympus', 'Mt. Olympus', 'Olimbos']\n",
            "['olympus', 'explain me how olympus works', 'i am not able to understand olympus', 'olympus window not working', 'no access to olympus', 'unable to see link in olympus', 'no link visible on olympus', 'whom to contact for olympus', 'lot of problem with olympus', 'olypus is not a good tool', 'lot of problems with olympus', 'how to use olympus', 'teach me olympus', 'olympus', 'mount olympus', 'mt. olympus', 'olimbos']\n",
            "['i am not able to understand svm', 'explain me how machine learning works', 'i am not able to understand naive bayes', 'i am not able to understand logistic regression', 'i am not able to understand ensemble techb=niques', 'i am not able to understand knn', 'i am not able to understand knn imputer', 'i am not able to understand cross validation', 'i am not able to understand boosting', 'i am not able to understand random forest', 'i am not able to understand ada boosting', 'i am not able to understand gradient boosting', 'machine learning', 'ML', 'SL', 'supervised learning', 'knn', 'logistic regression', 'regression', 'classification', 'naive bayes', 'nb', 'ensemble techniques', 'bagging', 'boosting', 'ada boosting', 'ada', 'gradient boosting', 'hyper parameters', 'mil', 'ml', 'cubic centimetre', 'cc', 'millilitre', 'cubic centimeter', 'milliliter', 'Shining Path', 'Sendero Luminoso', 'SL', 'fixation', 'infantile fixation', 'arrested development', 'regression', 'regression', 'statistical regression', 'simple regression', 'regression', 'regression toward the mean', 'retrogression', 'regress', 'retroversion', 'reversion', 'regression', 'categorisation', 'categorization', 'classification', 'assortment', 'compartmentalisation', 'compartmentalization', 'categorisation', 'categorization', 'classification', 'categorisation', 'categorization', 'classification', 'sorting', 'classification', 'niobium', 'Nb', 'atomic number 41', 'nota bene', 'N.B.', 'NB', 'sacking', 'bagging', 'bag', 'bag', 'bulge', 'bag', 'pocket', 'bag', 'bag', 'boost', 'hike up', 'hike', 'boost', 'boost', 'advance', 'encourage', 'further', 'promote', 'supercharge', 'advance', 'boost', 'boost', 'adenosine deaminase', 'ADA']\n",
            "['i am not able to understand svm', 'explain me how machine learning works', 'i am not able to understand naive bayes', 'i am not able to understand logistic regression', 'i am not able to understand ensemble techb=niques', 'i am not able to understand knn', 'i am not able to understand knn imputer', 'i am not able to understand cross validation', 'i am not able to understand boosting', 'i am not able to understand random forest', 'i am not able to understand ada boosting', 'i am not able to understand gradient boosting', 'machine learning', 'ml', 'sl', 'supervised learning', 'knn', 'logistic regression', 'regression', 'classification', 'naive bayes', 'nb', 'ensemble techniques', 'bagging', 'boosting', 'ada boosting', 'ada', 'gradient boosting', 'hyper parameters', 'mil', 'ml', 'cubic centimetre', 'cc', 'millilitre', 'cubic centimeter', 'milliliter', 'shining path', 'sendero luminoso', 'sl', 'fixation', 'infantile fixation', 'arrested development', 'regression', 'regression', 'statistical regression', 'simple regression', 'regression', 'regression toward the mean', 'retrogression', 'regress', 'retroversion', 'reversion', 'regression', 'categorisation', 'categorization', 'classification', 'assortment', 'compartmentalisation', 'compartmentalization', 'categorisation', 'categorization', 'classification', 'categorisation', 'categorization', 'classification', 'sorting', 'classification', 'niobium', 'nb', 'atomic number 41', 'nota bene', 'n.b.', 'nb', 'sacking', 'bagging', 'bag', 'bag', 'bulge', 'bag', 'pocket', 'bag', 'bag', 'boost', 'hike up', 'hike', 'boost', 'boost', 'advance', 'encourage', 'further', 'promote', 'supercharge', 'advance', 'boost', 'boost', 'adenosine deaminase', 'ada']\n",
            "['what is deep learning', 'unable to understand deep learning', 'explain me how deep learning works', 'i am not able to understand deep learning', 'not able to understand neural nets', 'very diffult to understand neural nets', 'unable to understand neural nets', 'ann', 'artificial intelligence', 'artificial neural networks', 'weights', 'activation function', 'hidden layers', 'softmax', 'sigmoid', 'relu', 'otimizer', 'forward propagation', 'backward propagation', 'epochs', 'epoch', 'what is an epoch', 'adam', 'sgd', 'weight', 'free weight', 'exercising weight', 'weight', 'weight', 'weightiness', 'weight', 'weight', 'system of weights', 'weight', 'weight unit', 'weight', 'weighting', 'weight', 'burden', 'burthen', 'weight', 'weight down', 'slant', 'angle', 'weight', 'sigmoid', 'sigmoidal', 'sigmoid', 'era', 'epoch', 'date of reference', 'epoch', 'epoch', 'era', 'epoch', 'date of reference', 'epoch', 'epoch', 'Adam', 'Robert Adam', 'Adam', 'hug drug', 'ecstasy', 'XTC', 'Adam', 'X', 'cristal', 'disco biscuit', 'go']\n",
            "['what is deep learning', 'unable to understand deep learning', 'explain me how deep learning works', 'i am not able to understand deep learning', 'not able to understand neural nets', 'very diffult to understand neural nets', 'unable to understand neural nets', 'ann', 'artificial intelligence', 'artificial neural networks', 'weights', 'activation function', 'hidden layers', 'softmax', 'sigmoid', 'relu', 'otimizer', 'forward propagation', 'backward propagation', 'epochs', 'epoch', 'what is an epoch', 'adam', 'sgd', 'weight', 'free weight', 'exercising weight', 'weight', 'weight', 'weightiness', 'weight', 'weight', 'system of weights', 'weight', 'weight unit', 'weight', 'weighting', 'weight', 'burden', 'burthen', 'weight', 'weight down', 'slant', 'angle', 'weight', 'sigmoid', 'sigmoidal', 'sigmoid', 'era', 'epoch', 'date of reference', 'epoch', 'epoch', 'era', 'epoch', 'date of reference', 'epoch', 'epoch', 'adam', 'robert adam', 'adam', 'hug drug', 'ecstasy', 'xtc', 'adam', 'x', 'cristal', 'disco biscuit', 'go']\n",
            "['what is your name', 'who are you', 'name please', 'when are your hours of opertions', 'what are your working hours', 'hours of operation', 'working hours', 'hours', 'hours', 'hours', 'hour', '60 minutes', 'hr', 'hour', 'time of day', 'hour', 'hour', 'minute']\n",
            "['what is your name', 'who are you', 'name please', 'when are your hours of opertions', 'what are your working hours', 'hours of operation', 'working hours', 'hours', 'hours', 'hours', 'hour', '60 minutes', 'hr', 'hour', 'time of day', 'hour', 'hour', 'minute']\n",
            "['what the hell', 'bloody stupid bot', 'do you think you are very smart', 'screw you', 'i hate you', 'you are stupid', 'jerk', 'you are a joke', 'useless piece of shit', 'jerk', 'dork', 'jerk', 'saccade', 'jerking', 'jolt', 'jerk', 'jerk', 'jerky', 'jerked meat', 'jerk', 'jerk', 'tug', 'yank', 'jerk', 'jerk', 'twitch', 'jerk', 'twitch', 'jerk', 'buck', 'hitch', 'jerk', 'flick']\n",
            "['what the hell', 'bloody stupid bot', 'do you think you are very smart', 'screw you', 'i hate you', 'you are stupid', 'jerk', 'you are a joke', 'useless piece of shit', 'jerk', 'dork', 'jerk', 'saccade', 'jerking', 'jolt', 'jerk', 'jerk', 'jerky', 'jerked meat', 'jerk', 'jerk', 'tug', 'yank', 'jerk', 'jerk', 'twitch', 'jerk', 'twitch', 'jerk', 'buck', 'hitch', 'jerk', 'flick']\n",
            "['my problem is not solved', 'you did not help me', 'not a good solution', 'bad solution', 'not good solution', 'no help', 'wasted my time', 'useless bot', 'create a ticket']\n",
            "['my problem is not solved', 'you did not help me', 'not a good solution', 'bad solution', 'not good solution', 'no help', 'wasted my time', 'useless bot', 'create a ticket']\n"
          ],
          "name": "stdout"
        }
      ]
    },
    {
      "cell_type": "code",
      "metadata": {
        "id": "KZvQiZhERS2f"
      },
      "source": [
        "from nltk.stem import WordNetLemmatizer\n",
        "def lemmatize_text(text):\n",
        "\n",
        "    lemmatizer = WordNetLemmatizer()\n",
        "    return ' '.join([lemmatizer.lemmatize(word) for word in text.split()])"
      ],
      "execution_count": 16,
      "outputs": []
    },
    {
      "cell_type": "code",
      "metadata": {
        "id": "fpPFe293RXUX"
      },
      "source": [
        "final_list = []\n",
        "for list_of_words in data['patterns_and_synonyms_lowercase']:\n",
        "  new_list_of_words = []\n",
        "  for item in list_of_words:\n",
        "    item_lammatized = lemmatize_text(item)\n",
        "    new_list_of_words.append(item_lammatized)\n",
        "\n",
        "  final_list.append(new_list_of_words)\n",
        "\n",
        "data['patterns_and_synonyms_lowercase_lammatized'] = final_list"
      ],
      "execution_count": 17,
      "outputs": []
    },
    {
      "cell_type": "code",
      "metadata": {
        "colab": {
          "base_uri": "https://localhost:8080/"
        },
        "id": "o_F0qJbpR4J9",
        "outputId": "34d2a3b1-e3a2-4c51-e7b7-8c353a73ab20"
      },
      "source": [
        "for index, row in data.iterrows():\n",
        "  print(row['patterns_and_synonyms_lowercase'])\n",
        "  print(row['patterns_and_synonyms_lowercase_lammatized'])"
      ],
      "execution_count": 18,
      "outputs": [
        {
          "output_type": "stream",
          "text": [
            "['hi', 'how are you', 'is anyone there', 'hello', 'whats up', 'hey', 'yo', 'listen', 'please help me', 'i am learner from', 'i belong to', 'aiml batch', 'aifl batch', 'i am from', 'my pm is', 'blended', 'online', 'i am from', 'hey ya', 'talking to you for first time', 'hello', 'how do you do', 'hi', 'hullo', 'howdy', 'hawai i', 'hawaii', 'aloha state', 'hi', 'hello', 'how do you do', 'hi', 'hullo', 'howdy', 'listen', 'hear', 'take heed', 'listen', 'heed', 'listen', 'mind', 'blend', 'intermingle', 'intermix', 'immingle', 'blend', 'go', 'blend in', 'fuse', 'blend', 'commingle', 'meld', 'combine', 'conflate', 'mix', 'flux', 'merge', 'immix', 'coalesce', 'blended', 'online', 'on line', 'online', 'on line', 'online', 'on line']\n",
            "['hi', 'how are you', 'is anyone there', 'hello', 'whats up', 'hey', 'yo', 'listen', 'please help me', 'i am learner from', 'i belong to', 'aiml batch', 'aifl batch', 'i am from', 'my pm is', 'blended', 'online', 'i am from', 'hey ya', 'talking to you for first time', 'hello', 'how do you do', 'hi', 'hullo', 'howdy', 'hawai i', 'hawaii', 'aloha state', 'hi', 'hello', 'how do you do', 'hi', 'hullo', 'howdy', 'listen', 'hear', 'take heed', 'listen', 'heed', 'listen', 'mind', 'blend', 'intermingle', 'intermix', 'immingle', 'blend', 'go', 'blend in', 'fuse', 'blend', 'commingle', 'meld', 'combine', 'conflate', 'mix', 'flux', 'merge', 'immix', 'coalesce', 'blended', 'online', 'on line', 'online', 'on line', 'online', 'on line']\n",
            "['thank you', 'thanks', 'cya', 'see you', 'later', 'see you later', 'goodbye', 'i am leaving', 'have a good day', 'you helped me', 'thanks a lot', 'thanks a ton', 'you are the best', 'great help', 'too good', 'you are a good learning buddy', 'thanks', 'thanks', 'give thanks', 'thank', 'later', 'posterior', 'ulterior', 'later', 'late', 'late', 'belated', 'late', 'tardy', 'late', 'recent', 'late', 'late', 'later', 'late', 'previous', 'late', 'former', 'later on', 'later', 'after', 'afterward', 'afterwards', 'subsequently', 'later', 'by and by', 'later', 'arrivederci', 'goodbye', 'adios', 'sayonara', 'adieu', 'good by', 'goodby', 'good bye', 'cheerio', 'bye bye', 'good day', 'bye', 'au revoir', 'auf wiedersehen', 'so long']\n",
            "['thank you', 'thanks', 'cya', 'see you', 'later', 'see you later', 'goodbye', 'i am leaving', 'have a good day', 'you helped me', 'thanks a lot', 'thanks a ton', 'you are the best', 'great help', 'too good', 'you are a good learning buddy', 'thanks', 'thanks', 'give thanks', 'thank', 'later', 'posterior', 'ulterior', 'later', 'late', 'late', 'belated', 'late', 'tardy', 'late', 'recent', 'late', 'late', 'later', 'late', 'previous', 'late', 'former', 'later on', 'later', 'after', 'afterward', 'afterwards', 'subsequently', 'later', 'by and by', 'later', 'arrivederci', 'goodbye', 'adios', 'sayonara', 'adieu', 'good by', 'goodby', 'good bye', 'cheerio', 'bye bye', 'good day', 'bye', 'au revoir', 'auf wiedersehen', 'so long']\n",
            "['olympus', 'explain me how olympus works', 'i am not able to understand olympus', 'olympus window not working', 'no access to olympus', 'unable to see link in olympus', 'no link visible on olympus', 'whom to contact for olympus', 'lot of problem with olympus', 'olypus is not a good tool', 'lot of problems with olympus', 'how to use olympus', 'teach me olympus', 'olympus', 'mount olympus', 'mt. olympus', 'olimbos']\n",
            "['olympus', 'explain me how olympus work', 'i am not able to understand olympus', 'olympus window not working', 'no access to olympus', 'unable to see link in olympus', 'no link visible on olympus', 'whom to contact for olympus', 'lot of problem with olympus', 'olypus is not a good tool', 'lot of problem with olympus', 'how to use olympus', 'teach me olympus', 'olympus', 'mount olympus', 'mt. olympus', 'olimbos']\n",
            "['i am not able to understand svm', 'explain me how machine learning works', 'i am not able to understand naive bayes', 'i am not able to understand logistic regression', 'i am not able to understand ensemble techb=niques', 'i am not able to understand knn', 'i am not able to understand knn imputer', 'i am not able to understand cross validation', 'i am not able to understand boosting', 'i am not able to understand random forest', 'i am not able to understand ada boosting', 'i am not able to understand gradient boosting', 'machine learning', 'ml', 'sl', 'supervised learning', 'knn', 'logistic regression', 'regression', 'classification', 'naive bayes', 'nb', 'ensemble techniques', 'bagging', 'boosting', 'ada boosting', 'ada', 'gradient boosting', 'hyper parameters', 'mil', 'ml', 'cubic centimetre', 'cc', 'millilitre', 'cubic centimeter', 'milliliter', 'shining path', 'sendero luminoso', 'sl', 'fixation', 'infantile fixation', 'arrested development', 'regression', 'regression', 'statistical regression', 'simple regression', 'regression', 'regression toward the mean', 'retrogression', 'regress', 'retroversion', 'reversion', 'regression', 'categorisation', 'categorization', 'classification', 'assortment', 'compartmentalisation', 'compartmentalization', 'categorisation', 'categorization', 'classification', 'categorisation', 'categorization', 'classification', 'sorting', 'classification', 'niobium', 'nb', 'atomic number 41', 'nota bene', 'n.b.', 'nb', 'sacking', 'bagging', 'bag', 'bag', 'bulge', 'bag', 'pocket', 'bag', 'bag', 'boost', 'hike up', 'hike', 'boost', 'boost', 'advance', 'encourage', 'further', 'promote', 'supercharge', 'advance', 'boost', 'boost', 'adenosine deaminase', 'ada']\n",
            "['i am not able to understand svm', 'explain me how machine learning work', 'i am not able to understand naive bayes', 'i am not able to understand logistic regression', 'i am not able to understand ensemble techb=niques', 'i am not able to understand knn', 'i am not able to understand knn imputer', 'i am not able to understand cross validation', 'i am not able to understand boosting', 'i am not able to understand random forest', 'i am not able to understand ada boosting', 'i am not able to understand gradient boosting', 'machine learning', 'ml', 'sl', 'supervised learning', 'knn', 'logistic regression', 'regression', 'classification', 'naive bayes', 'nb', 'ensemble technique', 'bagging', 'boosting', 'ada boosting', 'ada', 'gradient boosting', 'hyper parameter', 'mil', 'ml', 'cubic centimetre', 'cc', 'millilitre', 'cubic centimeter', 'milliliter', 'shining path', 'sendero luminoso', 'sl', 'fixation', 'infantile fixation', 'arrested development', 'regression', 'regression', 'statistical regression', 'simple regression', 'regression', 'regression toward the mean', 'retrogression', 'regress', 'retroversion', 'reversion', 'regression', 'categorisation', 'categorization', 'classification', 'assortment', 'compartmentalisation', 'compartmentalization', 'categorisation', 'categorization', 'classification', 'categorisation', 'categorization', 'classification', 'sorting', 'classification', 'niobium', 'nb', 'atomic number 41', 'nota bene', 'n.b.', 'nb', 'sacking', 'bagging', 'bag', 'bag', 'bulge', 'bag', 'pocket', 'bag', 'bag', 'boost', 'hike up', 'hike', 'boost', 'boost', 'advance', 'encourage', 'further', 'promote', 'supercharge', 'advance', 'boost', 'boost', 'adenosine deaminase', 'ada']\n",
            "['what is deep learning', 'unable to understand deep learning', 'explain me how deep learning works', 'i am not able to understand deep learning', 'not able to understand neural nets', 'very diffult to understand neural nets', 'unable to understand neural nets', 'ann', 'artificial intelligence', 'artificial neural networks', 'weights', 'activation function', 'hidden layers', 'softmax', 'sigmoid', 'relu', 'otimizer', 'forward propagation', 'backward propagation', 'epochs', 'epoch', 'what is an epoch', 'adam', 'sgd', 'weight', 'free weight', 'exercising weight', 'weight', 'weight', 'weightiness', 'weight', 'weight', 'system of weights', 'weight', 'weight unit', 'weight', 'weighting', 'weight', 'burden', 'burthen', 'weight', 'weight down', 'slant', 'angle', 'weight', 'sigmoid', 'sigmoidal', 'sigmoid', 'era', 'epoch', 'date of reference', 'epoch', 'epoch', 'era', 'epoch', 'date of reference', 'epoch', 'epoch', 'adam', 'robert adam', 'adam', 'hug drug', 'ecstasy', 'xtc', 'adam', 'x', 'cristal', 'disco biscuit', 'go']\n",
            "['what is deep learning', 'unable to understand deep learning', 'explain me how deep learning work', 'i am not able to understand deep learning', 'not able to understand neural net', 'very diffult to understand neural net', 'unable to understand neural net', 'ann', 'artificial intelligence', 'artificial neural network', 'weight', 'activation function', 'hidden layer', 'softmax', 'sigmoid', 'relu', 'otimizer', 'forward propagation', 'backward propagation', 'epoch', 'epoch', 'what is an epoch', 'adam', 'sgd', 'weight', 'free weight', 'exercising weight', 'weight', 'weight', 'weightiness', 'weight', 'weight', 'system of weight', 'weight', 'weight unit', 'weight', 'weighting', 'weight', 'burden', 'burthen', 'weight', 'weight down', 'slant', 'angle', 'weight', 'sigmoid', 'sigmoidal', 'sigmoid', 'era', 'epoch', 'date of reference', 'epoch', 'epoch', 'era', 'epoch', 'date of reference', 'epoch', 'epoch', 'adam', 'robert adam', 'adam', 'hug drug', 'ecstasy', 'xtc', 'adam', 'x', 'cristal', 'disco biscuit', 'go']\n",
            "['what is your name', 'who are you', 'name please', 'when are your hours of opertions', 'what are your working hours', 'hours of operation', 'working hours', 'hours', 'hours', 'hours', 'hour', '60 minutes', 'hr', 'hour', 'time of day', 'hour', 'hour', 'minute']\n",
            "['what is your name', 'who are you', 'name please', 'when are your hour of opertions', 'what are your working hour', 'hour of operation', 'working hour', 'hour', 'hour', 'hour', 'hour', '60 minute', 'hr', 'hour', 'time of day', 'hour', 'hour', 'minute']\n",
            "['what the hell', 'bloody stupid bot', 'do you think you are very smart', 'screw you', 'i hate you', 'you are stupid', 'jerk', 'you are a joke', 'useless piece of shit', 'jerk', 'dork', 'jerk', 'saccade', 'jerking', 'jolt', 'jerk', 'jerk', 'jerky', 'jerked meat', 'jerk', 'jerk', 'tug', 'yank', 'jerk', 'jerk', 'twitch', 'jerk', 'twitch', 'jerk', 'buck', 'hitch', 'jerk', 'flick']\n",
            "['what the hell', 'bloody stupid bot', 'do you think you are very smart', 'screw you', 'i hate you', 'you are stupid', 'jerk', 'you are a joke', 'useless piece of shit', 'jerk', 'dork', 'jerk', 'saccade', 'jerking', 'jolt', 'jerk', 'jerk', 'jerky', 'jerked meat', 'jerk', 'jerk', 'tug', 'yank', 'jerk', 'jerk', 'twitch', 'jerk', 'twitch', 'jerk', 'buck', 'hitch', 'jerk', 'flick']\n",
            "['my problem is not solved', 'you did not help me', 'not a good solution', 'bad solution', 'not good solution', 'no help', 'wasted my time', 'useless bot', 'create a ticket']\n",
            "['my problem is not solved', 'you did not help me', 'not a good solution', 'bad solution', 'not good solution', 'no help', 'wasted my time', 'useless bot', 'create a ticket']\n"
          ],
          "name": "stdout"
        }
      ]
    },
    {
      "cell_type": "code",
      "metadata": {
        "id": "zyPucjVyPkCP"
      },
      "source": [
        "# creating separate data frame for responses.\n",
        "data_1 = pd.DataFrame(data['responses'])"
      ],
      "execution_count": 19,
      "outputs": []
    },
    {
      "cell_type": "code",
      "metadata": {
        "colab": {
          "base_uri": "https://localhost:8080/",
          "height": 297
        },
        "id": "rTGrINi6Pk6L",
        "outputId": "ffd6e25b-93e8-4a51-f19b-fda7c33d366d"
      },
      "source": [
        "data_1"
      ],
      "execution_count": 20,
      "outputs": [
        {
          "output_type": "execute_result",
          "data": {
            "text/html": [
              "<div>\n",
              "<style scoped>\n",
              "    .dataframe tbody tr th:only-of-type {\n",
              "        vertical-align: middle;\n",
              "    }\n",
              "\n",
              "    .dataframe tbody tr th {\n",
              "        vertical-align: top;\n",
              "    }\n",
              "\n",
              "    .dataframe thead th {\n",
              "        text-align: right;\n",
              "    }\n",
              "</style>\n",
              "<table border=\"1\" class=\"dataframe\">\n",
              "  <thead>\n",
              "    <tr style=\"text-align: right;\">\n",
              "      <th></th>\n",
              "      <th>responses</th>\n",
              "    </tr>\n",
              "  </thead>\n",
              "  <tbody>\n",
              "    <tr>\n",
              "      <th>0</th>\n",
              "      <td>[Hello! how can i help you ?]</td>\n",
              "    </tr>\n",
              "    <tr>\n",
              "      <th>1</th>\n",
              "      <td>[I hope I was able to assist you, Good Bye]</td>\n",
              "    </tr>\n",
              "    <tr>\n",
              "      <th>2</th>\n",
              "      <td>[Link: Olympus wiki]</td>\n",
              "    </tr>\n",
              "    <tr>\n",
              "      <th>3</th>\n",
              "      <td>[Link: Machine Learning wiki ]</td>\n",
              "    </tr>\n",
              "    <tr>\n",
              "      <th>4</th>\n",
              "      <td>[Link: Neural Nets wiki]</td>\n",
              "    </tr>\n",
              "    <tr>\n",
              "      <th>5</th>\n",
              "      <td>[I am your virtual learning assistant]</td>\n",
              "    </tr>\n",
              "    <tr>\n",
              "      <th>6</th>\n",
              "      <td>[Please use respectful words]</td>\n",
              "    </tr>\n",
              "    <tr>\n",
              "      <th>7</th>\n",
              "      <td>[Tarnsferring the request to your PM]</td>\n",
              "    </tr>\n",
              "  </tbody>\n",
              "</table>\n",
              "</div>"
            ],
            "text/plain": [
              "                                     responses\n",
              "0                [Hello! how can i help you ?]\n",
              "1  [I hope I was able to assist you, Good Bye]\n",
              "2                         [Link: Olympus wiki]\n",
              "3               [Link: Machine Learning wiki ]\n",
              "4                     [Link: Neural Nets wiki]\n",
              "5       [I am your virtual learning assistant]\n",
              "6                [Please use respectful words]\n",
              "7        [Tarnsferring the request to your PM]"
            ]
          },
          "metadata": {
            "tags": []
          },
          "execution_count": 20
        }
      ]
    },
    {
      "cell_type": "code",
      "metadata": {
        "id": "ST_OLaJtmcR9"
      },
      "source": [
        "data_1['responses'] = data_1['responses'].astype(str)"
      ],
      "execution_count": 21,
      "outputs": []
    },
    {
      "cell_type": "code",
      "metadata": {
        "colab": {
          "base_uri": "https://localhost:8080/"
        },
        "id": "QGrGuNiel9WC",
        "outputId": "e30b6c4b-f6d4-44cf-9107-03d3c8812926"
      },
      "source": [
        "data_1.dtypes"
      ],
      "execution_count": 22,
      "outputs": [
        {
          "output_type": "execute_result",
          "data": {
            "text/plain": [
              "responses    object\n",
              "dtype: object"
            ]
          },
          "metadata": {
            "tags": []
          },
          "execution_count": 22
        }
      ]
    },
    {
      "cell_type": "code",
      "metadata": {
        "id": "sZl0Dkxglia8"
      },
      "source": [
        "# cleansing the data in responses\n",
        "data_1['responses'] = data_1['responses'].str.replace(\"[\",\"\")\n",
        "data_1['responses'] = data_1['responses'].str.replace(\"]\",\"\")\n",
        "data_1['responses'] = data_1['responses'].str.replace(\"'\",\"\")"
      ],
      "execution_count": 23,
      "outputs": []
    },
    {
      "cell_type": "code",
      "metadata": {
        "colab": {
          "base_uri": "https://localhost:8080/",
          "height": 297
        },
        "id": "QfxAojPhcR6c",
        "outputId": "61881785-b842-4a94-89c6-e0c3493fa6bc"
      },
      "source": [
        "data_1.head(10)"
      ],
      "execution_count": 24,
      "outputs": [
        {
          "output_type": "execute_result",
          "data": {
            "text/html": [
              "<div>\n",
              "<style scoped>\n",
              "    .dataframe tbody tr th:only-of-type {\n",
              "        vertical-align: middle;\n",
              "    }\n",
              "\n",
              "    .dataframe tbody tr th {\n",
              "        vertical-align: top;\n",
              "    }\n",
              "\n",
              "    .dataframe thead th {\n",
              "        text-align: right;\n",
              "    }\n",
              "</style>\n",
              "<table border=\"1\" class=\"dataframe\">\n",
              "  <thead>\n",
              "    <tr style=\"text-align: right;\">\n",
              "      <th></th>\n",
              "      <th>responses</th>\n",
              "    </tr>\n",
              "  </thead>\n",
              "  <tbody>\n",
              "    <tr>\n",
              "      <th>0</th>\n",
              "      <td>Hello! how can i help you ?</td>\n",
              "    </tr>\n",
              "    <tr>\n",
              "      <th>1</th>\n",
              "      <td>I hope I was able to assist you, Good Bye</td>\n",
              "    </tr>\n",
              "    <tr>\n",
              "      <th>2</th>\n",
              "      <td>Link: Olympus wiki</td>\n",
              "    </tr>\n",
              "    <tr>\n",
              "      <th>3</th>\n",
              "      <td>Link: Machine Learning wiki</td>\n",
              "    </tr>\n",
              "    <tr>\n",
              "      <th>4</th>\n",
              "      <td>Link: Neural Nets wiki</td>\n",
              "    </tr>\n",
              "    <tr>\n",
              "      <th>5</th>\n",
              "      <td>I am your virtual learning assistant</td>\n",
              "    </tr>\n",
              "    <tr>\n",
              "      <th>6</th>\n",
              "      <td>Please use respectful words</td>\n",
              "    </tr>\n",
              "    <tr>\n",
              "      <th>7</th>\n",
              "      <td>Tarnsferring the request to your PM</td>\n",
              "    </tr>\n",
              "  </tbody>\n",
              "</table>\n",
              "</div>"
            ],
            "text/plain": [
              "                                   responses\n",
              "0                Hello! how can i help you ?\n",
              "1  I hope I was able to assist you, Good Bye\n",
              "2                         Link: Olympus wiki\n",
              "3               Link: Machine Learning wiki \n",
              "4                     Link: Neural Nets wiki\n",
              "5       I am your virtual learning assistant\n",
              "6                Please use respectful words\n",
              "7        Tarnsferring the request to your PM"
            ]
          },
          "metadata": {
            "tags": []
          },
          "execution_count": 24
        }
      ]
    },
    {
      "cell_type": "code",
      "metadata": {
        "id": "9Nf-kc-5P9aW"
      },
      "source": [
        "# Putting pattern and index in separate dataframe. Approach is to match user input with patterns. \n",
        "# Then use the index to get the correct response from responses dataframe.\n",
        "\n",
        "class Response:\n",
        "  def __init__(self, x, y):\n",
        "    self.x = x\n",
        "    self.y = y\n",
        "\n",
        "data_2 = pd.DataFrame()\n",
        "list_1 = []\n",
        "for index, row in data.iterrows():\n",
        "  for item in row['patterns_and_synonyms_lowercase_lammatized']:\n",
        "    list_1.append(Response(index, item))\n",
        "    # res = Response(index, item)\n",
        "    # Response.append(res)\n",
        "\n",
        "data_2 = pd.DataFrame([t.__dict__ for t in list_1 ])"
      ],
      "execution_count": 25,
      "outputs": []
    },
    {
      "cell_type": "code",
      "metadata": {
        "colab": {
          "base_uri": "https://localhost:8080/",
          "height": 359
        },
        "id": "6e3F5zqJTflh",
        "outputId": "1f5a9034-1884-45e3-cad4-1b03dc8ee769"
      },
      "source": [
        "data_2.head(10)"
      ],
      "execution_count": 26,
      "outputs": [
        {
          "output_type": "execute_result",
          "data": {
            "text/html": [
              "<div>\n",
              "<style scoped>\n",
              "    .dataframe tbody tr th:only-of-type {\n",
              "        vertical-align: middle;\n",
              "    }\n",
              "\n",
              "    .dataframe tbody tr th {\n",
              "        vertical-align: top;\n",
              "    }\n",
              "\n",
              "    .dataframe thead th {\n",
              "        text-align: right;\n",
              "    }\n",
              "</style>\n",
              "<table border=\"1\" class=\"dataframe\">\n",
              "  <thead>\n",
              "    <tr style=\"text-align: right;\">\n",
              "      <th></th>\n",
              "      <th>x</th>\n",
              "      <th>y</th>\n",
              "    </tr>\n",
              "  </thead>\n",
              "  <tbody>\n",
              "    <tr>\n",
              "      <th>0</th>\n",
              "      <td>0</td>\n",
              "      <td>hi</td>\n",
              "    </tr>\n",
              "    <tr>\n",
              "      <th>1</th>\n",
              "      <td>0</td>\n",
              "      <td>how are you</td>\n",
              "    </tr>\n",
              "    <tr>\n",
              "      <th>2</th>\n",
              "      <td>0</td>\n",
              "      <td>is anyone there</td>\n",
              "    </tr>\n",
              "    <tr>\n",
              "      <th>3</th>\n",
              "      <td>0</td>\n",
              "      <td>hello</td>\n",
              "    </tr>\n",
              "    <tr>\n",
              "      <th>4</th>\n",
              "      <td>0</td>\n",
              "      <td>whats up</td>\n",
              "    </tr>\n",
              "    <tr>\n",
              "      <th>5</th>\n",
              "      <td>0</td>\n",
              "      <td>hey</td>\n",
              "    </tr>\n",
              "    <tr>\n",
              "      <th>6</th>\n",
              "      <td>0</td>\n",
              "      <td>yo</td>\n",
              "    </tr>\n",
              "    <tr>\n",
              "      <th>7</th>\n",
              "      <td>0</td>\n",
              "      <td>listen</td>\n",
              "    </tr>\n",
              "    <tr>\n",
              "      <th>8</th>\n",
              "      <td>0</td>\n",
              "      <td>please help me</td>\n",
              "    </tr>\n",
              "    <tr>\n",
              "      <th>9</th>\n",
              "      <td>0</td>\n",
              "      <td>i am learner from</td>\n",
              "    </tr>\n",
              "  </tbody>\n",
              "</table>\n",
              "</div>"
            ],
            "text/plain": [
              "   x                  y\n",
              "0  0                 hi\n",
              "1  0        how are you\n",
              "2  0    is anyone there\n",
              "3  0              hello\n",
              "4  0           whats up\n",
              "5  0                hey\n",
              "6  0                 yo\n",
              "7  0             listen\n",
              "8  0     please help me\n",
              "9  0  i am learner from"
            ]
          },
          "metadata": {
            "tags": []
          },
          "execution_count": 26
        }
      ]
    },
    {
      "cell_type": "code",
      "metadata": {
        "id": "KHPPJ4hrzLeH"
      },
      "source": [
        "\n",
        "wnlemmatizer = nltk.stem.WordNetLemmatizer()\n",
        "\n",
        "def perform_lemmatization(tokens):\n",
        "    return [wnlemmatizer.lemmatize(token) for token in tokens]\n",
        "\n",
        "punctuation_removal = dict((ord(punctuation), None) for punctuation in string.punctuation)\n",
        "\n",
        "def get_processed_text(document):\n",
        "    return perform_lemmatization(nltk.word_tokenize(document.lower().translate(punctuation_removal)))"
      ],
      "execution_count": 27,
      "outputs": []
    },
    {
      "cell_type": "code",
      "metadata": {
        "id": "4cPNOPakU-AG"
      },
      "source": [
        "requests = data_2['y']\n",
        "def generate_response(user_input):\n",
        "    robo_response = ''\n",
        "    \n",
        "    list_ = [user_input]\n",
        "    ser = pd.Series(list_)\n",
        "    requests_1 = requests.append(ser)\n",
        "    word_vectorizer = TfidfVectorizer(tokenizer=get_processed_text)\n",
        "    all_word_vectors = word_vectorizer.fit_transform(requests_1)\n",
        "    similar_vector_values = cosine_similarity(all_word_vectors[-1], all_word_vectors)\n",
        "    similar_sentence_number = similar_vector_values.argsort()[0][-2]\n",
        "    matched_vector = similar_vector_values.flatten()\n",
        "    matched_vector.sort()\n",
        "    vector_matched = matched_vector[-2]\n",
        "\n",
        "    if vector_matched == 0:\n",
        "        robo_response = robo_response + \"I am sorry, I could not understand you\"\n",
        "        return robo_response\n",
        "    else:\n",
        "        robo_response = robo_response + requests_1[similar_sentence_number]\n",
        "        d1 = data_2[data_2['y'] == robo_response]\n",
        "        idx = d1.iloc[0]['x']\n",
        "        ans = data_1.iloc[idx]['responses']\n",
        "        return ans"
      ],
      "execution_count": 30,
      "outputs": []
    },
    {
      "cell_type": "code",
      "metadata": {
        "id": "YneN4XxTl6iR",
        "colab": {
          "base_uri": "https://localhost:8080/"
        },
        "outputId": "3a93278c-f13b-464c-bbe9-7bf82775eaf3"
      },
      "source": [
        "continue_dialogue = True\n",
        "print(\"Virtual Assistant : Hello, I am your virtual assistant. Let me know how can I help you today.\")\n",
        "while(continue_dialogue == True):\n",
        "    human_text = input()\n",
        "    human_text = human_text.lower()\n",
        "    if human_text != 'bye':\n",
        "      print(\"Virtual Assistant : \", generate_response(human_text))\n",
        "    else:\n",
        "      continue_dialogue = False\n",
        "      print(\"Virtual Assistant : Good bye and take care of yourself. Have a good day!\")\n",
        "\n",
        "print(\"Ciao!\")"
      ],
      "execution_count": 34,
      "outputs": [
        {
          "output_type": "stream",
          "text": [
            "Virtual Assistant : Hello, I am your virtual assistant. Let me know how can I help you today.\n",
            "I don't know about machine learning\n",
            "Virtual Assistant :  Link: Machine Learning wiki \n",
            "what is svm\n",
            "Virtual Assistant :  Link: Neural Nets wiki\n",
            "how does neural networks work\n",
            "Virtual Assistant :  Link: Neural Nets wiki\n",
            "I need to raise a ticket\n",
            "Virtual Assistant :  Tarnsferring the request to your PM\n",
            "help me with certification\n",
            "Virtual Assistant :  Hello! how can i help you ?\n",
            "what courses do you offer\n",
            "Virtual Assistant :  Hello! how can i help you ?\n",
            "hows does lstm\n",
            "Virtual Assistant :  I am sorry, I could not understand you\n",
            "ok bye\n",
            "Virtual Assistant :  I hope I was able to assist you, Good Bye\n",
            "bye\n",
            "Virtual Assistant : Good bye and take care of yourself. Have a good day!\n",
            "Ciao!\n"
          ],
          "name": "stdout"
        }
      ]
    },
    {
      "cell_type": "markdown",
      "metadata": {
        "id": "CxvxafnvvWIv"
      },
      "source": [
        "We can see clearly, that the bot doesn't perform very well. It's not a robust model, but it can answer basic questions. With a more volumnous corpus and better filter on Cosine Similarity, we can have a better performing bot!"
      ]
    }
  ]
}