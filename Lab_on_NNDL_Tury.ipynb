{
  "nbformat": 4,
  "nbformat_minor": 0,
  "metadata": {
    "colab": {
      "name": "Lab_on_NNDL_Tury.ipynb",
      "provenance": [],
      "collapsed_sections": []
    },
    "kernelspec": {
      "display_name": "Python 3",
      "language": "python",
      "name": "python3"
    },
    "language_info": {
      "codemirror_mode": {
        "name": "ipython",
        "version": 3
      },
      "file_extension": ".py",
      "mimetype": "text/x-python",
      "name": "python",
      "nbconvert_exporter": "python",
      "pygments_lexer": "ipython3",
      "version": "3.7.2"
    }
  },
  "cells": [
    {
      "cell_type": "markdown",
      "metadata": {
        "id": "YeoiMbH7djEv"
      },
      "source": [
        "# Stock prices dataset\n",
        "The data is of tock exchange's stock listings for each trading day of 2010 to 2016.\n",
        "\n",
        "## Description\n",
        "A brief description of columns.\n",
        "- open: The opening market price of the equity symbol on the date\n",
        "- high: The highest market price of the equity symbol on the date\n",
        "- low: The lowest recorded market price of the equity symbol on the date\n",
        "- close: The closing recorded price of the equity symbol on the date\n",
        "- symbol: Symbol of the listed company\n",
        "- volume: Total traded volume of the equity symbol on the date\n",
        "- date: Date of record"
      ]
    },
    {
      "cell_type": "markdown",
      "metadata": {
        "id": "RSoYY2nII_UW"
      },
      "source": [
        "In this assignment, we will work on the stock prices dataset named \"prices.csv\". Task is to create a Neural Network to classify closing price for a stock based on some parameters."
      ]
    },
    {
      "cell_type": "code",
      "metadata": {
        "id": "PGqq9f8VdLba"
      },
      "source": [
        "# Initialize the random number generator\n",
        "import random\n",
        "random.seed(0)\n",
        "\n",
        "# Ignore the warnings\n",
        "# import warnings\n",
        "# warnings.filterwarnings(\"ignore\")"
      ],
      "execution_count": 1,
      "outputs": []
    },
    {
      "cell_type": "markdown",
      "metadata": {
        "id": "_88voqAH-O6J"
      },
      "source": [
        "## Question 1"
      ]
    },
    {
      "cell_type": "markdown",
      "metadata": {
        "id": "dRHCeJqP-evf"
      },
      "source": [
        "### Load the data\n",
        "- load the csv file and read it using pandas\n",
        "- file name is prices.csv"
      ]
    },
    {
      "cell_type": "code",
      "metadata": {
        "id": "cKVH5v7r-RmC"
      },
      "source": [
        "# run this cell to upload file using GUI if you are using google colab\n",
        "\n",
        "# from google.colab import files\n",
        "# files.upload()"
      ],
      "execution_count": 2,
      "outputs": []
    },
    {
      "cell_type": "code",
      "metadata": {
        "id": "Gr4YcffYd1FQ",
        "colab": {
          "base_uri": "https://localhost:8080/"
        },
        "outputId": "5550da2c-db47-466a-e252-7b592b670a75"
      },
      "source": [
        "# run this cell to to mount the google drive if you are using google colab\n",
        "\n",
        "from google.colab import drive\n",
        "drive.mount('/content/drive/',force_remount=True)"
      ],
      "execution_count": 3,
      "outputs": [
        {
          "output_type": "stream",
          "text": [
            "Mounted at /content/drive/\n"
          ],
          "name": "stdout"
        }
      ]
    },
    {
      "cell_type": "code",
      "metadata": {
        "id": "xV__0IA3vwmJ"
      },
      "source": [
        "import pandas as pd\r\n",
        "import os"
      ],
      "execution_count": 4,
      "outputs": []
    },
    {
      "cell_type": "code",
      "metadata": {
        "colab": {
          "base_uri": "https://localhost:8080/",
          "height": 35
        },
        "id": "Qheg4t9QScTg",
        "outputId": "e0457de4-df05-499c-b07d-31ab5fa5a310"
      },
      "source": [
        "os.getcwd()\r\n",
        "# get working directory"
      ],
      "execution_count": 5,
      "outputs": [
        {
          "output_type": "execute_result",
          "data": {
            "application/vnd.google.colaboratory.intrinsic+json": {
              "type": "string"
            },
            "text/plain": [
              "'/content'"
            ]
          },
          "metadata": {
            "tags": []
          },
          "execution_count": 5
        }
      ]
    },
    {
      "cell_type": "code",
      "metadata": {
        "id": "uVHIijNrScFv"
      },
      "source": [
        "os.chdir('/content/drive/MyDrive/Intro to Neural Nets 2/Lab Assignment')\r\n",
        "# changing working directory"
      ],
      "execution_count": 6,
      "outputs": []
    },
    {
      "cell_type": "code",
      "metadata": {
        "colab": {
          "base_uri": "https://localhost:8080/",
          "height": 35
        },
        "id": "rObyZt5FSvl5",
        "outputId": "c860c4d1-2208-40ce-ca62-ac196d7daac5"
      },
      "source": [
        "os.getcwd()"
      ],
      "execution_count": 7,
      "outputs": [
        {
          "output_type": "execute_result",
          "data": {
            "application/vnd.google.colaboratory.intrinsic+json": {
              "type": "string"
            },
            "text/plain": [
              "'/content/drive/MyDrive/Intro to Neural Nets 2/Lab Assignment'"
            ]
          },
          "metadata": {
            "tags": []
          },
          "execution_count": 7
        }
      ]
    },
    {
      "cell_type": "code",
      "metadata": {
        "id": "esy3H7JvSvZ-"
      },
      "source": [
        "df = pd.read_csv('prices.csv')"
      ],
      "execution_count": 8,
      "outputs": []
    },
    {
      "cell_type": "code",
      "metadata": {
        "colab": {
          "base_uri": "https://localhost:8080/",
          "height": 195
        },
        "id": "hpbN2E55T5-D",
        "outputId": "c1443880-72ac-4e01-b1c6-ee6eac319269"
      },
      "source": [
        "df.head()"
      ],
      "execution_count": 9,
      "outputs": [
        {
          "output_type": "execute_result",
          "data": {
            "text/html": [
              "<div>\n",
              "<style scoped>\n",
              "    .dataframe tbody tr th:only-of-type {\n",
              "        vertical-align: middle;\n",
              "    }\n",
              "\n",
              "    .dataframe tbody tr th {\n",
              "        vertical-align: top;\n",
              "    }\n",
              "\n",
              "    .dataframe thead th {\n",
              "        text-align: right;\n",
              "    }\n",
              "</style>\n",
              "<table border=\"1\" class=\"dataframe\">\n",
              "  <thead>\n",
              "    <tr style=\"text-align: right;\">\n",
              "      <th></th>\n",
              "      <th>date</th>\n",
              "      <th>symbol</th>\n",
              "      <th>open</th>\n",
              "      <th>close</th>\n",
              "      <th>low</th>\n",
              "      <th>high</th>\n",
              "      <th>volume</th>\n",
              "    </tr>\n",
              "  </thead>\n",
              "  <tbody>\n",
              "    <tr>\n",
              "      <th>0</th>\n",
              "      <td>2016-01-05 00:00:00</td>\n",
              "      <td>WLTW</td>\n",
              "      <td>123.430000</td>\n",
              "      <td>125.839996</td>\n",
              "      <td>122.309998</td>\n",
              "      <td>126.250000</td>\n",
              "      <td>2163600.0</td>\n",
              "    </tr>\n",
              "    <tr>\n",
              "      <th>1</th>\n",
              "      <td>2016-01-06 00:00:00</td>\n",
              "      <td>WLTW</td>\n",
              "      <td>125.239998</td>\n",
              "      <td>119.980003</td>\n",
              "      <td>119.940002</td>\n",
              "      <td>125.540001</td>\n",
              "      <td>2386400.0</td>\n",
              "    </tr>\n",
              "    <tr>\n",
              "      <th>2</th>\n",
              "      <td>2016-01-07 00:00:00</td>\n",
              "      <td>WLTW</td>\n",
              "      <td>116.379997</td>\n",
              "      <td>114.949997</td>\n",
              "      <td>114.930000</td>\n",
              "      <td>119.739998</td>\n",
              "      <td>2489500.0</td>\n",
              "    </tr>\n",
              "    <tr>\n",
              "      <th>3</th>\n",
              "      <td>2016-01-08 00:00:00</td>\n",
              "      <td>WLTW</td>\n",
              "      <td>115.480003</td>\n",
              "      <td>116.620003</td>\n",
              "      <td>113.500000</td>\n",
              "      <td>117.440002</td>\n",
              "      <td>2006300.0</td>\n",
              "    </tr>\n",
              "    <tr>\n",
              "      <th>4</th>\n",
              "      <td>2016-01-11 00:00:00</td>\n",
              "      <td>WLTW</td>\n",
              "      <td>117.010002</td>\n",
              "      <td>114.970001</td>\n",
              "      <td>114.089996</td>\n",
              "      <td>117.330002</td>\n",
              "      <td>1408600.0</td>\n",
              "    </tr>\n",
              "  </tbody>\n",
              "</table>\n",
              "</div>"
            ],
            "text/plain": [
              "                  date symbol        open  ...         low        high     volume\n",
              "0  2016-01-05 00:00:00   WLTW  123.430000  ...  122.309998  126.250000  2163600.0\n",
              "1  2016-01-06 00:00:00   WLTW  125.239998  ...  119.940002  125.540001  2386400.0\n",
              "2  2016-01-07 00:00:00   WLTW  116.379997  ...  114.930000  119.739998  2489500.0\n",
              "3  2016-01-08 00:00:00   WLTW  115.480003  ...  113.500000  117.440002  2006300.0\n",
              "4  2016-01-11 00:00:00   WLTW  117.010002  ...  114.089996  117.330002  1408600.0\n",
              "\n",
              "[5 rows x 7 columns]"
            ]
          },
          "metadata": {
            "tags": []
          },
          "execution_count": 9
        }
      ]
    },
    {
      "cell_type": "markdown",
      "metadata": {
        "id": "HlLKVPVH_BCT"
      },
      "source": [
        "## Question 2"
      ]
    },
    {
      "cell_type": "markdown",
      "metadata": {
        "id": "ZxoGynuBeO4t"
      },
      "source": [
        "### Drop null\n",
        "- Drop null values if any"
      ]
    },
    {
      "cell_type": "code",
      "metadata": {
        "id": "_yuwJJIeeUaD",
        "colab": {
          "base_uri": "https://localhost:8080/"
        },
        "outputId": "42aa5007-037e-4f33-b639-69aa56211e80"
      },
      "source": [
        "df.isna().sum()\r\n",
        "# checking for null values in each column"
      ],
      "execution_count": 10,
      "outputs": [
        {
          "output_type": "execute_result",
          "data": {
            "text/plain": [
              "date      0\n",
              "symbol    0\n",
              "open      0\n",
              "close     0\n",
              "low       0\n",
              "high      0\n",
              "volume    0\n",
              "dtype: int64"
            ]
          },
          "metadata": {
            "tags": []
          },
          "execution_count": 10
        }
      ]
    },
    {
      "cell_type": "markdown",
      "metadata": {
        "id": "7IuMhy72Taoh"
      },
      "source": [
        "Since, there are no null values - no need to drop anything"
      ]
    },
    {
      "cell_type": "markdown",
      "metadata": {
        "id": "9J4BlzVA_gZd"
      },
      "source": [
        "### Drop columns\n",
        "- Now, we don't need \"date\", \"volume\" and \"symbol\" column\n",
        "- drop \"date\", \"volume\" and \"symbol\" column from the data\n"
      ]
    },
    {
      "cell_type": "code",
      "metadata": {
        "id": "IKEK8aEE_Csx",
        "colab": {
          "base_uri": "https://localhost:8080/",
          "height": 195
        },
        "outputId": "7c011816-9f46-4673-9c70-e82eede777e9"
      },
      "source": [
        "df1 = df.drop(axis=1, columns={'date','symbol','volume'})\r\n",
        "df1.head()"
      ],
      "execution_count": 11,
      "outputs": [
        {
          "output_type": "execute_result",
          "data": {
            "text/html": [
              "<div>\n",
              "<style scoped>\n",
              "    .dataframe tbody tr th:only-of-type {\n",
              "        vertical-align: middle;\n",
              "    }\n",
              "\n",
              "    .dataframe tbody tr th {\n",
              "        vertical-align: top;\n",
              "    }\n",
              "\n",
              "    .dataframe thead th {\n",
              "        text-align: right;\n",
              "    }\n",
              "</style>\n",
              "<table border=\"1\" class=\"dataframe\">\n",
              "  <thead>\n",
              "    <tr style=\"text-align: right;\">\n",
              "      <th></th>\n",
              "      <th>open</th>\n",
              "      <th>close</th>\n",
              "      <th>low</th>\n",
              "      <th>high</th>\n",
              "    </tr>\n",
              "  </thead>\n",
              "  <tbody>\n",
              "    <tr>\n",
              "      <th>0</th>\n",
              "      <td>123.430000</td>\n",
              "      <td>125.839996</td>\n",
              "      <td>122.309998</td>\n",
              "      <td>126.250000</td>\n",
              "    </tr>\n",
              "    <tr>\n",
              "      <th>1</th>\n",
              "      <td>125.239998</td>\n",
              "      <td>119.980003</td>\n",
              "      <td>119.940002</td>\n",
              "      <td>125.540001</td>\n",
              "    </tr>\n",
              "    <tr>\n",
              "      <th>2</th>\n",
              "      <td>116.379997</td>\n",
              "      <td>114.949997</td>\n",
              "      <td>114.930000</td>\n",
              "      <td>119.739998</td>\n",
              "    </tr>\n",
              "    <tr>\n",
              "      <th>3</th>\n",
              "      <td>115.480003</td>\n",
              "      <td>116.620003</td>\n",
              "      <td>113.500000</td>\n",
              "      <td>117.440002</td>\n",
              "    </tr>\n",
              "    <tr>\n",
              "      <th>4</th>\n",
              "      <td>117.010002</td>\n",
              "      <td>114.970001</td>\n",
              "      <td>114.089996</td>\n",
              "      <td>117.330002</td>\n",
              "    </tr>\n",
              "  </tbody>\n",
              "</table>\n",
              "</div>"
            ],
            "text/plain": [
              "         open       close         low        high\n",
              "0  123.430000  125.839996  122.309998  126.250000\n",
              "1  125.239998  119.980003  119.940002  125.540001\n",
              "2  116.379997  114.949997  114.930000  119.739998\n",
              "3  115.480003  116.620003  113.500000  117.440002\n",
              "4  117.010002  114.970001  114.089996  117.330002"
            ]
          },
          "metadata": {
            "tags": []
          },
          "execution_count": 11
        }
      ]
    },
    {
      "cell_type": "markdown",
      "metadata": {
        "id": "cTPhO6v-AiZt"
      },
      "source": [
        "## Question 3"
      ]
    },
    {
      "cell_type": "markdown",
      "metadata": {
        "id": "SsZXmF3NAkna"
      },
      "source": [
        "### Print the dataframe\n",
        "- print the modified dataframe"
      ]
    },
    {
      "cell_type": "code",
      "metadata": {
        "id": "aKs04iIHAjxN",
        "colab": {
          "base_uri": "https://localhost:8080/",
          "height": 402
        },
        "outputId": "17bae20d-6d88-40d2-d154-c7768177f654"
      },
      "source": [
        "df1"
      ],
      "execution_count": 12,
      "outputs": [
        {
          "output_type": "execute_result",
          "data": {
            "text/html": [
              "<div>\n",
              "<style scoped>\n",
              "    .dataframe tbody tr th:only-of-type {\n",
              "        vertical-align: middle;\n",
              "    }\n",
              "\n",
              "    .dataframe tbody tr th {\n",
              "        vertical-align: top;\n",
              "    }\n",
              "\n",
              "    .dataframe thead th {\n",
              "        text-align: right;\n",
              "    }\n",
              "</style>\n",
              "<table border=\"1\" class=\"dataframe\">\n",
              "  <thead>\n",
              "    <tr style=\"text-align: right;\">\n",
              "      <th></th>\n",
              "      <th>open</th>\n",
              "      <th>close</th>\n",
              "      <th>low</th>\n",
              "      <th>high</th>\n",
              "    </tr>\n",
              "  </thead>\n",
              "  <tbody>\n",
              "    <tr>\n",
              "      <th>0</th>\n",
              "      <td>123.430000</td>\n",
              "      <td>125.839996</td>\n",
              "      <td>122.309998</td>\n",
              "      <td>126.250000</td>\n",
              "    </tr>\n",
              "    <tr>\n",
              "      <th>1</th>\n",
              "      <td>125.239998</td>\n",
              "      <td>119.980003</td>\n",
              "      <td>119.940002</td>\n",
              "      <td>125.540001</td>\n",
              "    </tr>\n",
              "    <tr>\n",
              "      <th>2</th>\n",
              "      <td>116.379997</td>\n",
              "      <td>114.949997</td>\n",
              "      <td>114.930000</td>\n",
              "      <td>119.739998</td>\n",
              "    </tr>\n",
              "    <tr>\n",
              "      <th>3</th>\n",
              "      <td>115.480003</td>\n",
              "      <td>116.620003</td>\n",
              "      <td>113.500000</td>\n",
              "      <td>117.440002</td>\n",
              "    </tr>\n",
              "    <tr>\n",
              "      <th>4</th>\n",
              "      <td>117.010002</td>\n",
              "      <td>114.970001</td>\n",
              "      <td>114.089996</td>\n",
              "      <td>117.330002</td>\n",
              "    </tr>\n",
              "    <tr>\n",
              "      <th>...</th>\n",
              "      <td>...</td>\n",
              "      <td>...</td>\n",
              "      <td>...</td>\n",
              "      <td>...</td>\n",
              "    </tr>\n",
              "    <tr>\n",
              "      <th>851259</th>\n",
              "      <td>103.309998</td>\n",
              "      <td>103.199997</td>\n",
              "      <td>102.849998</td>\n",
              "      <td>103.930000</td>\n",
              "    </tr>\n",
              "    <tr>\n",
              "      <th>851260</th>\n",
              "      <td>43.070000</td>\n",
              "      <td>43.040001</td>\n",
              "      <td>42.689999</td>\n",
              "      <td>43.310001</td>\n",
              "    </tr>\n",
              "    <tr>\n",
              "      <th>851261</th>\n",
              "      <td>53.639999</td>\n",
              "      <td>53.529999</td>\n",
              "      <td>53.270000</td>\n",
              "      <td>53.740002</td>\n",
              "    </tr>\n",
              "    <tr>\n",
              "      <th>851262</th>\n",
              "      <td>44.730000</td>\n",
              "      <td>45.450001</td>\n",
              "      <td>44.410000</td>\n",
              "      <td>45.590000</td>\n",
              "    </tr>\n",
              "    <tr>\n",
              "      <th>851263</th>\n",
              "      <td>54.200001</td>\n",
              "      <td>53.630001</td>\n",
              "      <td>53.389999</td>\n",
              "      <td>54.480000</td>\n",
              "    </tr>\n",
              "  </tbody>\n",
              "</table>\n",
              "<p>851264 rows × 4 columns</p>\n",
              "</div>"
            ],
            "text/plain": [
              "              open       close         low        high\n",
              "0       123.430000  125.839996  122.309998  126.250000\n",
              "1       125.239998  119.980003  119.940002  125.540001\n",
              "2       116.379997  114.949997  114.930000  119.739998\n",
              "3       115.480003  116.620003  113.500000  117.440002\n",
              "4       117.010002  114.970001  114.089996  117.330002\n",
              "...            ...         ...         ...         ...\n",
              "851259  103.309998  103.199997  102.849998  103.930000\n",
              "851260   43.070000   43.040001   42.689999   43.310001\n",
              "851261   53.639999   53.529999   53.270000   53.740002\n",
              "851262   44.730000   45.450001   44.410000   45.590000\n",
              "851263   54.200001   53.630001   53.389999   54.480000\n",
              "\n",
              "[851264 rows x 4 columns]"
            ]
          },
          "metadata": {
            "tags": []
          },
          "execution_count": 12
        }
      ]
    },
    {
      "cell_type": "markdown",
      "metadata": {
        "id": "C8u_jlbABTip"
      },
      "source": [
        "### Get features and label from the dataset in separate variable\n",
        "- Let's separate labels and features now. We are going to predict the value for \"close\" column so that will be our label. Our features will be \"open\", \"low\", \"high\"\n",
        "- Take \"open\" \"low\", \"high\" columns as features\n",
        "- Take \"close\" column as label"
      ]
    },
    {
      "cell_type": "code",
      "metadata": {
        "id": "xQjCMzUXBJbg"
      },
      "source": [
        "X = df1.drop(axis=1,columns='close')\r\n",
        "y = df1['close']"
      ],
      "execution_count": 13,
      "outputs": []
    },
    {
      "cell_type": "code",
      "metadata": {
        "colab": {
          "base_uri": "https://localhost:8080/",
          "height": 195
        },
        "id": "Wv37q9uzV0-8",
        "outputId": "cefc3352-4d84-4f82-b49d-d6ffe0ad96da"
      },
      "source": [
        "X.head()"
      ],
      "execution_count": 14,
      "outputs": [
        {
          "output_type": "execute_result",
          "data": {
            "text/html": [
              "<div>\n",
              "<style scoped>\n",
              "    .dataframe tbody tr th:only-of-type {\n",
              "        vertical-align: middle;\n",
              "    }\n",
              "\n",
              "    .dataframe tbody tr th {\n",
              "        vertical-align: top;\n",
              "    }\n",
              "\n",
              "    .dataframe thead th {\n",
              "        text-align: right;\n",
              "    }\n",
              "</style>\n",
              "<table border=\"1\" class=\"dataframe\">\n",
              "  <thead>\n",
              "    <tr style=\"text-align: right;\">\n",
              "      <th></th>\n",
              "      <th>open</th>\n",
              "      <th>low</th>\n",
              "      <th>high</th>\n",
              "    </tr>\n",
              "  </thead>\n",
              "  <tbody>\n",
              "    <tr>\n",
              "      <th>0</th>\n",
              "      <td>123.430000</td>\n",
              "      <td>122.309998</td>\n",
              "      <td>126.250000</td>\n",
              "    </tr>\n",
              "    <tr>\n",
              "      <th>1</th>\n",
              "      <td>125.239998</td>\n",
              "      <td>119.940002</td>\n",
              "      <td>125.540001</td>\n",
              "    </tr>\n",
              "    <tr>\n",
              "      <th>2</th>\n",
              "      <td>116.379997</td>\n",
              "      <td>114.930000</td>\n",
              "      <td>119.739998</td>\n",
              "    </tr>\n",
              "    <tr>\n",
              "      <th>3</th>\n",
              "      <td>115.480003</td>\n",
              "      <td>113.500000</td>\n",
              "      <td>117.440002</td>\n",
              "    </tr>\n",
              "    <tr>\n",
              "      <th>4</th>\n",
              "      <td>117.010002</td>\n",
              "      <td>114.089996</td>\n",
              "      <td>117.330002</td>\n",
              "    </tr>\n",
              "  </tbody>\n",
              "</table>\n",
              "</div>"
            ],
            "text/plain": [
              "         open         low        high\n",
              "0  123.430000  122.309998  126.250000\n",
              "1  125.239998  119.940002  125.540001\n",
              "2  116.379997  114.930000  119.739998\n",
              "3  115.480003  113.500000  117.440002\n",
              "4  117.010002  114.089996  117.330002"
            ]
          },
          "metadata": {
            "tags": []
          },
          "execution_count": 14
        }
      ]
    },
    {
      "cell_type": "code",
      "metadata": {
        "colab": {
          "base_uri": "https://localhost:8080/"
        },
        "id": "U7YebPY1V8nE",
        "outputId": "ab3865bd-f1f6-4fdd-c7d6-40f337efe0cd"
      },
      "source": [
        "y.head()"
      ],
      "execution_count": 15,
      "outputs": [
        {
          "output_type": "execute_result",
          "data": {
            "text/plain": [
              "0    125.839996\n",
              "1    119.980003\n",
              "2    114.949997\n",
              "3    116.620003\n",
              "4    114.970001\n",
              "Name: close, dtype: float64"
            ]
          },
          "metadata": {
            "tags": []
          },
          "execution_count": 15
        }
      ]
    },
    {
      "cell_type": "markdown",
      "metadata": {
        "id": "6vGtnapgBIJm"
      },
      "source": [
        "## Question 4"
      ]
    },
    {
      "cell_type": "markdown",
      "metadata": {
        "id": "8pZAKdJ5gcrm"
      },
      "source": [
        "### Create train and test sets\n",
        "- Split the data into training and testing"
      ]
    },
    {
      "cell_type": "code",
      "metadata": {
        "id": "KalRqA6Rgqsn"
      },
      "source": [
        "from sklearn.model_selection import train_test_split\r\n",
        "X_train, X_test, y_train, y_test = train_test_split(X,y,test_size = 0.30,random_state=10)"
      ],
      "execution_count": 19,
      "outputs": []
    },
    {
      "cell_type": "code",
      "metadata": {
        "colab": {
          "base_uri": "https://localhost:8080/"
        },
        "id": "F-Lz162MYxgw",
        "outputId": "353013e0-718f-4cb0-b984-69f338b3cefc"
      },
      "source": [
        "X_train.shape"
      ],
      "execution_count": 20,
      "outputs": [
        {
          "output_type": "execute_result",
          "data": {
            "text/plain": [
              "(595884, 3)"
            ]
          },
          "metadata": {
            "tags": []
          },
          "execution_count": 20
        }
      ]
    },
    {
      "cell_type": "code",
      "metadata": {
        "colab": {
          "base_uri": "https://localhost:8080/"
        },
        "id": "xGtjOUaNYxRE",
        "outputId": "42d91b7b-da14-40be-c013-ca90dca3406e"
      },
      "source": [
        "X_test.shape"
      ],
      "execution_count": 21,
      "outputs": [
        {
          "output_type": "execute_result",
          "data": {
            "text/plain": [
              "(255380, 3)"
            ]
          },
          "metadata": {
            "tags": []
          },
          "execution_count": 21
        }
      ]
    },
    {
      "cell_type": "code",
      "metadata": {
        "colab": {
          "base_uri": "https://localhost:8080/"
        },
        "id": "C1OAhxrKY3dr",
        "outputId": "825bc041-2711-4443-bd67-85bf68747945"
      },
      "source": [
        "y_train.shape"
      ],
      "execution_count": 22,
      "outputs": [
        {
          "output_type": "execute_result",
          "data": {
            "text/plain": [
              "(595884,)"
            ]
          },
          "metadata": {
            "tags": []
          },
          "execution_count": 22
        }
      ]
    },
    {
      "cell_type": "code",
      "metadata": {
        "colab": {
          "base_uri": "https://localhost:8080/"
        },
        "id": "vU0lNyWyY3Q_",
        "outputId": "990c6dc3-7b87-44ad-8b3a-e65001eab1c0"
      },
      "source": [
        "y_test.shape"
      ],
      "execution_count": 23,
      "outputs": [
        {
          "output_type": "execute_result",
          "data": {
            "text/plain": [
              "(255380,)"
            ]
          },
          "metadata": {
            "tags": []
          },
          "execution_count": 23
        }
      ]
    },
    {
      "cell_type": "markdown",
      "metadata": {
        "id": "aTAKzlxZBz0z"
      },
      "source": [
        "## Question 5"
      ]
    },
    {
      "cell_type": "markdown",
      "metadata": {
        "id": "O7BU2qxEg0Ki"
      },
      "source": [
        "### Scaling\n",
        "- Scale the data (features only)\n",
        "- Use StandarScaler"
      ]
    },
    {
      "cell_type": "code",
      "metadata": {
        "id": "AcO8SlhPhBkR"
      },
      "source": [
        "from sklearn.preprocessing import StandardScaler\r\n",
        "scaler = StandardScaler()\r\n",
        "X_train_sc = scaler.fit_transform(X_train)\r\n",
        "X_test_sc = scaler.transform(X_test)"
      ],
      "execution_count": 25,
      "outputs": []
    },
    {
      "cell_type": "code",
      "metadata": {
        "colab": {
          "base_uri": "https://localhost:8080/"
        },
        "id": "U0mcNx5KaI-L",
        "outputId": "476b0086-a104-4a6b-ffd6-0d23c77022c8"
      },
      "source": [
        "X_train_sc"
      ],
      "execution_count": 26,
      "outputs": [
        {
          "output_type": "execute_result",
          "data": {
            "text/plain": [
              "array([[-0.18066333, -0.17499134, -0.18062612],\n",
              "       [ 1.07367034,  1.05975655,  1.05661349],\n",
              "       [ 0.93261591,  0.94551272,  0.94321271],\n",
              "       ...,\n",
              "       [ 0.07817502,  0.08097235,  0.07656551],\n",
              "       [ 0.20836981,  0.21244906,  0.20013579],\n",
              "       [-0.19438687, -0.19644215, -0.19635322]])"
            ]
          },
          "metadata": {
            "tags": []
          },
          "execution_count": 26
        }
      ]
    },
    {
      "cell_type": "markdown",
      "metadata": {
        "id": "3TWpN0nVTpUx"
      },
      "source": [
        "## Question 6"
      ]
    },
    {
      "cell_type": "markdown",
      "metadata": {
        "id": "_sj0LYNkhR-L"
      },
      "source": [
        "### Convert data to NumPy array\n",
        "- Convert features and labels to numpy array"
      ]
    },
    {
      "cell_type": "code",
      "metadata": {
        "id": "X6mIfuTxhbTT",
        "colab": {
          "base_uri": "https://localhost:8080/"
        },
        "outputId": "7e00fe86-94af-4be6-ad6e-208b163747ba"
      },
      "source": [
        "type(X_train_sc)\r\n",
        "# checking type"
      ],
      "execution_count": 29,
      "outputs": [
        {
          "output_type": "execute_result",
          "data": {
            "text/plain": [
              "numpy.ndarray"
            ]
          },
          "metadata": {
            "tags": []
          },
          "execution_count": 29
        }
      ]
    },
    {
      "cell_type": "markdown",
      "metadata": {
        "id": "NGzwpfrJayl4"
      },
      "source": [
        "Already a np array - no change needed"
      ]
    },
    {
      "cell_type": "code",
      "metadata": {
        "colab": {
          "base_uri": "https://localhost:8080/"
        },
        "id": "lNz2E8v0a1m-",
        "outputId": "777cafac-0560-4d1a-9377-38150307cfa3"
      },
      "source": [
        "type(y_train)\r\n",
        "# checking type"
      ],
      "execution_count": 28,
      "outputs": [
        {
          "output_type": "execute_result",
          "data": {
            "text/plain": [
              "pandas.core.series.Series"
            ]
          },
          "metadata": {
            "tags": []
          },
          "execution_count": 28
        }
      ]
    },
    {
      "cell_type": "code",
      "metadata": {
        "id": "UZZEG4YaaW2M"
      },
      "source": [
        "import numpy as np\r\n",
        "y_train = np.array(y_train)\r\n",
        "y_test = np.array(y_test)\r\n",
        "# changing type as np array"
      ],
      "execution_count": 32,
      "outputs": []
    },
    {
      "cell_type": "code",
      "metadata": {
        "colab": {
          "base_uri": "https://localhost:8080/"
        },
        "id": "KnTaZk--aWsU",
        "outputId": "bc964b39-2ce1-47a8-851e-fb4c3aa8a154"
      },
      "source": [
        "type(y_train)"
      ],
      "execution_count": 33,
      "outputs": [
        {
          "output_type": "execute_result",
          "data": {
            "text/plain": [
              "numpy.ndarray"
            ]
          },
          "metadata": {
            "tags": []
          },
          "execution_count": 33
        }
      ]
    },
    {
      "cell_type": "markdown",
      "metadata": {
        "id": "wmXUGc2oTspa"
      },
      "source": [
        "## Question 7"
      ]
    },
    {
      "cell_type": "markdown",
      "metadata": {
        "id": "cl2M9whFh6mh"
      },
      "source": [
        "### Define Model\n",
        "- Initialize a Sequential model\n",
        "- Add a Flatten layer\n",
        "- Add a Dense layer with one neuron as output\n",
        "  - add 'linear' as activation function\n"
      ]
    },
    {
      "cell_type": "code",
      "metadata": {
        "id": "TkiBpORmiegL"
      },
      "source": [
        "from tensorflow.keras.models import Sequential\r\n",
        "from tensorflow.keras.layers import Flatten, Dense"
      ],
      "execution_count": 34,
      "outputs": []
    },
    {
      "cell_type": "code",
      "metadata": {
        "id": "T24QfujNdOyC"
      },
      "source": [
        "model = Sequential(\r\n",
        "    [Flatten(),\r\n",
        "     Dense(1, activation='linear')]\r\n",
        ")"
      ],
      "execution_count": 35,
      "outputs": []
    },
    {
      "cell_type": "markdown",
      "metadata": {
        "id": "8a0wr94aTyjg"
      },
      "source": [
        "## Question 8"
      ]
    },
    {
      "cell_type": "markdown",
      "metadata": {
        "id": "BNZPb5lKioX0"
      },
      "source": [
        "### Compile the model\n",
        "- Compile the model\n",
        "- Use \"sgd\" optimizer\n",
        "- for calculating loss, use mean squared error"
      ]
    },
    {
      "cell_type": "code",
      "metadata": {
        "id": "ZEQUP3VaiuT2"
      },
      "source": [
        "from tensorflow.keras import optimizers\r\n",
        "sgd = optimizers.SGD()\r\n",
        "model.compile(optimizer=sgd,loss='MSE',metrics='accuracy')"
      ],
      "execution_count": 36,
      "outputs": []
    },
    {
      "cell_type": "markdown",
      "metadata": {
        "id": "ZbBpnOtfT0wd"
      },
      "source": [
        "## Question 9"
      ]
    },
    {
      "cell_type": "markdown",
      "metadata": {
        "id": "n9o45OHdjDhA"
      },
      "source": [
        "### Fit the model\n",
        "- epochs: 50\n",
        "- batch size: 128\n",
        "- specify validation data"
      ]
    },
    {
      "cell_type": "code",
      "metadata": {
        "id": "-Y6tA30XjOH2",
        "colab": {
          "base_uri": "https://localhost:8080/"
        },
        "outputId": "7c17597b-a86c-4cf2-c60b-cc139a195546"
      },
      "source": [
        "model.fit(x=X_train_sc, y=y_train, batch_size=128, epochs=50, callbacks=None, validation_data=(X_test_sc,y_test), initial_epoch=0)"
      ],
      "execution_count": 37,
      "outputs": [
        {
          "output_type": "stream",
          "text": [
            "Epoch 1/50\n",
            "4656/4656 [==============================] - 5s 1ms/step - loss: 238.0744 - accuracy: 2.0497e-06 - val_loss: 0.9775 - val_accuracy: 0.0000e+00\n",
            "Epoch 2/50\n",
            "4656/4656 [==============================] - 4s 936us/step - loss: 0.9749 - accuracy: 3.5970e-06 - val_loss: 0.9717 - val_accuracy: 0.0000e+00\n",
            "Epoch 3/50\n",
            "4656/4656 [==============================] - 4s 941us/step - loss: 0.9921 - accuracy: 3.8846e-06 - val_loss: 0.9663 - val_accuracy: 0.0000e+00\n",
            "Epoch 4/50\n",
            "4656/4656 [==============================] - 4s 928us/step - loss: 0.9615 - accuracy: 8.3416e-06 - val_loss: 0.9578 - val_accuracy: 0.0000e+00\n",
            "Epoch 5/50\n",
            "4656/4656 [==============================] - 5s 967us/step - loss: 0.9463 - accuracy: 2.4742e-06 - val_loss: 0.9544 - val_accuracy: 0.0000e+00\n",
            "Epoch 6/50\n",
            "4656/4656 [==============================] - 4s 928us/step - loss: 0.9167 - accuracy: 8.9090e-07 - val_loss: 0.9447 - val_accuracy: 0.0000e+00\n",
            "Epoch 7/50\n",
            "4656/4656 [==============================] - 4s 941us/step - loss: 0.9158 - accuracy: 4.0737e-06 - val_loss: 0.9482 - val_accuracy: 0.0000e+00\n",
            "Epoch 8/50\n",
            "4656/4656 [==============================] - 4s 941us/step - loss: 0.9209 - accuracy: 3.5279e-06 - val_loss: 0.9668 - val_accuracy: 0.0000e+00\n",
            "Epoch 9/50\n",
            "4656/4656 [==============================] - 4s 937us/step - loss: 0.9291 - accuracy: 2.3990e-06 - val_loss: 0.9457 - val_accuracy: 0.0000e+00\n",
            "Epoch 10/50\n",
            "4656/4656 [==============================] - 4s 945us/step - loss: 0.9213 - accuracy: 1.7785e-06 - val_loss: 0.9396 - val_accuracy: 0.0000e+00\n",
            "Epoch 11/50\n",
            "4656/4656 [==============================] - 4s 955us/step - loss: 0.8899 - accuracy: 1.5606e-06 - val_loss: 0.9133 - val_accuracy: 0.0000e+00\n",
            "Epoch 12/50\n",
            "4656/4656 [==============================] - 4s 952us/step - loss: 0.8883 - accuracy: 7.6364e-06 - val_loss: 0.9296 - val_accuracy: 0.0000e+00\n",
            "Epoch 13/50\n",
            "4656/4656 [==============================] - 4s 949us/step - loss: 0.9053 - accuracy: 3.5006e-06 - val_loss: 0.9013 - val_accuracy: 0.0000e+00\n",
            "Epoch 14/50\n",
            "4656/4656 [==============================] - 4s 933us/step - loss: 0.9047 - accuracy: 7.4658e-06 - val_loss: 0.8963 - val_accuracy: 0.0000e+00\n",
            "Epoch 15/50\n",
            "4656/4656 [==============================] - 4s 934us/step - loss: 0.8778 - accuracy: 8.4332e-06 - val_loss: 0.8897 - val_accuracy: 0.0000e+00\n",
            "Epoch 16/50\n",
            "4656/4656 [==============================] - 4s 937us/step - loss: 0.8689 - accuracy: 6.0725e-06 - val_loss: 0.8837 - val_accuracy: 0.0000e+00\n",
            "Epoch 17/50\n",
            "4656/4656 [==============================] - 4s 933us/step - loss: 0.8631 - accuracy: 4.3157e-06 - val_loss: 0.8906 - val_accuracy: 0.0000e+00\n",
            "Epoch 18/50\n",
            "4656/4656 [==============================] - 4s 941us/step - loss: 0.8534 - accuracy: 2.3140e-06 - val_loss: 0.8908 - val_accuracy: 0.0000e+00\n",
            "Epoch 19/50\n",
            "4656/4656 [==============================] - 4s 951us/step - loss: 0.8587 - accuracy: 2.7721e-06 - val_loss: 0.8687 - val_accuracy: 0.0000e+00\n",
            "Epoch 20/50\n",
            "4656/4656 [==============================] - 4s 942us/step - loss: 0.8372 - accuracy: 2.0913e-06 - val_loss: 0.8667 - val_accuracy: 0.0000e+00\n",
            "Epoch 21/50\n",
            "4656/4656 [==============================] - 4s 937us/step - loss: 0.8463 - accuracy: 3.2555e-06 - val_loss: 0.8626 - val_accuracy: 0.0000e+00\n",
            "Epoch 22/50\n",
            "4656/4656 [==============================] - 4s 932us/step - loss: 0.8245 - accuracy: 4.9641e-06 - val_loss: 0.9547 - val_accuracy: 0.0000e+00\n",
            "Epoch 23/50\n",
            "4656/4656 [==============================] - 4s 951us/step - loss: 0.8380 - accuracy: 3.3167e-06 - val_loss: 0.8523 - val_accuracy: 0.0000e+00\n",
            "Epoch 24/50\n",
            "4656/4656 [==============================] - 4s 922us/step - loss: 0.8176 - accuracy: 2.9315e-06 - val_loss: 0.8732 - val_accuracy: 0.0000e+00\n",
            "Epoch 25/50\n",
            "4656/4656 [==============================] - 4s 920us/step - loss: 0.8235 - accuracy: 1.4145e-05 - val_loss: 0.8362 - val_accuracy: 0.0000e+00\n",
            "Epoch 26/50\n",
            "4656/4656 [==============================] - 4s 947us/step - loss: 0.8171 - accuracy: 4.3583e-06 - val_loss: 0.8394 - val_accuracy: 0.0000e+00\n",
            "Epoch 27/50\n",
            "4656/4656 [==============================] - 4s 946us/step - loss: 0.8143 - accuracy: 1.2137e-06 - val_loss: 0.8320 - val_accuracy: 0.0000e+00\n",
            "Epoch 28/50\n",
            "4656/4656 [==============================] - 4s 922us/step - loss: 0.8228 - accuracy: 8.3616e-06 - val_loss: 0.8290 - val_accuracy: 0.0000e+00\n",
            "Epoch 29/50\n",
            "4656/4656 [==============================] - 4s 950us/step - loss: 0.8004 - accuracy: 6.9391e-06 - val_loss: 0.8197 - val_accuracy: 0.0000e+00\n",
            "Epoch 30/50\n",
            "4656/4656 [==============================] - 5s 975us/step - loss: 0.8104 - accuracy: 3.5130e-06 - val_loss: 0.8176 - val_accuracy: 0.0000e+00\n",
            "Epoch 31/50\n",
            "4656/4656 [==============================] - 4s 932us/step - loss: 0.7868 - accuracy: 4.4539e-06 - val_loss: 0.8190 - val_accuracy: 0.0000e+00\n",
            "Epoch 32/50\n",
            "4656/4656 [==============================] - 4s 944us/step - loss: 0.7928 - accuracy: 6.3205e-06 - val_loss: 0.8334 - val_accuracy: 0.0000e+00\n",
            "Epoch 33/50\n",
            "4656/4656 [==============================] - 4s 957us/step - loss: 0.7940 - accuracy: 6.6671e-06 - val_loss: 0.7976 - val_accuracy: 0.0000e+00\n",
            "Epoch 34/50\n",
            "4656/4656 [==============================] - 4s 940us/step - loss: 0.7701 - accuracy: 5.9180e-06 - val_loss: 0.8388 - val_accuracy: 0.0000e+00\n",
            "Epoch 35/50\n",
            "4656/4656 [==============================] - 4s 928us/step - loss: 0.8009 - accuracy: 4.5760e-06 - val_loss: 0.7899 - val_accuracy: 0.0000e+00\n",
            "Epoch 36/50\n",
            "4656/4656 [==============================] - 4s 924us/step - loss: 0.7858 - accuracy: 1.2361e-05 - val_loss: 0.7834 - val_accuracy: 0.0000e+00\n",
            "Epoch 37/50\n",
            "4656/4656 [==============================] - 4s 945us/step - loss: 0.7634 - accuracy: 3.7351e-06 - val_loss: 0.7862 - val_accuracy: 0.0000e+00\n",
            "Epoch 38/50\n",
            "4656/4656 [==============================] - 4s 939us/step - loss: 0.7240 - accuracy: 6.0437e-06 - val_loss: 0.7744 - val_accuracy: 0.0000e+00\n",
            "Epoch 39/50\n",
            "4656/4656 [==============================] - 4s 932us/step - loss: 0.7808 - accuracy: 5.2426e-06 - val_loss: 0.7706 - val_accuracy: 0.0000e+00\n",
            "Epoch 40/50\n",
            "4656/4656 [==============================] - 4s 919us/step - loss: 0.7603 - accuracy: 2.1296e-06 - val_loss: 0.7672 - val_accuracy: 0.0000e+00\n",
            "Epoch 41/50\n",
            "4656/4656 [==============================] - 4s 954us/step - loss: 0.7578 - accuracy: 3.9125e-06 - val_loss: 0.7619 - val_accuracy: 0.0000e+00\n",
            "Epoch 42/50\n",
            "4656/4656 [==============================] - 4s 937us/step - loss: 0.7470 - accuracy: 3.3491e-06 - val_loss: 0.7595 - val_accuracy: 0.0000e+00\n",
            "Epoch 43/50\n",
            "4656/4656 [==============================] - 4s 927us/step - loss: 0.7726 - accuracy: 2.7399e-06 - val_loss: 0.7534 - val_accuracy: 0.0000e+00\n",
            "Epoch 44/50\n",
            "4656/4656 [==============================] - 4s 935us/step - loss: 0.7579 - accuracy: 2.5937e-06 - val_loss: 0.7493 - val_accuracy: 0.0000e+00\n",
            "Epoch 45/50\n",
            "4656/4656 [==============================] - 5s 983us/step - loss: 0.7457 - accuracy: 7.4596e-06 - val_loss: 0.8456 - val_accuracy: 0.0000e+00\n",
            "Epoch 46/50\n",
            "4656/4656 [==============================] - 5s 987us/step - loss: 0.7282 - accuracy: 3.4625e-06 - val_loss: 0.7416 - val_accuracy: 0.0000e+00\n",
            "Epoch 47/50\n",
            "4656/4656 [==============================] - 5s 976us/step - loss: 0.7255 - accuracy: 6.9896e-06 - val_loss: 0.7389 - val_accuracy: 0.0000e+00\n",
            "Epoch 48/50\n",
            "4656/4656 [==============================] - 4s 929us/step - loss: 0.7311 - accuracy: 5.4003e-07 - val_loss: 0.7387 - val_accuracy: 0.0000e+00\n",
            "Epoch 49/50\n",
            "4656/4656 [==============================] - 4s 929us/step - loss: 0.7223 - accuracy: 3.2737e-06 - val_loss: 0.7549 - val_accuracy: 0.0000e+00\n",
            "Epoch 50/50\n",
            "4656/4656 [==============================] - 4s 930us/step - loss: 0.7294 - accuracy: 6.8610e-06 - val_loss: 0.7261 - val_accuracy: 0.0000e+00\n"
          ],
          "name": "stdout"
        },
        {
          "output_type": "execute_result",
          "data": {
            "text/plain": [
              "<tensorflow.python.keras.callbacks.History at 0x7f20d110f898>"
            ]
          },
          "metadata": {
            "tags": []
          },
          "execution_count": 37
        }
      ]
    },
    {
      "cell_type": "markdown",
      "metadata": {
        "id": "AW4SEP8kT2ls"
      },
      "source": [
        "## Question 10"
      ]
    },
    {
      "cell_type": "markdown",
      "metadata": {
        "id": "EJDoix_7JU61"
      },
      "source": [
        "### Evaluate the model\n",
        "- Evaluate the model on test data"
      ]
    },
    {
      "cell_type": "code",
      "metadata": {
        "colab": {
          "base_uri": "https://localhost:8080/"
        },
        "id": "uGedcVCvic2W",
        "outputId": "00a80ed8-7f12-458d-d86f-85da11e945c6"
      },
      "source": [
        "model.evaluate(X_test_sc,y_test)\r\n",
        "# evaluation in terms of loss"
      ],
      "execution_count": 41,
      "outputs": [
        {
          "output_type": "stream",
          "text": [
            "7981/7981 [==============================] - 5s 611us/step - loss: 0.7261 - accuracy: 0.0000e+00\n"
          ],
          "name": "stdout"
        },
        {
          "output_type": "execute_result",
          "data": {
            "text/plain": [
              "[0.7261055707931519, 0.0]"
            ]
          },
          "metadata": {
            "tags": []
          },
          "execution_count": 41
        }
      ]
    },
    {
      "cell_type": "markdown",
      "metadata": {
        "id": "hUpDD74Xjh01"
      },
      "source": [
        "### Manual predictions\n",
        "- Test the predictions on manual inputs\n",
        "- We have scaled out training data, so we need to transform our custom inputs using the object of the scaler\n",
        "- Example of manual input: [123.430000,\t122.30999, 116.250000]"
      ]
    },
    {
      "cell_type": "code",
      "metadata": {
        "id": "HdH8pYBIjHGL",
        "colab": {
          "base_uri": "https://localhost:8080/"
        },
        "outputId": "8efa741c-285a-450d-bdbf-a462999b1ac6"
      },
      "source": [
        "# checking expected input shape of the model\r\n",
        "model.input"
      ],
      "execution_count": 38,
      "outputs": [
        {
          "output_type": "execute_result",
          "data": {
            "text/plain": [
              "<KerasTensor: shape=(None, 3) dtype=float32 (created by layer 'flatten_input')>"
            ]
          },
          "metadata": {
            "tags": []
          },
          "execution_count": 38
        }
      ]
    },
    {
      "cell_type": "code",
      "metadata": {
        "id": "fvuH-c31lLiJ",
        "colab": {
          "base_uri": "https://localhost:8080/"
        },
        "outputId": "7a9948cd-6257-49e0-8fe2-dfde709488e6"
      },
      "source": [
        "model.predict(scaler.transform([[109.21,96.99,178.87]]))"
      ],
      "execution_count": 45,
      "outputs": [
        {
          "output_type": "execute_result",
          "data": {
            "text/plain": [
              "array([[134.1858]], dtype=float32)"
            ]
          },
          "metadata": {
            "tags": []
          },
          "execution_count": 45
        }
      ]
    },
    {
      "cell_type": "markdown",
      "metadata": {
        "id": "4WH1Pr4KQlCh"
      },
      "source": [
        "# Build a DNN"
      ]
    },
    {
      "cell_type": "markdown",
      "metadata": {
        "id": "74cQBsi5QlCw"
      },
      "source": [
        "### Collect Fashion mnist data from tf.keras.datasets "
      ]
    },
    {
      "cell_type": "code",
      "metadata": {
        "id": "wVWy0oDTr2Kj"
      },
      "source": [
        "import tensorflow as tf"
      ],
      "execution_count": 46,
      "outputs": []
    },
    {
      "cell_type": "code",
      "metadata": {
        "id": "_0XoVNMVn38n"
      },
      "source": [
        "(trainX,trainy),(testX,testy) = tf.keras.datasets.fashion_mnist.load_data()"
      ],
      "execution_count": 51,
      "outputs": []
    },
    {
      "cell_type": "markdown",
      "metadata": {
        "id": "no7aWYZyQlC1"
      },
      "source": [
        "### Change train and test labels into one-hot vectors"
      ]
    },
    {
      "cell_type": "code",
      "metadata": {
        "id": "UX6otc4wQlC2",
        "colab": {
          "base_uri": "https://localhost:8080/"
        },
        "outputId": "d2546ce2-3529-4fd5-f39f-3867d538af68"
      },
      "source": [
        "trainX.shape"
      ],
      "execution_count": 52,
      "outputs": [
        {
          "output_type": "execute_result",
          "data": {
            "text/plain": [
              "(60000, 28, 28)"
            ]
          },
          "metadata": {
            "tags": []
          },
          "execution_count": 52
        }
      ]
    },
    {
      "cell_type": "code",
      "metadata": {
        "colab": {
          "base_uri": "https://localhost:8080/"
        },
        "id": "5G5-_L0MoF4C",
        "outputId": "09e3dc80-e60f-49f1-b2d9-90fa386798b9"
      },
      "source": [
        "trainy.shape"
      ],
      "execution_count": 53,
      "outputs": [
        {
          "output_type": "execute_result",
          "data": {
            "text/plain": [
              "(60000,)"
            ]
          },
          "metadata": {
            "tags": []
          },
          "execution_count": 53
        }
      ]
    },
    {
      "cell_type": "code",
      "metadata": {
        "colab": {
          "base_uri": "https://localhost:8080/"
        },
        "id": "Oscm6pTEoF1e",
        "outputId": "b1435c2d-dad4-4f93-efa5-598da06d191d"
      },
      "source": [
        "trainy[0]"
      ],
      "execution_count": 54,
      "outputs": [
        {
          "output_type": "execute_result",
          "data": {
            "text/plain": [
              "9"
            ]
          },
          "metadata": {
            "tags": []
          },
          "execution_count": 54
        }
      ]
    },
    {
      "cell_type": "code",
      "metadata": {
        "id": "vDYZ2CmzoF8B"
      },
      "source": [
        "trainy = tf.keras.utils.to_categorical(trainy, num_classes=10)\r\n",
        "testy = tf.keras.utils.to_categorical(testy, num_classes=10)\r\n",
        "# changing labels into one-hot vectors"
      ],
      "execution_count": 55,
      "outputs": []
    },
    {
      "cell_type": "code",
      "metadata": {
        "colab": {
          "base_uri": "https://localhost:8080/"
        },
        "id": "TzNJdhx1oFyZ",
        "outputId": "4acc393c-535b-4f3e-cb96-083895320c02"
      },
      "source": [
        "trainy[0]"
      ],
      "execution_count": 56,
      "outputs": [
        {
          "output_type": "execute_result",
          "data": {
            "text/plain": [
              "array([0., 0., 0., 0., 0., 0., 0., 0., 0., 1.], dtype=float32)"
            ]
          },
          "metadata": {
            "tags": []
          },
          "execution_count": 56
        }
      ]
    },
    {
      "cell_type": "markdown",
      "metadata": {
        "id": "QjNrRTdoQlC5"
      },
      "source": [
        "### Build the Graph"
      ]
    },
    {
      "cell_type": "markdown",
      "metadata": {
        "id": "CDJ9DHVNQlC7"
      },
      "source": [
        "### Initialize model, reshape & normalize data"
      ]
    },
    {
      "cell_type": "code",
      "metadata": {
        "id": "pCDQs_g1QlC8"
      },
      "source": [
        "tf.keras.backend.clear_session()\r\n",
        "# clear any existing model in memory\r\n",
        "model2 = tf.keras.Sequential()\r\n",
        "# initilaizing Sequential model"
      ],
      "execution_count": 136,
      "outputs": []
    },
    {
      "cell_type": "code",
      "metadata": {
        "id": "jMSEipQCpet5"
      },
      "source": [
        "model2.add(tf.keras.layers.Reshape((784,),input_shape=(28,28,)))\r\n",
        "# reshape layer"
      ],
      "execution_count": 137,
      "outputs": []
    },
    {
      "cell_type": "code",
      "metadata": {
        "id": "GyI06oeRqAy5"
      },
      "source": [
        "model2.add(tf.keras.layers.BatchNormalization())\r\n",
        "# data normalization layer"
      ],
      "execution_count": 138,
      "outputs": []
    },
    {
      "cell_type": "markdown",
      "metadata": {
        "id": "kBGwTTilQlDD"
      },
      "source": [
        "### Add two fully connected layers with 200 and 100 neurons respectively with `relu` activations. Add a dropout layer with `p=0.25`"
      ]
    },
    {
      "cell_type": "code",
      "metadata": {
        "id": "IXbfpfOzQlDF"
      },
      "source": [
        "model2.add(tf.keras.layers.Dense(200,activation='relu'))\r\n",
        "# first hidden layer with 200 neurons"
      ],
      "execution_count": 139,
      "outputs": []
    },
    {
      "cell_type": "code",
      "metadata": {
        "id": "YlwzW4kGqmZf"
      },
      "source": [
        "model2.add(tf.keras.layers.Dense(100,activation='relu'))\r\n",
        "model2.add(tf.keras.layers.Dropout(0.25))\r\n",
        "# second hidden layer with 100 neurons and a 25% dropout"
      ],
      "execution_count": 140,
      "outputs": []
    },
    {
      "cell_type": "markdown",
      "metadata": {
        "id": "5I8f5otcQlDJ"
      },
      "source": [
        "### Add the output layer with a fully connected layer with 10 neurons with `softmax` activation. Use `categorical_crossentropy` loss and `adam` optimizer and train the network. And, report the final validation.\n",
        "\n",
        "###Also add callback, such that if validation loss doesn't decreases consecutively 2 times, stop the training"
      ]
    },
    {
      "cell_type": "code",
      "metadata": {
        "id": "JZkvKymSd0Sr"
      },
      "source": [
        "model2.add(tf.keras.layers.Dense(10,activation='softmax'))\r\n",
        "# output layer"
      ],
      "execution_count": 141,
      "outputs": []
    },
    {
      "cell_type": "code",
      "metadata": {
        "id": "P5AVQcdCruKx"
      },
      "source": [
        "adam = tf.keras.optimizers.Adam(learning_rate=0.001)\r\n",
        "model2.compile(optimizer=adam,loss='categorical_crossentropy',metrics='accuracy')\r\n",
        "# compiling model"
      ],
      "execution_count": 142,
      "outputs": []
    },
    {
      "cell_type": "code",
      "metadata": {
        "id": "pL3U52p2tBBy"
      },
      "source": [
        "callback = tf.keras.callbacks.EarlyStopping(monitor='val_loss',patience=2)\r\n",
        "# added callback with patience as 2"
      ],
      "execution_count": 143,
      "outputs": []
    },
    {
      "cell_type": "markdown",
      "metadata": {
        "id": "foL4GTKfRnkF"
      },
      "source": [
        "### Print model summary"
      ]
    },
    {
      "cell_type": "code",
      "metadata": {
        "id": "BhoNWO83vwmK",
        "colab": {
          "base_uri": "https://localhost:8080/"
        },
        "outputId": "093b0901-342a-4311-c2d4-1a8a5ded6b7f"
      },
      "source": [
        "model2.summary()"
      ],
      "execution_count": 144,
      "outputs": [
        {
          "output_type": "stream",
          "text": [
            "Model: \"sequential\"\n",
            "_________________________________________________________________\n",
            "Layer (type)                 Output Shape              Param #   \n",
            "=================================================================\n",
            "reshape (Reshape)            (None, 784)               0         \n",
            "_________________________________________________________________\n",
            "batch_normalization (BatchNo (None, 784)               3136      \n",
            "_________________________________________________________________\n",
            "dense (Dense)                (None, 200)               157000    \n",
            "_________________________________________________________________\n",
            "dense_1 (Dense)              (None, 100)               20100     \n",
            "_________________________________________________________________\n",
            "dropout (Dropout)            (None, 100)               0         \n",
            "_________________________________________________________________\n",
            "dense_2 (Dense)              (None, 10)                1010      \n",
            "=================================================================\n",
            "Total params: 181,246\n",
            "Trainable params: 179,678\n",
            "Non-trainable params: 1,568\n",
            "_________________________________________________________________\n"
          ],
          "name": "stdout"
        }
      ]
    },
    {
      "cell_type": "markdown",
      "metadata": {
        "id": "Ld9xHnSbRv1T"
      },
      "source": [
        "###Train your model, use test data as validation set"
      ]
    },
    {
      "cell_type": "code",
      "metadata": {
        "id": "WSiMhJPpk3GO",
        "colab": {
          "base_uri": "https://localhost:8080/"
        },
        "outputId": "97d5e53a-f054-428e-b627-f05bd339ee8d"
      },
      "source": [
        "modelrun = model2.fit(x=trainX,\r\n",
        "          y=trainy,\r\n",
        "          validation_data=(testX,testy),\r\n",
        "          initial_epoch=0,\r\n",
        "          epochs=30,\r\n",
        "          batch_size=32,\r\n",
        "          callbacks=callback)\r\n",
        "# training model"
      ],
      "execution_count": 145,
      "outputs": [
        {
          "output_type": "stream",
          "text": [
            "Epoch 1/30\n",
            "1875/1875 [==============================] - 7s 3ms/step - loss: 0.6238 - accuracy: 0.7777 - val_loss: 0.4120 - val_accuracy: 0.8473\n",
            "Epoch 2/30\n",
            "1875/1875 [==============================] - 6s 3ms/step - loss: 0.3990 - accuracy: 0.8544 - val_loss: 0.3836 - val_accuracy: 0.8587\n",
            "Epoch 3/30\n",
            "1875/1875 [==============================] - 6s 3ms/step - loss: 0.3649 - accuracy: 0.8668 - val_loss: 0.3705 - val_accuracy: 0.8681\n",
            "Epoch 4/30\n",
            "1875/1875 [==============================] - 6s 3ms/step - loss: 0.3284 - accuracy: 0.8787 - val_loss: 0.3905 - val_accuracy: 0.8640\n",
            "Epoch 5/30\n",
            "1875/1875 [==============================] - 6s 3ms/step - loss: 0.3092 - accuracy: 0.8841 - val_loss: 0.3681 - val_accuracy: 0.8730\n",
            "Epoch 6/30\n",
            "1875/1875 [==============================] - 6s 3ms/step - loss: 0.2983 - accuracy: 0.8877 - val_loss: 0.3400 - val_accuracy: 0.8783\n",
            "Epoch 7/30\n",
            "1875/1875 [==============================] - 6s 3ms/step - loss: 0.2840 - accuracy: 0.8938 - val_loss: 0.3514 - val_accuracy: 0.8762\n",
            "Epoch 8/30\n",
            "1875/1875 [==============================] - 6s 3ms/step - loss: 0.2719 - accuracy: 0.8986 - val_loss: 0.3614 - val_accuracy: 0.8819\n"
          ],
          "name": "stdout"
        }
      ]
    },
    {
      "cell_type": "markdown",
      "metadata": {
        "id": "2K2w_Oq5RzZx"
      },
      "source": [
        "###Predict Labels"
      ]
    },
    {
      "cell_type": "code",
      "metadata": {
        "id": "UP6gRFaI24TU"
      },
      "source": [
        "pred = model2.predict(testX)"
      ],
      "execution_count": 146,
      "outputs": []
    },
    {
      "cell_type": "code",
      "metadata": {
        "id": "UL76FU4lRz6n"
      },
      "source": [
        "predy = np.argmax(pred,axis=1)\r\n",
        "# class labels with highest probability as per Softmax"
      ],
      "execution_count": 147,
      "outputs": []
    },
    {
      "cell_type": "code",
      "metadata": {
        "colab": {
          "base_uri": "https://localhost:8080/"
        },
        "id": "6Rm5nCyY0Xcc",
        "outputId": "47e14f7d-1b58-4124-b856-c75bcc481107"
      },
      "source": [
        "predy"
      ],
      "execution_count": 148,
      "outputs": [
        {
          "output_type": "execute_result",
          "data": {
            "text/plain": [
              "array([9, 2, 1, ..., 8, 1, 5])"
            ]
          },
          "metadata": {
            "tags": []
          },
          "execution_count": 148
        }
      ]
    },
    {
      "cell_type": "markdown",
      "metadata": {
        "id": "BXPFIBBRR0mO"
      },
      "source": [
        "###Print Confusion matrix"
      ]
    },
    {
      "cell_type": "code",
      "metadata": {
        "id": "HvgwQYk30XTb"
      },
      "source": [
        "from sklearn.metrics import confusion_matrix"
      ],
      "execution_count": 149,
      "outputs": []
    },
    {
      "cell_type": "code",
      "metadata": {
        "id": "7SYi9n0K5rSi"
      },
      "source": [
        "(trainX_1,trainy_1),(testX_1,testy_1) = tf.keras.datasets.fashion_mnist.load_data()\r\n",
        "# importing data again since testy was overwritten with OHE values"
      ],
      "execution_count": 150,
      "outputs": []
    },
    {
      "cell_type": "code",
      "metadata": {
        "id": "hlR4qXJ7R3yT",
        "colab": {
          "base_uri": "https://localhost:8080/"
        },
        "outputId": "022406f0-e332-493f-e58e-1bcdf8c6e126"
      },
      "source": [
        "confusion_matrix(testy_1,predy)"
      ],
      "execution_count": 151,
      "outputs": [
        {
          "output_type": "execute_result",
          "data": {
            "text/plain": [
              "array([[799,   0,  12,  25,   6,   1, 150,   0,   7,   0],\n",
              "       [  3, 968,   2,  21,   3,   0,   2,   0,   1,   0],\n",
              "       [ 10,   0, 778,  11, 140,   0,  61,   0,   0,   0],\n",
              "       [ 12,   3,   6, 898,  48,   0,  32,   0,   1,   0],\n",
              "       [  0,   0,  67,  13, 886,   0,  34,   0,   0,   0],\n",
              "       [  1,   0,   0,   0,   0, 944,   0,  37,   3,  15],\n",
              "       [ 96,   0, 100,  32,  85,   0, 677,   0,  10,   0],\n",
              "       [  0,   0,   0,   0,   0,   8,   0, 976,   0,  16],\n",
              "       [  4,   0,   5,   6,   6,   3,   5,   7, 964,   0],\n",
              "       [  0,   0,   0,   0,   0,  11,   1,  58,   1, 929]])"
            ]
          },
          "metadata": {
            "tags": []
          },
          "execution_count": 151
        }
      ]
    },
    {
      "cell_type": "code",
      "metadata": {
        "colab": {
          "base_uri": "https://localhost:8080/",
          "height": 282
        },
        "id": "iRmyVNK-62Wx",
        "outputId": "76d31de7-3451-40c0-e531-588c22462077"
      },
      "source": [
        "import matplotlib.pyplot as plt\r\n",
        "plt.imshow(testX_1[6],cmap='gray')\r\n",
        "# checking image of class 6 where we have a lot of misclassifications\r\n",
        "# the accuracy needs to be improved for this class"
      ],
      "execution_count": 152,
      "outputs": [
        {
          "output_type": "execute_result",
          "data": {
            "text/plain": [
              "<matplotlib.image.AxesImage at 0x7f20c60eaf28>"
            ]
          },
          "metadata": {
            "tags": []
          },
          "execution_count": 152
        },
        {
          "output_type": "display_data",
          "data": {
            "image/png": "[encoded data removed]",
            "text/plain": [
              "<Figure size 432x288 with 1 Axes>"
            ]
          },
          "metadata": {
            "tags": [],
            "needs_background": "light"
          }
        }
      ]
    },
    {
      "cell_type": "markdown",
      "metadata": {
        "id": "-xMY7tsqR4Z6"
      },
      "source": [
        "###Plot training accuracy vs validation accuracy\n",
        "###Plot training loss vs validation loss"
      ]
    },
    {
      "cell_type": "code",
      "metadata": {
        "colab": {
          "base_uri": "https://localhost:8080/",
          "height": 573
        },
        "id": "Fal2Toe58z6a",
        "outputId": "0d592549-d719-4efa-e900-7a289d0cd0c0"
      },
      "source": [
        "import matplotlib.pyplot as plt\r\n",
        "\r\n",
        "plt.plot(modelrun.history['accuracy'])\r\n",
        "plt.plot(modelrun.history['val_accuracy'])\r\n",
        "plt.title('model accuracy')\r\n",
        "plt.ylabel('accuracy')\r\n",
        "plt.xlabel('epoch')\r\n",
        "plt.legend(['train', 'test'], loc='upper left')\r\n",
        "plt.show()\r\n",
        "# summarize history for loss\r\n",
        "plt.plot(modelrun.history['loss'])\r\n",
        "plt.plot(modelrun.history['val_loss'])\r\n",
        "plt.title('model loss')\r\n",
        "plt.ylabel('loss')\r\n",
        "plt.xlabel('epoch')\r\n",
        "plt.legend(['train', 'test'], loc='upper left')\r\n",
        "plt.show()"
      ],
      "execution_count": 153,
      "outputs": [
        {
          "output_type": "display_data",
          "data": {
            "image/png": "[encoded data removed]",
            "text/plain": [
              "<Figure size 432x288 with 1 Axes>"
            ]
          },
          "metadata": {
            "tags": [],
            "needs_background": "light"
          }
        },
        {
          "output_type": "display_data",
          "data": {
            "image/png": "[encoded data removed]",
            "text/plain": [
              "<Figure size 432x288 with 1 Axes>"
            ]
          },
          "metadata": {
            "tags": [],
            "needs_background": "light"
          }
        }
      ]
    },
    {
      "cell_type": "code",
      "metadata": {
        "id": "XWsy9nnz-sPn"
      },
      "source": [
        ""
      ],
      "execution_count": null,
      "outputs": []
    }
  ]
}