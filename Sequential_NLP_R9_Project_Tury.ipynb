{
  "nbformat": 4,
  "nbformat_minor": 0,
  "metadata": {
    "colab": {
      "name": "Sequential_NLP_R9_Project_Tury.ipynb",
      "provenance": [],
      "collapsed_sections": []
    },
    "kernelspec": {
      "name": "python3",
      "display_name": "Python 3"
    },
    "language_info": {
      "name": "python"
    },
    "accelerator": "GPU"
  },
  "cells": [
    {
      "cell_type": "markdown",
      "metadata": {
        "id": "emITINevSyWY"
      },
      "source": [
        "• CONTEXT: The objective of this project is to build a text classification model that\n",
        "analyses the customer's sentiments based on their reviews in the IMDB database. The\n",
        "model uses a complex deep learning model to build an embedding layer followed by\n",
        "a classification algorithm to analyse the sentiment of the customers.\n",
        "\n",
        "• DATA DESCRIPTION: The Dataset of 50,000 movie reviews from IMDB, labelled by\n",
        "sentiment (positive/negative). Reviews have been preprocessed, and each review is\n",
        "encoded as a sequence of word indexes (integers). For convenience, the words are\n",
        "indexed by their frequency in the dataset, meaning the for that has index 1 is the\n",
        "most frequent word. Use the first 20 words from each review to speed up training,\n",
        "using a max vocabulary size of 10,000. As a convention, \"0\" does not stand for a\n",
        "specific word, but instead is used to encode any unknown word.\n",
        "\n",
        "• PROJECT OBJECTIVE: Build a sequential NLP classifier which can use input text\n",
        "parameters to determine the customer sentiments."
      ]
    },
    {
      "cell_type": "markdown",
      "metadata": {
        "id": "7p7tD3Sj9gbZ"
      },
      "source": [
        "## Imports"
      ]
    },
    {
      "cell_type": "code",
      "metadata": {
        "id": "z2x67vLq9g2_"
      },
      "source": [
        "from keras.datasets import imdb\n",
        "import numpy as np\n",
        "import tensorflow as tf\n",
        "from keras.models import Sequential\n",
        "from keras.layers import Dense\n",
        "from keras.layers import LSTM, Flatten, Dropout\n",
        "from keras.layers.embeddings import Embedding\n",
        "from keras.preprocessing import sequence\n",
        "import seaborn as sns\n",
        "import matplotlib.pyplot as plt\n",
        "%matplotlib inline\n",
        "from sklearn.metrics import classification_report, confusion_matrix"
      ],
      "execution_count": null,
      "outputs": []
    },
    {
      "cell_type": "markdown",
      "metadata": {
        "id": "AU5ck8228kS0"
      },
      "source": [
        "## Loading Data"
      ]
    },
    {
      "cell_type": "code",
      "metadata": {
        "colab": {
          "base_uri": "https://localhost:8080/"
        },
        "id": "Sycy0KX-SiOr",
        "outputId": "f3d3dc08-a783-4756-9353-6f7f3337587e"
      },
      "source": [
        "# Vocabulary size is 10000\n",
        "num_words = 10000\n",
        "(X_train, y_train), (X_test, y_test) = imdb.load_data(num_words=num_words,\n",
        "                                                      skip_top=0,\n",
        "                                                      maxlen=None,\n",
        "                                                      seed=10)"
      ],
      "execution_count": null,
      "outputs": [
        {
          "output_type": "stream",
          "text": [
            "Downloading data from https://storage.googleapis.com/tensorflow/tf-keras-datasets/imdb.npz\n",
            "17465344/17464789 [==============================] - 0s 0us/step\n"
          ],
          "name": "stdout"
        },
        {
          "output_type": "stream",
          "text": [
            "<string>:6: VisibleDeprecationWarning: Creating an ndarray from ragged nested sequences (which is a list-or-tuple of lists-or-tuples-or ndarrays with different lengths or shapes) is deprecated. If you meant to do this, you must specify 'dtype=object' when creating the ndarray\n",
            "/usr/local/lib/python3.7/dist-packages/tensorflow/python/keras/datasets/imdb.py:159: VisibleDeprecationWarning: Creating an ndarray from ragged nested sequences (which is a list-or-tuple of lists-or-tuples-or ndarrays with different lengths or shapes) is deprecated. If you meant to do this, you must specify 'dtype=object' when creating the ndarray\n",
            "  x_train, y_train = np.array(xs[:idx]), np.array(labels[:idx])\n",
            "/usr/local/lib/python3.7/dist-packages/tensorflow/python/keras/datasets/imdb.py:160: VisibleDeprecationWarning: Creating an ndarray from ragged nested sequences (which is a list-or-tuple of lists-or-tuples-or ndarrays with different lengths or shapes) is deprecated. If you meant to do this, you must specify 'dtype=object' when creating the ndarray\n",
            "  x_test, y_test = np.array(xs[idx:]), np.array(labels[idx:])\n"
          ],
          "name": "stderr"
        }
      ]
    },
    {
      "cell_type": "markdown",
      "metadata": {
        "id": "h9HQ3iXlx_8o"
      },
      "source": [
        "## Data Preparation and Model Creation"
      ]
    },
    {
      "cell_type": "code",
      "metadata": {
        "id": "Xeq47zxejHmq"
      },
      "source": [
        "X = np.concatenate((X_train, X_test), axis=0)\n",
        "y = np.concatenate((y_train, y_test), axis=0)"
      ],
      "execution_count": null,
      "outputs": []
    },
    {
      "cell_type": "code",
      "metadata": {
        "id": "p8yGdw4H_dGA",
        "colab": {
          "base_uri": "https://localhost:8080/"
        },
        "outputId": "27825a05-9372-404c-9c61-a1293fe2e167"
      },
      "source": [
        "# Summarize size\n",
        "print(\"Shape of features: \")\n",
        "print(\"Train - \")\n",
        "print(X_train.shape)\n",
        "print(\"Test - \")\n",
        "print(X_test.shape)\n",
        "print(\"Shape of labels: \")\n",
        "print(\"Train - \")\n",
        "print(y_train.shape)\n",
        "print(\"Test - \")\n",
        "print(y_test.shape)"
      ],
      "execution_count": null,
      "outputs": [
        {
          "output_type": "stream",
          "text": [
            "Shape of features: \n",
            "Train - \n",
            "(25000,)\n",
            "Test - \n",
            "(25000,)\n",
            "Shape of labels: \n",
            "Train - \n",
            "(25000,)\n",
            "Test - \n",
            "(25000,)\n"
          ],
          "name": "stdout"
        }
      ]
    },
    {
      "cell_type": "code",
      "metadata": {
        "colab": {
          "base_uri": "https://localhost:8080/"
        },
        "id": "uHwoGdkajtd2",
        "outputId": "a1c456aa-e761-45d6-8e66-7612c1127b0a"
      },
      "source": [
        "# Summarize number of classes\n",
        "print(\"Classes: \")\n",
        "print(np.unique(y))"
      ],
      "execution_count": null,
      "outputs": [
        {
          "output_type": "stream",
          "text": [
            "Classes: \n",
            "[0 1]\n"
          ],
          "name": "stdout"
        }
      ]
    },
    {
      "cell_type": "code",
      "metadata": {
        "colab": {
          "base_uri": "https://localhost:8080/",
          "height": 342
        },
        "id": "Wpexpb3r7mnV",
        "outputId": "0b3c46db-2247-481b-a402-3786f031dccb"
      },
      "source": [
        "# Visualising distribution of classes\n",
        "sns.set(style = \"darkgrid\" , font_scale = 1.2)\n",
        "sns.countplot(y)"
      ],
      "execution_count": null,
      "outputs": [
        {
          "output_type": "stream",
          "text": [
            "/usr/local/lib/python3.7/dist-packages/seaborn/_decorators.py:43: FutureWarning: Pass the following variable as a keyword arg: x. From version 0.12, the only valid positional argument will be `data`, and passing other arguments without an explicit keyword will result in an error or misinterpretation.\n",
            "  FutureWarning\n"
          ],
          "name": "stderr"
        },
        {
          "output_type": "execute_result",
          "data": {
            "text/plain": [
              "<matplotlib.axes._subplots.AxesSubplot at 0x7f61c2244050>"
            ]
          },
          "metadata": {
            "tags": []
          },
          "execution_count": 8
        },
        {
          "output_type": "display_data",
          "data": {
            "image/png": "[encoded data removed]",
            "text/plain": [
              "<Figure size 432x288 with 1 Axes>"
            ]
          },
          "metadata": {
            "tags": []
          }
        }
      ]
    },
    {
      "cell_type": "markdown",
      "metadata": {
        "id": "-1Cv7hu4vMfR"
      },
      "source": [
        "Equal ditribution of classes observed, so no chance of class imbalance bias."
      ]
    },
    {
      "cell_type": "code",
      "metadata": {
        "colab": {
          "base_uri": "https://localhost:8080/"
        },
        "id": "eZvrs8vpj8iq",
        "outputId": "08718b10-ceda-4412-81e4-4bf4c58d6c3e"
      },
      "source": [
        "# Summarize number of words\n",
        "print(\"Total number of words in reviews: \")\n",
        "print(len(np.unique(np.hstack(X))))"
      ],
      "execution_count": null,
      "outputs": [
        {
          "output_type": "stream",
          "text": [
            "Total number of words in reviews: \n",
            "9998\n"
          ],
          "name": "stdout"
        }
      ]
    },
    {
      "cell_type": "code",
      "metadata": {
        "colab": {
          "base_uri": "https://localhost:8080/"
        },
        "id": "7Y7UYkg-nQza",
        "outputId": "330d2047-946c-43e9-ef70-d8c205dba620"
      },
      "source": [
        "# Checking value of one feature and its label\n",
        "print(\"Label: \")\n",
        "print(y[0])\n",
        "print(\"Features: \")\n",
        "print(X[0])"
      ],
      "execution_count": null,
      "outputs": [
        {
          "output_type": "stream",
          "text": [
            "Label: \n",
            "0\n",
            "Features: \n",
            "[1, 801, 708, 47, 77, 224, 111, 211, 159, 606, 114, 6564, 1002, 8836, 461, 2192, 19, 2, 322, 5, 29, 497, 8, 2, 125, 52, 7465, 3199, 38, 29, 70, 28, 41, 14, 9, 724, 727, 12, 152, 60, 353, 8, 97, 25, 482, 4, 114, 9, 4, 114, 5, 225, 57, 536, 1005, 4, 953, 133, 13, 482, 95, 4, 64, 282, 8, 106, 12, 9, 8, 67, 89, 12, 3209, 21, 164, 9, 224, 1822, 42, 5693, 225, 24, 66, 233, 8, 135, 44, 14, 22, 45, 24, 572, 78, 21, 225, 57, 52, 757, 345, 2609, 299, 2609, 5, 25, 124, 51, 335, 2146, 79, 54, 25, 67, 90, 11, 6, 22, 2, 8836, 2, 47, 35, 616, 6422, 2, 544, 13, 332, 4, 114, 6564, 5, 13, 100, 67, 4, 22, 11, 61, 419, 12, 16, 38, 578, 5, 1121, 13, 296, 12, 5, 12, 4985, 46, 11, 1011, 7, 61, 523, 618, 17, 13, 69, 3792, 13, 421, 24, 6, 2440, 7, 1426, 469, 13, 28, 57, 547, 949, 14, 22, 45, 17, 48, 13, 115, 60, 296, 12, 1069, 14, 45, 6, 184, 1149, 22, 218, 12, 131, 637, 202, 12, 342, 158, 18, 49, 282]\n"
          ],
          "name": "stdout"
        }
      ]
    },
    {
      "cell_type": "code",
      "metadata": {
        "colab": {
          "base_uri": "https://localhost:8080/"
        },
        "id": "HykxRA--r09E",
        "outputId": "daeb59d1-6000-4adf-904c-00468805bfb4"
      },
      "source": [
        "# Decoding feature value to original sentence \n",
        "index = imdb.get_word_index()\n",
        "reverse_index = dict([(value, key) for (key, value) in index.items()]) \n",
        "decoded = \" \".join( [reverse_index.get(i - 3, \"#\") for i in X[0]] )\n",
        "print(\"Features in decoded form (original sentence): \")\n",
        "print(decoded)"
      ],
      "execution_count": null,
      "outputs": [
        {
          "output_type": "stream",
          "text": [
            "Downloading data from https://storage.googleapis.com/tensorflow/tf-keras-datasets/imdb_word_index.json\n",
            "1646592/1641221 [==============================] - 0s 0us/step\n",
            "Features in decoded form (original sentence): \n",
            "# typical thriller has been done many times before simple plot outline cop liotta becomes obsessed with # wife and he tries to # off good ol' kurt so he can have her this is beyond predictable it doesn't even try to make you guess the plot is the plot and there's no thinking outside the box here i guess then the only reason to watch it is to see how it develops but nothing is done originally or interestingly there's not really anything to say about this film it's not particularly bad but there's no good points either russell plays russell and you know what you're gonna get when you see him in a film # liotta # has an annoying cher # voice i read the plot outline and i could see the film in my head it was so obvious and basic i watched it and it rolled out in front of my eyes exactly as i had imagined i felt not a drop of emotion throughout i have no feeling towards this film it's as if i never even watched it considering this it's a pretty pointless film isn't it still i'll give it 3 10 for some reason\n"
          ],
          "name": "stdout"
        }
      ]
    },
    {
      "cell_type": "code",
      "metadata": {
        "id": "9cRJXxJbkycU"
      },
      "source": [
        "# Sequence padding on data with max length as 500 words\n",
        "max_words = 500\n",
        "X_train = sequence.pad_sequences(X_train, maxlen=max_words)\n",
        "X_test = sequence.pad_sequences(X_test, maxlen=max_words)"
      ],
      "execution_count": null,
      "outputs": []
    },
    {
      "cell_type": "code",
      "metadata": {
        "colab": {
          "base_uri": "https://localhost:8080/"
        },
        "id": "i8nsUZ1ilS0w",
        "outputId": "eb81e6aa-e803-49d7-a26e-054bc6dbeca5"
      },
      "source": [
        "# Create the model\n",
        "tf.keras.backend.clear_session()\n",
        "model = Sequential()\n",
        "model.add(Embedding(num_words, 32, input_length=max_words))\n",
        "model.add(LSTM(64, return_sequences=True))\n",
        "model.add(LSTM(64))\n",
        "model.add(Flatten())\n",
        "model.add(Dense(250, activation='relu'))\n",
        "model.add(Dense(1, activation='sigmoid'))\n",
        "model.compile(loss='binary_crossentropy', optimizer='adam', metrics=['accuracy'])\n",
        "print(model.summary())"
      ],
      "execution_count": null,
      "outputs": [
        {
          "output_type": "stream",
          "text": [
            "Model: \"sequential\"\n",
            "_________________________________________________________________\n",
            "Layer (type)                 Output Shape              Param #   \n",
            "=================================================================\n",
            "embedding (Embedding)        (None, 500, 32)           320000    \n",
            "_________________________________________________________________\n",
            "lstm (LSTM)                  (None, 500, 64)           24832     \n",
            "_________________________________________________________________\n",
            "lstm_1 (LSTM)                (None, 64)                33024     \n",
            "_________________________________________________________________\n",
            "flatten (Flatten)            (None, 64)                0         \n",
            "_________________________________________________________________\n",
            "dense (Dense)                (None, 250)               16250     \n",
            "_________________________________________________________________\n",
            "dense_1 (Dense)              (None, 1)                 251       \n",
            "=================================================================\n",
            "Total params: 394,357\n",
            "Trainable params: 394,357\n",
            "Non-trainable params: 0\n",
            "_________________________________________________________________\n",
            "None\n"
          ],
          "name": "stdout"
        }
      ]
    },
    {
      "cell_type": "markdown",
      "metadata": {
        "id": "dvRjqwceyMz6"
      },
      "source": [
        "## Model Training and Evaluation"
      ]
    },
    {
      "cell_type": "code",
      "metadata": {
        "colab": {
          "base_uri": "https://localhost:8080/"
        },
        "id": "OLFM2H_zrZDK",
        "outputId": "5f24baf8-01c3-493e-ee39-2b9e03824b35"
      },
      "source": [
        "# Train and evaluate the model\n",
        "history = model.fit(X_train, y_train, batch_size=32, epochs=10, validation_data=(X_test, y_test))"
      ],
      "execution_count": null,
      "outputs": [
        {
          "output_type": "stream",
          "text": [
            "Epoch 1/10\n",
            "782/782 [==============================] - 214s 274ms/step - loss: 0.4013 - accuracy: 0.8141 - val_loss: 0.3636 - val_accuracy: 0.8424\n",
            "Epoch 2/10\n",
            "782/782 [==============================] - 214s 274ms/step - loss: 0.2543 - accuracy: 0.9007 - val_loss: 0.3985 - val_accuracy: 0.8283\n",
            "Epoch 3/10\n",
            "782/782 [==============================] - 212s 271ms/step - loss: 0.2155 - accuracy: 0.9177 - val_loss: 0.3709 - val_accuracy: 0.8517\n",
            "Epoch 4/10\n",
            "782/782 [==============================] - 213s 272ms/step - loss: 0.1428 - accuracy: 0.9477 - val_loss: 0.3858 - val_accuracy: 0.8597\n",
            "Epoch 5/10\n",
            "782/782 [==============================] - 213s 272ms/step - loss: 0.1299 - accuracy: 0.9517 - val_loss: 0.3706 - val_accuracy: 0.8580\n",
            "Epoch 6/10\n",
            "782/782 [==============================] - 213s 272ms/step - loss: 0.0995 - accuracy: 0.9659 - val_loss: 0.4394 - val_accuracy: 0.8518\n",
            "Epoch 7/10\n",
            "782/782 [==============================] - 212s 271ms/step - loss: 0.0745 - accuracy: 0.9748 - val_loss: 0.5323 - val_accuracy: 0.8504\n",
            "Epoch 8/10\n",
            "782/782 [==============================] - 213s 272ms/step - loss: 0.1658 - accuracy: 0.9367 - val_loss: 0.5497 - val_accuracy: 0.8419\n",
            "Epoch 9/10\n",
            "782/782 [==============================] - 212s 271ms/step - loss: 0.0975 - accuracy: 0.9653 - val_loss: 0.5585 - val_accuracy: 0.8535\n",
            "Epoch 10/10\n",
            "782/782 [==============================] - 212s 271ms/step - loss: 0.0455 - accuracy: 0.9856 - val_loss: 0.6279 - val_accuracy: 0.8535\n"
          ],
          "name": "stdout"
        }
      ]
    },
    {
      "cell_type": "code",
      "metadata": {
        "colab": {
          "base_uri": "https://localhost:8080/"
        },
        "id": "sQH4pSyK9LJC",
        "outputId": "1215ba8e-3bb1-4eb9-b7ef-ea5ef43863b7"
      },
      "source": [
        "print(\"Accuracy of the model on Testing Data is - \" , model.evaluate(X_test,y_test)[1]*100 , \"%\")"
      ],
      "execution_count": null,
      "outputs": [
        {
          "output_type": "stream",
          "text": [
            "782/782 [==============================] - 59s 76ms/step - loss: 0.6279 - accuracy: 0.8535\n",
            "Accuracy of the model on Testing Data is -  85.34799814224243 %\n"
          ],
          "name": "stdout"
        }
      ]
    },
    {
      "cell_type": "code",
      "metadata": {
        "colab": {
          "base_uri": "https://localhost:8080/",
          "height": 632
        },
        "id": "RVhO7yBdrq9f",
        "outputId": "d0002337-8823-402b-d498-5ee451d89bf9"
      },
      "source": [
        "epochs = [i for i in range(10)]\n",
        "fig , ax = plt.subplots(1,2)\n",
        "train_acc = history.history['accuracy']\n",
        "train_loss = history.history['loss']\n",
        "val_acc = history.history['val_accuracy']\n",
        "val_loss = history.history['val_loss']\n",
        "fig.set_size_inches(20,10)\n",
        "\n",
        "ax[0].plot(epochs , train_acc , 'go-' , label = 'Training Accuracy')\n",
        "ax[0].plot(epochs , val_acc , 'ro-' , label = 'Testing Accuracy')\n",
        "ax[0].set_title('Training & Testing Accuracy')\n",
        "ax[0].legend()\n",
        "ax[0].set_xlabel(\"Epochs\")\n",
        "ax[0].set_ylabel(\"Accuracy\")\n",
        "\n",
        "ax[1].plot(epochs , train_loss , 'go-' , label = 'Training Loss')\n",
        "ax[1].plot(epochs , val_loss , 'ro-' , label = 'Testing Loss')\n",
        "ax[1].set_title('Training & Testing Loss')\n",
        "ax[1].legend()\n",
        "ax[1].set_xlabel(\"Epochs\")\n",
        "ax[1].set_ylabel(\"Loss\")\n",
        "plt.show()"
      ],
      "execution_count": null,
      "outputs": [
        {
          "output_type": "display_data",
          "data": {
            "image/png": "[encoded data removed]",
            "text/plain": [
              "<Figure size 1440x720 with 2 Axes>"
            ]
          },
          "metadata": {
            "tags": []
          }
        }
      ]
    },
    {
      "cell_type": "markdown",
      "metadata": {
        "id": "4qJFMEDM9N-4"
      },
      "source": [
        "## Prediction and Classification Report"
      ]
    },
    {
      "cell_type": "code",
      "metadata": {
        "id": "hm0sMp0t807Q"
      },
      "source": [
        "y_pred = model.predict(X_test)"
      ],
      "execution_count": null,
      "outputs": []
    },
    {
      "cell_type": "code",
      "metadata": {
        "colab": {
          "base_uri": "https://localhost:8080/"
        },
        "id": "ZfRfMmQa-ijJ",
        "outputId": "fe01f7b0-5a33-4c48-b189-d64dc29148c5"
      },
      "source": [
        "y_pred[:5]"
      ],
      "execution_count": null,
      "outputs": [
        {
          "output_type": "execute_result",
          "data": {
            "text/plain": [
              "array([[5.9813956e-05],\n",
              "       [5.5617038e-03],\n",
              "       [2.2986827e-03],\n",
              "       [2.0993533e-04],\n",
              "       [1.8970238e-02]], dtype=float32)"
            ]
          },
          "metadata": {
            "tags": []
          },
          "execution_count": 19
        }
      ]
    },
    {
      "cell_type": "code",
      "metadata": {
        "colab": {
          "base_uri": "https://localhost:8080/"
        },
        "id": "Er83LJH5-ken",
        "outputId": "61f83641-2bb9-4973-d4c2-423a0eb212a4"
      },
      "source": [
        "# Converting probabilities into class\n",
        "y_pred = np.round(y_pred).astype(int)\n",
        "y_pred[:5]"
      ],
      "execution_count": null,
      "outputs": [
        {
          "output_type": "execute_result",
          "data": {
            "text/plain": [
              "array([[0],\n",
              "       [0],\n",
              "       [0],\n",
              "       [0],\n",
              "       [0]])"
            ]
          },
          "metadata": {
            "tags": []
          },
          "execution_count": 23
        }
      ]
    },
    {
      "cell_type": "code",
      "metadata": {
        "colab": {
          "base_uri": "https://localhost:8080/"
        },
        "id": "ZmVmDOiZ_ET7",
        "outputId": "1b9738f2-89ea-495f-9911-02f73c98de0f"
      },
      "source": [
        "print(classification_report(y_test, y_pred, target_names = ['Bad Reviews','Good Reviews']))"
      ],
      "execution_count": null,
      "outputs": [
        {
          "output_type": "stream",
          "text": [
            "              precision    recall  f1-score   support\n",
            "\n",
            " Bad Reviews       0.87      0.83      0.85     12500\n",
            "Good Reviews       0.84      0.88      0.86     12500\n",
            "\n",
            "    accuracy                           0.85     25000\n",
            "   macro avg       0.85      0.85      0.85     25000\n",
            "weighted avg       0.85      0.85      0.85     25000\n",
            "\n"
          ],
          "name": "stdout"
        }
      ]
    },
    {
      "cell_type": "code",
      "metadata": {
        "colab": {
          "base_uri": "https://localhost:8080/"
        },
        "id": "l26h9KWE_K4s",
        "outputId": "a35d41ac-6094-4cc3-f787-7bc717447f49"
      },
      "source": [
        "cm = confusion_matrix(y_test,y_pred)\n",
        "print(cm)"
      ],
      "execution_count": null,
      "outputs": [
        {
          "output_type": "stream",
          "text": [
            "[[10391  2109]\n",
            " [ 1554 10946]]\n"
          ],
          "name": "stdout"
        }
      ]
    },
    {
      "cell_type": "code",
      "metadata": {
        "colab": {
          "base_uri": "https://localhost:8080/",
          "height": 632
        },
        "id": "ckAkrhke_Qg0",
        "outputId": "ca274986-5579-4344-b5a9-3220620f2962"
      },
      "source": [
        "plt.figure(figsize = (10,10))\n",
        "sns.heatmap(cm,cmap= \"Blues\",\n",
        "            linecolor = 'black', \n",
        "            linewidth = 1, \n",
        "            annot = True, \n",
        "            fmt='', \n",
        "            xticklabels = ['Bad Reviews','Good Reviews'], \n",
        "            yticklabels = ['Bad Reviews','Good Reviews'])\n",
        "plt.xlabel(\"Predicted\")\n",
        "plt.ylabel(\"Actual\")"
      ],
      "execution_count": null,
      "outputs": [
        {
          "output_type": "execute_result",
          "data": {
            "text/plain": [
              "Text(63.5, 0.5, 'Actual')"
            ]
          },
          "metadata": {
            "tags": []
          },
          "execution_count": 26
        },
        {
          "output_type": "display_data",
          "data": {
            "image/png": "[encoded data removed]",
            "text/plain": [
              "<Figure size 720x720 with 2 Axes>"
            ]
          },
          "metadata": {
            "tags": [],
            "needs_background": "light"
          }
        }
      ]
    },
    {
      "cell_type": "markdown",
      "metadata": {
        "id": "u4O-n3qIvjKr"
      },
      "source": [
        "The data we have taken is as is, and we are seeing all overall precision an recall of about 85% which is fairly good for a simple model that we've made."
      ]
    },
    {
      "cell_type": "markdown",
      "metadata": {
        "id": "vPdZZD9rBRR9"
      },
      "source": [
        "## Prediction of a sample"
      ]
    },
    {
      "cell_type": "code",
      "metadata": {
        "colab": {
          "base_uri": "https://localhost:8080/"
        },
        "id": "jgLCwnxk_ubJ",
        "outputId": "d9ae7c43-2b46-4c30-eadb-0f8663cefed6"
      },
      "source": [
        "print(\"Encoded Features: \")\n",
        "print(X_test[10])\n",
        "X_test_sample = \" \".join( [reverse_index.get(i - 3, \"#\") for i in X_test[10]] )\n",
        "print(\"Deccoded Review: \")\n",
        "print(X_test_sample)\n",
        "print(\"Actual Label: \")\n",
        "print(y_test[10])\n",
        "print(\"Predicted Label: \")\n",
        "print(y_pred[10])"
      ],
      "execution_count": null,
      "outputs": [
        {
          "output_type": "stream",
          "text": [
            "Encoded Features: \n",
            "[   0    0    0    0    0    0    0    0    0    0    0    0    0    0\n",
            "    0    0    0    0    0    0    0    0    0    0    0    0    0    0\n",
            "    0    0    0    0    0    0    0    0    0    0    0    0    0    0\n",
            "    0    0    0    0    0    0    0    0    0    0    0    0    0    0\n",
            "    0    0    0    0    0    0    0    0    0    0    0    0    0    0\n",
            "    0    0    0    0    0    0    0    0    0    0    0    0    0    0\n",
            "    0    0    0    0    0    0    0    0    0    0    0    0    0    0\n",
            "    0    0    0    0    0    0    0    0    0    0    0    0    0    0\n",
            "    0    0    0    0    0    0    0    0    0    0    0    0    0    0\n",
            "    0    0    0    0    0    0    0    0    0    0    0    0    0    0\n",
            "    0    0    0    0    0    0    0    0    0    0    0    0    0    0\n",
            "    0    0    0    0    0    0    0    0    0    0    0    0    0    0\n",
            "    0    0    0    0    0    0    0    0    0    0    0    0    0    0\n",
            "    0    0    0    0    0    0    0    0    0    0    0    0    0    0\n",
            "    0    0    0    0    0    0    0    0    0    0    0    0    0    0\n",
            "    0    0    0    0    0    0    0    0    0    0    0    0    0    0\n",
            "    0    0    0    0    0    0    0    0    0    0    0    0    0    0\n",
            "    0    0    0    0    0    0    0    0    0    0    0    0    0    0\n",
            "    0    0    0    0    0    0    0    0    0    0    0    0    0    0\n",
            "    0    0    0    0    0    0    0    0    0    0    0    0    0    0\n",
            "    0    0    0    0    0    0    0    0    0    0    0    0    0    0\n",
            "    0    0    0    0    0    0    0    0    0    0    0    0    0    0\n",
            "    0    0    0    0    0    0    0    0    0    0    0    0    0    0\n",
            "    0    0    0    0    0    0    0    0    0    0    0    0    0    0\n",
            "    0    0    0    0    0    0    0    0    0    0    0    0    0    0\n",
            "    0    0    0    0    0    0    1   48   13   69    8 1261    4   91\n",
            " 2279   20  353    8   30 2570  207  110 9899   30   14   31   13  124\n",
            "   44   89   52    4  204    9  424    8   30   12   69  128   30  128\n",
            "   95   14   31    4 1327   38  465    5 2279   21   12  218  221    8\n",
            "  106  345  207  110 2279  552  102   15   71 1894   88    7    4  836\n",
            "    8    5    4  465  489    2  161   28   15   14   16   38 1193    8\n",
            "  106    8  895   19    5   50   16  164 1123    8   97   14    6  356\n",
            "  552   20   13  104  160  899 3762  188   12  208   11  660   14  512\n",
            "   47   43  110 3106  224   11    6  230 1731   96   13  340 1041   13\n",
            "   62  386 9422   14   31  279  637  106    4  204   49  251   21   13\n",
            "  824   12   13  202   14    6  241   46    7  158]\n",
            "Deccoded Review: \n",
            "# # # # # # # # # # # # # # # # # # # # # # # # # # # # # # # # # # # # # # # # # # # # # # # # # # # # # # # # # # # # # # # # # # # # # # # # # # # # # # # # # # # # # # # # # # # # # # # # # # # # # # # # # # # # # # # # # # # # # # # # # # # # # # # # # # # # # # # # # # # # # # # # # # # # # # # # # # # # # # # # # # # # # # # # # # # # # # # # # # # # # # # # # # # # # # # # # # # # # # # # # # # # # # # # # # # # # # # # # # # # # # # # # # # # # # # # # # # # # # # # # # # # # # # # # # # # # # # # # # # # # # # # # # # # # # # # # # # # # # # # # # # # # # # # # # # # # # # # # # # # # # # # # # # # # # # # # # # # # # # # # # # # # # # # # # # # # # # # # # # # # # # # # # # # # # # # # # # # # if i had to pick the most depressing movie try to be suspenseful i've seen it'd be this one i know about how good the original is supposed to be it had better be better then this one the movie's so dark and depressing but it isn't interesting to watch either i've seen depressing type movies that were saved because of the suspense to and the dark quality # didn't have that this was so disturbing to watch to begin with and there was nothing positive to make this a classic type movie i think another imdb poster got it right in saying this genre has just seen thrillers done in a far superior way i completely agree i would recommend skipping this one maybe i'll watch the original some day but i doubt it i give this a 2 out of 10\n",
            "Actual Label: \n",
            "0\n",
            "Predicted Label: \n",
            "[0]\n"
          ],
          "name": "stdout"
        }
      ]
    },
    {
      "cell_type": "code",
      "metadata": {
        "id": "A7dkJ6PiCC7y"
      },
      "source": [
        ""
      ],
      "execution_count": null,
      "outputs": []
    }
  ]
}