{
 "cells": [
  {
   "cell_type": "markdown",
   "metadata": {
    "colab_type": "text",
    "id": "ne9YyMvuH86J"
   },
   "source": [
    "# Bank dataset\n",
    "\n",
    "We have a transaction details of 515 banks which include number of DD taken, Withdrawals, Deposits, Area of the branch and Average Walk-Ins. Profile the banks into segments and come up with recommendations for each segment."
   ]
  },
  {
   "cell_type": "markdown",
   "metadata": {
    "colab_type": "text",
    "id": "l2kJFIqaH86O"
   },
   "source": [
    "# Import libraries and load data"
   ]
  },
  {
   "cell_type": "code",
   "execution_count": 1,
   "metadata": {
    "colab": {},
    "colab_type": "code",
    "id": "-CNfRN3cH86Q"
   },
   "outputs": [],
   "source": [
    "import pandas as pd\n",
    "from sklearn.cluster import KMeans \n",
    "import matplotlib.pyplot as plt"
   ]
  },
  {
   "cell_type": "code",
   "execution_count": 2,
   "metadata": {
    "colab": {},
    "colab_type": "code",
    "id": "Uh9SSdCAH86X"
   },
   "outputs": [],
   "source": [
    "data_df = pd.read_csv(\"bank.csv\")"
   ]
  },
  {
   "cell_type": "markdown",
   "metadata": {
    "colab_type": "text",
    "id": "6oz-zsF1H86c"
   },
   "source": [
    "# Check the data. Check shape, data type, and info"
   ]
  },
  {
   "cell_type": "code",
   "execution_count": 3,
   "metadata": {
    "colab": {},
    "colab_type": "code",
    "id": "IiwL5lQvKOUA"
   },
   "outputs": [
    {
     "name": "stdout",
     "output_type": "stream",
     "text": [
      "<class 'pandas.core.frame.DataFrame'>\n",
      "RangeIndex: 515 entries, 0 to 514\n",
      "Data columns (total 6 columns):\n",
      "Bank                   515 non-null int64\n",
      "DD                     515 non-null int64\n",
      "Withdrawals            515 non-null int64\n",
      "Deposits               515 non-null int64\n",
      "Branch Area in sqft    515 non-null int64\n",
      "avg daily walkins      515 non-null int64\n",
      "dtypes: int64(6)\n",
      "memory usage: 24.2 KB\n"
     ]
    }
   ],
   "source": [
    "data_df.info()"
   ]
  },
  {
   "cell_type": "code",
   "execution_count": 4,
   "metadata": {
    "colab": {},
    "colab_type": "code",
    "id": "-sIFhkHkKOW-"
   },
   "outputs": [],
   "source": [
    "# There are 515 records with 6 columns and no null values."
   ]
  },
  {
   "cell_type": "markdown",
   "metadata": {
    "colab_type": "text",
    "id": "4o5a7sxKH86u"
   },
   "source": [
    "# Checking Summary Statistic"
   ]
  },
  {
   "cell_type": "code",
   "execution_count": 5,
   "metadata": {
    "colab": {},
    "colab_type": "code",
    "id": "P6AeKBuMKcAZ"
   },
   "outputs": [
    {
     "data": {
      "text/html": [
       "<div>\n",
       "<style scoped>\n",
       "    .dataframe tbody tr th:only-of-type {\n",
       "        vertical-align: middle;\n",
       "    }\n",
       "\n",
       "    .dataframe tbody tr th {\n",
       "        vertical-align: top;\n",
       "    }\n",
       "\n",
       "    .dataframe thead th {\n",
       "        text-align: right;\n",
       "    }\n",
       "</style>\n",
       "<table border=\"1\" class=\"dataframe\">\n",
       "  <thead>\n",
       "    <tr style=\"text-align: right;\">\n",
       "      <th></th>\n",
       "      <th>count</th>\n",
       "      <th>mean</th>\n",
       "      <th>std</th>\n",
       "      <th>min</th>\n",
       "      <th>25%</th>\n",
       "      <th>50%</th>\n",
       "      <th>75%</th>\n",
       "      <th>max</th>\n",
       "    </tr>\n",
       "  </thead>\n",
       "  <tbody>\n",
       "    <tr>\n",
       "      <td>Bank</td>\n",
       "      <td>515.0</td>\n",
       "      <td>258.000000</td>\n",
       "      <td>148.811962</td>\n",
       "      <td>1.0</td>\n",
       "      <td>129.5</td>\n",
       "      <td>258.0</td>\n",
       "      <td>386.5</td>\n",
       "      <td>515.0</td>\n",
       "    </tr>\n",
       "    <tr>\n",
       "      <td>DD</td>\n",
       "      <td>515.0</td>\n",
       "      <td>232.252427</td>\n",
       "      <td>66.648815</td>\n",
       "      <td>120.0</td>\n",
       "      <td>169.5</td>\n",
       "      <td>237.0</td>\n",
       "      <td>291.0</td>\n",
       "      <td>350.0</td>\n",
       "    </tr>\n",
       "    <tr>\n",
       "      <td>Withdrawals</td>\n",
       "      <td>515.0</td>\n",
       "      <td>150.693204</td>\n",
       "      <td>56.897777</td>\n",
       "      <td>10.0</td>\n",
       "      <td>103.0</td>\n",
       "      <td>152.0</td>\n",
       "      <td>200.0</td>\n",
       "      <td>247.0</td>\n",
       "    </tr>\n",
       "    <tr>\n",
       "      <td>Deposits</td>\n",
       "      <td>515.0</td>\n",
       "      <td>81.687379</td>\n",
       "      <td>28.596912</td>\n",
       "      <td>33.0</td>\n",
       "      <td>58.0</td>\n",
       "      <td>80.0</td>\n",
       "      <td>105.0</td>\n",
       "      <td>212.0</td>\n",
       "    </tr>\n",
       "    <tr>\n",
       "      <td>Branch Area in sqft</td>\n",
       "      <td>515.0</td>\n",
       "      <td>2934.669903</td>\n",
       "      <td>437.062831</td>\n",
       "      <td>1200.0</td>\n",
       "      <td>2675.0</td>\n",
       "      <td>2960.0</td>\n",
       "      <td>3300.0</td>\n",
       "      <td>3650.0</td>\n",
       "    </tr>\n",
       "    <tr>\n",
       "      <td>avg daily walkins</td>\n",
       "      <td>515.0</td>\n",
       "      <td>598.603883</td>\n",
       "      <td>83.487891</td>\n",
       "      <td>380.0</td>\n",
       "      <td>537.5</td>\n",
       "      <td>601.0</td>\n",
       "      <td>657.5</td>\n",
       "      <td>838.0</td>\n",
       "    </tr>\n",
       "  </tbody>\n",
       "</table>\n",
       "</div>"
      ],
      "text/plain": [
       "                     count         mean         std     min     25%     50%  \\\n",
       "Bank                 515.0   258.000000  148.811962     1.0   129.5   258.0   \n",
       "DD                   515.0   232.252427   66.648815   120.0   169.5   237.0   \n",
       "Withdrawals          515.0   150.693204   56.897777    10.0   103.0   152.0   \n",
       "Deposits             515.0    81.687379   28.596912    33.0    58.0    80.0   \n",
       "Branch Area in sqft  515.0  2934.669903  437.062831  1200.0  2675.0  2960.0   \n",
       "avg daily walkins    515.0   598.603883   83.487891   380.0   537.5   601.0   \n",
       "\n",
       "                        75%     max  \n",
       "Bank                  386.5   515.0  \n",
       "DD                    291.0   350.0  \n",
       "Withdrawals           200.0   247.0  \n",
       "Deposits              105.0   212.0  \n",
       "Branch Area in sqft  3300.0  3650.0  \n",
       "avg daily walkins     657.5   838.0  "
      ]
     },
     "execution_count": 5,
     "metadata": {},
     "output_type": "execute_result"
    }
   ],
   "source": [
    "data_df.describe().transpose()"
   ]
  },
  {
   "cell_type": "markdown",
   "metadata": {
    "colab_type": "text",
    "id": "iATavmNBH860"
   },
   "source": [
    "# Checking for Duplicates"
   ]
  },
  {
   "cell_type": "code",
   "execution_count": 6,
   "metadata": {
    "colab": {},
    "colab_type": "code",
    "id": "K_hiUqA5H862"
   },
   "outputs": [
    {
     "name": "stdout",
     "output_type": "stream",
     "text": [
      "The duplicate rows in our dataframe are as follows:\n",
      "\n",
      "Empty DataFrame\n",
      "Columns: [Bank, DD, Withdrawals, Deposits, Branch Area in sqft, avg daily walkins]\n",
      "Index: []\n"
     ]
    }
   ],
   "source": [
    "data_df_duplicated = data_df[data_df.duplicated(keep='first')]\n",
    "print(\"The duplicate rows in our dataframe are as follows:\\n\")\n",
    "print(data_df_duplicated)"
   ]
  },
  {
   "cell_type": "code",
   "execution_count": 7,
   "metadata": {},
   "outputs": [],
   "source": [
    "# Empty dataframe in result means there were no duplicate rows to begin with"
   ]
  },
  {
   "cell_type": "markdown",
   "metadata": {
    "colab_type": "text",
    "id": "LkN5YAaNH868"
   },
   "source": [
    "# Scaling the data"
   ]
  },
  {
   "cell_type": "code",
   "execution_count": 8,
   "metadata": {
    "colab": {},
    "colab_type": "code",
    "id": "LFDOtt8mH869"
   },
   "outputs": [],
   "source": [
    "# importing the StandardScaler Module\n",
    "from sklearn.preprocessing import StandardScaler"
   ]
  },
  {
   "cell_type": "code",
   "execution_count": 9,
   "metadata": {
    "colab": {},
    "colab_type": "code",
    "id": "o2lmCLC_H87C"
   },
   "outputs": [],
   "source": [
    "# Creating an object for the StandardScaler function\n",
    "sc = StandardScaler()"
   ]
  },
  {
   "cell_type": "code",
   "execution_count": 10,
   "metadata": {},
   "outputs": [],
   "source": [
    "# Scaling the dataset using standard scalar function\n",
    "scaled_df = sc.fit_transform(data_df)"
   ]
  },
  {
   "cell_type": "markdown",
   "metadata": {
    "colab_type": "text",
    "id": "1e8-9mZtH87S"
   },
   "source": [
    "# Creating Clusters using KMeans"
   ]
  },
  {
   "cell_type": "markdown",
   "metadata": {
    "colab_type": "text",
    "id": "T_v7tb_HH87T"
   },
   "source": [
    "### Build a KMeans model having 2 Clusters"
   ]
  },
  {
   "cell_type": "code",
   "execution_count": 11,
   "metadata": {
    "colab": {},
    "colab_type": "code",
    "id": "oaSkIC0qH87V"
   },
   "outputs": [],
   "source": [
    "# Create K Means cluster and store the result in the object k_means\n",
    "k_means = KMeans(n_clusters=2,random_state=0)"
   ]
  },
  {
   "cell_type": "code",
   "execution_count": 12,
   "metadata": {
    "colab": {},
    "colab_type": "code",
    "id": "9o7sb5RHH87a"
   },
   "outputs": [
    {
     "data": {
      "text/plain": [
       "KMeans(algorithm='auto', copy_x=True, init='k-means++', max_iter=300,\n",
       "       n_clusters=2, n_init=10, n_jobs=None, precompute_distances='auto',\n",
       "       random_state=0, tol=0.0001, verbose=0)"
      ]
     },
     "execution_count": 12,
     "metadata": {},
     "output_type": "execute_result"
    }
   ],
   "source": [
    "# Fit K means on the scaled_df\n",
    "k_means.fit(scaled_df)"
   ]
  },
  {
   "cell_type": "markdown",
   "metadata": {
    "colab_type": "text",
    "id": "h4Wbu5a1H87g"
   },
   "source": [
    "### Check cluster Output for all the observations"
   ]
  },
  {
   "cell_type": "code",
   "execution_count": 13,
   "metadata": {
    "colab": {},
    "colab_type": "code",
    "id": "uhIFz7UYH87h"
   },
   "outputs": [
    {
     "data": {
      "text/plain": [
       "array([0, 1, 0, 1, 1, 0, 1, 0, 0, 0, 0, 0, 0, 1, 0, 0, 0, 1, 0, 1, 1, 1,\n",
       "       0, 0, 1, 1, 0, 1, 1, 0, 0, 0, 1, 1, 0, 0, 1, 0, 0, 1, 1, 0, 0, 0,\n",
       "       0, 0, 0, 0, 0, 0, 1, 0, 0, 0, 1, 0, 0, 0, 0, 1, 1, 0, 0, 0, 0, 1,\n",
       "       0, 0, 1, 0, 0, 0, 1, 1, 0, 1, 0, 1, 1, 0, 0, 1, 1, 1, 0, 0, 0, 1,\n",
       "       1, 0, 0, 0, 0, 0, 0, 1, 1, 0, 1, 0, 0, 0, 0, 0, 0, 0, 0, 0, 0, 1,\n",
       "       0, 1, 0, 1, 0, 1, 1, 0, 0, 0, 0, 0, 0, 0, 1, 1, 0, 0, 1, 0, 1, 0,\n",
       "       1, 0, 0, 0, 1, 1, 0, 0, 0, 0, 1, 0, 0, 1, 0, 1, 0, 0, 1, 0, 0, 0,\n",
       "       0, 1, 0, 1, 0, 1, 0, 0, 0, 0, 0, 1, 1, 1, 0, 1, 1, 1, 0, 0, 0, 0,\n",
       "       1, 0, 0, 1, 1, 1, 0, 1, 0, 1, 0, 1, 1, 1, 1, 1, 1, 1, 0, 1, 1, 0,\n",
       "       0, 1, 1, 0, 1, 1, 0, 1, 1, 0, 0, 0, 1, 1, 1, 1, 1, 0, 0, 1, 1, 0,\n",
       "       0, 1, 1, 0, 0, 1, 0, 0, 0, 0, 0, 0, 0, 0, 1, 0, 1, 1, 0, 1, 0, 0,\n",
       "       0, 0, 0, 0, 0, 1, 0, 1, 1, 0, 1, 0, 1, 1, 1, 1, 0, 0, 0, 1, 1, 1,\n",
       "       0, 0, 1, 1, 0, 0, 0, 1, 0, 0, 0, 0, 1, 0, 0, 0, 0, 0, 0, 0, 0, 0,\n",
       "       0, 0, 0, 1, 1, 0, 1, 1, 1, 1, 0, 1, 0, 0, 0, 1, 1, 1, 0, 0, 0, 1,\n",
       "       1, 1, 0, 0, 1, 1, 0, 1, 1, 0, 0, 1, 1, 1, 1, 0, 1, 0, 0, 1, 1, 1,\n",
       "       0, 0, 1, 0, 0, 0, 1, 0, 1, 1, 1, 1, 0, 1, 1, 0, 1, 0, 1, 1, 1, 1,\n",
       "       1, 0, 1, 1, 1, 0, 1, 0, 0, 1, 0, 1, 0, 0, 0, 0, 1, 1, 1, 0, 1, 1,\n",
       "       1, 0, 1, 0, 0, 0, 1, 0, 0, 1, 1, 1, 1, 1, 0, 0, 1, 1, 1, 1, 0, 1,\n",
       "       1, 1, 0, 1, 1, 1, 0, 1, 1, 0, 1, 1, 1, 1, 0, 1, 0, 1, 1, 1, 1, 1,\n",
       "       1, 1, 0, 0, 0, 0, 1, 0, 0, 1, 1, 0, 1, 1, 0, 1, 1, 1, 1, 1, 1, 0,\n",
       "       1, 1, 1, 1, 0, 1, 1, 1, 1, 1, 0, 1, 1, 1, 1, 1, 1, 0, 0, 1, 1, 1,\n",
       "       0, 0, 0, 1, 0, 0, 1, 1, 0, 1, 1, 1, 1, 1, 1, 1, 1, 1, 1, 0, 0, 1,\n",
       "       0, 0, 1, 0, 1, 0, 1, 1, 1, 1, 1, 1, 0, 1, 1, 1, 1, 0, 1, 0, 1, 1,\n",
       "       1, 0, 0, 1, 0, 1, 0, 1, 0])"
      ]
     },
     "execution_count": 13,
     "metadata": {},
     "output_type": "execute_result"
    }
   ],
   "source": [
    "# Get the labels\n",
    "k_means.labels_"
   ]
  },
  {
   "cell_type": "markdown",
   "metadata": {
    "colab_type": "text",
    "id": "yjBXWVfxH87p"
   },
   "source": [
    "### Calculate within Cluster Sum of Squares"
   ]
  },
  {
   "cell_type": "code",
   "execution_count": 14,
   "metadata": {
    "colab": {},
    "colab_type": "code",
    "id": "1ItpiR0IKgqh"
   },
   "outputs": [
    {
     "data": {
      "text/plain": [
       "2448.0305920669534"
      ]
     },
     "execution_count": 14,
     "metadata": {},
     "output_type": "execute_result"
    }
   ],
   "source": [
    "k_means.inertia_"
   ]
  },
  {
   "cell_type": "markdown",
   "metadata": {
    "colab_type": "text",
    "id": "W8cmXIIMH87v"
   },
   "source": [
    "### Form clusters with K = 1,3,4,5,6 and compare the WSS ( within cluster sum of squares)"
   ]
  },
  {
   "cell_type": "code",
   "execution_count": 15,
   "metadata": {
    "colab": {},
    "colab_type": "code",
    "id": "wyHczMATKhOL"
   },
   "outputs": [
    {
     "data": {
      "image/png": "[encoded data removed]",
      "text/plain": [
       "<Figure size 432x288 with 1 Axes>"
      ]
     },
     "metadata": {
      "needs_background": "light"
     },
     "output_type": "display_data"
    }
   ],
   "source": [
    "wcss = []\n",
    "for i in range(1,7):\n",
    "    kmeans = KMeans(n_clusters=i, init='k-means++', max_iter=300, n_init=10, random_state=0)\n",
    "    kmeans.fit(scaled_df)\n",
    "    wcss.append(kmeans.inertia_)\n",
    "plt.plot(range(1,7), wcss)\n",
    "plt.title('Elbow Method')\n",
    "plt.xlabel('Number of clusters')\n",
    "plt.ylabel('WCSS')\n",
    "plt.show()"
   ]
  },
  {
   "cell_type": "markdown",
   "metadata": {
    "colab_type": "text",
    "id": "JMhH8huIH88L"
   },
   "source": [
    "### Calculate WSS for other values of K ( can use range of K = 1 to 20) - Elbow Method"
   ]
  },
  {
   "cell_type": "code",
   "execution_count": 31,
   "metadata": {
    "colab": {},
    "colab_type": "code",
    "id": "2CB7hiFZH88M"
   },
   "outputs": [
    {
     "data": {
      "image/png": "[encoded data removed]",
      "text/plain": [
       "<Figure size 432x288 with 1 Axes>"
      ]
     },
     "metadata": {
      "needs_background": "light"
     },
     "output_type": "display_data"
    }
   ],
   "source": [
    "wss = []\n",
    "for k in range(1,21):\n",
    "    kmeans2 = KMeans(n_clusters=k, init='k-means++', max_iter=300, n_init=10, random_state=0)\n",
    "    kmeans2.fit(scaled_df)\n",
    "    wss.append(kmeans2.inertia_)  \n",
    "plt.plot(range(1,21), wss, label = 'WSS')\n",
    "plt.title('Elbow Method')\n",
    "plt.xlabel('Number of clusters')\n",
    "plt.xticks(range(1,21))\n",
    "plt.ylabel('WCSS')\n",
    "plt.legend()\n",
    "plt.show()"
   ]
  },
  {
   "cell_type": "markdown",
   "metadata": {
    "colab_type": "text",
    "id": "JnECTBNLH88e"
   },
   "source": [
    "## Build a KMeans model with K=3"
   ]
  },
  {
   "cell_type": "code",
   "execution_count": 17,
   "metadata": {
    "colab": {},
    "colab_type": "code",
    "id": "3Lw2CoSdH88g"
   },
   "outputs": [],
   "source": [
    "kmeans3 = KMeans(n_clusters=3, init='k-means++', max_iter=300, n_init=10, random_state=0)"
   ]
  },
  {
   "cell_type": "markdown",
   "metadata": {
    "colab_type": "text",
    "id": "zPP2jEChH88m"
   },
   "source": [
    "### Use silhouette score to evaluate the above model ( 3 clusters)"
   ]
  },
  {
   "cell_type": "code",
   "execution_count": 18,
   "metadata": {
    "colab": {},
    "colab_type": "code",
    "id": "E--MaATcH88n"
   },
   "outputs": [],
   "source": [
    "from sklearn.metrics import silhouette_samples, silhouette_score"
   ]
  },
  {
   "cell_type": "code",
   "execution_count": 19,
   "metadata": {
    "colab": {},
    "colab_type": "code",
    "id": "ug3i1lGmH88s"
   },
   "outputs": [
    {
     "name": "stdout",
     "output_type": "stream",
     "text": [
      "The silhouette score for k-means cluster model with k = 3 is: 0.17805387367814587\n"
     ]
    }
   ],
   "source": [
    "# Calculating silhouette_score\n",
    "preds3 = kmeans3.fit_predict(scaled_df)\n",
    "score3 = silhouette_score(scaled_df,preds3)\n",
    "print(\"The silhouette score for k-means cluster model with k = 3 is:\",score3)"
   ]
  },
  {
   "cell_type": "markdown",
   "metadata": {
    "colab_type": "text",
    "id": "Y3Mx7S1bH88w"
   },
   "source": [
    "# Build a KMeans model with K=4"
   ]
  },
  {
   "cell_type": "code",
   "execution_count": 20,
   "metadata": {
    "colab": {},
    "colab_type": "code",
    "id": "3Lw2CoSdH88g"
   },
   "outputs": [],
   "source": [
    "kmeans4 = KMeans(n_clusters=4, init='k-means++', max_iter=300, n_init=10, random_state=0)"
   ]
  },
  {
   "cell_type": "markdown",
   "metadata": {
    "colab_type": "text",
    "id": "ERvm3lxZH881"
   },
   "source": [
    "### Use silhouette score to evaluate the above model (4 clusters)"
   ]
  },
  {
   "cell_type": "code",
   "execution_count": 21,
   "metadata": {
    "colab": {},
    "colab_type": "code",
    "id": "eTCjQyeyH883"
   },
   "outputs": [
    {
     "name": "stdout",
     "output_type": "stream",
     "text": [
      "The silhouette score for k-means cluster model with k = 4 is: 0.18601645296883526\n"
     ]
    }
   ],
   "source": [
    "from sklearn.metrics import silhouette_samples, silhouette_score\n",
    "preds4 = kmeans4.fit_predict(scaled_df)\n",
    "score4 = silhouette_score(scaled_df,preds4)\n",
    "print(\"The silhouette score for k-means cluster model with k = 4 is:\",score4)"
   ]
  },
  {
   "cell_type": "markdown",
   "metadata": {
    "colab_type": "text",
    "id": "chyNZMquH89B"
   },
   "source": [
    "Appending Clusters to the original dataset"
   ]
  },
  {
   "cell_type": "code",
   "execution_count": 22,
   "metadata": {},
   "outputs": [],
   "source": [
    "data_df['labels'] = preds4"
   ]
  },
  {
   "cell_type": "markdown",
   "metadata": {
    "colab_type": "text",
    "id": "VZpPTeRjH89J"
   },
   "source": [
    "# Cluster Profiling"
   ]
  },
  {
   "cell_type": "code",
   "execution_count": 23,
   "metadata": {
    "colab": {},
    "colab_type": "code",
    "id": "TzBQV5ZfH89K"
   },
   "outputs": [
    {
     "data": {
      "text/plain": [
       "0    121\n",
       "1    116\n",
       "2    143\n",
       "3    135\n",
       "Name: labels, dtype: int64"
      ]
     },
     "execution_count": 23,
     "metadata": {},
     "output_type": "execute_result"
    }
   ],
   "source": [
    "data_df['labels'].value_counts().sort_index()"
   ]
  },
  {
   "cell_type": "code",
   "execution_count": 35,
   "metadata": {
    "colab": {},
    "colab_type": "code",
    "id": "anzKOs0nH89N"
   },
   "outputs": [
    {
     "data": {
      "text/html": [
       "<div>\n",
       "<style scoped>\n",
       "    .dataframe tbody tr th:only-of-type {\n",
       "        vertical-align: middle;\n",
       "    }\n",
       "\n",
       "    .dataframe tbody tr th {\n",
       "        vertical-align: top;\n",
       "    }\n",
       "\n",
       "    .dataframe thead th {\n",
       "        text-align: right;\n",
       "    }\n",
       "</style>\n",
       "<table border=\"1\" class=\"dataframe\">\n",
       "  <thead>\n",
       "    <tr style=\"text-align: right;\">\n",
       "      <th></th>\n",
       "      <th>DD</th>\n",
       "      <th>Withdrawals</th>\n",
       "      <th>Deposits</th>\n",
       "      <th>Branch Area in sqft</th>\n",
       "      <th>avg daily walkins</th>\n",
       "      <th>freq</th>\n",
       "    </tr>\n",
       "    <tr>\n",
       "      <th>labels</th>\n",
       "      <th></th>\n",
       "      <th></th>\n",
       "      <th></th>\n",
       "      <th></th>\n",
       "      <th></th>\n",
       "      <th></th>\n",
       "    </tr>\n",
       "  </thead>\n",
       "  <tbody>\n",
       "    <tr>\n",
       "      <td>0</td>\n",
       "      <td>286.380165</td>\n",
       "      <td>193.504132</td>\n",
       "      <td>84.933884</td>\n",
       "      <td>2622.066116</td>\n",
       "      <td>698.264463</td>\n",
       "      <td>121</td>\n",
       "    </tr>\n",
       "    <tr>\n",
       "      <td>1</td>\n",
       "      <td>163.629310</td>\n",
       "      <td>117.086207</td>\n",
       "      <td>75.646552</td>\n",
       "      <td>3034.353448</td>\n",
       "      <td>492.387931</td>\n",
       "      <td>116</td>\n",
       "    </tr>\n",
       "    <tr>\n",
       "      <td>2</td>\n",
       "      <td>289.000000</td>\n",
       "      <td>102.713287</td>\n",
       "      <td>76.363636</td>\n",
       "      <td>3116.993007</td>\n",
       "      <td>598.489510</td>\n",
       "      <td>143</td>\n",
       "    </tr>\n",
       "    <tr>\n",
       "      <td>3</td>\n",
       "      <td>182.592593</td>\n",
       "      <td>192.022222</td>\n",
       "      <td>89.607407</td>\n",
       "      <td>2936.074074</td>\n",
       "      <td>600.666667</td>\n",
       "      <td>135</td>\n",
       "    </tr>\n",
       "  </tbody>\n",
       "</table>\n",
       "</div>"
      ],
      "text/plain": [
       "                DD  Withdrawals   Deposits  Branch Area in sqft  \\\n",
       "labels                                                            \n",
       "0       286.380165   193.504132  84.933884          2622.066116   \n",
       "1       163.629310   117.086207  75.646552          3034.353448   \n",
       "2       289.000000   102.713287  76.363636          3116.993007   \n",
       "3       182.592593   192.022222  89.607407          2936.074074   \n",
       "\n",
       "        avg daily walkins  freq  \n",
       "labels                           \n",
       "0              698.264463   121  \n",
       "1              492.387931   116  \n",
       "2              598.489510   143  \n",
       "3              600.666667   135  "
      ]
     },
     "execution_count": 35,
     "metadata": {},
     "output_type": "execute_result"
    }
   ],
   "source": [
    "clust_profile=data_df.drop(['Bank'],axis=1)\n",
    "clust_profile=clust_profile.groupby('labels').mean()\n",
    "clust_profile['freq']=data_df.labels.value_counts().sort_index()\n",
    "clust_profile"
   ]
  },
  {
   "cell_type": "markdown",
   "metadata": {
    "colab_type": "text",
    "id": "BxU50Li8H89S"
   },
   "source": [
    "# Mention your insights"
   ]
  },
  {
   "cell_type": "markdown",
   "metadata": {
    "colab": {},
    "colab_type": "code",
    "id": "lkccygPnH89e"
   },
   "source": [
    "<b>Clusters can be defined as follows:</b>\n",
    "\n",
    "- Cluster 0: Small size bank with highest walkins and Withdrawals, high depoists and large DD\n",
    "- Cluster 1: Large size bank with the least walkins, deposits and DD, and low withdrawals (smallest cluster)\n",
    "- Cluster 2: Large size bank with more number of walkins and highest DD, but the least withdrawals and less Deposits (largest cluster)\n",
    "- Cluster 3: Large size bank with less walkins, DD but highest Deposit and high withdrawals"
   ]
  },
  {
   "cell_type": "markdown",
   "metadata": {},
   "source": [
    "We are seeing 4 clusters divided per our analysis above, but the divide is not clear. We'll use boxplots for further insight."
   ]
  },
  {
   "cell_type": "code",
   "execution_count": 37,
   "metadata": {},
   "outputs": [
    {
     "data": {
      "text/plain": [
       "array([[<matplotlib.axes._subplots.AxesSubplot object at 0x166BBF10>,\n",
       "        <matplotlib.axes._subplots.AxesSubplot object at 0x166D4730>,\n",
       "        <matplotlib.axes._subplots.AxesSubplot object at 0x166EE630>],\n",
       "       [<matplotlib.axes._subplots.AxesSubplot object at 0x16703F90>,\n",
       "        <matplotlib.axes._subplots.AxesSubplot object at 0x149A4EB0>,\n",
       "        <matplotlib.axes._subplots.AxesSubplot object at 0x149C5DD0>],\n",
       "       [<matplotlib.axes._subplots.AxesSubplot object at 0x149E8CF0>,\n",
       "        <matplotlib.axes._subplots.AxesSubplot object at 0x14A08DD0>,\n",
       "        <matplotlib.axes._subplots.AxesSubplot object at 0x14A13390>],\n",
       "       [<matplotlib.axes._subplots.AxesSubplot object at 0x14A33530>,\n",
       "        <matplotlib.axes._subplots.AxesSubplot object at 0x14A75630>,\n",
       "        <matplotlib.axes._subplots.AxesSubplot object at 0x14A95710>]],\n",
       "      dtype=object)"
      ]
     },
     "execution_count": 37,
     "metadata": {},
     "output_type": "execute_result"
    },
    {
     "data": {
      "image/png": "[encoded data removed]",
      "text/plain": [
       "<Figure size 1080x1440 with 12 Axes>"
      ]
     },
     "metadata": {
      "needs_background": "light"
     },
     "output_type": "display_data"
    }
   ],
   "source": [
    "data_df.boxplot(by = 'labels',  layout=(4,3), figsize=(15,20))"
   ]
  },
  {
   "cell_type": "markdown",
   "metadata": {},
   "source": [
    "We can see clearly that there's a lot of overlap in features for the different clusters formed, which tells us that maybe k=4 is not the optimal number of clusters."
   ]
  },
  {
   "cell_type": "code",
   "execution_count": 39,
   "metadata": {},
   "outputs": [
    {
     "name": "stdout",
     "output_type": "stream",
     "text": [
      "Silhouette score for number of cluster(s) 2: 0.1904781075292592\n",
      "Silhouette score for number of cluster(s) 3: 0.17805387367814587\n",
      "Silhouette score for number of cluster(s) 4: 0.18601645296883526\n",
      "Silhouette score for number of cluster(s) 5: 0.1795928308811522\n",
      "Silhouette score for number of cluster(s) 6: 0.17564627705639968\n",
      "Silhouette score for number of cluster(s) 7: 0.18156725685172928\n",
      "Silhouette score for number of cluster(s) 8: 0.17143994246067598\n",
      "Silhouette score for number of cluster(s) 9: 0.1764863822521238\n",
      "Silhouette score for number of cluster(s) 10: 0.17317342452098286\n",
      "Silhouette score for number of cluster(s) 11: 0.1803418336889252\n",
      "Silhouette score for number of cluster(s) 12: 0.18512710155653134\n",
      "Silhouette score for number of cluster(s) 13: 0.17771543090019462\n",
      "Silhouette score for number of cluster(s) 14: 0.17724119037618236\n",
      "Silhouette score for number of cluster(s) 15: 0.1811373826816732\n",
      "Silhouette score for number of cluster(s) 16: 0.18119821261509955\n",
      "Silhouette score for number of cluster(s) 17: 0.17723485134703948\n",
      "Silhouette score for number of cluster(s) 18: 0.17774710004182745\n",
      "Silhouette score for number of cluster(s) 19: 0.17892518135810825\n"
     ]
    }
   ],
   "source": [
    "km_silhouette = []\n",
    "for i in range(2,20):\n",
    "    km = KMeans(n_clusters=i, random_state=0).fit(scaled_df)\n",
    "    preds = km.predict(scaled_df)\n",
    "    silhouette = silhouette_score(scaled_df,preds)\n",
    "    km_silhouette.append(silhouette)\n",
    "    print(\"Silhouette score for number of cluster(s) {}: {}\".format(i,silhouette))"
   ]
  },
  {
   "cell_type": "code",
   "execution_count": 40,
   "metadata": {},
   "outputs": [
    {
     "data": {
      "image/png": "[encoded data removed]",
      "text/plain": [
       "<Figure size 432x288 with 1 Axes>"
      ]
     },
     "metadata": {
      "needs_background": "light"
     },
     "output_type": "display_data"
    }
   ],
   "source": [
    "plt.plot(range(2,20), km_silhouette, label = 'Silhouette Score')\n",
    "plt.title('The silhouette coefficient method \\nfor determining number of clusters\\n')\n",
    "plt.xlabel('Number of clusters')\n",
    "plt.xticks(range(2,20))\n",
    "plt.ylabel('Silhouette Score')\n",
    "plt.legend()\n",
    "plt.show()"
   ]
  },
  {
   "cell_type": "markdown",
   "metadata": {},
   "source": [
    "The elbow plot above with the Silhouette scores vs number of clusters gives us confirmation that k=4 is one of the best options for this data, but we can go for better Silhouette score coefficient value at k=2."
   ]
  }
 ],
 "metadata": {
  "colab": {
   "collapsed_sections": [],
   "name": "R4_External_Lab_Question_file.ipynb",
   "provenance": []
  },
  "kernelspec": {
   "display_name": "Python 3",
   "language": "python",
   "name": "python3"
  },
  "language_info": {
   "codemirror_mode": {
    "name": "ipython",
    "version": 3
   },
   "file_extension": ".py",
   "mimetype": "text/x-python",
   "name": "python",
   "nbconvert_exporter": "python",
   "pygments_lexer": "ipython3",
   "version": "3.7.4"
  }
 },
 "nbformat": 4,
 "nbformat_minor": 1
}
