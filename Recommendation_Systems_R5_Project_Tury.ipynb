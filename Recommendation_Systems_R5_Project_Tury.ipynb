{
  "nbformat": 4,
  "nbformat_minor": 0,
  "metadata": {
    "colab": {
      "name": "Recommendation Systems_R5_Project_Tury.ipynb",
      "provenance": [],
      "collapsed_sections": []
    },
    "kernelspec": {
      "name": "python3",
      "display_name": "Python 3"
    },
    "accelerator": "GPU"
  },
  "cells": [
    {
      "cell_type": "code",
      "metadata": {
        "id": "YDklOjZm4pCV"
      },
      "source": [
        "import numpy as np\n",
        "import pandas as pd"
      ],
      "execution_count": 2,
      "outputs": []
    },
    {
      "cell_type": "code",
      "metadata": {
        "id": "0hudYegw6Iaf",
        "outputId": "5ce5b0eb-4e7c-4652-a991-ba08766bded5",
        "colab": {
          "base_uri": "https://localhost:8080/"
        }
      },
      "source": [
        "from google.colab import drive\n",
        "drive.mount('/content/drive')"
      ],
      "execution_count": 3,
      "outputs": [
        {
          "output_type": "stream",
          "text": [
            "Mounted at /content/drive\n"
          ],
          "name": "stdout"
        }
      ]
    },
    {
      "cell_type": "code",
      "metadata": {
        "id": "8EJdZXye6Zn4"
      },
      "source": [
        "df = pd.read_csv('/content/drive/My Drive/Recommendation System - Assignment/Electronic_dataset.csv')"
      ],
      "execution_count": 4,
      "outputs": []
    },
    {
      "cell_type": "code",
      "metadata": {
        "id": "ZFwxjwCS6y6f",
        "outputId": "b9939049-a054-4c7c-9cac-6298ea3ebfd9",
        "colab": {
          "base_uri": "https://localhost:8080/",
          "height": 195
        }
      },
      "source": [
        "df.head()"
      ],
      "execution_count": 5,
      "outputs": [
        {
          "output_type": "execute_result",
          "data": {
            "text/html": [
              "<div>\n",
              "<style scoped>\n",
              "    .dataframe tbody tr th:only-of-type {\n",
              "        vertical-align: middle;\n",
              "    }\n",
              "\n",
              "    .dataframe tbody tr th {\n",
              "        vertical-align: top;\n",
              "    }\n",
              "\n",
              "    .dataframe thead th {\n",
              "        text-align: right;\n",
              "    }\n",
              "</style>\n",
              "<table border=\"1\" class=\"dataframe\">\n",
              "  <thead>\n",
              "    <tr style=\"text-align: right;\">\n",
              "      <th></th>\n",
              "      <th>user_id</th>\n",
              "      <th>prod_id</th>\n",
              "      <th>ratings</th>\n",
              "      <th>timestamp</th>\n",
              "    </tr>\n",
              "  </thead>\n",
              "  <tbody>\n",
              "    <tr>\n",
              "      <th>0</th>\n",
              "      <td>A3L1GVWVJKWZZS</td>\n",
              "      <td>B0058UUR6E</td>\n",
              "      <td>5.0</td>\n",
              "      <td>1364774400</td>\n",
              "    </tr>\n",
              "    <tr>\n",
              "      <th>1</th>\n",
              "      <td>A08831071BVKZMKNCPI5S</td>\n",
              "      <td>B009ID0VVS</td>\n",
              "      <td>5.0</td>\n",
              "      <td>1357257600</td>\n",
              "    </tr>\n",
              "    <tr>\n",
              "      <th>2</th>\n",
              "      <td>A1SINU2I4IOPNU</td>\n",
              "      <td>B000GBO9IM</td>\n",
              "      <td>4.0</td>\n",
              "      <td>1358121600</td>\n",
              "    </tr>\n",
              "    <tr>\n",
              "      <th>3</th>\n",
              "      <td>A3P3P31EEOX2BD</td>\n",
              "      <td>B00CDCIOHO</td>\n",
              "      <td>3.0</td>\n",
              "      <td>1404950400</td>\n",
              "    </tr>\n",
              "    <tr>\n",
              "      <th>4</th>\n",
              "      <td>A3DBLJ3MPBJQMN</td>\n",
              "      <td>B000MS3VGA</td>\n",
              "      <td>5.0</td>\n",
              "      <td>1294444800</td>\n",
              "    </tr>\n",
              "  </tbody>\n",
              "</table>\n",
              "</div>"
            ],
            "text/plain": [
              "                 user_id     prod_id  ratings   timestamp\n",
              "0         A3L1GVWVJKWZZS  B0058UUR6E      5.0  1364774400\n",
              "1  A08831071BVKZMKNCPI5S  B009ID0VVS      5.0  1357257600\n",
              "2         A1SINU2I4IOPNU  B000GBO9IM      4.0  1358121600\n",
              "3         A3P3P31EEOX2BD  B00CDCIOHO      3.0  1404950400\n",
              "4         A3DBLJ3MPBJQMN  B000MS3VGA      5.0  1294444800"
            ]
          },
          "metadata": {
            "tags": []
          },
          "execution_count": 5
        }
      ]
    },
    {
      "cell_type": "code",
      "metadata": {
        "id": "-dB0fjPj60K6",
        "outputId": "d4de5133-8543-450d-8024-78d66103053f",
        "colab": {
          "base_uri": "https://localhost:8080/"
        }
      },
      "source": [
        "df.info()"
      ],
      "execution_count": 6,
      "outputs": [
        {
          "output_type": "stream",
          "text": [
            "<class 'pandas.core.frame.DataFrame'>\n",
            "RangeIndex: 500000 entries, 0 to 499999\n",
            "Data columns (total 4 columns):\n",
            " #   Column     Non-Null Count   Dtype  \n",
            "---  ------     --------------   -----  \n",
            " 0   user_id    500000 non-null  object \n",
            " 1   prod_id    500000 non-null  object \n",
            " 2   ratings    500000 non-null  float64\n",
            " 3   timestamp  500000 non-null  int64  \n",
            "dtypes: float64(1), int64(1), object(2)\n",
            "memory usage: 15.3+ MB\n"
          ],
          "name": "stdout"
        }
      ]
    },
    {
      "cell_type": "code",
      "metadata": {
        "id": "2fQvhEoT7Psz",
        "outputId": "c2b5aac3-8f9c-4d10-86fd-eaaa5ac467ed",
        "colab": {
          "base_uri": "https://localhost:8080/"
        }
      },
      "source": [
        "df.user_id.nunique()"
      ],
      "execution_count": 7,
      "outputs": [
        {
          "output_type": "execute_result",
          "data": {
            "text/plain": [
              "448368"
            ]
          },
          "metadata": {
            "tags": []
          },
          "execution_count": 7
        }
      ]
    },
    {
      "cell_type": "code",
      "metadata": {
        "id": "Fwv1dXsA7VCS"
      },
      "source": [
        "# Total ratings are 500000, out of which unique Users are 448368. This means few thousand users have rated multiple products."
      ],
      "execution_count": 8,
      "outputs": []
    },
    {
      "cell_type": "code",
      "metadata": {
        "id": "LShTDbHX7nJY",
        "outputId": "3e8d6780-2719-4dfb-c45b-5fb1df0cafa0",
        "colab": {
          "base_uri": "https://localhost:8080/"
        }
      },
      "source": [
        "df.prod_id.nunique()"
      ],
      "execution_count": 9,
      "outputs": [
        {
          "output_type": "execute_result",
          "data": {
            "text/plain": [
              "130138"
            ]
          },
          "metadata": {
            "tags": []
          },
          "execution_count": 9
        }
      ]
    },
    {
      "cell_type": "code",
      "metadata": {
        "id": "SCbnN1sC7w1n"
      },
      "source": [
        "# Total catalogue is of 130138 products from which we can recommend few to each User."
      ],
      "execution_count": 10,
      "outputs": []
    },
    {
      "cell_type": "code",
      "metadata": {
        "id": "g8hJ4E1c8k5q",
        "outputId": "6f16db6a-4e5d-46c4-8d9a-3c1482ed0a94",
        "colab": {
          "base_uri": "https://localhost:8080/"
        }
      },
      "source": [
        "df.groupby('ratings').count()['prod_id']"
      ],
      "execution_count": 11,
      "outputs": [
        {
          "output_type": "execute_result",
          "data": {
            "text/plain": [
              "ratings\n",
              "1.0     57452\n",
              "2.0     29251\n",
              "3.0     40382\n",
              "4.0     95089\n",
              "5.0    277826\n",
              "Name: prod_id, dtype: int64"
            ]
          },
          "metadata": {
            "tags": []
          },
          "execution_count": 11
        }
      ]
    },
    {
      "cell_type": "code",
      "metadata": {
        "id": "TeCP9Ryh75il",
        "outputId": "6112ac40-39fe-4c5a-fb35-b58311a5a9eb",
        "colab": {
          "base_uri": "https://localhost:8080/",
          "height": 282
        }
      },
      "source": [
        "df.ratings.hist()"
      ],
      "execution_count": 12,
      "outputs": [
        {
          "output_type": "execute_result",
          "data": {
            "text/plain": [
              "<matplotlib.axes._subplots.AxesSubplot at 0x7f5827a96a90>"
            ]
          },
          "metadata": {
            "tags": []
          },
          "execution_count": 12
        },
        {
          "output_type": "display_data",
          "data": {
            "image/png": "[encoded data removed]",
            "text/plain": [
              "<Figure size 432x288 with 1 Axes>"
            ]
          },
          "metadata": {
            "tags": [],
            "needs_background": "light"
          }
        }
      ]
    },
    {
      "cell_type": "code",
      "metadata": {
        "id": "1wW5_IY3799x"
      },
      "source": [
        "# Clearly most ratings are towards the higher end (4 and 5)."
      ],
      "execution_count": 13,
      "outputs": []
    },
    {
      "cell_type": "code",
      "metadata": {
        "id": "s5hRxNyK9GnK",
        "outputId": "7adc55eb-92f3-4f33-d190-124528941cfc",
        "colab": {
          "base_uri": "https://localhost:8080/",
          "height": 195
        }
      },
      "source": [
        "df.drop('timestamp',axis=1,inplace=True)\n",
        "df.head()\n",
        "# Dropping timestamp column."
      ],
      "execution_count": 14,
      "outputs": [
        {
          "output_type": "execute_result",
          "data": {
            "text/html": [
              "<div>\n",
              "<style scoped>\n",
              "    .dataframe tbody tr th:only-of-type {\n",
              "        vertical-align: middle;\n",
              "    }\n",
              "\n",
              "    .dataframe tbody tr th {\n",
              "        vertical-align: top;\n",
              "    }\n",
              "\n",
              "    .dataframe thead th {\n",
              "        text-align: right;\n",
              "    }\n",
              "</style>\n",
              "<table border=\"1\" class=\"dataframe\">\n",
              "  <thead>\n",
              "    <tr style=\"text-align: right;\">\n",
              "      <th></th>\n",
              "      <th>user_id</th>\n",
              "      <th>prod_id</th>\n",
              "      <th>ratings</th>\n",
              "    </tr>\n",
              "  </thead>\n",
              "  <tbody>\n",
              "    <tr>\n",
              "      <th>0</th>\n",
              "      <td>A3L1GVWVJKWZZS</td>\n",
              "      <td>B0058UUR6E</td>\n",
              "      <td>5.0</td>\n",
              "    </tr>\n",
              "    <tr>\n",
              "      <th>1</th>\n",
              "      <td>A08831071BVKZMKNCPI5S</td>\n",
              "      <td>B009ID0VVS</td>\n",
              "      <td>5.0</td>\n",
              "    </tr>\n",
              "    <tr>\n",
              "      <th>2</th>\n",
              "      <td>A1SINU2I4IOPNU</td>\n",
              "      <td>B000GBO9IM</td>\n",
              "      <td>4.0</td>\n",
              "    </tr>\n",
              "    <tr>\n",
              "      <th>3</th>\n",
              "      <td>A3P3P31EEOX2BD</td>\n",
              "      <td>B00CDCIOHO</td>\n",
              "      <td>3.0</td>\n",
              "    </tr>\n",
              "    <tr>\n",
              "      <th>4</th>\n",
              "      <td>A3DBLJ3MPBJQMN</td>\n",
              "      <td>B000MS3VGA</td>\n",
              "      <td>5.0</td>\n",
              "    </tr>\n",
              "  </tbody>\n",
              "</table>\n",
              "</div>"
            ],
            "text/plain": [
              "                 user_id     prod_id  ratings\n",
              "0         A3L1GVWVJKWZZS  B0058UUR6E      5.0\n",
              "1  A08831071BVKZMKNCPI5S  B009ID0VVS      5.0\n",
              "2         A1SINU2I4IOPNU  B000GBO9IM      4.0\n",
              "3         A3P3P31EEOX2BD  B00CDCIOHO      3.0\n",
              "4         A3DBLJ3MPBJQMN  B000MS3VGA      5.0"
            ]
          },
          "metadata": {
            "tags": []
          },
          "execution_count": 14
        }
      ]
    },
    {
      "cell_type": "markdown",
      "metadata": {
        "id": "ccjnZ8nZ92Wd"
      },
      "source": [
        "# Popularity Based Recommendation System"
      ]
    },
    {
      "cell_type": "code",
      "metadata": {
        "id": "xXxR2nxu_NNt",
        "outputId": "6a463169-0ab8-41a9-937a-3205e9eb3d47",
        "colab": {
          "base_uri": "https://localhost:8080/"
        }
      },
      "source": [
        "df_mean_rating = df.drop('user_id',axis=1)\n",
        "df_mean_rating.info()\n",
        "# Dropping user id column from orignal dataframe and copying into a new dataframe since it is not needed in popularity based model."
      ],
      "execution_count": 15,
      "outputs": [
        {
          "output_type": "stream",
          "text": [
            "<class 'pandas.core.frame.DataFrame'>\n",
            "RangeIndex: 500000 entries, 0 to 499999\n",
            "Data columns (total 2 columns):\n",
            " #   Column   Non-Null Count   Dtype  \n",
            "---  ------   --------------   -----  \n",
            " 0   prod_id  500000 non-null  object \n",
            " 1   ratings  500000 non-null  float64\n",
            "dtypes: float64(1), object(1)\n",
            "memory usage: 7.6+ MB\n"
          ],
          "name": "stdout"
        }
      ]
    },
    {
      "cell_type": "code",
      "metadata": {
        "id": "Xdib2MdT98ra",
        "outputId": "7cad1041-ccb3-4e1b-b551-8c9255332330",
        "colab": {
          "base_uri": "https://localhost:8080/",
          "height": 225
        }
      },
      "source": [
        "df_mean_rating_grouped = df_mean_rating.groupby('prod_id').mean()\n",
        "df_mean_rating_grouped.head()"
      ],
      "execution_count": 16,
      "outputs": [
        {
          "output_type": "execute_result",
          "data": {
            "text/html": [
              "<div>\n",
              "<style scoped>\n",
              "    .dataframe tbody tr th:only-of-type {\n",
              "        vertical-align: middle;\n",
              "    }\n",
              "\n",
              "    .dataframe tbody tr th {\n",
              "        vertical-align: top;\n",
              "    }\n",
              "\n",
              "    .dataframe thead th {\n",
              "        text-align: right;\n",
              "    }\n",
              "</style>\n",
              "<table border=\"1\" class=\"dataframe\">\n",
              "  <thead>\n",
              "    <tr style=\"text-align: right;\">\n",
              "      <th></th>\n",
              "      <th>ratings</th>\n",
              "    </tr>\n",
              "    <tr>\n",
              "      <th>prod_id</th>\n",
              "      <th></th>\n",
              "    </tr>\n",
              "  </thead>\n",
              "  <tbody>\n",
              "    <tr>\n",
              "      <th>0439886341</th>\n",
              "      <td>1.0</td>\n",
              "    </tr>\n",
              "    <tr>\n",
              "      <th>0528881469</th>\n",
              "      <td>5.0</td>\n",
              "    </tr>\n",
              "    <tr>\n",
              "      <th>0594012015</th>\n",
              "      <td>5.0</td>\n",
              "    </tr>\n",
              "    <tr>\n",
              "      <th>0594033926</th>\n",
              "      <td>5.0</td>\n",
              "    </tr>\n",
              "    <tr>\n",
              "      <th>0594451647</th>\n",
              "      <td>5.0</td>\n",
              "    </tr>\n",
              "  </tbody>\n",
              "</table>\n",
              "</div>"
            ],
            "text/plain": [
              "            ratings\n",
              "prod_id            \n",
              "0439886341      1.0\n",
              "0528881469      5.0\n",
              "0594012015      5.0\n",
              "0594033926      5.0\n",
              "0594451647      5.0"
            ]
          },
          "metadata": {
            "tags": []
          },
          "execution_count": 16
        }
      ]
    },
    {
      "cell_type": "code",
      "metadata": {
        "id": "5Gjw70NXDA4S"
      },
      "source": [
        "# The above code will take out the average rating of each product from the dfferent ratings provided by multiple Users."
      ],
      "execution_count": 17,
      "outputs": []
    },
    {
      "cell_type": "code",
      "metadata": {
        "id": "xLw1GPIBA4iE",
        "outputId": "7e7cb7a4-c00b-4acb-8949-d8a577cb0bea",
        "colab": {
          "base_uri": "https://localhost:8080/",
          "height": 373
        }
      },
      "source": [
        "df_mean_rating_grouped.sort_values(by='ratings',ascending=False).head(10)"
      ],
      "execution_count": 18,
      "outputs": [
        {
          "output_type": "execute_result",
          "data": {
            "text/html": [
              "<div>\n",
              "<style scoped>\n",
              "    .dataframe tbody tr th:only-of-type {\n",
              "        vertical-align: middle;\n",
              "    }\n",
              "\n",
              "    .dataframe tbody tr th {\n",
              "        vertical-align: top;\n",
              "    }\n",
              "\n",
              "    .dataframe thead th {\n",
              "        text-align: right;\n",
              "    }\n",
              "</style>\n",
              "<table border=\"1\" class=\"dataframe\">\n",
              "  <thead>\n",
              "    <tr style=\"text-align: right;\">\n",
              "      <th></th>\n",
              "      <th>ratings</th>\n",
              "    </tr>\n",
              "    <tr>\n",
              "      <th>prod_id</th>\n",
              "      <th></th>\n",
              "    </tr>\n",
              "  </thead>\n",
              "  <tbody>\n",
              "    <tr>\n",
              "      <th>BT008G3W52</th>\n",
              "      <td>5.0</td>\n",
              "    </tr>\n",
              "    <tr>\n",
              "      <th>B003GRJTO2</th>\n",
              "      <td>5.0</td>\n",
              "    </tr>\n",
              "    <tr>\n",
              "      <th>B003GKTGYC</th>\n",
              "      <td>5.0</td>\n",
              "    </tr>\n",
              "    <tr>\n",
              "      <th>B003GM8VH8</th>\n",
              "      <td>5.0</td>\n",
              "    </tr>\n",
              "    <tr>\n",
              "      <th>B003GMATXW</th>\n",
              "      <td>5.0</td>\n",
              "    </tr>\n",
              "    <tr>\n",
              "      <th>B003GMBLZC</th>\n",
              "      <td>5.0</td>\n",
              "    </tr>\n",
              "    <tr>\n",
              "      <th>B003GMDHDG</th>\n",
              "      <td>5.0</td>\n",
              "    </tr>\n",
              "    <tr>\n",
              "      <th>B003GMGLFW</th>\n",
              "      <td>5.0</td>\n",
              "    </tr>\n",
              "    <tr>\n",
              "      <th>B003GMRUDY</th>\n",
              "      <td>5.0</td>\n",
              "    </tr>\n",
              "    <tr>\n",
              "      <th>B003GPOJ1M</th>\n",
              "      <td>5.0</td>\n",
              "    </tr>\n",
              "  </tbody>\n",
              "</table>\n",
              "</div>"
            ],
            "text/plain": [
              "            ratings\n",
              "prod_id            \n",
              "BT008G3W52      5.0\n",
              "B003GRJTO2      5.0\n",
              "B003GKTGYC      5.0\n",
              "B003GM8VH8      5.0\n",
              "B003GMATXW      5.0\n",
              "B003GMBLZC      5.0\n",
              "B003GMDHDG      5.0\n",
              "B003GMGLFW      5.0\n",
              "B003GMRUDY      5.0\n",
              "B003GPOJ1M      5.0"
            ]
          },
          "metadata": {
            "tags": []
          },
          "execution_count": 18
        }
      ]
    },
    {
      "cell_type": "markdown",
      "metadata": {
        "id": "ZusJsFbhFzEB"
      },
      "source": [
        "### The above 10 products have the highest mean rating of 5.0 and can be recommended to all Users as per the Popularity Based Recommendation Model."
      ]
    },
    {
      "cell_type": "markdown",
      "metadata": {
        "id": "Q5qnfuHbGVwh"
      },
      "source": [
        "# Collaborative Filtering based Recommendation System"
      ]
    },
    {
      "cell_type": "code",
      "metadata": {
        "id": "JFVDmlO9H8rJ",
        "outputId": "83fb80ec-8c9f-4441-f9fd-40cddcc24de2",
        "colab": {
          "base_uri": "https://localhost:8080/"
        }
      },
      "source": [
        "!pip install scikit-surprise\n",
        "# Installing surprise package."
      ],
      "execution_count": 19,
      "outputs": [
        {
          "output_type": "stream",
          "text": [
            "Collecting scikit-surprise\n",
            "\u001b[?25l  Downloading https://files.pythonhosted.org/packages/97/37/5d334adaf5ddd65da99fc65f6507e0e4599d092ba048f4302fe8775619e8/scikit-surprise-1.1.1.tar.gz (11.8MB)\n",
            "\u001b[K     |████████████████████████████████| 11.8MB 253kB/s \n",
            "\u001b[?25hRequirement already satisfied: joblib>=0.11 in /usr/local/lib/python3.6/dist-packages (from scikit-surprise) (0.17.0)\n",
            "Requirement already satisfied: numpy>=1.11.2 in /usr/local/lib/python3.6/dist-packages (from scikit-surprise) (1.18.5)\n",
            "Requirement already satisfied: scipy>=1.0.0 in /usr/local/lib/python3.6/dist-packages (from scikit-surprise) (1.4.1)\n",
            "Requirement already satisfied: six>=1.10.0 in /usr/local/lib/python3.6/dist-packages (from scikit-surprise) (1.15.0)\n",
            "Building wheels for collected packages: scikit-surprise\n",
            "  Building wheel for scikit-surprise (setup.py) ... \u001b[?25l\u001b[?25hdone\n",
            "  Created wheel for scikit-surprise: filename=scikit_surprise-1.1.1-cp36-cp36m-linux_x86_64.whl size=1670909 sha256=d1c2c095720c992d9d7d2822438a4f567e7eae5fde66bf64c57e0fbe3a025b58\n",
            "  Stored in directory: /root/.cache/pip/wheels/78/9c/3d/41b419c9d2aff5b6e2b4c0fc8d25c538202834058f9ed110d0\n",
            "Successfully built scikit-surprise\n",
            "Installing collected packages: scikit-surprise\n",
            "Successfully installed scikit-surprise-1.1.1\n"
          ],
          "name": "stdout"
        }
      ]
    },
    {
      "cell_type": "code",
      "metadata": {
        "id": "-opAqBcJInCR"
      },
      "source": [
        "from surprise import Dataset,Reader\n",
        "from surprise.model_selection import cross_validate\n",
        "from surprise import NormalPredictor\n",
        "# Importing all essential utilities from surprise library.\n",
        "reader = Reader(rating_scale=(1,5))\n",
        "# As we're loading a custom dataset, we need to define a reader."
      ],
      "execution_count": 20,
      "outputs": []
    },
    {
      "cell_type": "code",
      "metadata": {
        "id": "QElQTePdJPDf"
      },
      "source": [
        "data = Dataset.load_from_df(df,reader)\n",
        "# Loading the data from Original Dataset into surprise format."
      ],
      "execution_count": 21,
      "outputs": []
    },
    {
      "cell_type": "code",
      "metadata": {
        "id": "F9NEMuZuJ8K6",
        "outputId": "3d02f1ef-7ae8-438c-a303-eda9c52a7596",
        "colab": {
          "base_uri": "https://localhost:8080/",
          "height": 195
        }
      },
      "source": [
        "data.df.head()\n",
        "# Viewing the data in surprise dataframe format."
      ],
      "execution_count": 22,
      "outputs": [
        {
          "output_type": "execute_result",
          "data": {
            "text/html": [
              "<div>\n",
              "<style scoped>\n",
              "    .dataframe tbody tr th:only-of-type {\n",
              "        vertical-align: middle;\n",
              "    }\n",
              "\n",
              "    .dataframe tbody tr th {\n",
              "        vertical-align: top;\n",
              "    }\n",
              "\n",
              "    .dataframe thead th {\n",
              "        text-align: right;\n",
              "    }\n",
              "</style>\n",
              "<table border=\"1\" class=\"dataframe\">\n",
              "  <thead>\n",
              "    <tr style=\"text-align: right;\">\n",
              "      <th></th>\n",
              "      <th>user_id</th>\n",
              "      <th>prod_id</th>\n",
              "      <th>ratings</th>\n",
              "    </tr>\n",
              "  </thead>\n",
              "  <tbody>\n",
              "    <tr>\n",
              "      <th>0</th>\n",
              "      <td>A3L1GVWVJKWZZS</td>\n",
              "      <td>B0058UUR6E</td>\n",
              "      <td>5.0</td>\n",
              "    </tr>\n",
              "    <tr>\n",
              "      <th>1</th>\n",
              "      <td>A08831071BVKZMKNCPI5S</td>\n",
              "      <td>B009ID0VVS</td>\n",
              "      <td>5.0</td>\n",
              "    </tr>\n",
              "    <tr>\n",
              "      <th>2</th>\n",
              "      <td>A1SINU2I4IOPNU</td>\n",
              "      <td>B000GBO9IM</td>\n",
              "      <td>4.0</td>\n",
              "    </tr>\n",
              "    <tr>\n",
              "      <th>3</th>\n",
              "      <td>A3P3P31EEOX2BD</td>\n",
              "      <td>B00CDCIOHO</td>\n",
              "      <td>3.0</td>\n",
              "    </tr>\n",
              "    <tr>\n",
              "      <th>4</th>\n",
              "      <td>A3DBLJ3MPBJQMN</td>\n",
              "      <td>B000MS3VGA</td>\n",
              "      <td>5.0</td>\n",
              "    </tr>\n",
              "  </tbody>\n",
              "</table>\n",
              "</div>"
            ],
            "text/plain": [
              "                 user_id     prod_id  ratings\n",
              "0         A3L1GVWVJKWZZS  B0058UUR6E      5.0\n",
              "1  A08831071BVKZMKNCPI5S  B009ID0VVS      5.0\n",
              "2         A1SINU2I4IOPNU  B000GBO9IM      4.0\n",
              "3         A3P3P31EEOX2BD  B00CDCIOHO      3.0\n",
              "4         A3DBLJ3MPBJQMN  B000MS3VGA      5.0"
            ]
          },
          "metadata": {
            "tags": []
          },
          "execution_count": 22
        }
      ]
    },
    {
      "cell_type": "code",
      "metadata": {
        "id": "hOxZGqgYKAsZ"
      },
      "source": [
        "from surprise.model_selection import train_test_split\n",
        "trainset, testset = train_test_split(data, test_size=.30,random_state=10)\n",
        "# Splitting the data randomly into a train and test dataset in 70/30 ratio."
      ],
      "execution_count": 23,
      "outputs": []
    },
    {
      "cell_type": "code",
      "metadata": {
        "id": "vEViQ4AkK4Qa",
        "outputId": "6d82d764-452c-447e-cc66-9d4edae59dbc",
        "colab": {
          "base_uri": "https://localhost:8080/"
        }
      },
      "source": [
        "from surprise import SVD\n",
        "algo = SVD()\n",
        "algo.fit(trainset)\n",
        "# We're using the famous SVD algorithm."
      ],
      "execution_count": 24,
      "outputs": [
        {
          "output_type": "execute_result",
          "data": {
            "text/plain": [
              "<surprise.prediction_algorithms.matrix_factorization.SVD at 0x7f5827988eb8>"
            ]
          },
          "metadata": {
            "tags": []
          },
          "execution_count": 24
        }
      ]
    },
    {
      "cell_type": "code",
      "metadata": {
        "id": "qdi8FtuwM5eH"
      },
      "source": [
        "test_prediction = algo.test(testset)\n",
        "# Trained the algorithm on the trainset, and now predicting ratings for the testset."
      ],
      "execution_count": 49,
      "outputs": []
    },
    {
      "cell_type": "code",
      "metadata": {
        "id": "S4R_v7tVNIy7",
        "outputId": "b6bf2269-9b65-4cbe-be09-3234e94223ab",
        "colab": {
          "base_uri": "https://localhost:8080/"
        }
      },
      "source": [
        "test_prediction[:11]\n",
        "# Viewing head of the predictions list."
      ],
      "execution_count": 50,
      "outputs": [
        {
          "output_type": "execute_result",
          "data": {
            "text/plain": [
              "[Prediction(uid='AI645RG68FICR', iid='B0044YU60M', r_ui=4.0, est=4.0857587984724315, details={'was_impossible': False}),\n",
              " Prediction(uid='A2R51BIPZL6QTC', iid='B0015DYMVO', r_ui=4.0, est=4.073906823789242, details={'was_impossible': False}),\n",
              " Prediction(uid='A2IMZNPSJGB2HQ', iid='B00GUBPBK2', r_ui=4.0, est=4.358209123609516, details={'was_impossible': False}),\n",
              " Prediction(uid='AEBWNCPBV5QJY', iid='B006V9AUMC', r_ui=5.0, est=4.327215511647241, details={'was_impossible': False}),\n",
              " Prediction(uid='A3KQP2DIF1KTNZ', iid='B00006B70R', r_ui=5.0, est=4.029973337612025, details={'was_impossible': False}),\n",
              " Prediction(uid='A3TWPDFI1DWDSV', iid='B007IV7KRU', r_ui=5.0, est=4.491353902795726, details={'was_impossible': False}),\n",
              " Prediction(uid='A3OLZ4UC2M4V29', iid='B00FEE7B1I', r_ui=3.0, est=3.961973420215077, details={'was_impossible': False}),\n",
              " Prediction(uid='A2Q1KKC6XIY83V', iid='B001ISZT90', r_ui=5.0, est=4.097049679532905, details={'was_impossible': False}),\n",
              " Prediction(uid='A2JIUZPZ5F36X6', iid='B009AYLDSU', r_ui=5.0, est=4.58909031528907, details={'was_impossible': False}),\n",
              " Prediction(uid='A64KB21KQQLYV', iid='B004K1EO5C', r_ui=4.0, est=3.8587827538157455, details={'was_impossible': False}),\n",
              " Prediction(uid='A3SFKF4TQ6L3ZR', iid='B0064L8Q1E', r_ui=5.0, est=4.167423359430021, details={'was_impossible': False})]"
            ]
          },
          "metadata": {
            "tags": []
          },
          "execution_count": 50
        }
      ]
    },
    {
      "cell_type": "code",
      "metadata": {
        "id": "0q81pH1HNKTc",
        "outputId": "93701f0e-5d79-4522-bc5b-5f72d36c360a",
        "colab": {
          "base_uri": "https://localhost:8080/"
        }
      },
      "source": [
        "from surprise import accuracy\n",
        "accuracy.rmse(test_prediction)\n",
        "accuracy.mae(test_prediction)\n",
        "# Computing the error (RMSE) on the preditions made by the model on test data. "
      ],
      "execution_count": 27,
      "outputs": [
        {
          "output_type": "stream",
          "text": [
            "RMSE: 1.3426\n",
            "MAE:  1.0625\n"
          ],
          "name": "stdout"
        },
        {
          "output_type": "execute_result",
          "data": {
            "text/plain": [
              "1.0624939799467634"
            ]
          },
          "metadata": {
            "tags": []
          },
          "execution_count": 27
        }
      ]
    },
    {
      "cell_type": "code",
      "metadata": {
        "id": "Eq42H8yDNuZZ"
      },
      "source": [
        "# We can also run a k-fold cross-validaton for more meaningful RMSE score."
      ],
      "execution_count": 28,
      "outputs": []
    },
    {
      "cell_type": "code",
      "metadata": {
        "id": "AFT1aFKsOEmU",
        "outputId": "4b6f90fc-1808-43ef-87f0-3a4ab07dafb9",
        "colab": {
          "base_uri": "https://localhost:8080/"
        }
      },
      "source": [
        "cross_validate(algo, data, measures=['RMSE','MAE'], cv=5, verbose=True)\n",
        "# Here, we are doing a 5-fold cross-validation and publishing the RMSE."
      ],
      "execution_count": 29,
      "outputs": [
        {
          "output_type": "stream",
          "text": [
            "Evaluating RMSE, MAE of algorithm SVD on 5 split(s).\n",
            "\n",
            "                  Fold 1  Fold 2  Fold 3  Fold 4  Fold 5  Mean    Std     \n",
            "RMSE (testset)    1.3368  1.3401  1.3362  1.3395  1.3415  1.3388  0.0020  \n",
            "MAE (testset)     1.0576  1.0599  1.0582  1.0612  1.0616  1.0597  0.0016  \n",
            "Fit time          25.90   26.23   26.12   26.20   26.13   26.11   0.12    \n",
            "Test time         0.63    0.63    0.63    0.67    0.62    0.64    0.02    \n"
          ],
          "name": "stdout"
        },
        {
          "output_type": "execute_result",
          "data": {
            "text/plain": [
              "{'fit_time': (25.895623207092285,\n",
              "  26.22553539276123,\n",
              "  26.11577844619751,\n",
              "  26.19762921333313,\n",
              "  26.125686407089233),\n",
              " 'test_mae': array([1.05756083, 1.05987386, 1.05819792, 1.06116507, 1.06159896]),\n",
              " 'test_rmse': array([1.33675138, 1.34005622, 1.33623918, 1.33945909, 1.34147699]),\n",
              " 'test_time': (0.6270902156829834,\n",
              "  0.6278011798858643,\n",
              "  0.6314640045166016,\n",
              "  0.6690652370452881,\n",
              "  0.620227575302124)}"
            ]
          },
          "metadata": {
            "tags": []
          },
          "execution_count": 29
        }
      ]
    },
    {
      "cell_type": "markdown",
      "metadata": {
        "id": "5jj2tbCdOqjd"
      },
      "source": [
        "### We will now write a function to generate n recommendations for user x. (n, x would be parameterized)"
      ]
    },
    {
      "cell_type": "code",
      "metadata": {
        "id": "TJfg4_zbIny-"
      },
      "source": [
        "from collections import defaultdict\n",
        "\n",
        "def get_top_n(predictions, userid, n=10):\n",
        "    \"\"\"Return the top-N recommendation for each user from a set of predictions.\n",
        "\n",
        "    Args:\n",
        "        predictions(list of Prediction objects): The list of predictions, as\n",
        "            returned by the test method of an algorithm.\n",
        "        n(int): The number of recommendation to output for each user. Default\n",
        "            is 10.\n",
        "\n",
        "    Returns:\n",
        "    A dict where keys are user (raw) ids and values are lists of tuples:\n",
        "        [(raw item id, rating estimation), ...] of size n.\n",
        "    \"\"\"\n",
        "\n",
        "    # First map the predictions to each user.\n",
        "    top_n = defaultdict(list)\n",
        "    for uid, iid, true_r, est, _ in predictions:\n",
        "      if uid == userid:\n",
        "        top_n[uid].append((iid, est))\n",
        "\n",
        "    # Then sort the predictions for each user and retrieve the k highest ones.\n",
        "    for uid, user_ratings in top_n.items():\n",
        "        user_ratings.sort(key=lambda x: x[1], reverse=True)\n",
        "        top_n[uid] = user_ratings[:n]\n",
        "\n",
        "    return top_n"
      ],
      "execution_count": 52,
      "outputs": []
    },
    {
      "cell_type": "code",
      "metadata": {
        "id": "0AP2UwWMPNBf",
        "outputId": "86f6dd04-ae6e-4339-c388-29fc016e4bc6",
        "colab": {
          "base_uri": "https://localhost:8080/"
        }
      },
      "source": [
        "data.df.user_id.unique()\n",
        "# List of User IDs"
      ],
      "execution_count": 43,
      "outputs": [
        {
          "output_type": "execute_result",
          "data": {
            "text/plain": [
              "array(['A3L1GVWVJKWZZS', 'A08831071BVKZMKNCPI5S', 'A1SINU2I4IOPNU', ...,\n",
              "       'A23WSQC26QEFLC', 'ARHZCDAH1UTPN', 'A9XU2MMIWGZBT'], dtype=object)"
            ]
          },
          "metadata": {
            "tags": []
          },
          "execution_count": 43
        }
      ]
    },
    {
      "cell_type": "code",
      "metadata": {
        "id": "OEtUICQzPQP-"
      },
      "source": [
        "top_n = get_top_n(test_prediction,userid='ADLVFFE4VBT8',n=5)\n",
        "# This piece of code will return the top 'n' recommendations for any userid we pass as an argument."
      ],
      "execution_count": 55,
      "outputs": []
    },
    {
      "cell_type": "code",
      "metadata": {
        "id": "pKW6S7c6PmKH",
        "outputId": "2cf6896c-4b9c-4147-a2cf-8df823798c61",
        "colab": {
          "base_uri": "https://localhost:8080/"
        }
      },
      "source": [
        "top_n\n",
        "# Since our goal is to recommend new products to each user based on his/her habits, we will recommend 5 new products to the User 'A3L1GVWVJKWZZS'."
      ],
      "execution_count": 56,
      "outputs": [
        {
          "output_type": "execute_result",
          "data": {
            "text/plain": [
              "defaultdict(list,\n",
              "            {'ADLVFFE4VBT8': [('B001XURP7W', 5),\n",
              "              ('B0002L5R78', 4.885239702435183),\n",
              "              ('B0049MOJ2U', 4.75745291775182),\n",
              "              ('B008CP5R8K', 4.750084827714578),\n",
              "              ('B003O8682Y', 4.700404957147355)]})"
            ]
          },
          "metadata": {
            "tags": []
          },
          "execution_count": 56
        }
      ]
    },
    {
      "cell_type": "markdown",
      "metadata": {
        "id": "aq1-LtiuRK-D"
      },
      "source": [
        "### The above 5 products have the highest predicted rating as per SVD model and can be recommended to a single User with Id 'A3L1GVWVJKWZZS' as per the Collaborative Filtering Based Recommendation Model. The same can now be replicated for all User Id's."
      ]
    },
    {
      "cell_type": "code",
      "metadata": {
        "id": "te4wMFXbNqZD",
        "outputId": "d7fe8329-4191-4d95-cf49-d7bf4deca4ce",
        "colab": {
          "base_uri": "https://localhost:8080/",
          "height": 402
        }
      },
      "source": [
        "df_pred = pd.DataFrame (test_prediction)\n",
        "df_pred"
      ],
      "execution_count": 30,
      "outputs": [
        {
          "output_type": "execute_result",
          "data": {
            "text/html": [
              "<div>\n",
              "<style scoped>\n",
              "    .dataframe tbody tr th:only-of-type {\n",
              "        vertical-align: middle;\n",
              "    }\n",
              "\n",
              "    .dataframe tbody tr th {\n",
              "        vertical-align: top;\n",
              "    }\n",
              "\n",
              "    .dataframe thead th {\n",
              "        text-align: right;\n",
              "    }\n",
              "</style>\n",
              "<table border=\"1\" class=\"dataframe\">\n",
              "  <thead>\n",
              "    <tr style=\"text-align: right;\">\n",
              "      <th></th>\n",
              "      <th>uid</th>\n",
              "      <th>iid</th>\n",
              "      <th>r_ui</th>\n",
              "      <th>est</th>\n",
              "      <th>details</th>\n",
              "    </tr>\n",
              "  </thead>\n",
              "  <tbody>\n",
              "    <tr>\n",
              "      <th>0</th>\n",
              "      <td>AI645RG68FICR</td>\n",
              "      <td>B0044YU60M</td>\n",
              "      <td>4.0</td>\n",
              "      <td>4.227934</td>\n",
              "      <td>{'was_impossible': False}</td>\n",
              "    </tr>\n",
              "    <tr>\n",
              "      <th>1</th>\n",
              "      <td>A2R51BIPZL6QTC</td>\n",
              "      <td>B0015DYMVO</td>\n",
              "      <td>4.0</td>\n",
              "      <td>4.122455</td>\n",
              "      <td>{'was_impossible': False}</td>\n",
              "    </tr>\n",
              "    <tr>\n",
              "      <th>2</th>\n",
              "      <td>A2IMZNPSJGB2HQ</td>\n",
              "      <td>B00GUBPBK2</td>\n",
              "      <td>4.0</td>\n",
              "      <td>4.425003</td>\n",
              "      <td>{'was_impossible': False}</td>\n",
              "    </tr>\n",
              "    <tr>\n",
              "      <th>3</th>\n",
              "      <td>AEBWNCPBV5QJY</td>\n",
              "      <td>B006V9AUMC</td>\n",
              "      <td>5.0</td>\n",
              "      <td>4.020071</td>\n",
              "      <td>{'was_impossible': False}</td>\n",
              "    </tr>\n",
              "    <tr>\n",
              "      <th>4</th>\n",
              "      <td>A3KQP2DIF1KTNZ</td>\n",
              "      <td>B00006B70R</td>\n",
              "      <td>5.0</td>\n",
              "      <td>3.940548</td>\n",
              "      <td>{'was_impossible': False}</td>\n",
              "    </tr>\n",
              "    <tr>\n",
              "      <th>...</th>\n",
              "      <td>...</td>\n",
              "      <td>...</td>\n",
              "      <td>...</td>\n",
              "      <td>...</td>\n",
              "      <td>...</td>\n",
              "    </tr>\n",
              "    <tr>\n",
              "      <th>149995</th>\n",
              "      <td>A2Z9RCXP9XN3NF</td>\n",
              "      <td>B0082E9K7U</td>\n",
              "      <td>5.0</td>\n",
              "      <td>4.725947</td>\n",
              "      <td>{'was_impossible': False}</td>\n",
              "    </tr>\n",
              "    <tr>\n",
              "      <th>149996</th>\n",
              "      <td>A5FD5PMG5R3ZZ</td>\n",
              "      <td>B003FGWF04</td>\n",
              "      <td>5.0</td>\n",
              "      <td>3.481425</td>\n",
              "      <td>{'was_impossible': False}</td>\n",
              "    </tr>\n",
              "    <tr>\n",
              "      <th>149997</th>\n",
              "      <td>A2Z0KHMWP8QOEU</td>\n",
              "      <td>B0067US1R6</td>\n",
              "      <td>5.0</td>\n",
              "      <td>4.547531</td>\n",
              "      <td>{'was_impossible': False}</td>\n",
              "    </tr>\n",
              "    <tr>\n",
              "      <th>149998</th>\n",
              "      <td>ANRQOPX7ZBW07</td>\n",
              "      <td>B009CQNPYQ</td>\n",
              "      <td>1.0</td>\n",
              "      <td>3.607545</td>\n",
              "      <td>{'was_impossible': False}</td>\n",
              "    </tr>\n",
              "    <tr>\n",
              "      <th>149999</th>\n",
              "      <td>A242O4BL0MD84U</td>\n",
              "      <td>B00006BBAC</td>\n",
              "      <td>5.0</td>\n",
              "      <td>4.300596</td>\n",
              "      <td>{'was_impossible': False}</td>\n",
              "    </tr>\n",
              "  </tbody>\n",
              "</table>\n",
              "<p>150000 rows × 5 columns</p>\n",
              "</div>"
            ],
            "text/plain": [
              "                   uid         iid  r_ui       est                    details\n",
              "0        AI645RG68FICR  B0044YU60M   4.0  4.227934  {'was_impossible': False}\n",
              "1       A2R51BIPZL6QTC  B0015DYMVO   4.0  4.122455  {'was_impossible': False}\n",
              "2       A2IMZNPSJGB2HQ  B00GUBPBK2   4.0  4.425003  {'was_impossible': False}\n",
              "3        AEBWNCPBV5QJY  B006V9AUMC   5.0  4.020071  {'was_impossible': False}\n",
              "4       A3KQP2DIF1KTNZ  B00006B70R   5.0  3.940548  {'was_impossible': False}\n",
              "...                ...         ...   ...       ...                        ...\n",
              "149995  A2Z9RCXP9XN3NF  B0082E9K7U   5.0  4.725947  {'was_impossible': False}\n",
              "149996   A5FD5PMG5R3ZZ  B003FGWF04   5.0  3.481425  {'was_impossible': False}\n",
              "149997  A2Z0KHMWP8QOEU  B0067US1R6   5.0  4.547531  {'was_impossible': False}\n",
              "149998   ANRQOPX7ZBW07  B009CQNPYQ   1.0  3.607545  {'was_impossible': False}\n",
              "149999  A242O4BL0MD84U  B00006BBAC   5.0  4.300596  {'was_impossible': False}\n",
              "\n",
              "[150000 rows x 5 columns]"
            ]
          },
          "metadata": {
            "tags": []
          },
          "execution_count": 30
        }
      ]
    },
    {
      "cell_type": "code",
      "metadata": {
        "id": "dVCT_ufDH-n4",
        "outputId": "65dd330f-74a6-4a29-bbb9-a0a459f094b4",
        "colab": {
          "base_uri": "https://localhost:8080/"
        }
      },
      "source": [
        "df_pred['uid'].value_counts()"
      ],
      "execution_count": 40,
      "outputs": [
        {
          "output_type": "execute_result",
          "data": {
            "text/plain": [
              "ADLVFFE4VBT8      15\n",
              "A680RUE1FDO8B     12\n",
              "A6FIAB28IS79      11\n",
              "A2AY4YUOX2N1BQ     9\n",
              "A231WM2Z2JL0U3     9\n",
              "                  ..\n",
              "A132EVKK37UXF4     1\n",
              "A243G9RX9O5WBT     1\n",
              "A3JI3ZDQGN9LVC     1\n",
              "A2MH6TL68MSZDU     1\n",
              "A6QYBUOZ2TFHI      1\n",
              "Name: uid, Length: 144000, dtype: int64"
            ]
          },
          "metadata": {
            "tags": []
          },
          "execution_count": 40
        }
      ]
    },
    {
      "cell_type": "code",
      "metadata": {
        "id": "I2VQ6NC4Mutz",
        "outputId": "c4b71b63-d1e8-4d0b-f15e-94f626ca13b1",
        "colab": {
          "base_uri": "https://localhost:8080/",
          "height": 491
        }
      },
      "source": [
        "df_pred[df_pred['uid'] == 'ADLVFFE4VBT8']"
      ],
      "execution_count": 41,
      "outputs": [
        {
          "output_type": "execute_result",
          "data": {
            "text/html": [
              "<div>\n",
              "<style scoped>\n",
              "    .dataframe tbody tr th:only-of-type {\n",
              "        vertical-align: middle;\n",
              "    }\n",
              "\n",
              "    .dataframe tbody tr th {\n",
              "        vertical-align: top;\n",
              "    }\n",
              "\n",
              "    .dataframe thead th {\n",
              "        text-align: right;\n",
              "    }\n",
              "</style>\n",
              "<table border=\"1\" class=\"dataframe\">\n",
              "  <thead>\n",
              "    <tr style=\"text-align: right;\">\n",
              "      <th></th>\n",
              "      <th>uid</th>\n",
              "      <th>iid</th>\n",
              "      <th>r_ui</th>\n",
              "      <th>est</th>\n",
              "      <th>details</th>\n",
              "    </tr>\n",
              "  </thead>\n",
              "  <tbody>\n",
              "    <tr>\n",
              "      <th>1981</th>\n",
              "      <td>ADLVFFE4VBT8</td>\n",
              "      <td>B007BZ1092</td>\n",
              "      <td>2.0</td>\n",
              "      <td>4.561461</td>\n",
              "      <td>{'was_impossible': False}</td>\n",
              "    </tr>\n",
              "    <tr>\n",
              "      <th>17989</th>\n",
              "      <td>ADLVFFE4VBT8</td>\n",
              "      <td>B000M4XMGI</td>\n",
              "      <td>5.0</td>\n",
              "      <td>4.592181</td>\n",
              "      <td>{'was_impossible': False}</td>\n",
              "    </tr>\n",
              "    <tr>\n",
              "      <th>31281</th>\n",
              "      <td>ADLVFFE4VBT8</td>\n",
              "      <td>B0002L5R78</td>\n",
              "      <td>5.0</td>\n",
              "      <td>4.913945</td>\n",
              "      <td>{'was_impossible': False}</td>\n",
              "    </tr>\n",
              "    <tr>\n",
              "      <th>67298</th>\n",
              "      <td>ADLVFFE4VBT8</td>\n",
              "      <td>B000VMU9VC</td>\n",
              "      <td>5.0</td>\n",
              "      <td>4.099727</td>\n",
              "      <td>{'was_impossible': False}</td>\n",
              "    </tr>\n",
              "    <tr>\n",
              "      <th>67454</th>\n",
              "      <td>ADLVFFE4VBT8</td>\n",
              "      <td>B003TNMABW</td>\n",
              "      <td>5.0</td>\n",
              "      <td>4.099053</td>\n",
              "      <td>{'was_impossible': False}</td>\n",
              "    </tr>\n",
              "    <tr>\n",
              "      <th>87833</th>\n",
              "      <td>ADLVFFE4VBT8</td>\n",
              "      <td>B005G0CUP2</td>\n",
              "      <td>3.0</td>\n",
              "      <td>4.253015</td>\n",
              "      <td>{'was_impossible': False}</td>\n",
              "    </tr>\n",
              "    <tr>\n",
              "      <th>99603</th>\n",
              "      <td>ADLVFFE4VBT8</td>\n",
              "      <td>B00D5EO27U</td>\n",
              "      <td>4.0</td>\n",
              "      <td>4.351399</td>\n",
              "      <td>{'was_impossible': False}</td>\n",
              "    </tr>\n",
              "    <tr>\n",
              "      <th>108204</th>\n",
              "      <td>ADLVFFE4VBT8</td>\n",
              "      <td>B001CCGYJG</td>\n",
              "      <td>4.0</td>\n",
              "      <td>4.351399</td>\n",
              "      <td>{'was_impossible': False}</td>\n",
              "    </tr>\n",
              "    <tr>\n",
              "      <th>110046</th>\n",
              "      <td>ADLVFFE4VBT8</td>\n",
              "      <td>B001XURP7W</td>\n",
              "      <td>5.0</td>\n",
              "      <td>4.642886</td>\n",
              "      <td>{'was_impossible': False}</td>\n",
              "    </tr>\n",
              "    <tr>\n",
              "      <th>111324</th>\n",
              "      <td>ADLVFFE4VBT8</td>\n",
              "      <td>B000OH56ZS</td>\n",
              "      <td>4.0</td>\n",
              "      <td>3.517258</td>\n",
              "      <td>{'was_impossible': False}</td>\n",
              "    </tr>\n",
              "    <tr>\n",
              "      <th>111425</th>\n",
              "      <td>ADLVFFE4VBT8</td>\n",
              "      <td>B001V9LPT4</td>\n",
              "      <td>5.0</td>\n",
              "      <td>4.081543</td>\n",
              "      <td>{'was_impossible': False}</td>\n",
              "    </tr>\n",
              "    <tr>\n",
              "      <th>126406</th>\n",
              "      <td>ADLVFFE4VBT8</td>\n",
              "      <td>B0021AFZBQ</td>\n",
              "      <td>4.0</td>\n",
              "      <td>4.351399</td>\n",
              "      <td>{'was_impossible': False}</td>\n",
              "    </tr>\n",
              "    <tr>\n",
              "      <th>138027</th>\n",
              "      <td>ADLVFFE4VBT8</td>\n",
              "      <td>B0049MOJ2U</td>\n",
              "      <td>5.0</td>\n",
              "      <td>4.435936</td>\n",
              "      <td>{'was_impossible': False}</td>\n",
              "    </tr>\n",
              "    <tr>\n",
              "      <th>140836</th>\n",
              "      <td>ADLVFFE4VBT8</td>\n",
              "      <td>B008CP5R8K</td>\n",
              "      <td>5.0</td>\n",
              "      <td>4.753368</td>\n",
              "      <td>{'was_impossible': False}</td>\n",
              "    </tr>\n",
              "    <tr>\n",
              "      <th>149894</th>\n",
              "      <td>ADLVFFE4VBT8</td>\n",
              "      <td>B003O8682Y</td>\n",
              "      <td>5.0</td>\n",
              "      <td>4.413869</td>\n",
              "      <td>{'was_impossible': False}</td>\n",
              "    </tr>\n",
              "  </tbody>\n",
              "</table>\n",
              "</div>"
            ],
            "text/plain": [
              "                 uid         iid  r_ui       est                    details\n",
              "1981    ADLVFFE4VBT8  B007BZ1092   2.0  4.561461  {'was_impossible': False}\n",
              "17989   ADLVFFE4VBT8  B000M4XMGI   5.0  4.592181  {'was_impossible': False}\n",
              "31281   ADLVFFE4VBT8  B0002L5R78   5.0  4.913945  {'was_impossible': False}\n",
              "67298   ADLVFFE4VBT8  B000VMU9VC   5.0  4.099727  {'was_impossible': False}\n",
              "67454   ADLVFFE4VBT8  B003TNMABW   5.0  4.099053  {'was_impossible': False}\n",
              "87833   ADLVFFE4VBT8  B005G0CUP2   3.0  4.253015  {'was_impossible': False}\n",
              "99603   ADLVFFE4VBT8  B00D5EO27U   4.0  4.351399  {'was_impossible': False}\n",
              "108204  ADLVFFE4VBT8  B001CCGYJG   4.0  4.351399  {'was_impossible': False}\n",
              "110046  ADLVFFE4VBT8  B001XURP7W   5.0  4.642886  {'was_impossible': False}\n",
              "111324  ADLVFFE4VBT8  B000OH56ZS   4.0  3.517258  {'was_impossible': False}\n",
              "111425  ADLVFFE4VBT8  B001V9LPT4   5.0  4.081543  {'was_impossible': False}\n",
              "126406  ADLVFFE4VBT8  B0021AFZBQ   4.0  4.351399  {'was_impossible': False}\n",
              "138027  ADLVFFE4VBT8  B0049MOJ2U   5.0  4.435936  {'was_impossible': False}\n",
              "140836  ADLVFFE4VBT8  B008CP5R8K   5.0  4.753368  {'was_impossible': False}\n",
              "149894  ADLVFFE4VBT8  B003O8682Y   5.0  4.413869  {'was_impossible': False}"
            ]
          },
          "metadata": {
            "tags": []
          },
          "execution_count": 41
        }
      ]
    },
    {
      "cell_type": "markdown",
      "metadata": {
        "id": "_NN8LwTqS2me"
      },
      "source": [
        "In the final prediction, we have used the User Id 'ADLVFFE4VBT8' since he/she had reviewed multiple products and hence has many recommendations to choose from."
      ]
    },
    {
      "cell_type": "markdown",
      "metadata": {
        "id": "BTnJj-5FTHF1"
      },
      "source": [
        "We can also have a situation where total number of recommendations are less than the desried 5. This is because the user hasn't provided enough data about their likings to be recommendenrecommended enough products. Let's take a look at such an example below."
      ]
    },
    {
      "cell_type": "code",
      "metadata": {
        "id": "e8VAyR4lTFYO"
      },
      "source": [
        "top_n_2 = get_top_n(test_prediction,userid='AI645RG68FICR',n=5)\n",
        "# This piece of code will return the top 'n' recommendations for any userid we pass as an argument."
      ],
      "execution_count": 57,
      "outputs": []
    },
    {
      "cell_type": "code",
      "metadata": {
        "id": "PFrTqozETwOY",
        "outputId": "7879f464-6e12-444f-b813-8fe9d40676cd",
        "colab": {
          "base_uri": "https://localhost:8080/"
        }
      },
      "source": [
        "top_n_2"
      ],
      "execution_count": 58,
      "outputs": [
        {
          "output_type": "execute_result",
          "data": {
            "text/plain": [
              "defaultdict(list, {'AI645RG68FICR': [('B0044YU60M', 4.0857587984724315)]})"
            ]
          },
          "metadata": {
            "tags": []
          },
          "execution_count": 58
        }
      ]
    },
    {
      "cell_type": "markdown",
      "metadata": {
        "id": "mZOfiaVgUBSm"
      },
      "source": [
        "Since the user had initially reviewed/rated only one product, they are shown/recommended a single similar product in this case."
      ]
    },
    {
      "cell_type": "code",
      "metadata": {
        "id": "FDl58mbTUGqo",
        "outputId": "d442a4e6-5326-42ce-9fab-0756eb7ba025",
        "colab": {
          "base_uri": "https://localhost:8080/"
        }
      },
      "source": [
        "df_pred['uid'].value_counts()"
      ],
      "execution_count": 59,
      "outputs": [
        {
          "output_type": "execute_result",
          "data": {
            "text/plain": [
              "ADLVFFE4VBT8      15\n",
              "A680RUE1FDO8B     12\n",
              "A6FIAB28IS79      11\n",
              "A2AY4YUOX2N1BQ     9\n",
              "A231WM2Z2JL0U3     9\n",
              "                  ..\n",
              "A132EVKK37UXF4     1\n",
              "A243G9RX9O5WBT     1\n",
              "A3JI3ZDQGN9LVC     1\n",
              "A2MH6TL68MSZDU     1\n",
              "A6QYBUOZ2TFHI      1\n",
              "Name: uid, Length: 144000, dtype: int64"
            ]
          },
          "metadata": {
            "tags": []
          },
          "execution_count": 59
        }
      ]
    },
    {
      "cell_type": "markdown",
      "metadata": {
        "id": "ya7tOitSUTTL"
      },
      "source": [
        "This tell us that the bias we saw earlier in the ratings data that many Users have rated a single product and usually rated highly (4 or 5), we are not able to fetch quality recommndations for all users. Only a few of them have multiple recommendations, whereas the majority Users get only 1 or 2 recommedations. "
      ]
    }
  ]
}