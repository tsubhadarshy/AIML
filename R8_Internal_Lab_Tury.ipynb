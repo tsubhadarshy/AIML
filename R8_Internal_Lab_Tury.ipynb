{
  "nbformat": 4,
  "nbformat_minor": 0,
  "metadata": {
    "colab": {
      "name": "R8_Internal_Lab_Tury.ipynb",
      "provenance": [],
      "collapsed_sections": []
    },
    "kernelspec": {
      "name": "python3",
      "display_name": "Python 3"
    },
    "accelerator": "GPU"
  },
  "cells": [
    {
      "cell_type": "markdown",
      "metadata": {
        "id": "PHYs6Z84xV8E"
      },
      "source": [
        "<img src=\"http://drive.google.com/uc?export=view&id=1tpOCamr9aWz817atPnyXus8w5gJ3mIts\" width=500px>\n",
        "\n",
        "Proprietary content. © Great Learning. All Rights Reserved. Unauthorized use or distribution prohibited."
      ]
    },
    {
      "cell_type": "markdown",
      "metadata": {
        "id": "5QQxgAmWzSye"
      },
      "source": [
        "# Mobile Phone Review Analysis"
      ]
    },
    {
      "cell_type": "markdown",
      "metadata": {
        "id": "FbwHYUXhxaqD"
      },
      "source": [
        "## Context\n",
        "\n",
        "The product companies can utilize the detailed review comments to gather insights from the end user. Most of the products are sold via e-commerce sites like Flipkart or Amazon where customers can buy a product and give their review about the product on the web site. \n",
        "Product managers can identify the relevant reviews from the website and run a sentiment analysis tool to understand what the sentiments of the customer are. Based on their sentiments, they can identify what users think of the current product. Are they happy? Discontent? \n",
        "They can also come up with a document that lists the features, the team needs to focus on for making the product better. \n",
        "\n",
        "## Objective\n",
        "\n",
        "Given the review data rating label, we will try to get insights about various brands and their ratings using text analytics and build a model to predict the rating and overall sentiment. \n"
      ]
    },
    {
      "cell_type": "markdown",
      "metadata": {
        "id": "CI7usguRzeox"
      },
      "source": [
        "### Package version\n",
        "\n",
        "- tensorflow==2.3.0\n",
        "- scikit-learn==0.22.2.post1\n",
        "- pandas==1.0.5\n",
        "- numpy==1.18.5\n",
        "- matplotlib==3.2.2\n",
        "- google==2.0.3"
      ]
    },
    {
      "cell_type": "markdown",
      "metadata": {
        "id": "aiMdVjHRH7NR"
      },
      "source": [
        "### Data Dictionary \n",
        "\n",
        "product_data.csv - contains product details\n",
        "- 'asin',  - Product ASIN\n",
        "- 'brand', - Product Brand\n",
        "- 'title', - Product Title\n",
        "- 'url',  - Product URL\n",
        "- 'image', - Product Image URL\n",
        "- 'rating',- Product Avg. Rating\n",
        "- 'reviewUrl' - Product Review Page URL\n",
        "- 'totalReviews' - Product Total Reviews\n",
        "- ‘price’ - Product Price ($)\n",
        "- ‘originalPrice’ - Product Original Price ($)\n",
        " \n",
        "reviews.csv  - contains user review details\n",
        " \n",
        "- 'asin' - Product ASIN\n",
        "- 'name' - Reviewer Name\n",
        "- 'rating' - Reviewer Rating (scale 1 to 5)\n",
        "- 'date'  - Review Date\n",
        "- 'verified' - Valid Customer\n",
        "- 'title'  - Review Title\n",
        "- 'body'  - Review Content\n",
        "- 'helpfulVotes  - Helpful Feedbacks\n"
      ]
    },
    {
      "cell_type": "markdown",
      "metadata": {
        "id": "cEn52o8jznJK"
      },
      "source": [
        "## Table of Content\n",
        "\n",
        "1. Import Libraries\n",
        "\n",
        "2. Setting options\n",
        "\n",
        "3. Read Data\n",
        "\n",
        "4. Data Analysis and EDA\n",
        "\n",
        "5. Text preprocessing and Vectorization\n",
        "\n",
        "6. Model building\n",
        "\n",
        "7. Conclusion and Interpretation"
      ]
    },
    {
      "cell_type": "markdown",
      "metadata": {
        "id": "x_Lom6cXzqn7"
      },
      "source": [
        "## 1. Import Libraries"
      ]
    },
    {
      "cell_type": "markdown",
      "metadata": {
        "id": "FZtVstH8zre2"
      },
      "source": [
        "Let us start by mounting the drive"
      ]
    },
    {
      "cell_type": "code",
      "metadata": {
        "id": "xv9jxv3-R5Xl",
        "colab": {
          "base_uri": "https://localhost:8080/"
        },
        "outputId": "935f5bd4-6782-405f-e1bc-f63e147423f7"
      },
      "source": [
        "from google.colab import drive\n",
        "drive.mount('/content/drive')"
      ],
      "execution_count": 1,
      "outputs": [
        {
          "output_type": "stream",
          "text": [
            "Mounted at /content/drive\n"
          ],
          "name": "stdout"
        }
      ]
    },
    {
      "cell_type": "markdown",
      "metadata": {
        "id": "Gv-tZoFjz2WD"
      },
      "source": [
        "Let us check for the version of installed tensorflow."
      ]
    },
    {
      "cell_type": "code",
      "metadata": {
        "id": "eiuUVBuDzzn9",
        "colab": {
          "base_uri": "https://localhost:8080/"
        },
        "outputId": "b04f68b3-9f6f-4402-f07e-5aa84ef738eb"
      },
      "source": [
        "# used to supress display of warnings\n",
        "import warnings\n",
        "\n",
        "# os is used to provide a way of using operating system dependent functionality\n",
        "# We use it for setting working folder\n",
        "import os\n",
        "\n",
        "# Pandas is used for data manipulation and analysis\n",
        "import pandas as pd \n",
        "\n",
        "# Numpy is used for large, multi-dimensional arrays and matrices, along with mathematical operators on these arrays\n",
        "import numpy as np\n",
        "\n",
        "# Matplotlib is a data visualization library for 2D plots of arrays, built on NumPy arrays \n",
        "# and designed to work with the broader SciPy stack\n",
        "import matplotlib.pyplot as plt\n",
        "%matplotlib inline\n",
        "from matplotlib import pyplot\n",
        "\n",
        "# Seaborn is based on matplotlib, which aids in drawing attractive and informative statistical graphics.\n",
        "import seaborn as sns\n",
        "import tensorflow \n",
        "print(tensorflow.__version__)"
      ],
      "execution_count": 2,
      "outputs": [
        {
          "output_type": "stream",
          "text": [
            "2.4.1\n"
          ],
          "name": "stdout"
        }
      ]
    },
    {
      "cell_type": "markdown",
      "metadata": {
        "id": "fze-aokU0ukH"
      },
      "source": [
        "## 2. Setting Options"
      ]
    },
    {
      "cell_type": "code",
      "metadata": {
        "id": "T3FALggG0xXa"
      },
      "source": [
        "# suppress display of warnings\n",
        "warnings.filterwarnings('ignore')\n",
        "\n",
        "# display all dataframe columns\n",
        "pd.options.display.max_columns = None\n",
        "\n",
        "# to set the limit to 3 decimals\n",
        "pd.options.display.float_format = '{:.7f}'.format\n",
        "\n",
        "# display all dataframe rows\n",
        "pd.options.display.max_rows = None"
      ],
      "execution_count": 28,
      "outputs": []
    },
    {
      "cell_type": "markdown",
      "metadata": {
        "id": "ZT1P1WdK1vfZ"
      },
      "source": [
        "## 3. Read Data"
      ]
    },
    {
      "cell_type": "markdown",
      "metadata": {
        "id": "-UOW6zwww7L1"
      },
      "source": [
        "### 3.1 Read the provided CSVs and check 5 random samples and shape to understand the datasets"
      ]
    },
    {
      "cell_type": "code",
      "metadata": {
        "id": "nxT2g284xF1W"
      },
      "source": [
        "products = pd.read_csv('/content/drive/MyDrive/4. Statistical NLP/Lab Assignment Internal/product_data.csv')\n",
        "reviews = pd.read_csv('/content/drive/MyDrive/4. Statistical NLP/Lab Assignment Internal/reviews.csv')\n",
        "# reading the data"
      ],
      "execution_count": 60,
      "outputs": []
    },
    {
      "cell_type": "code",
      "metadata": {
        "id": "GRjG44fRxGIq",
        "colab": {
          "base_uri": "https://localhost:8080/"
        },
        "outputId": "c7f6b0e4-70bf-4f39-9155-9c8668329338"
      },
      "source": [
        "print('The shape of products data is: ',products.shape)\n",
        "print('The shape of reviews data is: ',reviews.shape)"
      ],
      "execution_count": 30,
      "outputs": [
        {
          "output_type": "stream",
          "text": [
            "The shape of products data is:  (720, 10)\n",
            "The shape of reviews data is:  (67986, 8)\n"
          ],
          "name": "stdout"
        }
      ]
    },
    {
      "cell_type": "code",
      "metadata": {
        "colab": {
          "base_uri": "https://localhost:8080/",
          "height": 652
        },
        "id": "wntI3_g0FFKx",
        "outputId": "eff6e09d-5312-4932-9718-a82e7935a089"
      },
      "source": [
        "products.sample(5)"
      ],
      "execution_count": 31,
      "outputs": [
        {
          "output_type": "execute_result",
          "data": {
            "text/html": [
              "<div>\n",
              "<style scoped>\n",
              "    .dataframe tbody tr th:only-of-type {\n",
              "        vertical-align: middle;\n",
              "    }\n",
              "\n",
              "    .dataframe tbody tr th {\n",
              "        vertical-align: top;\n",
              "    }\n",
              "\n",
              "    .dataframe thead th {\n",
              "        text-align: right;\n",
              "    }\n",
              "</style>\n",
              "<table border=\"1\" class=\"dataframe\">\n",
              "  <thead>\n",
              "    <tr style=\"text-align: right;\">\n",
              "      <th></th>\n",
              "      <th>asin</th>\n",
              "      <th>brand</th>\n",
              "      <th>title</th>\n",
              "      <th>url</th>\n",
              "      <th>image</th>\n",
              "      <th>rating</th>\n",
              "      <th>reviewUrl</th>\n",
              "      <th>totalReviews</th>\n",
              "      <th>price</th>\n",
              "      <th>originalPrice</th>\n",
              "    </tr>\n",
              "  </thead>\n",
              "  <tbody>\n",
              "    <tr>\n",
              "      <th>58</th>\n",
              "      <td>B00HE5834Y</td>\n",
              "      <td>Motorola</td>\n",
              "      <td>Motorola Droid Ultra XT1080 16GB 4G LTE Androi...</td>\n",
              "      <td>https://www.amazon.com/Motorola-XT1080-Android...</td>\n",
              "      <td>https://m.media-amazon.com/images/I/81p5bS9i6d...</td>\n",
              "      <td>3.5000000</td>\n",
              "      <td>https://www.amazon.com/product-reviews/B00HE5834Y</td>\n",
              "      <td>30</td>\n",
              "      <td>249.9900000</td>\n",
              "      <td>0.0000000</td>\n",
              "    </tr>\n",
              "    <tr>\n",
              "      <th>387</th>\n",
              "      <td>B07C8H8G4L</td>\n",
              "      <td>HUAWEI</td>\n",
              "      <td>Router Hotspot 4G LTE Unlocked GSM (LTE USA AT...</td>\n",
              "      <td>https://www.amazon.com/Hotspot-Unlocked-T-mobi...</td>\n",
              "      <td>https://m.media-amazon.com/images/I/31F-nzxA29...</td>\n",
              "      <td>3.5000000</td>\n",
              "      <td>https://www.amazon.com/product-reviews/B07C8H8G4L</td>\n",
              "      <td>48</td>\n",
              "      <td>78.9000000</td>\n",
              "      <td>0.0000000</td>\n",
              "    </tr>\n",
              "    <tr>\n",
              "      <th>213</th>\n",
              "      <td>B06XRN4RWL</td>\n",
              "      <td>Apple</td>\n",
              "      <td>Apple iPhone 7 Plus, 128GB, Gold - For Sprint ...</td>\n",
              "      <td>https://www.amazon.com/Apple-iPhone-128GB-Unlo...</td>\n",
              "      <td>https://m.media-amazon.com/images/I/71NwKwSqSA...</td>\n",
              "      <td>3.8000000</td>\n",
              "      <td>https://www.amazon.com/product-reviews/B06XRN4RWL</td>\n",
              "      <td>28</td>\n",
              "      <td>304.9900000</td>\n",
              "      <td>0.0000000</td>\n",
              "    </tr>\n",
              "    <tr>\n",
              "      <th>438</th>\n",
              "      <td>B07GWFMLT8</td>\n",
              "      <td>Samsung</td>\n",
              "      <td>Samsung Galaxy Note 9 SM-N960F/DS 512GB/8GB (M...</td>\n",
              "      <td>https://www.amazon.com/Samsung-Galaxy-SM-N960F...</td>\n",
              "      <td>https://m.media-amazon.com/images/I/71BG9iPLRk...</td>\n",
              "      <td>4.8000000</td>\n",
              "      <td>https://www.amazon.com/product-reviews/B07GWFMLT8</td>\n",
              "      <td>18</td>\n",
              "      <td>677.0000000</td>\n",
              "      <td>0.0000000</td>\n",
              "    </tr>\n",
              "    <tr>\n",
              "      <th>710</th>\n",
              "      <td>B07ZGHYFZ4</td>\n",
              "      <td>Xiaomi</td>\n",
              "      <td>Xiaomi Mi Note 10 128GB 108MP Penta Camera 6.4...</td>\n",
              "      <td>https://www.amazon.com/Xiaomi-Factory-Unlocked...</td>\n",
              "      <td>https://m.media-amazon.com/images/I/81xsUqImP+...</td>\n",
              "      <td>5.0000000</td>\n",
              "      <td>https://www.amazon.com/product-reviews/B07ZGHYFZ4</td>\n",
              "      <td>3</td>\n",
              "      <td>486.5700000</td>\n",
              "      <td>514.8200000</td>\n",
              "    </tr>\n",
              "  </tbody>\n",
              "</table>\n",
              "</div>"
            ],
            "text/plain": [
              "           asin     brand                                              title  \\\n",
              "58   B00HE5834Y  Motorola  Motorola Droid Ultra XT1080 16GB 4G LTE Androi...   \n",
              "387  B07C8H8G4L    HUAWEI  Router Hotspot 4G LTE Unlocked GSM (LTE USA AT...   \n",
              "213  B06XRN4RWL     Apple  Apple iPhone 7 Plus, 128GB, Gold - For Sprint ...   \n",
              "438  B07GWFMLT8   Samsung  Samsung Galaxy Note 9 SM-N960F/DS 512GB/8GB (M...   \n",
              "710  B07ZGHYFZ4    Xiaomi  Xiaomi Mi Note 10 128GB 108MP Penta Camera 6.4...   \n",
              "\n",
              "                                                   url  \\\n",
              "58   https://www.amazon.com/Motorola-XT1080-Android...   \n",
              "387  https://www.amazon.com/Hotspot-Unlocked-T-mobi...   \n",
              "213  https://www.amazon.com/Apple-iPhone-128GB-Unlo...   \n",
              "438  https://www.amazon.com/Samsung-Galaxy-SM-N960F...   \n",
              "710  https://www.amazon.com/Xiaomi-Factory-Unlocked...   \n",
              "\n",
              "                                                 image    rating  \\\n",
              "58   https://m.media-amazon.com/images/I/81p5bS9i6d... 3.5000000   \n",
              "387  https://m.media-amazon.com/images/I/31F-nzxA29... 3.5000000   \n",
              "213  https://m.media-amazon.com/images/I/71NwKwSqSA... 3.8000000   \n",
              "438  https://m.media-amazon.com/images/I/71BG9iPLRk... 4.8000000   \n",
              "710  https://m.media-amazon.com/images/I/81xsUqImP+... 5.0000000   \n",
              "\n",
              "                                             reviewUrl  totalReviews  \\\n",
              "58   https://www.amazon.com/product-reviews/B00HE5834Y            30   \n",
              "387  https://www.amazon.com/product-reviews/B07C8H8G4L            48   \n",
              "213  https://www.amazon.com/product-reviews/B06XRN4RWL            28   \n",
              "438  https://www.amazon.com/product-reviews/B07GWFMLT8            18   \n",
              "710  https://www.amazon.com/product-reviews/B07ZGHYFZ4             3   \n",
              "\n",
              "          price  originalPrice  \n",
              "58  249.9900000      0.0000000  \n",
              "387  78.9000000      0.0000000  \n",
              "213 304.9900000      0.0000000  \n",
              "438 677.0000000      0.0000000  \n",
              "710 486.5700000    514.8200000  "
            ]
          },
          "metadata": {
            "tags": []
          },
          "execution_count": 31
        }
      ]
    },
    {
      "cell_type": "code",
      "metadata": {
        "colab": {
          "base_uri": "https://localhost:8080/",
          "height": 195
        },
        "id": "xX3A4pkOFMS7",
        "outputId": "fb9b30de-33ce-4b9e-b48b-360a5d2b8d83"
      },
      "source": [
        "reviews.sample(5)"
      ],
      "execution_count": 32,
      "outputs": [
        {
          "output_type": "execute_result",
          "data": {
            "text/html": [
              "<div>\n",
              "<style scoped>\n",
              "    .dataframe tbody tr th:only-of-type {\n",
              "        vertical-align: middle;\n",
              "    }\n",
              "\n",
              "    .dataframe tbody tr th {\n",
              "        vertical-align: top;\n",
              "    }\n",
              "\n",
              "    .dataframe thead th {\n",
              "        text-align: right;\n",
              "    }\n",
              "</style>\n",
              "<table border=\"1\" class=\"dataframe\">\n",
              "  <thead>\n",
              "    <tr style=\"text-align: right;\">\n",
              "      <th></th>\n",
              "      <th>asin</th>\n",
              "      <th>name</th>\n",
              "      <th>rating</th>\n",
              "      <th>date</th>\n",
              "      <th>verified</th>\n",
              "      <th>title</th>\n",
              "      <th>body</th>\n",
              "      <th>helpfulVotes</th>\n",
              "    </tr>\n",
              "  </thead>\n",
              "  <tbody>\n",
              "    <tr>\n",
              "      <th>6506</th>\n",
              "      <td>B00D35Z6OE</td>\n",
              "      <td>pamela pitre</td>\n",
              "      <td>5</td>\n",
              "      <td>December 15, 2014</td>\n",
              "      <td>True</td>\n",
              "      <td>Great product. Even better price</td>\n",
              "      <td>Great product. Even better price. Thank you</td>\n",
              "      <td>nan</td>\n",
              "    </tr>\n",
              "    <tr>\n",
              "      <th>18694</th>\n",
              "      <td>B014GCG150</td>\n",
              "      <td>Pedro Luis</td>\n",
              "      <td>5</td>\n",
              "      <td>May 23, 2017</td>\n",
              "      <td>True</td>\n",
              "      <td>What I expected from the phone,</td>\n",
              "      <td>What I expected from the phone, well</td>\n",
              "      <td>nan</td>\n",
              "    </tr>\n",
              "    <tr>\n",
              "      <th>16836</th>\n",
              "      <td>B00ZE8HRYK</td>\n",
              "      <td>Amazon Customer</td>\n",
              "      <td>1</td>\n",
              "      <td>December 10, 2016</td>\n",
              "      <td>True</td>\n",
              "      <td>It seems to be in good shape. We just received it</td>\n",
              "      <td>Update - I gave the phone to my daughter as a ...</td>\n",
              "      <td>1.0000000</td>\n",
              "    </tr>\n",
              "    <tr>\n",
              "      <th>32741</th>\n",
              "      <td>B06XS4978K</td>\n",
              "      <td>Keeandre</td>\n",
              "      <td>5</td>\n",
              "      <td>March 22, 2018</td>\n",
              "      <td>True</td>\n",
              "      <td>Five Stars</td>\n",
              "      <td>it's a great phone.......love it. any chance g...</td>\n",
              "      <td>1.0000000</td>\n",
              "    </tr>\n",
              "    <tr>\n",
              "      <th>54788</th>\n",
              "      <td>B07JZRL7N5</td>\n",
              "      <td>Valente</td>\n",
              "      <td>4</td>\n",
              "      <td>October 31, 2019</td>\n",
              "      <td>True</td>\n",
              "      <td>Happy</td>\n",
              "      <td>Yes good work good price good stuff thanks</td>\n",
              "      <td>nan</td>\n",
              "    </tr>\n",
              "  </tbody>\n",
              "</table>\n",
              "</div>"
            ],
            "text/plain": [
              "             asin             name  rating               date  verified  \\\n",
              "6506   B00D35Z6OE     pamela pitre       5  December 15, 2014      True   \n",
              "18694  B014GCG150       Pedro Luis       5       May 23, 2017      True   \n",
              "16836  B00ZE8HRYK  Amazon Customer       1  December 10, 2016      True   \n",
              "32741  B06XS4978K         Keeandre       5     March 22, 2018      True   \n",
              "54788  B07JZRL7N5          Valente       4   October 31, 2019      True   \n",
              "\n",
              "                                                   title  \\\n",
              "6506                    Great product. Even better price   \n",
              "18694                    What I expected from the phone,   \n",
              "16836  It seems to be in good shape. We just received it   \n",
              "32741                                         Five Stars   \n",
              "54788                                              Happy   \n",
              "\n",
              "                                                    body  helpfulVotes  \n",
              "6506         Great product. Even better price. Thank you           nan  \n",
              "18694               What I expected from the phone, well           nan  \n",
              "16836  Update - I gave the phone to my daughter as a ...     1.0000000  \n",
              "32741  it's a great phone.......love it. any chance g...     1.0000000  \n",
              "54788         Yes good work good price good stuff thanks           nan  "
            ]
          },
          "metadata": {
            "tags": []
          },
          "execution_count": 32
        }
      ]
    },
    {
      "cell_type": "markdown",
      "metadata": {
        "id": "rED6DbDBKTjM"
      },
      "source": [
        "## 4.  Data Analysis and EDA"
      ]
    },
    {
      "cell_type": "markdown",
      "metadata": {
        "id": "awlqmp40xMfc"
      },
      "source": [
        "### 4.1 Drop unnecessary columns like 'url', 'image' from the product_data"
      ]
    },
    {
      "cell_type": "code",
      "metadata": {
        "colab": {
          "base_uri": "https://localhost:8080/"
        },
        "id": "l9XOCI-2RqSx",
        "outputId": "848f9cac-169c-4adc-fa81-3e029a80623d"
      },
      "source": [
        "products.columns"
      ],
      "execution_count": 61,
      "outputs": [
        {
          "output_type": "execute_result",
          "data": {
            "text/plain": [
              "Index(['asin', 'brand', 'title', 'url', 'image', 'rating', 'reviewUrl',\n",
              "       'totalReviews', 'price', 'originalPrice'],\n",
              "      dtype='object')"
            ]
          },
          "metadata": {
            "tags": []
          },
          "execution_count": 61
        }
      ]
    },
    {
      "cell_type": "code",
      "metadata": {
        "id": "VT4d-6TCxZCm",
        "colab": {
          "base_uri": "https://localhost:8080/",
          "height": 195
        },
        "outputId": "eaac73ee-2cf0-4f05-980e-152118c27a18"
      },
      "source": [
        "products = products.drop(columns=['url','image','reviewUrl'])\n",
        "products.sample(5)"
      ],
      "execution_count": 62,
      "outputs": [
        {
          "output_type": "execute_result",
          "data": {
            "text/html": [
              "<div>\n",
              "<style scoped>\n",
              "    .dataframe tbody tr th:only-of-type {\n",
              "        vertical-align: middle;\n",
              "    }\n",
              "\n",
              "    .dataframe tbody tr th {\n",
              "        vertical-align: top;\n",
              "    }\n",
              "\n",
              "    .dataframe thead th {\n",
              "        text-align: right;\n",
              "    }\n",
              "</style>\n",
              "<table border=\"1\" class=\"dataframe\">\n",
              "  <thead>\n",
              "    <tr style=\"text-align: right;\">\n",
              "      <th></th>\n",
              "      <th>asin</th>\n",
              "      <th>brand</th>\n",
              "      <th>title</th>\n",
              "      <th>rating</th>\n",
              "      <th>totalReviews</th>\n",
              "      <th>price</th>\n",
              "      <th>originalPrice</th>\n",
              "    </tr>\n",
              "  </thead>\n",
              "  <tbody>\n",
              "    <tr>\n",
              "      <th>242</th>\n",
              "      <td>B071JP8XDJ</td>\n",
              "      <td>Sony</td>\n",
              "      <td>Sony Xperia XA1 Ultra G3223 32GB Unlocked GSM ...</td>\n",
              "      <td>3.6000000</td>\n",
              "      <td>313</td>\n",
              "      <td>299.0000000</td>\n",
              "      <td>0.0000000</td>\n",
              "    </tr>\n",
              "    <tr>\n",
              "      <th>60</th>\n",
              "      <td>B00HWEMZ1E</td>\n",
              "      <td>Nokia</td>\n",
              "      <td>Nokia Lumia Icon, Black 32GB (Verizon Wireless)</td>\n",
              "      <td>3.8000000</td>\n",
              "      <td>159</td>\n",
              "      <td>233.7100000</td>\n",
              "      <td>0.0000000</td>\n",
              "    </tr>\n",
              "    <tr>\n",
              "      <th>161</th>\n",
              "      <td>B01J63O3KY</td>\n",
              "      <td>Samsung</td>\n",
              "      <td>Samsung GS6 5.1\" Certified Pre-Owned Carrier L...</td>\n",
              "      <td>2.9000000</td>\n",
              "      <td>2</td>\n",
              "      <td>345.9200000</td>\n",
              "      <td>0.0000000</td>\n",
              "    </tr>\n",
              "    <tr>\n",
              "      <th>80</th>\n",
              "      <td>B00O2ALRNS</td>\n",
              "      <td>Samsung</td>\n",
              "      <td>Samsung Galaxy S4 SGH-I337 USA GSM Unlocked Ce...</td>\n",
              "      <td>2.8000000</td>\n",
              "      <td>175</td>\n",
              "      <td>154.9700000</td>\n",
              "      <td>0.0000000</td>\n",
              "    </tr>\n",
              "    <tr>\n",
              "      <th>8</th>\n",
              "      <td>B002UHS0UI</td>\n",
              "      <td>Motorola</td>\n",
              "      <td>Verizon Wireless Motorola RAZR V3m - Silver</td>\n",
              "      <td>2.7000000</td>\n",
              "      <td>208</td>\n",
              "      <td>0.0000000</td>\n",
              "      <td>0.0000000</td>\n",
              "    </tr>\n",
              "  </tbody>\n",
              "</table>\n",
              "</div>"
            ],
            "text/plain": [
              "           asin     brand                                              title  \\\n",
              "242  B071JP8XDJ      Sony  Sony Xperia XA1 Ultra G3223 32GB Unlocked GSM ...   \n",
              "60   B00HWEMZ1E     Nokia    Nokia Lumia Icon, Black 32GB (Verizon Wireless)   \n",
              "161  B01J63O3KY   Samsung  Samsung GS6 5.1\" Certified Pre-Owned Carrier L...   \n",
              "80   B00O2ALRNS   Samsung  Samsung Galaxy S4 SGH-I337 USA GSM Unlocked Ce...   \n",
              "8    B002UHS0UI  Motorola        Verizon Wireless Motorola RAZR V3m - Silver   \n",
              "\n",
              "       rating  totalReviews       price  originalPrice  \n",
              "242 3.6000000           313 299.0000000      0.0000000  \n",
              "60  3.8000000           159 233.7100000      0.0000000  \n",
              "161 2.9000000             2 345.9200000      0.0000000  \n",
              "80  2.8000000           175 154.9700000      0.0000000  \n",
              "8   2.7000000           208   0.0000000      0.0000000  "
            ]
          },
          "metadata": {
            "tags": []
          },
          "execution_count": 62
        }
      ]
    },
    {
      "cell_type": "markdown",
      "metadata": {
        "id": "Zk0WW5D5xZK9"
      },
      "source": [
        "### 4.2 Check statistical summary of both datasets. Note:- Include both numerical and object type columns."
      ]
    },
    {
      "cell_type": "code",
      "metadata": {
        "id": "WFaDkvIjyDtG",
        "colab": {
          "base_uri": "https://localhost:8080/"
        },
        "outputId": "691066f4-b07c-4d1e-c51b-2b6f4b331841"
      },
      "source": [
        "products.dtypes\n",
        "# checking data type of each column in products data"
      ],
      "execution_count": 63,
      "outputs": [
        {
          "output_type": "execute_result",
          "data": {
            "text/plain": [
              "asin              object\n",
              "brand             object\n",
              "title             object\n",
              "rating           float64\n",
              "totalReviews       int64\n",
              "price            float64\n",
              "originalPrice    float64\n",
              "dtype: object"
            ]
          },
          "metadata": {
            "tags": []
          },
          "execution_count": 63
        }
      ]
    },
    {
      "cell_type": "code",
      "metadata": {
        "id": "nYPHukhKKEn0"
      },
      "source": [
        "products['brand'] = products['brand'].astype('category')\n",
        "# changing the data type of 'brand' column to categorical within products dataset"
      ],
      "execution_count": 64,
      "outputs": []
    },
    {
      "cell_type": "code",
      "metadata": {
        "id": "ylwcqQpcx_Tl",
        "colab": {
          "base_uri": "https://localhost:8080/",
          "height": 373
        },
        "outputId": "5ec1a435-d62e-45ff-cd44-9a5f681a3a3b"
      },
      "source": [
        "products.describe(include='all')"
      ],
      "execution_count": 65,
      "outputs": [
        {
          "output_type": "execute_result",
          "data": {
            "text/html": [
              "<div>\n",
              "<style scoped>\n",
              "    .dataframe tbody tr th:only-of-type {\n",
              "        vertical-align: middle;\n",
              "    }\n",
              "\n",
              "    .dataframe tbody tr th {\n",
              "        vertical-align: top;\n",
              "    }\n",
              "\n",
              "    .dataframe thead th {\n",
              "        text-align: right;\n",
              "    }\n",
              "</style>\n",
              "<table border=\"1\" class=\"dataframe\">\n",
              "  <thead>\n",
              "    <tr style=\"text-align: right;\">\n",
              "      <th></th>\n",
              "      <th>asin</th>\n",
              "      <th>brand</th>\n",
              "      <th>title</th>\n",
              "      <th>rating</th>\n",
              "      <th>totalReviews</th>\n",
              "      <th>price</th>\n",
              "      <th>originalPrice</th>\n",
              "    </tr>\n",
              "  </thead>\n",
              "  <tbody>\n",
              "    <tr>\n",
              "      <th>count</th>\n",
              "      <td>720</td>\n",
              "      <td>716</td>\n",
              "      <td>720</td>\n",
              "      <td>720.0000000</td>\n",
              "      <td>720.0000000</td>\n",
              "      <td>720.0000000</td>\n",
              "      <td>720.0000000</td>\n",
              "    </tr>\n",
              "    <tr>\n",
              "      <th>unique</th>\n",
              "      <td>720</td>\n",
              "      <td>10</td>\n",
              "      <td>718</td>\n",
              "      <td>nan</td>\n",
              "      <td>nan</td>\n",
              "      <td>nan</td>\n",
              "      <td>nan</td>\n",
              "    </tr>\n",
              "    <tr>\n",
              "      <th>top</th>\n",
              "      <td>B0787V183F</td>\n",
              "      <td>Samsung</td>\n",
              "      <td>Apple iPhone 6S, 64GB, Rose Gold - For AT&amp;T / ...</td>\n",
              "      <td>nan</td>\n",
              "      <td>nan</td>\n",
              "      <td>nan</td>\n",
              "      <td>nan</td>\n",
              "    </tr>\n",
              "    <tr>\n",
              "      <th>freq</th>\n",
              "      <td>1</td>\n",
              "      <td>346</td>\n",
              "      <td>2</td>\n",
              "      <td>nan</td>\n",
              "      <td>nan</td>\n",
              "      <td>nan</td>\n",
              "      <td>nan</td>\n",
              "    </tr>\n",
              "    <tr>\n",
              "      <th>mean</th>\n",
              "      <td>NaN</td>\n",
              "      <td>NaN</td>\n",
              "      <td>NaN</td>\n",
              "      <td>3.7137500</td>\n",
              "      <td>105.6791667</td>\n",
              "      <td>234.9489306</td>\n",
              "      <td>63.6907778</td>\n",
              "    </tr>\n",
              "    <tr>\n",
              "      <th>std</th>\n",
              "      <td>NaN</td>\n",
              "      <td>NaN</td>\n",
              "      <td>NaN</td>\n",
              "      <td>0.7160138</td>\n",
              "      <td>167.6011014</td>\n",
              "      <td>200.0084407</td>\n",
              "      <td>172.4053696</td>\n",
              "    </tr>\n",
              "    <tr>\n",
              "      <th>min</th>\n",
              "      <td>NaN</td>\n",
              "      <td>NaN</td>\n",
              "      <td>NaN</td>\n",
              "      <td>1.0000000</td>\n",
              "      <td>1.0000000</td>\n",
              "      <td>0.0000000</td>\n",
              "      <td>0.0000000</td>\n",
              "    </tr>\n",
              "    <tr>\n",
              "      <th>25%</th>\n",
              "      <td>NaN</td>\n",
              "      <td>NaN</td>\n",
              "      <td>NaN</td>\n",
              "      <td>3.3000000</td>\n",
              "      <td>7.0000000</td>\n",
              "      <td>97.5125000</td>\n",
              "      <td>0.0000000</td>\n",
              "    </tr>\n",
              "    <tr>\n",
              "      <th>50%</th>\n",
              "      <td>NaN</td>\n",
              "      <td>NaN</td>\n",
              "      <td>NaN</td>\n",
              "      <td>3.8000000</td>\n",
              "      <td>32.0000000</td>\n",
              "      <td>188.9750000</td>\n",
              "      <td>0.0000000</td>\n",
              "    </tr>\n",
              "    <tr>\n",
              "      <th>75%</th>\n",
              "      <td>NaN</td>\n",
              "      <td>NaN</td>\n",
              "      <td>NaN</td>\n",
              "      <td>4.1000000</td>\n",
              "      <td>122.2500000</td>\n",
              "      <td>336.7250000</td>\n",
              "      <td>0.0000000</td>\n",
              "    </tr>\n",
              "    <tr>\n",
              "      <th>max</th>\n",
              "      <td>NaN</td>\n",
              "      <td>NaN</td>\n",
              "      <td>NaN</td>\n",
              "      <td>5.0000000</td>\n",
              "      <td>983.0000000</td>\n",
              "      <td>999.9900000</td>\n",
              "      <td>999.9900000</td>\n",
              "    </tr>\n",
              "  </tbody>\n",
              "</table>\n",
              "</div>"
            ],
            "text/plain": [
              "              asin    brand  \\\n",
              "count          720      716   \n",
              "unique         720       10   \n",
              "top     B0787V183F  Samsung   \n",
              "freq             1      346   \n",
              "mean           NaN      NaN   \n",
              "std            NaN      NaN   \n",
              "min            NaN      NaN   \n",
              "25%            NaN      NaN   \n",
              "50%            NaN      NaN   \n",
              "75%            NaN      NaN   \n",
              "max            NaN      NaN   \n",
              "\n",
              "                                                    title      rating  \\\n",
              "count                                                 720 720.0000000   \n",
              "unique                                                718         nan   \n",
              "top     Apple iPhone 6S, 64GB, Rose Gold - For AT&T / ...         nan   \n",
              "freq                                                    2         nan   \n",
              "mean                                                  NaN   3.7137500   \n",
              "std                                                   NaN   0.7160138   \n",
              "min                                                   NaN   1.0000000   \n",
              "25%                                                   NaN   3.3000000   \n",
              "50%                                                   NaN   3.8000000   \n",
              "75%                                                   NaN   4.1000000   \n",
              "max                                                   NaN   5.0000000   \n",
              "\n",
              "        totalReviews       price  originalPrice  \n",
              "count    720.0000000 720.0000000    720.0000000  \n",
              "unique           nan         nan            nan  \n",
              "top              nan         nan            nan  \n",
              "freq             nan         nan            nan  \n",
              "mean     105.6791667 234.9489306     63.6907778  \n",
              "std      167.6011014 200.0084407    172.4053696  \n",
              "min        1.0000000   0.0000000      0.0000000  \n",
              "25%        7.0000000  97.5125000      0.0000000  \n",
              "50%       32.0000000 188.9750000      0.0000000  \n",
              "75%      122.2500000 336.7250000      0.0000000  \n",
              "max      983.0000000 999.9900000    999.9900000  "
            ]
          },
          "metadata": {
            "tags": []
          },
          "execution_count": 65
        }
      ]
    },
    {
      "cell_type": "code",
      "metadata": {
        "colab": {
          "base_uri": "https://localhost:8080/",
          "height": 373
        },
        "id": "zOdAJj1KK8Cv",
        "outputId": "c69e6d06-9878-452e-f2a0-5c4af03e92f1"
      },
      "source": [
        "reviews.describe(include='all')"
      ],
      "execution_count": 66,
      "outputs": [
        {
          "output_type": "execute_result",
          "data": {
            "text/html": [
              "<div>\n",
              "<style scoped>\n",
              "    .dataframe tbody tr th:only-of-type {\n",
              "        vertical-align: middle;\n",
              "    }\n",
              "\n",
              "    .dataframe tbody tr th {\n",
              "        vertical-align: top;\n",
              "    }\n",
              "\n",
              "    .dataframe thead th {\n",
              "        text-align: right;\n",
              "    }\n",
              "</style>\n",
              "<table border=\"1\" class=\"dataframe\">\n",
              "  <thead>\n",
              "    <tr style=\"text-align: right;\">\n",
              "      <th></th>\n",
              "      <th>asin</th>\n",
              "      <th>name</th>\n",
              "      <th>rating</th>\n",
              "      <th>date</th>\n",
              "      <th>verified</th>\n",
              "      <th>title</th>\n",
              "      <th>body</th>\n",
              "      <th>helpfulVotes</th>\n",
              "    </tr>\n",
              "  </thead>\n",
              "  <tbody>\n",
              "    <tr>\n",
              "      <th>count</th>\n",
              "      <td>67986</td>\n",
              "      <td>67984</td>\n",
              "      <td>67986.0000000</td>\n",
              "      <td>67986</td>\n",
              "      <td>67986</td>\n",
              "      <td>67972</td>\n",
              "      <td>67965</td>\n",
              "      <td>27215.0000000</td>\n",
              "    </tr>\n",
              "    <tr>\n",
              "      <th>unique</th>\n",
              "      <td>720</td>\n",
              "      <td>47323</td>\n",
              "      <td>nan</td>\n",
              "      <td>2983</td>\n",
              "      <td>2</td>\n",
              "      <td>41489</td>\n",
              "      <td>59811</td>\n",
              "      <td>nan</td>\n",
              "    </tr>\n",
              "    <tr>\n",
              "      <th>top</th>\n",
              "      <td>B00F2SKPIM</td>\n",
              "      <td>Amazon Customer</td>\n",
              "      <td>nan</td>\n",
              "      <td>December 11, 2019</td>\n",
              "      <td>True</td>\n",
              "      <td>Five Stars</td>\n",
              "      <td>Good</td>\n",
              "      <td>nan</td>\n",
              "    </tr>\n",
              "    <tr>\n",
              "      <th>freq</th>\n",
              "      <td>981</td>\n",
              "      <td>6507</td>\n",
              "      <td>nan</td>\n",
              "      <td>234</td>\n",
              "      <td>61225</td>\n",
              "      <td>6043</td>\n",
              "      <td>303</td>\n",
              "      <td>nan</td>\n",
              "    </tr>\n",
              "    <tr>\n",
              "      <th>mean</th>\n",
              "      <td>NaN</td>\n",
              "      <td>NaN</td>\n",
              "      <td>3.8079163</td>\n",
              "      <td>NaN</td>\n",
              "      <td>NaN</td>\n",
              "      <td>NaN</td>\n",
              "      <td>NaN</td>\n",
              "      <td>8.2296895</td>\n",
              "    </tr>\n",
              "    <tr>\n",
              "      <th>std</th>\n",
              "      <td>NaN</td>\n",
              "      <td>NaN</td>\n",
              "      <td>1.5829058</td>\n",
              "      <td>NaN</td>\n",
              "      <td>NaN</td>\n",
              "      <td>NaN</td>\n",
              "      <td>NaN</td>\n",
              "      <td>31.9548772</td>\n",
              "    </tr>\n",
              "    <tr>\n",
              "      <th>min</th>\n",
              "      <td>NaN</td>\n",
              "      <td>NaN</td>\n",
              "      <td>1.0000000</td>\n",
              "      <td>NaN</td>\n",
              "      <td>NaN</td>\n",
              "      <td>NaN</td>\n",
              "      <td>NaN</td>\n",
              "      <td>1.0000000</td>\n",
              "    </tr>\n",
              "    <tr>\n",
              "      <th>25%</th>\n",
              "      <td>NaN</td>\n",
              "      <td>NaN</td>\n",
              "      <td>3.0000000</td>\n",
              "      <td>NaN</td>\n",
              "      <td>NaN</td>\n",
              "      <td>NaN</td>\n",
              "      <td>NaN</td>\n",
              "      <td>1.0000000</td>\n",
              "    </tr>\n",
              "    <tr>\n",
              "      <th>50%</th>\n",
              "      <td>NaN</td>\n",
              "      <td>NaN</td>\n",
              "      <td>5.0000000</td>\n",
              "      <td>NaN</td>\n",
              "      <td>NaN</td>\n",
              "      <td>NaN</td>\n",
              "      <td>NaN</td>\n",
              "      <td>2.0000000</td>\n",
              "    </tr>\n",
              "    <tr>\n",
              "      <th>75%</th>\n",
              "      <td>NaN</td>\n",
              "      <td>NaN</td>\n",
              "      <td>5.0000000</td>\n",
              "      <td>NaN</td>\n",
              "      <td>NaN</td>\n",
              "      <td>NaN</td>\n",
              "      <td>NaN</td>\n",
              "      <td>5.0000000</td>\n",
              "    </tr>\n",
              "    <tr>\n",
              "      <th>max</th>\n",
              "      <td>NaN</td>\n",
              "      <td>NaN</td>\n",
              "      <td>5.0000000</td>\n",
              "      <td>NaN</td>\n",
              "      <td>NaN</td>\n",
              "      <td>NaN</td>\n",
              "      <td>NaN</td>\n",
              "      <td>990.0000000</td>\n",
              "    </tr>\n",
              "  </tbody>\n",
              "</table>\n",
              "</div>"
            ],
            "text/plain": [
              "              asin             name        rating               date verified  \\\n",
              "count        67986            67984 67986.0000000              67986    67986   \n",
              "unique         720            47323           nan               2983        2   \n",
              "top     B00F2SKPIM  Amazon Customer           nan  December 11, 2019     True   \n",
              "freq           981             6507           nan                234    61225   \n",
              "mean           NaN              NaN     3.8079163                NaN      NaN   \n",
              "std            NaN              NaN     1.5829058                NaN      NaN   \n",
              "min            NaN              NaN     1.0000000                NaN      NaN   \n",
              "25%            NaN              NaN     3.0000000                NaN      NaN   \n",
              "50%            NaN              NaN     5.0000000                NaN      NaN   \n",
              "75%            NaN              NaN     5.0000000                NaN      NaN   \n",
              "max            NaN              NaN     5.0000000                NaN      NaN   \n",
              "\n",
              "             title   body  helpfulVotes  \n",
              "count        67972  67965 27215.0000000  \n",
              "unique       41489  59811           nan  \n",
              "top     Five Stars   Good           nan  \n",
              "freq          6043    303           nan  \n",
              "mean           NaN    NaN     8.2296895  \n",
              "std            NaN    NaN    31.9548772  \n",
              "min            NaN    NaN     1.0000000  \n",
              "25%            NaN    NaN     1.0000000  \n",
              "50%            NaN    NaN     2.0000000  \n",
              "75%            NaN    NaN     5.0000000  \n",
              "max            NaN    NaN   990.0000000  "
            ]
          },
          "metadata": {
            "tags": []
          },
          "execution_count": 66
        }
      ]
    },
    {
      "cell_type": "markdown",
      "metadata": {
        "id": "cSdGfadUyEdU"
      },
      "source": [
        "### 4.3 From the above statistical summary, write inferences like count of unique products, top brand, top title, range of rating, price range, etc"
      ]
    },
    {
      "cell_type": "code",
      "metadata": {
        "id": "Ddkn_hJmyKNb",
        "colab": {
          "base_uri": "https://localhost:8080/"
        },
        "outputId": "3449a5a8-efe2-4e5f-d4af-26d1066936b8"
      },
      "source": [
        "products['brand'].value_counts().sort_values(ascending=False)[:1]"
      ],
      "execution_count": 176,
      "outputs": [
        {
          "output_type": "execute_result",
          "data": {
            "text/plain": [
              "Samsung    346\n",
              "Name: brand, dtype: int64"
            ]
          },
          "metadata": {
            "tags": []
          },
          "execution_count": 176
        }
      ]
    },
    {
      "cell_type": "code",
      "metadata": {
        "colab": {
          "base_uri": "https://localhost:8080/"
        },
        "id": "6McrJ_O7WSDa",
        "outputId": "8d0fe7cb-3265-4c71-9920-185e180c634f"
      },
      "source": [
        "products.groupby('brand').mean()['rating'].sort_values(ascending=False)[:1]"
      ],
      "execution_count": 174,
      "outputs": [
        {
          "output_type": "execute_result",
          "data": {
            "text/plain": [
              "brand\n",
              "Xiaomi   4.4152174\n",
              "Name: rating, dtype: float64"
            ]
          },
          "metadata": {
            "tags": []
          },
          "execution_count": 174
        }
      ]
    },
    {
      "cell_type": "code",
      "metadata": {
        "colab": {
          "base_uri": "https://localhost:8080/"
        },
        "id": "qmxIpCyIWlTz",
        "outputId": "19aa6226-f27c-44c4-9439-862768d1742f"
      },
      "source": [
        "products.groupby('title').mean()['rating'].sort_values(ascending=False)[:1]"
      ],
      "execution_count": 172,
      "outputs": [
        {
          "output_type": "execute_result",
          "data": {
            "text/plain": [
              "title\n",
              "Motorola Moto E6 Smartphone with 16GB Memory, Unlocked - Starry Black   5.0000000\n",
              "Name: rating, dtype: float64"
            ]
          },
          "metadata": {
            "tags": []
          },
          "execution_count": 172
        }
      ]
    },
    {
      "cell_type": "markdown",
      "metadata": {
        "id": "yW2fiyr6S200"
      },
      "source": [
        "**Inferences**\n",
        "* Count of unique products = 718\n",
        "* Top Brand = Xiaomi\n",
        "* Top Title = Motorola Moto E6 Smartphone with 16GB Memory, Unlocked - Starry Black\n",
        "* Range of ratings = 1 - 5\n",
        "* Range of price = 0 - 999"
      ]
    },
    {
      "cell_type": "markdown",
      "metadata": {
        "id": "XMv_hXyxJKZK"
      },
      "source": [
        "### 4.4 Analyze the distribution of ratings and other categorical features like brand, etc"
      ]
    },
    {
      "cell_type": "code",
      "metadata": {
        "id": "oEhjSsMcyirD",
        "colab": {
          "base_uri": "https://localhost:8080/",
          "height": 319
        },
        "outputId": "8de0b23d-d574-4b78-962e-bf08a2d2fe85"
      },
      "source": [
        "products['brand'].value_counts().plot(kind='bar')"
      ],
      "execution_count": 39,
      "outputs": [
        {
          "output_type": "execute_result",
          "data": {
            "text/plain": [
              "<matplotlib.axes._subplots.AxesSubplot at 0x7f00b3f0de10>"
            ]
          },
          "metadata": {
            "tags": []
          },
          "execution_count": 39
        },
        {
          "output_type": "display_data",
          "data": {
            "image/png": "[encoded data removed]",
            "text/plain": [
              "<Figure size 432x288 with 1 Axes>"
            ]
          },
          "metadata": {
            "tags": [],
            "needs_background": "light"
          }
        }
      ]
    },
    {
      "cell_type": "markdown",
      "metadata": {
        "id": "jwZBGODgyi1a"
      },
      "source": [
        "### 4.5 Display average rating per brand"
      ]
    },
    {
      "cell_type": "code",
      "metadata": {
        "id": "OSBBiAv8yscd",
        "colab": {
          "base_uri": "https://localhost:8080/",
          "height": 333
        },
        "outputId": "45c64f98-a6fb-4fe1-ebf7-36e406298650"
      },
      "source": [
        "products.groupby('brand').mean()['rating'].plot(kind='bar')"
      ],
      "execution_count": 40,
      "outputs": [
        {
          "output_type": "execute_result",
          "data": {
            "text/plain": [
              "<matplotlib.axes._subplots.AxesSubplot at 0x7f00b2f18c90>"
            ]
          },
          "metadata": {
            "tags": []
          },
          "execution_count": 40
        },
        {
          "output_type": "display_data",
          "data": {
            "image/png": "[encoded data removed]",
            "text/plain": [
              "<Figure size 432x288 with 1 Axes>"
            ]
          },
          "metadata": {
            "tags": [],
            "needs_background": "light"
          }
        }
      ]
    },
    {
      "cell_type": "markdown",
      "metadata": {
        "id": "8nqph9poUf5T"
      },
      "source": [
        "We can see that Xiaomi has the hihgest average rating and Nokia has the lowest."
      ]
    },
    {
      "cell_type": "markdown",
      "metadata": {
        "id": "vUXuEwlgyvB0"
      },
      "source": [
        "### 4.6 Display average price per brand"
      ]
    },
    {
      "cell_type": "code",
      "metadata": {
        "id": "ACgIwVlyy3Pu",
        "colab": {
          "base_uri": "https://localhost:8080/",
          "height": 333
        },
        "outputId": "86b56620-972c-437e-84a6-9973296d9a0d"
      },
      "source": [
        "products.groupby('brand').mean()['price'].plot(kind='bar')"
      ],
      "execution_count": 42,
      "outputs": [
        {
          "output_type": "execute_result",
          "data": {
            "text/plain": [
              "<matplotlib.axes._subplots.AxesSubplot at 0x7f00b319c250>"
            ]
          },
          "metadata": {
            "tags": []
          },
          "execution_count": 42
        },
        {
          "output_type": "display_data",
          "data": {
            "image/png": "[encoded data removed]",
            "text/plain": [
              "<Figure size 432x288 with 1 Axes>"
            ]
          },
          "metadata": {
            "tags": [],
            "needs_background": "light"
          }
        }
      ]
    },
    {
      "cell_type": "markdown",
      "metadata": {
        "id": "new8y719UmPC"
      },
      "source": [
        "We can see that OnePlus is the costliest and Nokia is the cheapest."
      ]
    },
    {
      "cell_type": "markdown",
      "metadata": {
        "id": "U0JfwL74y3a-"
      },
      "source": [
        "### 4.7 Display average 'totalReviews' per brand"
      ]
    },
    {
      "cell_type": "code",
      "metadata": {
        "id": "wfzciNxqzBYu",
        "colab": {
          "base_uri": "https://localhost:8080/",
          "height": 333
        },
        "outputId": "e70459ec-77a0-4fcd-cb07-bd626a2927f6"
      },
      "source": [
        "products.groupby('brand').mean()['totalReviews'].plot(kind='bar')"
      ],
      "execution_count": 43,
      "outputs": [
        {
          "output_type": "execute_result",
          "data": {
            "text/plain": [
              "<matplotlib.axes._subplots.AxesSubplot at 0x7f00b8b56e50>"
            ]
          },
          "metadata": {
            "tags": []
          },
          "execution_count": 43
        },
        {
          "output_type": "display_data",
          "data": {
            "image/png": "[encoded data removed]",
            "text/plain": [
              "<Figure size 432x288 with 1 Axes>"
            ]
          },
          "metadata": {
            "tags": [],
            "needs_background": "light"
          }
        }
      ]
    },
    {
      "cell_type": "markdown",
      "metadata": {
        "id": "LEF_JTgYVEyc"
      },
      "source": [
        "We can see that Nokia has the highest number of ratings and OnePlus has the lowest. This might be attributed to Nokia being one of the oldest brands and OnePlus being a relatively newer one."
      ]
    },
    {
      "cell_type": "markdown",
      "metadata": {
        "id": "x_fxI7OAeDUM"
      },
      "source": [
        "### 4.8 Merge two datasets using 'asin' and check the shape of the final dataset"
      ]
    },
    {
      "cell_type": "code",
      "metadata": {
        "id": "svpHfWI9zNAP",
        "colab": {
          "base_uri": "https://localhost:8080/"
        },
        "outputId": "5442a59d-f2fb-48f4-8a49-1e8343c8705a"
      },
      "source": [
        "df = pd.merge(reviews,products,how='inner',on='asin')\n",
        "df.shape"
      ],
      "execution_count": 126,
      "outputs": [
        {
          "output_type": "execute_result",
          "data": {
            "text/plain": [
              "(67986, 14)"
            ]
          },
          "metadata": {
            "tags": []
          },
          "execution_count": 126
        }
      ]
    },
    {
      "cell_type": "code",
      "metadata": {
        "colab": {
          "base_uri": "https://localhost:8080/",
          "height": 635
        },
        "id": "5MjuFiT1XuYu",
        "outputId": "c87ea19c-0780-45c3-b93d-0ae357253083"
      },
      "source": [
        "df.sample(5)"
      ],
      "execution_count": 127,
      "outputs": [
        {
          "output_type": "execute_result",
          "data": {
            "text/html": [
              "<div>\n",
              "<style scoped>\n",
              "    .dataframe tbody tr th:only-of-type {\n",
              "        vertical-align: middle;\n",
              "    }\n",
              "\n",
              "    .dataframe tbody tr th {\n",
              "        vertical-align: top;\n",
              "    }\n",
              "\n",
              "    .dataframe thead th {\n",
              "        text-align: right;\n",
              "    }\n",
              "</style>\n",
              "<table border=\"1\" class=\"dataframe\">\n",
              "  <thead>\n",
              "    <tr style=\"text-align: right;\">\n",
              "      <th></th>\n",
              "      <th>asin</th>\n",
              "      <th>name</th>\n",
              "      <th>rating_x</th>\n",
              "      <th>date</th>\n",
              "      <th>verified</th>\n",
              "      <th>title_x</th>\n",
              "      <th>body</th>\n",
              "      <th>helpfulVotes</th>\n",
              "      <th>brand</th>\n",
              "      <th>title_y</th>\n",
              "      <th>rating_y</th>\n",
              "      <th>totalReviews</th>\n",
              "      <th>price</th>\n",
              "      <th>originalPrice</th>\n",
              "    </tr>\n",
              "  </thead>\n",
              "  <tbody>\n",
              "    <tr>\n",
              "      <th>8700</th>\n",
              "      <td>B00F2SKPIM</td>\n",
              "      <td>Vincent T.</td>\n",
              "      <td>5</td>\n",
              "      <td>May 26, 2015</td>\n",
              "      <td>True</td>\n",
              "      <td>Simply the best phone.</td>\n",
              "      <td>Dare I say, the best assistant available. Phon...</td>\n",
              "      <td>nan</td>\n",
              "      <td>Samsung</td>\n",
              "      <td>Samsung Galaxy Note 3, Black 32GB (Verizon Wir...</td>\n",
              "      <td>3.9000000</td>\n",
              "      <td>983</td>\n",
              "      <td>0.0000000</td>\n",
              "      <td>0.0000000</td>\n",
              "    </tr>\n",
              "    <tr>\n",
              "      <th>41802</th>\n",
              "      <td>B0775451TT</td>\n",
              "      <td>Eleonora</td>\n",
              "      <td>5</td>\n",
              "      <td>May 22, 2019</td>\n",
              "      <td>True</td>\n",
              "      <td>Excelent love it si fast delivery and good pro...</td>\n",
              "      <td>Súper perfect quelity Excelent love it si fast...</td>\n",
              "      <td>nan</td>\n",
              "      <td>Apple</td>\n",
              "      <td>Apple iPhone X, 256GB, Silver - For AT&amp;T / T-M...</td>\n",
              "      <td>3.9000000</td>\n",
              "      <td>436</td>\n",
              "      <td>479.0000000</td>\n",
              "      <td>749.9900000</td>\n",
              "    </tr>\n",
              "    <tr>\n",
              "      <th>49499</th>\n",
              "      <td>B07FM9913M</td>\n",
              "      <td>Claudio Gonzalez</td>\n",
              "      <td>5</td>\n",
              "      <td>August 11, 2019</td>\n",
              "      <td>True</td>\n",
              "      <td>Muy buen teléfono.</td>\n",
              "      <td>Funciona estupendamente, aunque la batería si ...</td>\n",
              "      <td>nan</td>\n",
              "      <td>Xiaomi</td>\n",
              "      <td>Unlocked GOLD Xiaomi Mi A2, 4GB 64GB, Dual SIM...</td>\n",
              "      <td>4.2000000</td>\n",
              "      <td>453</td>\n",
              "      <td>159.4900000</td>\n",
              "      <td>0.0000000</td>\n",
              "    </tr>\n",
              "    <tr>\n",
              "      <th>51051</th>\n",
              "      <td>B07GV9J7X8</td>\n",
              "      <td>Like_shopping_Amazon</td>\n",
              "      <td>3</td>\n",
              "      <td>September 21, 2019</td>\n",
              "      <td>False</td>\n",
              "      <td>F/DS is the international</td>\n",
              "      <td>amazon viewers. realize this. the F/DS is the ...</td>\n",
              "      <td>4.0000000</td>\n",
              "      <td>Samsung</td>\n",
              "      <td>Samsung Galaxy Note 9 SM-N960F/DS 512GB/8GB (M...</td>\n",
              "      <td>4.1000000</td>\n",
              "      <td>10</td>\n",
              "      <td>729.2900000</td>\n",
              "      <td>0.0000000</td>\n",
              "    </tr>\n",
              "    <tr>\n",
              "      <th>6747</th>\n",
              "      <td>B00D99ZBR6</td>\n",
              "      <td>Queyanna Guishard</td>\n",
              "      <td>4</td>\n",
              "      <td>August 20, 2014</td>\n",
              "      <td>True</td>\n",
              "      <td>Overall, It's A Great Phone</td>\n",
              "      <td>I enjoy this the Prevail II better than the Pr...</td>\n",
              "      <td>nan</td>\n",
              "      <td>Samsung</td>\n",
              "      <td>Samsung Galaxy Prevail II (Boost Mobile) (Disc...</td>\n",
              "      <td>3.5000000</td>\n",
              "      <td>314</td>\n",
              "      <td>89.0000000</td>\n",
              "      <td>0.0000000</td>\n",
              "    </tr>\n",
              "  </tbody>\n",
              "</table>\n",
              "</div>"
            ],
            "text/plain": [
              "             asin                  name  rating_x                date  \\\n",
              "8700   B00F2SKPIM            Vincent T.         5        May 26, 2015   \n",
              "41802  B0775451TT              Eleonora         5        May 22, 2019   \n",
              "49499  B07FM9913M      Claudio Gonzalez         5     August 11, 2019   \n",
              "51051  B07GV9J7X8  Like_shopping_Amazon         3  September 21, 2019   \n",
              "6747   B00D99ZBR6     Queyanna Guishard         4     August 20, 2014   \n",
              "\n",
              "       verified                                            title_x  \\\n",
              "8700       True                             Simply the best phone.   \n",
              "41802      True  Excelent love it si fast delivery and good pro...   \n",
              "49499      True                                 Muy buen teléfono.   \n",
              "51051     False                          F/DS is the international   \n",
              "6747       True                        Overall, It's A Great Phone   \n",
              "\n",
              "                                                    body  helpfulVotes  \\\n",
              "8700   Dare I say, the best assistant available. Phon...           nan   \n",
              "41802  Súper perfect quelity Excelent love it si fast...           nan   \n",
              "49499  Funciona estupendamente, aunque la batería si ...           nan   \n",
              "51051  amazon viewers. realize this. the F/DS is the ...     4.0000000   \n",
              "6747   I enjoy this the Prevail II better than the Pr...           nan   \n",
              "\n",
              "         brand                                            title_y  rating_y  \\\n",
              "8700   Samsung  Samsung Galaxy Note 3, Black 32GB (Verizon Wir... 3.9000000   \n",
              "41802    Apple  Apple iPhone X, 256GB, Silver - For AT&T / T-M... 3.9000000   \n",
              "49499   Xiaomi  Unlocked GOLD Xiaomi Mi A2, 4GB 64GB, Dual SIM... 4.2000000   \n",
              "51051  Samsung  Samsung Galaxy Note 9 SM-N960F/DS 512GB/8GB (M... 4.1000000   \n",
              "6747   Samsung  Samsung Galaxy Prevail II (Boost Mobile) (Disc... 3.5000000   \n",
              "\n",
              "       totalReviews       price  originalPrice  \n",
              "8700            983   0.0000000      0.0000000  \n",
              "41802           436 479.0000000    749.9900000  \n",
              "49499           453 159.4900000      0.0000000  \n",
              "51051            10 729.2900000      0.0000000  \n",
              "6747            314  89.0000000      0.0000000  "
            ]
          },
          "metadata": {
            "tags": []
          },
          "execution_count": 127
        }
      ]
    },
    {
      "cell_type": "markdown",
      "metadata": {
        "id": "zdTfwlL7fYpq"
      },
      "source": [
        "### 4.9 Rename important features with appropriate names.\n",
        "Imortant features - \"rating_x\": \"user_rating\", \"title_x\": \"review_title\", \"title_y\": \"item_title\", \"rating_y\": \"overall_rating\""
      ]
    },
    {
      "cell_type": "code",
      "metadata": {
        "id": "KI-6FCkZztXM"
      },
      "source": [
        "df.rename(columns={\"rating_x\": \"user_rating\", \"title_x\": \"review_title\", \"title_y\": \"item_title\", \"rating_y\": \"overall_rating\"},inplace=True)"
      ],
      "execution_count": 128,
      "outputs": []
    },
    {
      "cell_type": "code",
      "metadata": {
        "colab": {
          "base_uri": "https://localhost:8080/",
          "height": 531
        },
        "id": "jgtZerCoX3sr",
        "outputId": "978bec95-5f5b-430f-cd67-79c4db020c7f"
      },
      "source": [
        "df.sample(5)"
      ],
      "execution_count": 129,
      "outputs": [
        {
          "output_type": "execute_result",
          "data": {
            "text/html": [
              "<div>\n",
              "<style scoped>\n",
              "    .dataframe tbody tr th:only-of-type {\n",
              "        vertical-align: middle;\n",
              "    }\n",
              "\n",
              "    .dataframe tbody tr th {\n",
              "        vertical-align: top;\n",
              "    }\n",
              "\n",
              "    .dataframe thead th {\n",
              "        text-align: right;\n",
              "    }\n",
              "</style>\n",
              "<table border=\"1\" class=\"dataframe\">\n",
              "  <thead>\n",
              "    <tr style=\"text-align: right;\">\n",
              "      <th></th>\n",
              "      <th>asin</th>\n",
              "      <th>name</th>\n",
              "      <th>user_rating</th>\n",
              "      <th>date</th>\n",
              "      <th>verified</th>\n",
              "      <th>review_title</th>\n",
              "      <th>body</th>\n",
              "      <th>helpfulVotes</th>\n",
              "      <th>brand</th>\n",
              "      <th>item_title</th>\n",
              "      <th>overall_rating</th>\n",
              "      <th>totalReviews</th>\n",
              "      <th>price</th>\n",
              "      <th>originalPrice</th>\n",
              "    </tr>\n",
              "  </thead>\n",
              "  <tbody>\n",
              "    <tr>\n",
              "      <th>8771</th>\n",
              "      <td>B00F2SKPIM</td>\n",
              "      <td>Joseph W.</td>\n",
              "      <td>5</td>\n",
              "      <td>February 26, 2014</td>\n",
              "      <td>True</td>\n",
              "      <td>Amazing phone.</td>\n",
              "      <td>This phone isn't necessarily the phone for eve...</td>\n",
              "      <td>1.0000000</td>\n",
              "      <td>Samsung</td>\n",
              "      <td>Samsung Galaxy Note 3, Black 32GB (Verizon Wir...</td>\n",
              "      <td>3.9000000</td>\n",
              "      <td>983</td>\n",
              "      <td>0.0000000</td>\n",
              "      <td>0.0000000</td>\n",
              "    </tr>\n",
              "    <tr>\n",
              "      <th>38878</th>\n",
              "      <td>B0753QKW5L</td>\n",
              "      <td>Mahaley Pershing</td>\n",
              "      <td>5</td>\n",
              "      <td>June 2, 2018</td>\n",
              "      <td>True</td>\n",
              "      <td>Tablet is great!</td>\n",
              "      <td>Wanted small tablet I can travel with to read,...</td>\n",
              "      <td>1.0000000</td>\n",
              "      <td>Samsung</td>\n",
              "      <td>Samsung Galaxy Tab E 8in 16GB 4G LTE AT&amp;T Unlo...</td>\n",
              "      <td>2.9000000</td>\n",
              "      <td>22</td>\n",
              "      <td>114.5500000</td>\n",
              "      <td>0.0000000</td>\n",
              "    </tr>\n",
              "    <tr>\n",
              "      <th>25441</th>\n",
              "      <td>B01LEL8ABY</td>\n",
              "      <td>Amazon Customer</td>\n",
              "      <td>1</td>\n",
              "      <td>August 3, 2018</td>\n",
              "      <td>True</td>\n",
              "      <td>At 7 months of use, Battery lasts less than TW...</td>\n",
              "      <td>I was really happy with the product, until, by...</td>\n",
              "      <td>nan</td>\n",
              "      <td>Motorola</td>\n",
              "      <td>Moto Z GSM Unlocked Smartphone, 5.5\" Quad HD s...</td>\n",
              "      <td>3.0000000</td>\n",
              "      <td>305</td>\n",
              "      <td>0.0000000</td>\n",
              "      <td>0.0000000</td>\n",
              "    </tr>\n",
              "    <tr>\n",
              "      <th>57823</th>\n",
              "      <td>B07NVWSTHP</td>\n",
              "      <td>jonathan</td>\n",
              "      <td>5</td>\n",
              "      <td>May 14, 2019</td>\n",
              "      <td>True</td>\n",
              "      <td>Excellent- Love this phone</td>\n",
              "      <td>Phone works well- Looks brand new. I love the ...</td>\n",
              "      <td>3.0000000</td>\n",
              "      <td>Motorola</td>\n",
              "      <td>Motorola Moto Z3 Play 32GB XT1929-3 Deep Indig...</td>\n",
              "      <td>5.0000000</td>\n",
              "      <td>2</td>\n",
              "      <td>149.9900000</td>\n",
              "      <td>0.0000000</td>\n",
              "    </tr>\n",
              "    <tr>\n",
              "      <th>59587</th>\n",
              "      <td>B07PY52GVP</td>\n",
              "      <td>brittany</td>\n",
              "      <td>5</td>\n",
              "      <td>June 3, 2019</td>\n",
              "      <td>True</td>\n",
              "      <td>Definitely good quality</td>\n",
              "      <td>Definitely worth your money I love it.</td>\n",
              "      <td>1.0000000</td>\n",
              "      <td>Xiaomi</td>\n",
              "      <td>Xiaomi Redmi Note 7, 64GB/4GB RAM, 6.30'' FHD+...</td>\n",
              "      <td>4.4000000</td>\n",
              "      <td>630</td>\n",
              "      <td>167.0000000</td>\n",
              "      <td>0.0000000</td>\n",
              "    </tr>\n",
              "  </tbody>\n",
              "</table>\n",
              "</div>"
            ],
            "text/plain": [
              "             asin              name  user_rating               date  verified  \\\n",
              "8771   B00F2SKPIM         Joseph W.            5  February 26, 2014      True   \n",
              "38878  B0753QKW5L  Mahaley Pershing            5       June 2, 2018      True   \n",
              "25441  B01LEL8ABY   Amazon Customer            1     August 3, 2018      True   \n",
              "57823  B07NVWSTHP          jonathan            5       May 14, 2019      True   \n",
              "59587  B07PY52GVP          brittany            5       June 3, 2019      True   \n",
              "\n",
              "                                            review_title  \\\n",
              "8771                                      Amazing phone.   \n",
              "38878                                   Tablet is great!   \n",
              "25441  At 7 months of use, Battery lasts less than TW...   \n",
              "57823                         Excellent- Love this phone   \n",
              "59587                            Definitely good quality   \n",
              "\n",
              "                                                    body  helpfulVotes  \\\n",
              "8771   This phone isn't necessarily the phone for eve...     1.0000000   \n",
              "38878  Wanted small tablet I can travel with to read,...     1.0000000   \n",
              "25441  I was really happy with the product, until, by...           nan   \n",
              "57823  Phone works well- Looks brand new. I love the ...     3.0000000   \n",
              "59587             Definitely worth your money I love it.     1.0000000   \n",
              "\n",
              "          brand                                         item_title  \\\n",
              "8771    Samsung  Samsung Galaxy Note 3, Black 32GB (Verizon Wir...   \n",
              "38878   Samsung  Samsung Galaxy Tab E 8in 16GB 4G LTE AT&T Unlo...   \n",
              "25441  Motorola  Moto Z GSM Unlocked Smartphone, 5.5\" Quad HD s...   \n",
              "57823  Motorola  Motorola Moto Z3 Play 32GB XT1929-3 Deep Indig...   \n",
              "59587    Xiaomi  Xiaomi Redmi Note 7, 64GB/4GB RAM, 6.30'' FHD+...   \n",
              "\n",
              "       overall_rating  totalReviews       price  originalPrice  \n",
              "8771        3.9000000           983   0.0000000      0.0000000  \n",
              "38878       2.9000000            22 114.5500000      0.0000000  \n",
              "25441       3.0000000           305   0.0000000      0.0000000  \n",
              "57823       5.0000000             2 149.9900000      0.0000000  \n",
              "59587       4.4000000           630 167.0000000      0.0000000  "
            ]
          },
          "metadata": {
            "tags": []
          },
          "execution_count": 129
        }
      ]
    },
    {
      "cell_type": "markdown",
      "metadata": {
        "id": "hNHEElHszthc"
      },
      "source": [
        "### 4.10 Select rows having verified reviews and check the shape of the final dataset"
      ]
    },
    {
      "cell_type": "code",
      "metadata": {
        "colab": {
          "base_uri": "https://localhost:8080/"
        },
        "id": "CWgKaWXvYtsC",
        "outputId": "baf6860f-37f1-43bc-c2b1-456709fd3cc9"
      },
      "source": [
        "df['verified'].value_counts()"
      ],
      "execution_count": 130,
      "outputs": [
        {
          "output_type": "execute_result",
          "data": {
            "text/plain": [
              "True     61225\n",
              "False     6761\n",
              "Name: verified, dtype: int64"
            ]
          },
          "metadata": {
            "tags": []
          },
          "execution_count": 130
        }
      ]
    },
    {
      "cell_type": "code",
      "metadata": {
        "id": "Jyav9_Zoz-rT"
      },
      "source": [
        "dff = df[df['verified'] == True]\n",
        "# saving only the verified reviews"
      ],
      "execution_count": 134,
      "outputs": []
    },
    {
      "cell_type": "markdown",
      "metadata": {
        "id": "EpKusPjdz-2q"
      },
      "source": [
        "### 4.11 Check the number of reviews for various brands and report the brand that have highest number of reviews"
      ]
    },
    {
      "cell_type": "code",
      "metadata": {
        "id": "5tux6vwr0JDb",
        "colab": {
          "base_uri": "https://localhost:8080/",
          "height": 321
        },
        "outputId": "11119286-75eb-4e2a-e831-4b792ed3b1ef"
      },
      "source": [
        "df['brand'].value_counts().plot(kind='bar')"
      ],
      "execution_count": 135,
      "outputs": [
        {
          "output_type": "execute_result",
          "data": {
            "text/plain": [
              "<matplotlib.axes._subplots.AxesSubplot at 0x7f00a881bc50>"
            ]
          },
          "metadata": {
            "tags": []
          },
          "execution_count": 135
        },
        {
          "output_type": "display_data",
          "data": {
            "image/png": "[encoded data removed]",
            "text/plain": [
              "<Figure size 432x288 with 1 Axes>"
            ]
          },
          "metadata": {
            "tags": [],
            "needs_background": "light"
          }
        }
      ]
    },
    {
      "cell_type": "markdown",
      "metadata": {
        "id": "FhVWSwvAYJjS"
      },
      "source": [
        "Samsung is seen to have almost half of all the reviews in consideration. It is clearly the brand with the highest number of reviews!"
      ]
    },
    {
      "cell_type": "markdown",
      "metadata": {
        "id": "gPGjMFE-0Q5k"
      },
      "source": [
        "### 4.12 Drop irrelevant columns and keep important features like 'brand','body','price','user_rating','review_title' for further analysis"
      ]
    },
    {
      "cell_type": "code",
      "metadata": {
        "id": "J_IvLN6e0e6z"
      },
      "source": [
        "dff = df[['brand','body','user_rating','review_title']]"
      ],
      "execution_count": 136,
      "outputs": []
    },
    {
      "cell_type": "code",
      "metadata": {
        "colab": {
          "base_uri": "https://localhost:8080/",
          "height": 195
        },
        "id": "eVe3TTaPaVsW",
        "outputId": "76a6dd59-f161-4ea2-fa19-69377d0e86eb"
      },
      "source": [
        "dff.sample(5)"
      ],
      "execution_count": 137,
      "outputs": [
        {
          "output_type": "execute_result",
          "data": {
            "text/html": [
              "<div>\n",
              "<style scoped>\n",
              "    .dataframe tbody tr th:only-of-type {\n",
              "        vertical-align: middle;\n",
              "    }\n",
              "\n",
              "    .dataframe tbody tr th {\n",
              "        vertical-align: top;\n",
              "    }\n",
              "\n",
              "    .dataframe thead th {\n",
              "        text-align: right;\n",
              "    }\n",
              "</style>\n",
              "<table border=\"1\" class=\"dataframe\">\n",
              "  <thead>\n",
              "    <tr style=\"text-align: right;\">\n",
              "      <th></th>\n",
              "      <th>brand</th>\n",
              "      <th>body</th>\n",
              "      <th>user_rating</th>\n",
              "      <th>review_title</th>\n",
              "    </tr>\n",
              "  </thead>\n",
              "  <tbody>\n",
              "    <tr>\n",
              "      <th>40583</th>\n",
              "      <td>Google</td>\n",
              "      <td>I think Google's purchase of HTC allowed them ...</td>\n",
              "      <td>5</td>\n",
              "      <td>They get lots of fun Google extras that are fo...</td>\n",
              "    </tr>\n",
              "    <tr>\n",
              "      <th>32690</th>\n",
              "      <td>Apple</td>\n",
              "      <td>The phone works totally fine even outside the ...</td>\n",
              "      <td>5</td>\n",
              "      <td>Works pretty well in Brazil! And the phone loo...</td>\n",
              "    </tr>\n",
              "    <tr>\n",
              "      <th>31108</th>\n",
              "      <td>Apple</td>\n",
              "      <td>As described. Not a scratch.</td>\n",
              "      <td>5</td>\n",
              "      <td>Good</td>\n",
              "    </tr>\n",
              "    <tr>\n",
              "      <th>3356</th>\n",
              "      <td>Samsung</td>\n",
              "      <td>Its don't work good</td>\n",
              "      <td>1</td>\n",
              "      <td>One Star</td>\n",
              "    </tr>\n",
              "    <tr>\n",
              "      <th>63393</th>\n",
              "      <td>Samsung</td>\n",
              "      <td>I bought this phone from \"Gotham Cell's\" and t...</td>\n",
              "      <td>1</td>\n",
              "      <td>My product was NOT NEW</td>\n",
              "    </tr>\n",
              "  </tbody>\n",
              "</table>\n",
              "</div>"
            ],
            "text/plain": [
              "         brand                                               body  \\\n",
              "40583   Google  I think Google's purchase of HTC allowed them ...   \n",
              "32690    Apple  The phone works totally fine even outside the ...   \n",
              "31108    Apple                       As described. Not a scratch.   \n",
              "3356   Samsung                                Its don't work good   \n",
              "63393  Samsung  I bought this phone from \"Gotham Cell's\" and t...   \n",
              "\n",
              "       user_rating                                       review_title  \n",
              "40583            5  They get lots of fun Google extras that are fo...  \n",
              "32690            5  Works pretty well in Brazil! And the phone loo...  \n",
              "31108            5                                               Good  \n",
              "3356             1                                           One Star  \n",
              "63393            1                             My product was NOT NEW  "
            ]
          },
          "metadata": {
            "tags": []
          },
          "execution_count": 137
        }
      ]
    },
    {
      "cell_type": "markdown",
      "metadata": {
        "id": "Gzo_rVT60fDf"
      },
      "source": [
        "### 4.13 Perform univariate analysis. Check distribution of price, user_rating"
      ]
    },
    {
      "cell_type": "code",
      "metadata": {
        "id": "F3vzILxZ0t0L",
        "colab": {
          "base_uri": "https://localhost:8080/",
          "height": 279
        },
        "outputId": "50a0320d-ea12-495f-afdf-8744e2977144"
      },
      "source": [
        "dff['user_rating'].value_counts().plot(kind='bar')"
      ],
      "execution_count": 138,
      "outputs": [
        {
          "output_type": "execute_result",
          "data": {
            "text/plain": [
              "<matplotlib.axes._subplots.AxesSubplot at 0x7f00b8be8dd0>"
            ]
          },
          "metadata": {
            "tags": []
          },
          "execution_count": 138
        },
        {
          "output_type": "display_data",
          "data": {
            "image/png": "[encoded data removed]",
            "text/plain": [
              "<Figure size 432x288 with 1 Axes>"
            ]
          },
          "metadata": {
            "tags": [],
            "needs_background": "light"
          }
        }
      ]
    },
    {
      "cell_type": "markdown",
      "metadata": {
        "id": "tgG0QkuMcNmg"
      },
      "source": [
        "We can see that number of ratings with value as 5 is almost half of the total reviews received. This tells us that the sentiment analysis will be heavily biased towards the positive side."
      ]
    },
    {
      "cell_type": "markdown",
      "metadata": {
        "id": "x0Y_kE9T0uAf"
      },
      "source": [
        "### 4.14 Create a new column called \"sentiment\". It should have value as 1 (positive) if the user_Rating is greater than 3, value as 0 (neutral) if the user_Rating == 3, and -1 (negative) is the user_Rating is less than 3."
      ]
    },
    {
      "cell_type": "code",
      "metadata": {
        "id": "jGon-2xU1Ujb",
        "colab": {
          "base_uri": "https://localhost:8080/",
          "height": 195
        },
        "outputId": "c1e80e0a-5dfd-46fa-9abb-94f5e2fe587d"
      },
      "source": [
        "conditions = [(dff['user_rating'] > 3),\n",
        "              (dff['user_rating'] == 3),\n",
        "              (dff['user_rating'] < 3)]\n",
        "values = [1,0,-1]\n",
        "dff['sentiment'] = np.select(conditions,values)\n",
        "dff.sample(5)"
      ],
      "execution_count": 139,
      "outputs": [
        {
          "output_type": "execute_result",
          "data": {
            "text/html": [
              "<div>\n",
              "<style scoped>\n",
              "    .dataframe tbody tr th:only-of-type {\n",
              "        vertical-align: middle;\n",
              "    }\n",
              "\n",
              "    .dataframe tbody tr th {\n",
              "        vertical-align: top;\n",
              "    }\n",
              "\n",
              "    .dataframe thead th {\n",
              "        text-align: right;\n",
              "    }\n",
              "</style>\n",
              "<table border=\"1\" class=\"dataframe\">\n",
              "  <thead>\n",
              "    <tr style=\"text-align: right;\">\n",
              "      <th></th>\n",
              "      <th>brand</th>\n",
              "      <th>body</th>\n",
              "      <th>user_rating</th>\n",
              "      <th>review_title</th>\n",
              "      <th>sentiment</th>\n",
              "    </tr>\n",
              "  </thead>\n",
              "  <tbody>\n",
              "    <tr>\n",
              "      <th>8796</th>\n",
              "      <td>Samsung</td>\n",
              "      <td>All good</td>\n",
              "      <td>5</td>\n",
              "      <td>Five Stars</td>\n",
              "      <td>1</td>\n",
              "    </tr>\n",
              "    <tr>\n",
              "      <th>13092</th>\n",
              "      <td>Samsung</td>\n",
              "      <td>good phone,one of my favorites for the notes</td>\n",
              "      <td>5</td>\n",
              "      <td>good phone, one of my favorites for the</td>\n",
              "      <td>1</td>\n",
              "    </tr>\n",
              "    <tr>\n",
              "      <th>39055</th>\n",
              "      <td>Nokia</td>\n",
              "      <td>This phone is fine and works on T-Mobile. You'...</td>\n",
              "      <td>3</td>\n",
              "      <td>this is not a dumb phone</td>\n",
              "      <td>0</td>\n",
              "    </tr>\n",
              "    <tr>\n",
              "      <th>4144</th>\n",
              "      <td>Nokia</td>\n",
              "      <td>I just got my red Lumia 920 after it being bac...</td>\n",
              "      <td>5</td>\n",
              "      <td>Traded in my iPhone 4 for the Lumia 920</td>\n",
              "      <td>1</td>\n",
              "    </tr>\n",
              "    <tr>\n",
              "      <th>26353</th>\n",
              "      <td>Google</td>\n",
              "      <td>Good quality product and fast delivery.</td>\n",
              "      <td>5</td>\n",
              "      <td>Five Stars</td>\n",
              "      <td>1</td>\n",
              "    </tr>\n",
              "  </tbody>\n",
              "</table>\n",
              "</div>"
            ],
            "text/plain": [
              "         brand                                               body  \\\n",
              "8796   Samsung                                           All good   \n",
              "13092  Samsung       good phone,one of my favorites for the notes   \n",
              "39055    Nokia  This phone is fine and works on T-Mobile. You'...   \n",
              "4144     Nokia  I just got my red Lumia 920 after it being bac...   \n",
              "26353   Google            Good quality product and fast delivery.   \n",
              "\n",
              "       user_rating                             review_title  sentiment  \n",
              "8796             5                               Five Stars          1  \n",
              "13092            5  good phone, one of my favorites for the          1  \n",
              "39055            3                 this is not a dumb phone          0  \n",
              "4144             5  Traded in my iPhone 4 for the Lumia 920          1  \n",
              "26353            5                               Five Stars          1  "
            ]
          },
          "metadata": {
            "tags": []
          },
          "execution_count": 139
        }
      ]
    },
    {
      "cell_type": "code",
      "metadata": {
        "id": "syG4NjI0fVB9"
      },
      "source": [
        "# dff['sentiment'] = dff['user_rating'].apply(lambda x: 1 if x>3 else(0 if x==3 else(-1)))\n",
        "# alternative approach"
      ],
      "execution_count": 140,
      "outputs": []
    },
    {
      "cell_type": "markdown",
      "metadata": {
        "id": "K4rxSZWp1VAb"
      },
      "source": [
        "### 4.15 Check frequency distribution of the 'sentiment'"
      ]
    },
    {
      "cell_type": "code",
      "metadata": {
        "colab": {
          "base_uri": "https://localhost:8080/"
        },
        "id": "TuW-wAtDfDBh",
        "outputId": "38754077-c490-42e3-9ab5-d41ade239758"
      },
      "source": [
        "dff['sentiment'].value_counts()"
      ],
      "execution_count": 141,
      "outputs": [
        {
          "output_type": "execute_result",
          "data": {
            "text/plain": [
              " 1    46576\n",
              "-1    16658\n",
              " 0     4752\n",
              "Name: sentiment, dtype: int64"
            ]
          },
          "metadata": {
            "tags": []
          },
          "execution_count": 141
        }
      ]
    },
    {
      "cell_type": "code",
      "metadata": {
        "id": "yt3gH7Iz1dVP",
        "colab": {
          "base_uri": "https://localhost:8080/",
          "height": 282
        },
        "outputId": "220cb701-49ce-4551-9e00-19c2f44ac821"
      },
      "source": [
        "dff['sentiment'].value_counts().plot(kind='bar')"
      ],
      "execution_count": 142,
      "outputs": [
        {
          "output_type": "execute_result",
          "data": {
            "text/plain": [
              "<matplotlib.axes._subplots.AxesSubplot at 0x7f00b57602d0>"
            ]
          },
          "metadata": {
            "tags": []
          },
          "execution_count": 142
        },
        {
          "output_type": "display_data",
          "data": {
            "image/png": "[encoded data removed]",
            "text/plain": [
              "<Figure size 432x288 with 1 Axes>"
            ]
          },
          "metadata": {
            "tags": [],
            "needs_background": "light"
          }
        }
      ]
    },
    {
      "cell_type": "markdown",
      "metadata": {
        "id": "rK0KMghP1ddb"
      },
      "source": [
        "### 4.16 Perform bivariate analysis. Check correlation/crosstab between features and write your inferences."
      ]
    },
    {
      "cell_type": "code",
      "metadata": {
        "id": "scAV4fRg1nX0",
        "colab": {
          "base_uri": "https://localhost:8080/",
          "height": 373
        },
        "outputId": "63599396-f8e2-4388-c988-603670a869fa"
      },
      "source": [
        "pd.crosstab(dff['sentiment'],dff['brand']).T\n",
        "# looking at brand-wise sentiments"
      ],
      "execution_count": 143,
      "outputs": [
        {
          "output_type": "execute_result",
          "data": {
            "text/html": [
              "<div>\n",
              "<style scoped>\n",
              "    .dataframe tbody tr th:only-of-type {\n",
              "        vertical-align: middle;\n",
              "    }\n",
              "\n",
              "    .dataframe tbody tr th {\n",
              "        vertical-align: top;\n",
              "    }\n",
              "\n",
              "    .dataframe thead th {\n",
              "        text-align: right;\n",
              "    }\n",
              "</style>\n",
              "<table border=\"1\" class=\"dataframe\">\n",
              "  <thead>\n",
              "    <tr style=\"text-align: right;\">\n",
              "      <th>sentiment</th>\n",
              "      <th>-1</th>\n",
              "      <th>0</th>\n",
              "      <th>1</th>\n",
              "    </tr>\n",
              "    <tr>\n",
              "      <th>brand</th>\n",
              "      <th></th>\n",
              "      <th></th>\n",
              "      <th></th>\n",
              "    </tr>\n",
              "  </thead>\n",
              "  <tbody>\n",
              "    <tr>\n",
              "      <th>ASUS</th>\n",
              "      <td>64</td>\n",
              "      <td>25</td>\n",
              "      <td>162</td>\n",
              "    </tr>\n",
              "    <tr>\n",
              "      <th>Apple</th>\n",
              "      <td>1434</td>\n",
              "      <td>322</td>\n",
              "      <td>3389</td>\n",
              "    </tr>\n",
              "    <tr>\n",
              "      <th>Google</th>\n",
              "      <td>1169</td>\n",
              "      <td>267</td>\n",
              "      <td>2351</td>\n",
              "    </tr>\n",
              "    <tr>\n",
              "      <th>HUAWEI</th>\n",
              "      <td>309</td>\n",
              "      <td>124</td>\n",
              "      <td>1792</td>\n",
              "    </tr>\n",
              "    <tr>\n",
              "      <th>Motorola</th>\n",
              "      <td>2104</td>\n",
              "      <td>653</td>\n",
              "      <td>6123</td>\n",
              "    </tr>\n",
              "    <tr>\n",
              "      <th>Nokia</th>\n",
              "      <td>1710</td>\n",
              "      <td>540</td>\n",
              "      <td>3665</td>\n",
              "    </tr>\n",
              "    <tr>\n",
              "      <th>OnePlus</th>\n",
              "      <td>52</td>\n",
              "      <td>13</td>\n",
              "      <td>282</td>\n",
              "    </tr>\n",
              "    <tr>\n",
              "      <th>Samsung</th>\n",
              "      <td>8537</td>\n",
              "      <td>2292</td>\n",
              "      <td>22800</td>\n",
              "    </tr>\n",
              "    <tr>\n",
              "      <th>Sony</th>\n",
              "      <td>770</td>\n",
              "      <td>280</td>\n",
              "      <td>2146</td>\n",
              "    </tr>\n",
              "    <tr>\n",
              "      <th>Xiaomi</th>\n",
              "      <td>460</td>\n",
              "      <td>222</td>\n",
              "      <td>3729</td>\n",
              "    </tr>\n",
              "  </tbody>\n",
              "</table>\n",
              "</div>"
            ],
            "text/plain": [
              "sentiment    -1     0      1\n",
              "brand                       \n",
              "ASUS         64    25    162\n",
              "Apple      1434   322   3389\n",
              "Google     1169   267   2351\n",
              "HUAWEI      309   124   1792\n",
              "Motorola   2104   653   6123\n",
              "Nokia      1710   540   3665\n",
              "OnePlus      52    13    282\n",
              "Samsung    8537  2292  22800\n",
              "Sony        770   280   2146\n",
              "Xiaomi      460   222   3729"
            ]
          },
          "metadata": {
            "tags": []
          },
          "execution_count": 143
        }
      ]
    },
    {
      "cell_type": "markdown",
      "metadata": {
        "id": "2Nzj7ZXVLakx"
      },
      "source": [
        "## 5. Text Preprocessing and Vectorization"
      ]
    },
    {
      "cell_type": "markdown",
      "metadata": {
        "id": "ZbC_RPndnlf3"
      },
      "source": [
        "We will analyze the 'body' and 'review_title' to gain more understanding.\n",
        "\n",
        "We will ppeform the below tasks\n",
        "\n",
        "- Convert the text into lowercase\n",
        "- Remove punctuation\n",
        "- Remove stopwords (English, from nltk corpus)\n",
        "- Remove other keywords like \"phone\" and brand name"
      ]
    },
    {
      "cell_type": "markdown",
      "metadata": {
        "id": "XnhMQsxz2DJH"
      },
      "source": [
        "### 5.1 Change the datatype of the 'body' column to 'str' and convert it into lowercase. Print any two samples and check the output."
      ]
    },
    {
      "cell_type": "code",
      "metadata": {
        "id": "1DbTf2yc2VOQ",
        "colab": {
          "base_uri": "https://localhost:8080/"
        },
        "outputId": "33527605-cb16-4304-87a0-79ff83012c84"
      },
      "source": [
        "dff['body'].dtype"
      ],
      "execution_count": 144,
      "outputs": [
        {
          "output_type": "execute_result",
          "data": {
            "text/plain": [
              "dtype('O')"
            ]
          },
          "metadata": {
            "tags": []
          },
          "execution_count": 144
        }
      ]
    },
    {
      "cell_type": "markdown",
      "metadata": {
        "id": "YOwSLzZXhahj"
      },
      "source": [
        "'body' column is already in string format"
      ]
    },
    {
      "cell_type": "code",
      "metadata": {
        "colab": {
          "base_uri": "https://localhost:8080/"
        },
        "id": "IjcBda_ph1e-",
        "outputId": "9ab76c1c-621e-4ebb-a646-8fca952c0712"
      },
      "source": [
        "dff['body'].head()\n",
        "# before convert to lowercase"
      ],
      "execution_count": 145,
      "outputs": [
        {
          "output_type": "execute_result",
          "data": {
            "text/plain": [
              "0    I had the Samsung A600 for awhile which is abs...\n",
              "1    Due to a software issue between Nokia and Spri...\n",
              "2    This is a great, reliable phone. I also purcha...\n",
              "3    I love the phone and all, because I really did...\n",
              "4    The phone has been great for every purpose it ...\n",
              "Name: body, dtype: object"
            ]
          },
          "metadata": {
            "tags": []
          },
          "execution_count": 145
        }
      ]
    },
    {
      "cell_type": "code",
      "metadata": {
        "id": "sY8-wp6BhbCn"
      },
      "source": [
        "dff['body'] = dff['body'].astype('str').apply(lambda x: x.lower())"
      ],
      "execution_count": 146,
      "outputs": []
    },
    {
      "cell_type": "code",
      "metadata": {
        "colab": {
          "base_uri": "https://localhost:8080/",
          "height": 106
        },
        "id": "QUjvu7rlh9QW",
        "outputId": "46ec3e67-94a9-49fe-e235-7b9c199feea7"
      },
      "source": [
        "dff.sample(2)\n",
        "# after convert to lowercase"
      ],
      "execution_count": 147,
      "outputs": [
        {
          "output_type": "execute_result",
          "data": {
            "text/html": [
              "<div>\n",
              "<style scoped>\n",
              "    .dataframe tbody tr th:only-of-type {\n",
              "        vertical-align: middle;\n",
              "    }\n",
              "\n",
              "    .dataframe tbody tr th {\n",
              "        vertical-align: top;\n",
              "    }\n",
              "\n",
              "    .dataframe thead th {\n",
              "        text-align: right;\n",
              "    }\n",
              "</style>\n",
              "<table border=\"1\" class=\"dataframe\">\n",
              "  <thead>\n",
              "    <tr style=\"text-align: right;\">\n",
              "      <th></th>\n",
              "      <th>brand</th>\n",
              "      <th>body</th>\n",
              "      <th>user_rating</th>\n",
              "      <th>review_title</th>\n",
              "      <th>sentiment</th>\n",
              "    </tr>\n",
              "  </thead>\n",
              "  <tbody>\n",
              "    <tr>\n",
              "      <th>63219</th>\n",
              "      <td>Samsung</td>\n",
              "      <td>the condition looked good. no major or highly ...</td>\n",
              "      <td>5</td>\n",
              "      <td>Phone looked good and works great</td>\n",
              "      <td>1</td>\n",
              "    </tr>\n",
              "    <tr>\n",
              "      <th>57596</th>\n",
              "      <td>Motorola</td>\n",
              "      <td>could not make or receive calls or texts. amaz...</td>\n",
              "      <td>1</td>\n",
              "      <td>Didn't work at all</td>\n",
              "      <td>-1</td>\n",
              "    </tr>\n",
              "  </tbody>\n",
              "</table>\n",
              "</div>"
            ],
            "text/plain": [
              "          brand                                               body  \\\n",
              "63219   Samsung  the condition looked good. no major or highly ...   \n",
              "57596  Motorola  could not make or receive calls or texts. amaz...   \n",
              "\n",
              "       user_rating                       review_title  sentiment  \n",
              "63219            5  Phone looked good and works great          1  \n",
              "57596            1                 Didn't work at all         -1  "
            ]
          },
          "metadata": {
            "tags": []
          },
          "execution_count": 147
        }
      ]
    },
    {
      "cell_type": "markdown",
      "metadata": {
        "id": "lsppV0X52VXf"
      },
      "source": [
        "### 5.2 Remove punctuations from the lowercased 'body' column and display at least two samples."
      ]
    },
    {
      "cell_type": "code",
      "metadata": {
        "id": "lQXKc8et2onG"
      },
      "source": [
        "dff['body'] = dff['body'].replace('[^\\w\\s]','',regex=True)"
      ],
      "execution_count": 148,
      "outputs": []
    },
    {
      "cell_type": "code",
      "metadata": {
        "colab": {
          "base_uri": "https://localhost:8080/",
          "height": 106
        },
        "id": "9CZ5q-8Aix9r",
        "outputId": "0628cf17-2e9d-412a-b0bc-b3857d189e9c"
      },
      "source": [
        "dff.sample(2)"
      ],
      "execution_count": 149,
      "outputs": [
        {
          "output_type": "execute_result",
          "data": {
            "text/html": [
              "<div>\n",
              "<style scoped>\n",
              "    .dataframe tbody tr th:only-of-type {\n",
              "        vertical-align: middle;\n",
              "    }\n",
              "\n",
              "    .dataframe tbody tr th {\n",
              "        vertical-align: top;\n",
              "    }\n",
              "\n",
              "    .dataframe thead th {\n",
              "        text-align: right;\n",
              "    }\n",
              "</style>\n",
              "<table border=\"1\" class=\"dataframe\">\n",
              "  <thead>\n",
              "    <tr style=\"text-align: right;\">\n",
              "      <th></th>\n",
              "      <th>brand</th>\n",
              "      <th>body</th>\n",
              "      <th>user_rating</th>\n",
              "      <th>review_title</th>\n",
              "      <th>sentiment</th>\n",
              "    </tr>\n",
              "  </thead>\n",
              "  <tbody>\n",
              "    <tr>\n",
              "      <th>1509</th>\n",
              "      <td>Samsung</td>\n",
              "      <td>this is the best first generation windows phon...</td>\n",
              "      <td>5</td>\n",
              "      <td>Excellent First Gen Windows Phone</td>\n",
              "      <td>1</td>\n",
              "    </tr>\n",
              "    <tr>\n",
              "      <th>43835</th>\n",
              "      <td>Sony</td>\n",
              "      <td>please help memy phone sucks bad photos bad ba...</td>\n",
              "      <td>1</td>\n",
              "      <td>The worst experience bad photos.</td>\n",
              "      <td>-1</td>\n",
              "    </tr>\n",
              "  </tbody>\n",
              "</table>\n",
              "</div>"
            ],
            "text/plain": [
              "         brand                                               body  \\\n",
              "1509   Samsung  this is the best first generation windows phon...   \n",
              "43835     Sony  please help memy phone sucks bad photos bad ba...   \n",
              "\n",
              "       user_rating                       review_title  sentiment  \n",
              "1509             5  Excellent First Gen Windows Phone          1  \n",
              "43835            1   The worst experience bad photos.         -1  "
            ]
          },
          "metadata": {
            "tags": []
          },
          "execution_count": 149
        }
      ]
    },
    {
      "cell_type": "markdown",
      "metadata": {
        "id": "8Zk7ja6A2owN"
      },
      "source": [
        "### 5.3 Remove stop words from the above pre-processed 'body' column and display at least two samples."
      ]
    },
    {
      "cell_type": "code",
      "metadata": {
        "id": "1d-DhX_e2yQ-"
      },
      "source": [
        "import nltk"
      ],
      "execution_count": 150,
      "outputs": []
    },
    {
      "cell_type": "code",
      "metadata": {
        "colab": {
          "base_uri": "https://localhost:8080/"
        },
        "id": "cdq9Lg5Pjyuc",
        "outputId": "847c00ac-eab6-4da3-edc0-1c561ea216dd"
      },
      "source": [
        "nltk.download('stopwords')"
      ],
      "execution_count": 151,
      "outputs": [
        {
          "output_type": "stream",
          "text": [
            "[nltk_data] Downloading package stopwords to /root/nltk_data...\n",
            "[nltk_data]   Package stopwords is already up-to-date!\n"
          ],
          "name": "stdout"
        },
        {
          "output_type": "execute_result",
          "data": {
            "text/plain": [
              "True"
            ]
          },
          "metadata": {
            "tags": []
          },
          "execution_count": 151
        }
      ]
    },
    {
      "cell_type": "code",
      "metadata": {
        "id": "9q6BZRJqjyXN"
      },
      "source": [
        "from nltk.corpus import stopwords\n",
        "stop = set(stopwords.words('english'))"
      ],
      "execution_count": 152,
      "outputs": []
    },
    {
      "cell_type": "code",
      "metadata": {
        "id": "GgB77VqdkWSJ"
      },
      "source": [
        "dff['body'] = dff['body'].apply(lambda words: \" \".join (word for word in words.split() if word not in stop))"
      ],
      "execution_count": 153,
      "outputs": []
    },
    {
      "cell_type": "code",
      "metadata": {
        "colab": {
          "base_uri": "https://localhost:8080/",
          "height": 106
        },
        "id": "M6mHMDtGkWFx",
        "outputId": "3e865850-ce0a-4426-98be-67247a6aba0c"
      },
      "source": [
        "dff.sample(2)"
      ],
      "execution_count": 154,
      "outputs": [
        {
          "output_type": "execute_result",
          "data": {
            "text/html": [
              "<div>\n",
              "<style scoped>\n",
              "    .dataframe tbody tr th:only-of-type {\n",
              "        vertical-align: middle;\n",
              "    }\n",
              "\n",
              "    .dataframe tbody tr th {\n",
              "        vertical-align: top;\n",
              "    }\n",
              "\n",
              "    .dataframe thead th {\n",
              "        text-align: right;\n",
              "    }\n",
              "</style>\n",
              "<table border=\"1\" class=\"dataframe\">\n",
              "  <thead>\n",
              "    <tr style=\"text-align: right;\">\n",
              "      <th></th>\n",
              "      <th>brand</th>\n",
              "      <th>body</th>\n",
              "      <th>user_rating</th>\n",
              "      <th>review_title</th>\n",
              "      <th>sentiment</th>\n",
              "    </tr>\n",
              "  </thead>\n",
              "  <tbody>\n",
              "    <tr>\n",
              "      <th>58481</th>\n",
              "      <td>Samsung</td>\n",
              "      <td>phone received brand new covered fingerprints ...</td>\n",
              "      <td>1</td>\n",
              "      <td>Not a new phone</td>\n",
              "      <td>-1</td>\n",
              "    </tr>\n",
              "    <tr>\n",
              "      <th>13568</th>\n",
              "      <td>Nokia</td>\n",
              "      <td>hello seller lumina purchased looking good sur...</td>\n",
              "      <td>2</td>\n",
              "      <td>The lumina i purchased from you is looking goo...</td>\n",
              "      <td>-1</td>\n",
              "    </tr>\n",
              "  </tbody>\n",
              "</table>\n",
              "</div>"
            ],
            "text/plain": [
              "         brand                                               body  \\\n",
              "58481  Samsung  phone received brand new covered fingerprints ...   \n",
              "13568    Nokia  hello seller lumina purchased looking good sur...   \n",
              "\n",
              "       user_rating                                       review_title  \\\n",
              "58481            1                                    Not a new phone   \n",
              "13568            2  The lumina i purchased from you is looking goo...   \n",
              "\n",
              "       sentiment  \n",
              "58481         -1  \n",
              "13568         -1  "
            ]
          },
          "metadata": {
            "tags": []
          },
          "execution_count": 154
        }
      ]
    },
    {
      "cell_type": "markdown",
      "metadata": {
        "id": "TQNvXay42yaQ"
      },
      "source": [
        "### 5.4 Apply lemmatisation on the above preprocessed text and display a few samples"
      ]
    },
    {
      "cell_type": "code",
      "metadata": {
        "id": "oQ1VfFaa3DET",
        "colab": {
          "base_uri": "https://localhost:8080/"
        },
        "outputId": "3a315a1f-a1b3-401d-a064-4ad9c9d5d526"
      },
      "source": [
        "nltk.download('wordnet')"
      ],
      "execution_count": 155,
      "outputs": [
        {
          "output_type": "stream",
          "text": [
            "[nltk_data] Downloading package wordnet to /root/nltk_data...\n",
            "[nltk_data]   Package wordnet is already up-to-date!\n"
          ],
          "name": "stdout"
        },
        {
          "output_type": "execute_result",
          "data": {
            "text/plain": [
              "True"
            ]
          },
          "metadata": {
            "tags": []
          },
          "execution_count": 155
        }
      ]
    },
    {
      "cell_type": "code",
      "metadata": {
        "id": "mkjPSlhrpS6Q"
      },
      "source": [
        "w_tokenizer = nltk.tokenize.WhitespaceTokenizer()"
      ],
      "execution_count": 156,
      "outputs": []
    },
    {
      "cell_type": "code",
      "metadata": {
        "id": "nKKp5F9DpSsK"
      },
      "source": [
        "lemmatizer = nltk.stem.WordNetLemmatizer()"
      ],
      "execution_count": 157,
      "outputs": []
    },
    {
      "cell_type": "code",
      "metadata": {
        "id": "NXAVdZYLpSn3"
      },
      "source": [
        "# defning a function to tokenize each word in a sentence and then perform lemmatization on them\n",
        "def lemmatize_text(text):\n",
        "  out_text = [lemmatizer.lemmatize(word) for word in w_tokenizer.tokenize(text)]\n",
        "  return out_text"
      ],
      "execution_count": 102,
      "outputs": []
    },
    {
      "cell_type": "code",
      "metadata": {
        "id": "CTcdW3iQqZ4b"
      },
      "source": [
        "dff['keywords'] = dff['body'].apply(lemmatize_text)\n",
        "# applying the lemmatizer function and saving the output"
      ],
      "execution_count": 158,
      "outputs": []
    },
    {
      "cell_type": "code",
      "metadata": {
        "colab": {
          "base_uri": "https://localhost:8080/",
          "height": 106
        },
        "id": "qrgIUQuxrAt0",
        "outputId": "5bc53fdd-a439-4548-9a11-b4df93031554"
      },
      "source": [
        "dff.sample(2)"
      ],
      "execution_count": 159,
      "outputs": [
        {
          "output_type": "execute_result",
          "data": {
            "text/html": [
              "<div>\n",
              "<style scoped>\n",
              "    .dataframe tbody tr th:only-of-type {\n",
              "        vertical-align: middle;\n",
              "    }\n",
              "\n",
              "    .dataframe tbody tr th {\n",
              "        vertical-align: top;\n",
              "    }\n",
              "\n",
              "    .dataframe thead th {\n",
              "        text-align: right;\n",
              "    }\n",
              "</style>\n",
              "<table border=\"1\" class=\"dataframe\">\n",
              "  <thead>\n",
              "    <tr style=\"text-align: right;\">\n",
              "      <th></th>\n",
              "      <th>brand</th>\n",
              "      <th>body</th>\n",
              "      <th>user_rating</th>\n",
              "      <th>review_title</th>\n",
              "      <th>sentiment</th>\n",
              "      <th>keywords</th>\n",
              "    </tr>\n",
              "  </thead>\n",
              "  <tbody>\n",
              "    <tr>\n",
              "      <th>50024</th>\n",
              "      <td>Samsung</td>\n",
              "      <td>love new galaxy note 9 perfect size little big...</td>\n",
              "      <td>5</td>\n",
              "      <td>Works perfectly!</td>\n",
              "      <td>1</td>\n",
              "      <td>[love, new, galaxy, note, 9, perfect, size, li...</td>\n",
              "    </tr>\n",
              "    <tr>\n",
              "      <th>55257</th>\n",
              "      <td>Xiaomi</td>\n",
              "      <td>realmente muy buen equipo es lo que necesitaba...</td>\n",
              "      <td>5</td>\n",
              "      <td>Muy buen celular, recomendable</td>\n",
              "      <td>1</td>\n",
              "      <td>[realmente, muy, buen, equipo, e, lo, que, nec...</td>\n",
              "    </tr>\n",
              "  </tbody>\n",
              "</table>\n",
              "</div>"
            ],
            "text/plain": [
              "         brand                                               body  \\\n",
              "50024  Samsung  love new galaxy note 9 perfect size little big...   \n",
              "55257   Xiaomi  realmente muy buen equipo es lo que necesitaba...   \n",
              "\n",
              "       user_rating                    review_title  sentiment  \\\n",
              "50024            5                Works perfectly!          1   \n",
              "55257            5  Muy buen celular, recomendable          1   \n",
              "\n",
              "                                                keywords  \n",
              "50024  [love, new, galaxy, note, 9, perfect, size, li...  \n",
              "55257  [realmente, muy, buen, equipo, e, lo, que, nec...  "
            ]
          },
          "metadata": {
            "tags": []
          },
          "execution_count": 159
        }
      ]
    },
    {
      "cell_type": "code",
      "metadata": {
        "id": "6Z1xjKFCux3P"
      },
      "source": [
        "dff['keywords'] = dff['keywords'].str.join(\" \")"
      ],
      "execution_count": 160,
      "outputs": []
    },
    {
      "cell_type": "code",
      "metadata": {
        "colab": {
          "base_uri": "https://localhost:8080/",
          "height": 106
        },
        "id": "Fc_4Xdw6vs0R",
        "outputId": "92ddac28-3feb-43d9-ab07-842a78c2e4d8"
      },
      "source": [
        "dff.sample(2)"
      ],
      "execution_count": 161,
      "outputs": [
        {
          "output_type": "execute_result",
          "data": {
            "text/html": [
              "<div>\n",
              "<style scoped>\n",
              "    .dataframe tbody tr th:only-of-type {\n",
              "        vertical-align: middle;\n",
              "    }\n",
              "\n",
              "    .dataframe tbody tr th {\n",
              "        vertical-align: top;\n",
              "    }\n",
              "\n",
              "    .dataframe thead th {\n",
              "        text-align: right;\n",
              "    }\n",
              "</style>\n",
              "<table border=\"1\" class=\"dataframe\">\n",
              "  <thead>\n",
              "    <tr style=\"text-align: right;\">\n",
              "      <th></th>\n",
              "      <th>brand</th>\n",
              "      <th>body</th>\n",
              "      <th>user_rating</th>\n",
              "      <th>review_title</th>\n",
              "      <th>sentiment</th>\n",
              "      <th>keywords</th>\n",
              "    </tr>\n",
              "  </thead>\n",
              "  <tbody>\n",
              "    <tr>\n",
              "      <th>30158</th>\n",
              "      <td>Samsung</td>\n",
              "      <td>wish buy item phone keep shut week using even ...</td>\n",
              "      <td>1</td>\n",
              "      <td>A bad product i wish i did not purchase</td>\n",
              "      <td>-1</td>\n",
              "      <td>wish buy item phone keep shut week using even ...</td>\n",
              "    </tr>\n",
              "    <tr>\n",
              "      <th>24158</th>\n",
              "      <td>Sony</td>\n",
              "      <td>messaging quit working</td>\n",
              "      <td>1</td>\n",
              "      <td>Don't Buy!</td>\n",
              "      <td>-1</td>\n",
              "      <td>messaging quit working</td>\n",
              "    </tr>\n",
              "  </tbody>\n",
              "</table>\n",
              "</div>"
            ],
            "text/plain": [
              "         brand                                               body  \\\n",
              "30158  Samsung  wish buy item phone keep shut week using even ...   \n",
              "24158     Sony                             messaging quit working   \n",
              "\n",
              "       user_rating                             review_title  sentiment  \\\n",
              "30158            1  A bad product i wish i did not purchase         -1   \n",
              "24158            1                               Don't Buy!         -1   \n",
              "\n",
              "                                                keywords  \n",
              "30158  wish buy item phone keep shut week using even ...  \n",
              "24158                             messaging quit working  "
            ]
          },
          "metadata": {
            "tags": []
          },
          "execution_count": 161
        }
      ]
    },
    {
      "cell_type": "markdown",
      "metadata": {
        "id": "OzweL_fA3DiN"
      },
      "source": [
        "### 5.5 Write a function to check word frequency of the text"
      ]
    },
    {
      "cell_type": "code",
      "metadata": {
        "id": "MzIAyX3N6lz5",
        "colab": {
          "base_uri": "https://localhost:8080/"
        },
        "outputId": "e2d19f24-4751-442a-e4c8-a1fe21e9faac"
      },
      "source": [
        "top_N = 20\n",
        "word_dist = nltk.FreqDist(dff['keywords'])\n",
        "print('All frequencies')\n",
        "print('='*60)\n",
        "wf=pd.DataFrame(word_dist.most_common(top_N),columns=['Word','Frequency'])\n",
        "\n",
        "print(wf)\n",
        "print ('='*60)"
      ],
      "execution_count": 182,
      "outputs": [
        {
          "output_type": "stream",
          "text": [
            "All frequencies\n",
            "============================================================\n",
            "             Word  Frequency\n",
            "0            good        748\n",
            "1     great phone        425\n",
            "2            love        379\n",
            "3           great        253\n",
            "4      love phone        231\n",
            "5       excellent        227\n",
            "6       excelente        202\n",
            "7      good phone        181\n",
            "8         perfect        171\n",
            "9                        146\n",
            "10             ok        144\n",
            "11           nice        143\n",
            "12     work great        124\n",
            "13     nice phone        114\n",
            "14           like        108\n",
            "15   good product        102\n",
            "16  great product         98\n",
            "17      muy bueno         74\n",
            "18        awesome         69\n",
            "19       excelent         69\n",
            "============================================================\n"
          ],
          "name": "stdout"
        }
      ]
    },
    {
      "cell_type": "markdown",
      "metadata": {
        "id": "s0UgcEo_6l8O"
      },
      "source": [
        "### 5.6 Check word frequency of review having top ratings (sentiment = 1) and display output of few samples"
      ]
    },
    {
      "cell_type": "code",
      "metadata": {
        "colab": {
          "base_uri": "https://localhost:8080/"
        },
        "id": "lR03gN9PyC8C",
        "outputId": "ac75d27f-1904-44f0-8d83-8af6c5e37be6"
      },
      "source": [
        "top_N = 20\n",
        "word_dist = nltk.FreqDist(dff[dff['sentiment']==1]['keywords'])\n",
        "print('All frequencies')\n",
        "print('='*60)\n",
        "wf=pd.DataFrame(word_dist.most_common(top_N),columns=['Word','Frequency'])\n",
        "print(wf)\n",
        "print ('='*60)"
      ],
      "execution_count": 184,
      "outputs": [
        {
          "output_type": "stream",
          "text": [
            "All frequencies\n",
            "============================================================\n",
            "             Word  Frequency\n",
            "0            good        692\n",
            "1     great phone        424\n",
            "2            love        375\n",
            "3           great        252\n",
            "4      love phone        231\n",
            "5       excellent        227\n",
            "6       excelente        202\n",
            "7      good phone        174\n",
            "8         perfect        171\n",
            "9            nice        136\n",
            "10                       129\n",
            "11     work great        124\n",
            "12             ok        120\n",
            "13     nice phone        112\n",
            "14           like        106\n",
            "15   good product        100\n",
            "16  great product         96\n",
            "17      muy bueno         74\n",
            "18       excelent         69\n",
            "19        awesome         68\n",
            "============================================================\n"
          ],
          "name": "stdout"
        }
      ]
    },
    {
      "cell_type": "markdown",
      "metadata": {
        "id": "9UbdTGsv60t1"
      },
      "source": [
        "### 5.7 Initialize tf-idf vectorizer and transform the preprocessed body text"
      ]
    },
    {
      "cell_type": "code",
      "metadata": {
        "id": "BLEEFEmv60mU"
      },
      "source": [
        "from sklearn.feature_extraction.text import TfidfVectorizer"
      ],
      "execution_count": 162,
      "outputs": []
    },
    {
      "cell_type": "code",
      "metadata": {
        "id": "34O2Z5kXslmU"
      },
      "source": [
        "tfidf_vect = TfidfVectorizer()"
      ],
      "execution_count": 163,
      "outputs": []
    },
    {
      "cell_type": "markdown",
      "metadata": {
        "id": "5dqPXETLKN0h"
      },
      "source": [
        "### 5.8 Segregate the data into dependent (sentiment) and independent (transformed body using tf-idf) features for building a classifier. "
      ]
    },
    {
      "cell_type": "code",
      "metadata": {
        "id": "FGB9rTE8slh5"
      },
      "source": [
        "X = tfidf_vect.fit_transform(dff['keywords'])"
      ],
      "execution_count": 164,
      "outputs": []
    },
    {
      "cell_type": "code",
      "metadata": {
        "id": "_Jfo6go_69yh"
      },
      "source": [
        "y = dff['sentiment']"
      ],
      "execution_count": 165,
      "outputs": []
    },
    {
      "cell_type": "markdown",
      "metadata": {
        "id": "4K03FO0q7XBP"
      },
      "source": [
        "### 5.9 Split the data into Train & Test Sets"
      ]
    },
    {
      "cell_type": "code",
      "metadata": {
        "id": "D548-7cE7dZa"
      },
      "source": [
        "from sklearn.model_selection import train_test_split\n",
        "X_train, X_test, y_train, y_test = train_test_split(X,y,test_size=0.3,random_state=10)"
      ],
      "execution_count": 166,
      "outputs": []
    },
    {
      "cell_type": "markdown",
      "metadata": {
        "id": "rhD1a-beKvE7"
      },
      "source": [
        "## 6. Model building"
      ]
    },
    {
      "cell_type": "markdown",
      "metadata": {
        "id": "UPFovmN03exD"
      },
      "source": [
        "### 6.1 Build a random forest classifier to predict the 'sentiment'\n",
        "### 6.2 Predict on test set\n",
        "### 6.3 Check accuracy and confusion matrix"
      ]
    },
    {
      "cell_type": "code",
      "metadata": {
        "id": "y0ytdD-_30P9"
      },
      "source": [
        "from sklearn.ensemble import RandomForestClassifier"
      ],
      "execution_count": 167,
      "outputs": []
    },
    {
      "cell_type": "code",
      "metadata": {
        "id": "NJ6Ke4hl30Zk"
      },
      "source": [
        "rf = RandomForestClassifier()"
      ],
      "execution_count": 168,
      "outputs": []
    },
    {
      "cell_type": "code",
      "metadata": {
        "colab": {
          "base_uri": "https://localhost:8080/"
        },
        "id": "d1n2pW2QzD2R",
        "outputId": "56d711ac-05df-4918-c9cb-24ca74729c73"
      },
      "source": [
        "rf.fit(X_train,y_train)"
      ],
      "execution_count": 170,
      "outputs": [
        {
          "output_type": "execute_result",
          "data": {
            "text/plain": [
              "RandomForestClassifier(bootstrap=True, ccp_alpha=0.0, class_weight=None,\n",
              "                       criterion='gini', max_depth=None, max_features='auto',\n",
              "                       max_leaf_nodes=None, max_samples=None,\n",
              "                       min_impurity_decrease=0.0, min_impurity_split=None,\n",
              "                       min_samples_leaf=1, min_samples_split=2,\n",
              "                       min_weight_fraction_leaf=0.0, n_estimators=100,\n",
              "                       n_jobs=None, oob_score=False, random_state=None,\n",
              "                       verbose=0, warm_start=False)"
            ]
          },
          "metadata": {
            "tags": []
          },
          "execution_count": 170
        }
      ]
    },
    {
      "cell_type": "code",
      "metadata": {
        "id": "7Gx4URkU2Iqy"
      },
      "source": [
        "y_pred = rf.predict(X_test)"
      ],
      "execution_count": 177,
      "outputs": []
    },
    {
      "cell_type": "code",
      "metadata": {
        "id": "CbhxttPa2OsX"
      },
      "source": [
        "from sklearn.metrics import accuracy_score, confusion_matrix"
      ],
      "execution_count": 178,
      "outputs": []
    },
    {
      "cell_type": "code",
      "metadata": {
        "colab": {
          "base_uri": "https://localhost:8080/"
        },
        "id": "5Xa2tcnf2XTT",
        "outputId": "98d468c2-b907-46bb-e83c-8f7c197bac9c"
      },
      "source": [
        "accuracy_score(y_test,y_pred)"
      ],
      "execution_count": 179,
      "outputs": [
        {
          "output_type": "execute_result",
          "data": {
            "text/plain": [
              "0.8513924298882134"
            ]
          },
          "metadata": {
            "tags": []
          },
          "execution_count": 179
        }
      ]
    },
    {
      "cell_type": "code",
      "metadata": {
        "colab": {
          "base_uri": "https://localhost:8080/"
        },
        "id": "CbEhOoa12b_j",
        "outputId": "577fa12c-3072-4b18-f828-79c7b6a6a10d"
      },
      "source": [
        "confusion_matrix(y_test,y_pred)"
      ],
      "execution_count": 180,
      "outputs": [
        {
          "output_type": "execute_result",
          "data": {
            "text/plain": [
              "array([[ 3706,    10,  1269],\n",
              "       [  444,   106,   896],\n",
              "       [  410,     2, 13553]])"
            ]
          },
          "metadata": {
            "tags": []
          },
          "execution_count": 180
        }
      ]
    },
    {
      "cell_type": "markdown",
      "metadata": {
        "id": "Ey7an7ukLxWB"
      },
      "source": [
        "## 7. Write your conclusion"
      ]
    },
    {
      "cell_type": "markdown",
      "metadata": {
        "id": "-DtfWv7a2jzE"
      },
      "source": [
        "With the help of preprocessing steps, we were able to pass textual data into a RandomForestClassifier model. The model performed reasonably good without any tuning, and gave an accuracy score of about 85%"
      ]
    }
  ]
}